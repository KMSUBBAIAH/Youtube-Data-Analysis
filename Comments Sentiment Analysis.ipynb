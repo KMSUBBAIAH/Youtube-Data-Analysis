{
 "cells": [
  {
   "cell_type": "markdown",
   "id": "f875d3c5-5b75-4a51-9217-22e0193d4eba",
   "metadata": {},
   "source": [
    "### Importing the libraries"
   ]
  },
  {
   "cell_type": "code",
   "execution_count": 29,
   "id": "5682f4e5-4464-4cb4-b6d6-18bf4f4d7bca",
   "metadata": {},
   "outputs": [],
   "source": [
    "from sklearn.feature_extraction.text import TfidfVectorizer\n",
    "from minisom import MiniSom\n",
    "import torch\n",
    "from transformers import BertTokenizer, BertModel\n",
    "from sklearn.cluster import KMeans\n",
    "from sklearn.metrics.pairwise import cosine_similarity\n",
    "import os\n",
    "import numpy as np\n",
    "import pandas as pd\n",
    "import matplotlib.pyplot as plt\n",
    "import seaborn as sns\n",
    "import nltk\n",
    "import re\n",
    "from sklearn.feature_extraction.text import CountVectorizer\n",
    "from sklearn.decomposition import LatentDirichletAllocation\n",
    "from sklearn.cluster import DBSCAN\n",
    "from wordcloud import WordCloud\n",
    "# from tensorflow.keras.preprocessing.text import Tokenizer\n",
    "# from tensorflow.keras.preprocessing.sequence import pad_sequences\n",
    "# from tensorflow.keras.models import Sequential\n",
    "# from tensorflow.keras.layers import Dense, Embedding, LSTM, Conv1D, MaxPool1D\n",
    "from sklearn.metrics import classification_report, accuracy_score\n",
    "# import tensorflow as tf\n",
    "# from tensorflow import keras\n",
    "# from nltk.tokenize import word_tokenize, sent_tokenize\n",
    "from nltk.stem import PorterStemmer, WordNetLemmatizer\n",
    "from nltk.corpus import stopwords\n",
    "from sklearn.model_selection import train_test_split as tt\n",
    "import warnings\n",
    "warnings.filterwarnings('ignore')"
   ]
  },
  {
   "cell_type": "markdown",
   "id": "32929eb7-b959-4d65-ac08-60f8889931a3",
   "metadata": {},
   "source": [
    "### Reading the datasets"
   ]
  },
  {
   "cell_type": "code",
   "execution_count": 30,
   "id": "03ddfda2-1b5d-4013-8c07-dd5734e4dfc3",
   "metadata": {
    "tags": []
   },
   "outputs": [
    {
     "name": "stdout",
     "output_type": "stream",
     "text": [
      "Index(['channel', 'video_id', 'title', 'description', 'categoryId',\n",
      "       'publishedAt', 'duration', 'tags', 'likes', 'views',\n",
      "       'number_of_comments', 'comments'],\n",
      "      dtype='object')\n"
     ]
    },
    {
     "data": {
      "text/plain": [
       "0                              sidemen one word interview\n",
       "1                             sidemen among us chaos mode\n",
       "2                           sidemen association challenge\n",
       "3                       sidemen noob vs pro rocket league\n",
       "4       sidemen among us sheriff role the dumbest lobb...\n",
       "                              ...                        \n",
       "1079                           first ever sidemen podcast\n",
       "1080                           sidemen manchester meet up\n",
       "1081    sidemen fc vs youtube allstars charity footbal...\n",
       "1082                      sidemen face painting challenge\n",
       "1083                       welcome to the sidemen channel\n",
       "Name: video_title, Length: 1084, dtype: object"
      ]
     },
     "execution_count": 30,
     "metadata": {},
     "output_type": "execute_result"
    }
   ],
   "source": [
    "df1 = pd.read_csv(\"sdmn_video_details.csv\")\n",
    "df2 = pd.read_csv(\"sidemen_channels_comments.csv\")\n",
    "df1.rename(columns={'comments': 'number_of_comments'}, inplace=True)\n",
    "df = pd.merge(df1, df2, on='video_id')\n",
    "print(df.columns)"
   ]
  },
  {
   "cell_type": "markdown",
   "id": "fe761aba-8b95-4961-b99a-80a85c01b434",
   "metadata": {},
   "source": [
    "### Functions for stemming (text pre-processing)"
   ]
  },
  {
   "cell_type": "code",
   "execution_count": null,
   "id": "02a0a7cd-45df-4ba0-9dc5-802da270d39d",
   "metadata": {},
   "outputs": [],
   "source": [
    "# Stemming / Lemmatizing\n",
    "words = stopwords.words(\"english\")\n",
    "port_stem = PorterStemmer()\n",
    "lem = WordNetLemmatizer()\n",
    "\n",
    "# if isinstance(df.comments.iloc[0],list):\n",
    "    # print(df.comments.iloc[0])\n",
    "\n",
    "def stemming(contents):\n",
    "    contents = str(contents)\n",
    "    stemmed_contents = re.sub(r'[^a-zA-Z]', ' ', contents)\n",
    "    stemmed_contents = stemmed_contents.lower()\n",
    "    # stemmed_contents = stemmed_contents.capitalize()\n",
    "    stemmed_contents = stemmed_contents.split()\n",
    "    # stemmed_contents = [port_stem.stem(word) for word in stemmed_contents if word not in words]\n",
    "    # stemmed_contents = [lem.lemmatize(word) for word in stemmed_contents if word not in words]\n",
    "    stemmed_contents = ' '.join(stemmed_contents)\n",
    "    return stemmed_contents\n",
    "\n",
    "def stemming_ex(contents):\n",
    "    res = []\n",
    "    contents = re.findall(r\"'([^']*)'\", contents)\n",
    "    # print(len(contents))\n",
    "    for content in contents:\n",
    "        # print(content)\n",
    "        content = str(content)\n",
    "        stemmed_contents = re.sub('(@[A-Za-z0-9]+)|([^0-9A-Za-z  \\t])|(\\w+:\\/\\/\\S+)', ' ', content)\n",
    "        # stemmed_contents = re.sub(r'[^a-zA-Z]', ' ', contents)\n",
    "        stemmed_contents = stemmed_contents.lower()\n",
    "        # stemmed_contents = stemmed_contents.capitalize()\n",
    "        stemmed_contents = stemmed_contents.split()\n",
    "        # stemmed_contents = [port_stem.stem(word) for word in stemmed_contents if word not in words]\n",
    "        # stemmed_contents = [lem.lemmatize(word) for word in stemmed_contents if word not in words]\n",
    "        stemmed_contents = ' '.join(stemmed_contents)\n",
    "        res.append(stemmed_contents)\n",
    "        # return stemmed_contents\n",
    "        # return res[0] if len(res)==1 else res\n",
    "    return res\n",
    "\n",
    "\n",
    "df[\"video_title\"] = df[\"title\"].apply(stemming)\n",
    "# s = [stemming(x) for x in \n",
    "df[\"processed_comments\"] = df[\"comments\"].apply(stemming_ex)\n",
    "# df[\"video_title\"] = df[\"title\"]\n",
    "# print(df['video_title'])\n",
    "\n",
    "data = list(df['video_title'])\n",
    "\n",
    "# Convert the textual data to a vector representation using TF-IDF\n",
    "# vectorizer = TfidfVectorizer()\n",
    "# X = vectorizer.fit_transform(data)\n",
    "# df['vectorized_data'] = list(X)\n",
    "# data\n",
    "df[\"processed_comments\"]\n",
    "df['video_title']"
   ]
  },
  {
   "cell_type": "markdown",
   "id": "bc84bd8b-7749-4c93-a598-2e1ab09dc444",
   "metadata": {},
   "source": [
    "### Importing pre-trained sentiment analyser"
   ]
  },
  {
   "cell_type": "code",
   "execution_count": 31,
   "id": "98ae7ed1-7451-485d-8b3e-b4be22bb0f69",
   "metadata": {},
   "outputs": [],
   "source": [
    "from nltk.sentiment import SentimentIntensityAnalyzer\n",
    "from tqdm.notebook import tqdm\n",
    "\n",
    "sia = SentimentIntensityAnalyzer()"
   ]
  },
  {
   "cell_type": "code",
   "execution_count": 35,
   "id": "3d7ec05e-2152-45ab-977e-281739ec838a",
   "metadata": {
    "collapsed": true,
    "jupyter": {
     "outputs_hidden": true
    },
    "tags": []
   },
   "outputs": [
    {
     "data": {
      "text/plain": [
       "{'sidemen one word interview': 0.08209999999999999,\n",
       " 'sidemen among us chaos mode': -0.28798,\n",
       " 'sidemen association challenge': -0.06199999999999999,\n",
       " 'sidemen noob vs pro rocket league': 0.11276666666666665,\n",
       " 'sidemen among us sheriff role the dumbest lobby ever': 0.13018888888888888,\n",
       " 'do all the sidemen think the same': 0.0032000000000000054,\n",
       " 'sidemen are you smarter than a year old': 0.1493375,\n",
       " 'this is the greatest sidemen video ever': 0.34574,\n",
       " 'sidemen among us jester role': 0.34674444444444447,\n",
       " 'sidemen extreme cop chase challenge on gta': 0.0615,\n",
       " 'sidemen christmas mukbang': -0.02926666666666667,\n",
       " 'sidemen secret santa': 0.14588,\n",
       " 'sidemen reverse hide seek on ksi s mega yacht': 0.03242222222222223,\n",
       " 'sidemen gta meme olympics': 0.2513222222222222,\n",
       " 'buy christmas drillings today': -0.14691,\n",
       " 'sidemen christmas drillings edm remix official music video': 0.16512222222222223,\n",
       " 'sidemen box of lies': -0.0008333333333333402,\n",
       " 'harry potter s doppelg nger': 0.05445,\n",
       " 'sidemen christmas drillings house remix official lyric video': 0.24916666666666668,\n",
       " 'sidemen vs lucky blocks in minecraft': 0.06708888888888888,\n",
       " 'sidemen grenade game on gta': 0.0780111111111111,\n",
       " 'sidemen cards against humanity': 0.2368099999999999,\n",
       " 'sidemen memory test': 0.09004444444444444,\n",
       " 'sidemen get cancelled challenge': 0.01384444444444445,\n",
       " 'sidemen tinder among us edition': -0.049819999999999996,\n",
       " 'can ksi guess the real prime': 0.07129,\n",
       " 'the sidemen christmas quiz': 0.15672222222222223,\n",
       " 'sidemen blind eating challenge': -0.09848,\n",
       " 'the moment that cancelled vikkstar': 0.04636999999999999,\n",
       " 'sidemen complete the longest race on gta': -0.09992999999999999,\n",
       " 'sidemen draw the logo challenge': 0.1310125,\n",
       " 'how ksi lost the wildest sidemen forfeit ever': -0.056212500000000006,\n",
       " 'sidemen real or fake challenge': -0.034022222222222225,\n",
       " 'the most offensive sidemen forfeit ever': 0.08896666666666667,\n",
       " 'sidemen offensive second challenge': 0.03732,\n",
       " 'ksi quits sidemen among us forever': 0.09205,\n",
       " 'somebody call the authorities': 0.0918888888888889,\n",
       " 'sidemen christmas drillings ft jme official music video': -0.09927777777777777,\n",
       " 'sidemen this or that official music video': 0.21430000000000002,\n",
       " 'sidemen bully harry on gta': 0.06018888888888888,\n",
       " 'sidemen go to the world cup': 0.15421,\n",
       " 'sidemen extreme fear pong': -0.02984,\n",
       " 'sidemen sabotage ksi on forfeit mario kart': -0.012877777777777774,\n",
       " 'ksi shocks the sidemen': 0.14365999999999998,\n",
       " 'mr beast hijacks a sidemen video': 0.10300000000000001,\n",
       " 'sidemen offensive try not to laugh': 0.11917,\n",
       " 'sidemen vs mr beast youtuber hunger games': -0.03918888888888889,\n",
       " 'sidemen superhero world cup': 0.18183333333333332,\n",
       " 'sidemen hilarious proximity chat on warzone': 0.27608,\n",
       " 'the most offensive sidemen among us ever': 0.17633333333333334,\n",
       " 'sidemen guess the fake logo challenge': 0.1496111111111111,\n",
       " 'sidemen among us chaotic proximity chat returns': -0.07689,\n",
       " 'sidemen vs will smith': 0.055075,\n",
       " 'sidemen human bowling challenge': 0.09703,\n",
       " 'the worst minutes of w s s life': 0.0,\n",
       " 'sidemen guess the emoji youtuber edition': 0.11868999999999999,\n",
       " 'sidemen speed eating challenge': -0.14643636363636367,\n",
       " 'sidemen halloween special on gta': -0.030919999999999993,\n",
       " 'sidemen pro clubs is back': 0.16401111111111114,\n",
       " 'sidemen run for their life on gta': -0.028433333333333324,\n",
       " 'sidemen among us but the lobby has zero iq': 0.10227,\n",
       " 'sidemen is it real or chocolate': 0.06388,\n",
       " 'sidemen among us but harry cheats to win': 0.1586090909090909,\n",
       " 'sidemen controversial tweets': 0.06193333333333333,\n",
       " 'the sidemen sock off': 0.08514444444444444,\n",
       " 'sidemen lose their minds playing mario': 0.11069,\n",
       " 'the most kills sidemen among us has ever seen': -0.026481818181818183,\n",
       " 'sidemen charity match who scored the best goal': 0.08751111111111112,\n",
       " 'sidemen play the gta leaks': 0.11381,\n",
       " 'sidemen rank the charity match players': 0.34381000000000006,\n",
       " 'this is sidemen sunday': 0.14805,\n",
       " 'sidemen finish the lyric': 0.19122,\n",
       " 'ksi hunts the sidemen': 0.13573000000000002,\n",
       " 'the sidemen will be cancelled for this video': 0.07217777777777777,\n",
       " 'returning to the sidemen house': 0.05269,\n",
       " 'sidemen forfeit golf shot it or slap it': 0.17395555555555553,\n",
       " 'harry begs to quit on sidemen gta': 0.05006666666666667,\n",
       " 'sidemen shock the world on gta': -0.05378888888888889,\n",
       " 'sidemen youtuber guess who': -0.021149999999999995,\n",
       " 'sidemen reveal why jake paul will beat ksi': -0.05673333333333334,\n",
       " 'sidemen pringles mukbang': 0.12148,\n",
       " 'sidemen play world s scariest game': -0.08091000000000001,\n",
       " 'sidemen guess the emoji challenge': 0.12547777777777777,\n",
       " 'dumbest sidemen among us ever': 0.24129,\n",
       " 'sidemen take an iq test': -0.025512500000000007,\n",
       " 'sidemen play among us but the imposter gets hacked': -0.021188888888888886,\n",
       " 'sidemen gta but loser gets slapped': 0.25332000000000005,\n",
       " 'sidemen rage at the world s most impossible game': 0.16157999999999997,\n",
       " 'sidemen gta craziest forfeit we ve ever done': 0.0551125,\n",
       " 'sidemen become superheroes': -0.14807777777777778,\n",
       " 'can ksi win his first crown in fall guys': 0.31848000000000004,\n",
       " 'who is the dumbest sidemen member': -0.09310000000000002,\n",
       " 'ksi jake paul are secretly friends': -0.00834,\n",
       " 'sidemen extreme darts competition': 0.02551111111111112,\n",
       " 'ksi masterclass vs geoguesser pro': 0.13066666666666668,\n",
       " 'the last ever sidemen pro clubs episode': 0.07564444444444444,\n",
       " 'sidemen vs bots on fall guys': 0.10411999999999999,\n",
       " 'sidemen help w s get his first fortnite win': 0.14912999999999998,\n",
       " 'sidemen giant jenga painful': 0.08489999999999998,\n",
       " 'sidemen forfeit golf': -0.08283,\n",
       " 'sidemen rage at impossible fall guys map': 0.15460000000000002,\n",
       " 'sidemen elimination tron race on gta': 0.2119888888888889,\n",
       " 'sidemen play brand new fall guys': 0.05973000000000002,\n",
       " 'sidemen mario kart rainbow road rage': -0.056537500000000004,\n",
       " 'sidemen rage at world s most frustrating game': 0.25726,\n",
       " 'sidemen mario kart race': 0.1652777777777778,\n",
       " 'sidemen hacked on gta cops vs robbers': -0.035179999999999996,\n",
       " 'sidemen among us but the imposters try to vote each other out': 0.006959999999999999,\n",
       " 'sidemen rocket league but its golf': 0.29116,\n",
       " 'sidemen olympics': 0.24838888888888888,\n",
       " 'sidemen among us the best shapeshifter yet': 0.0,\n",
       " 'sidemen minigolf but it s a race': 0.14786666666666667,\n",
       " 'sidemen among us the worst imposters of all time': 0.09426,\n",
       " 'who is the smartest sidemen member': -0.013066666666666671,\n",
       " 'sidemen assumptions are ksi anne marie dating': 0.08046363636363639,\n",
       " 'ksi races the sidemen for on gta': -0.04588,\n",
       " 'sidemen second categories challenge': 0.04013333333333333,\n",
       " 'sidemen pro clubs meme olympics': -0.1381222222222222,\n",
       " 'sidemen blind rpg battle on gta': 0.15272999999999998,\n",
       " 'sidemen guess eachothers passwords': 0.010310000000000003,\n",
       " 'the sidemen find out who is richer': 0.12288999999999999,\n",
       " 'sidemen pokemon smash or pass': 0.11316363636363636,\n",
       " 'sidemen whisper challenge': 0.20849,\n",
       " 'sidemen guess the game challenge': -0.31521,\n",
       " 'sidemen google feud': 0.037309999999999996,\n",
       " 'sidemen shapeshifter among us gone right': -0.11177999999999999,\n",
       " 'sidemen flag game': 0.013333333333333345,\n",
       " 'sidemen among us but everyone is third imposter': 0.03125,\n",
       " 'sidemen quiplash but we forgot how to be funny': -0.14868,\n",
       " 'sidemen among us biggest fail': -0.018488888888888902,\n",
       " 'sidemen rap battle but we diss ourselves': -0.12319999999999998,\n",
       " 'the rematch sidemen geoguessr duel': 0.16065000000000002,\n",
       " 'sidemen slap game': 0.23274444444444445,\n",
       " 'sidemen water game': 0.011766666666666667,\n",
       " 'sidemen geoguessr bullseye mode': 0.057066666666666675,\n",
       " 'sidemen trippy olympics': 0.12941000000000003,\n",
       " 'sidemen fall guys is back': 0.13548,\n",
       " 'sidemen geoguessr duel': 0.12975555555555554,\n",
       " 'brand new sidemen trivial pursuit': -0.03346666666666667,\n",
       " 'the strangest car ever on sidemen gta': -0.016044444444444448,\n",
       " 'brand new sidemen shellshock': 0.053610000000000005,\n",
       " 'sidemen superbowl on gta': -0.07649999999999998,\n",
       " 'sidemen parkour challenge': 0.11214444444444445,\n",
       " 'the greatest ever sidemen mukbang': 0.23201999999999995,\n",
       " 'sidemen lose their minds on gta': 0.041844444444444455,\n",
       " 'the ultimate sidemen gameshow': -0.07675555555555555,\n",
       " 'sidemen minigolf': 0.14607,\n",
       " 'the most outrageous game yet': 0.12405999999999999,\n",
       " 'sidemen battleships on gta': 0.12371818181818182,\n",
       " 'sidemen disstrack season': 0.07448,\n",
       " 'sidemen vs sidemen on gta': 0.18848,\n",
       " 'the worst swat team of all time ready or not': 0.04192,\n",
       " 'sidemen shapeshifter among us': -0.05542222222222223,\n",
       " 'sidemen play golf it but the map is impossible': 0.08122000000000001,\n",
       " 'brand new sidemen horror movie': 0.09111999999999999,\n",
       " 'sidemen cops vs robbers on gta': 0.16341111111111112,\n",
       " 'the sidemen have to split up': 0.1805,\n",
       " 'new roles in sidemen among us': -0.015788888888888884,\n",
       " 'sidemen extreme grand prix on gta': 0.11335999999999999,\n",
       " 'sidemen helmet game': 0.16642,\n",
       " 'ksi w s among us masterclass': 0.21061999999999997,\n",
       " 'sidemen among us greatest moments': -0.022988888888888885,\n",
       " 'sidemen reverse hide seek in marbella mansion': -0.008209999999999995,\n",
       " 'sidemen break pro clubs world record': -0.14922222222222223,\n",
       " 'sidemen are hacked on gta': 0.11313,\n",
       " 'sidemen darkest secrets revealed': 0.21502222222222223,\n",
       " 'sidemen giant ramp on gta': 0.0,\n",
       " 'sidemen new years day golf': 0.005399999999999999,\n",
       " 'sidemen christmas rap battles': 0.019511111111111108,\n",
       " 'ksi quits on gta': -0.04823333333333333,\n",
       " 'the last ever sidemen among us': -0.006819999999999998,\n",
       " 'sidemen christmas quiz': 0.0,\n",
       " 'sidemen gta christmas special': 0.04664444444444446,\n",
       " 'sidemen vs fortnite pro': 0.3081545454545455,\n",
       " 'sidemen crossing battle royale': 0.08400999999999999,\n",
       " 'sidemen among us but it s pure chaos': -0.1731888888888889,\n",
       " 'the sidemen rate social media apps': 0.1356888888888889,\n",
       " 'the sidemen finally win squid game': 0.17194444444444446,\n",
       " 'sidemen call out penalties': 0.08746666666666666,\n",
       " 'sidemen among us is back': -0.02487272727272727,\n",
       " 'sidemen password game': 0.032640000000000016,\n",
       " 'sidemen squid game vs fans': -0.22616,\n",
       " 'sidemen categories': 0.039406250000000004,\n",
       " 'sidemen football forfeits': 0.13673,\n",
       " 'sidemen left hand drawing challenge': 0.2195,\n",
       " 'sidemen manhunt in gta': -0.24656666666666668,\n",
       " 'sidemen google ourselves': 0.20443333333333336,\n",
       " 'sidemen pro clubs our fastest title ever': 0.11432222222222221,\n",
       " 'sidemen nando s mukbang': 0.0,\n",
       " 'mikel arteta rates the sidemens football ability': 0.02675555555555555,\n",
       " 'sidemen squid game glass bridge challenge on gta': -0.10521999999999998,\n",
       " 'sidemen play scuffed squid game': 0.10124,\n",
       " 'extreme sidemen advent calendar forfeits': 0.15376000000000004,\n",
       " 'sidemen play golf in takeshi s castle': 0.1426222222222222,\n",
       " 'the sidemen play fifa pro clubs': 0.10854444444444446,\n",
       " 'sidemen higher or lower youtube subscribers': 0.0,\n",
       " 'sidemen year anniversary on gta': 0.08587,\n",
       " 'sidemen play the scariest game ever': -0.01568888888888888,\n",
       " 'sidemen squid game on gta': 0.04034000000000001,\n",
       " 'sidemen olympics the new fastest sideman': 0.19959,\n",
       " 'trivial pursuit but ksi s knowledge is massive': 0.07781111111111111,\n",
       " 'sidemen play competitive tetris': 0.27838999999999997,\n",
       " 'the sidemen play scuffed fall guys': 0.2805333333333333,\n",
       " 'the sidemen did not finish in gta v': 0.22653333333333336,\n",
       " 'gib annoys the sidemen for minutes straight': 0.1275222222222222,\n",
       " 'sidemen penalty challenge vs kids': 0.0,\n",
       " 'the sidemen falling over for minutes straight': 0.2611111111111111,\n",
       " 'do the sidemen think the same as onlyfans girls': 0.11733333333333335,\n",
       " 'stroking out with your friends sidemen gaming': -0.09326000000000001,\n",
       " 'gartic phone but ksi is years old': -0.051944444444444446,\n",
       " 'the most epic battles in gta history': 0.11355555555555556,\n",
       " 'the sidemen become thieves': 0.04079000000000001,\n",
       " 'the nigerian takeover sidemen olympics': 0.0,\n",
       " 'the sidemen being awkward around girls for more minutes straight': -0.0241,\n",
       " 'the wildest sidemen assumptions': 0.09966666666666665,\n",
       " 'most savage tinder lines of all time': 0.01689,\n",
       " 'last to stop playing uno wins': 0.09373000000000001,\n",
       " 'sidemen olympics going for gold': -0.07568,\n",
       " 'sidemen describe celebrities in one word': -0.06370909090909092,\n",
       " 'sidemen word association': -0.060350000000000015,\n",
       " 'women rate the strongest sidemen': 0.14918,\n",
       " 'women rate the smelliest sidemen': -0.010519999999999996,\n",
       " 'uncut women guess the laziest sidemen': 0.12997777777777778,\n",
       " 'sidemen guess the song rematch': 0.26071,\n",
       " 'sidemen answer the internets strangest questions': 0.1873,\n",
       " 'sidemen tiktok game': 0.06931111111111112,\n",
       " 'the ultimate sidemen ping pong tournament': 0.30535555555555555,\n",
       " 'sidemen guess the song challenge': -0.19371111111111114,\n",
       " 'ksi s voice cracks for minutes straight': -0.03422,\n",
       " 'first to guess the sidemen password wins': 0.0020199999999999884,\n",
       " 'how to avoid getting cancelled': 0.005499999999999999,\n",
       " 'biggest sidemen lies exposed': 0.2772111111111111,\n",
       " 'the sidemen rank the best tinder lines': 0.08904999999999998,\n",
       " 'what really happened at clash of creators': -0.048933333333333336,\n",
       " 'the harry curse': 0.16975555555555555,\n",
       " 'ksi vs w s in gta v': -0.01646666666666667,\n",
       " 'brand new sidemen hq': -0.09748,\n",
       " 'drake messages ksi during gta v': 0.2935999999999999,\n",
       " 'the sidemen roast ksi s new album': 0.23903333333333332,\n",
       " 'the race you ve all been waiting for': 0.026980000000000014,\n",
       " 'ksi has left moresidemen': 0.24346,\n",
       " 'hide seek on ksi s private jet': 0.1791,\n",
       " 'is harry quitting gaming videos': 0.03777777777777778,\n",
       " 'quirky quiplash but tobi hates simon': 0.020588888888888886,\n",
       " 'sidemen but we re set': -0.017089999999999984,\n",
       " 'ksi karen vs the sidemen': 0.1388888888888889,\n",
       " 'the smartest sidemen awards': 0.0,\n",
       " 'the worst minutes of harry s life': 0.056559999999999985,\n",
       " 'trivial pursuit but harry is down bad sidemen gaming': -0.15226666666666666,\n",
       " 'sidemen drunk bingo the final round': 0.09458888888888889,\n",
       " 'gartic phone but it s youtube boxing sidemen gaming': 0.2696090909090909,\n",
       " 'sidemen drunk bingo': 0.050977777777777775,\n",
       " 'if you laugh you get cancelled': 0.18746363636363636,\n",
       " 'the sidemen lose their heads on gta': 0.17235555555555554,\n",
       " 'sidemen higher or lower sidemen sundays': 0.0,\n",
       " 'reacting to our premier league predictions': 0.14606000000000002,\n",
       " 'sike': -0.24064000000000002,\n",
       " 'we are the best team in the world sidemen pro clubs': 0.097,\n",
       " 'golf with your enemies sidemen gaming': 0.12216999999999997,\n",
       " 'sidemen higher or lower spotify streams': -0.020429999999999993,\n",
       " 'sidemen vs premier league champions': 0.18262222222222219,\n",
       " 'the worst sidemen drawings ever seen on youtube': 0.16954444444444444,\n",
       " 'sidemen overrated or underrated': 0.26731111111111105,\n",
       " 'the sidemen play gartic phone': 0.022966666666666666,\n",
       " 'sidemen pro clubs with a special guest': 0.05201818181818181,\n",
       " 'sidemen vs dream minecraft manhunt': 0.34857777777777776,\n",
       " 'mad verse city but ksi can t rap': 0.09194000000000001,\n",
       " 'sidemen football darts': 0.05154444444444444,\n",
       " 'the last ever sidemen gta': 0.27205454545454544,\n",
       " 'sidemen fc join the super league': 0.029789999999999994,\n",
       " 'sidemen golf but there s on the line': -0.017011111111111112,\n",
       " 'sidemen woodwork challenge': 0.03125,\n",
       " 'sidemen reach million subscribers on gta v': -0.02141111111111111,\n",
       " 'sidemen vs rocket league pro for': 0.054788888888888894,\n",
       " 'which of the sidemen passed out at a party': 0.14021,\n",
       " 'the best freekick video on youtube': 0.20288,\n",
       " 'ksi is not funny': -0.0062999999999999905,\n",
       " 'sidemen on striker challenge': 0.21047000000000002,\n",
       " 'sidemen crossbar challenge': 0.006588888888888886,\n",
       " 'monster truck madness in gta': 0.11167,\n",
       " 'ksi proves he s the best at fifa': 0.24253333333333338,\n",
       " 'our gta lobby was hacked': -0.0005300000000000082,\n",
       " 'sidemen higher or lower spotify monthly listeners': -0.0050636363636363665,\n",
       " 'the most embarrassing sidemen clubs episode ever': -0.06514444444444445,\n",
       " 'best of sidemen sundays': 0.10046000000000002,\n",
       " 'sidemen dodgeball knockout city': 0.33592000000000005,\n",
       " 'how well do the sidemen know w s': 0.13873636363636363,\n",
       " 'sidemen easter egg hunt': 0.14384444444444444,\n",
       " 'last sidemen to stop running wins': 0.0339,\n",
       " 'how well do the sidemen know ksi': 0.045230000000000006,\n",
       " 'how many rappers can you name sidemen categories': 0.07114444444444444,\n",
       " 'sidemen hide and seek in gta': 0.14200909090909092,\n",
       " 'how well do the sidemen know tbjzl': 0.14492,\n",
       " 'harry causes chaos sidemen pro clubs': -0.04683333333333333,\n",
       " 'sidemen codenames but it s customised': 0.10499,\n",
       " 'sidemen gta madness is back': 0.0,\n",
       " 'how well do the sidemen know behzinga': 0.043240000000000015,\n",
       " 'the sidemen laugh at ksi for minutes straight': 0.10228999999999999,\n",
       " 'the most embarrassing sidemen tweets of all time': 0.28089000000000003,\n",
       " 'sidemen answer the internets weirdest questions': -0.13149000000000002,\n",
       " 'the fanbase war sidemen among us': 0.030355555555555556,\n",
       " 'another questionable quiplash sidemen gaming': 0.142125,\n",
       " 'tommyinnit ruins our game sidemen fifa pro clubs': 0.10196666666666666,\n",
       " 'ksi vs tommyinnit fight on among us': 0.16789,\n",
       " 'quit the sidemen or quit drinking': -0.07206666666666667,\n",
       " 'cheating against the fans sidemen geoguessr': 0.23462222222222223,\n",
       " 'the sidemen play codenames': 0.16713999999999998,\n",
       " 'road to rage quit sidemen fifa pro clubs': -0.03877777777777777,\n",
       " 'sidemen family feud sidemen gaming': 0.09942222222222223,\n",
       " 'the sidemen are in prison': -0.04846666666666668,\n",
       " 'ksi vs jake paul is finally happening': 0.07825555555555556,\n",
       " 'are we allowed to draw this sidemen gaming': -0.017088888888888883,\n",
       " 'the worst crewmates of all time sidemen among us proximity': 0.17873333333333333,\n",
       " 'the best clubs series on youtube is back sidemen fifa pro clubs': 0.09231111111111111,\n",
       " 'sidemen chaotic trolling in among us proximity': 0.20398,\n",
       " 'the rap battles are back with jme sidemen gaming': -0.04920999999999999,\n",
       " 'ksi masterclass in proximity mod sidemen among us': 0.04254999999999999,\n",
       " 'sidemen second challenge': 0.25793333333333335,\n",
       " 'sidemen geoguessr battle royale': 0.1389111111111111,\n",
       " 'what was the best sidemen sunday video of': 0.06144999999999999,\n",
       " 'sidemen higher or lower instagram followers': 0.12004999999999999,\n",
       " 'heatseeker is pure chaos sidemen gaming': 0.01673333333333334,\n",
       " 'sidemen describe youtubers in one word': 0.0,\n",
       " 'sidemen would you rather': -0.05296666666666667,\n",
       " 'sidemen clickbait quiz': 0.26630999999999994,\n",
       " 'i can t believe we ve done this sidemen gaming': 0.03399,\n",
       " 'what happened after the sidemen christmas mukbang': -0.18184444444444445,\n",
       " 'sidemen goalkeeper challenge': 0.11091111111111111,\n",
       " 'mistakes were made sidemen fifa pro clubs': -0.02743,\n",
       " 'rocket league season is here sidemen gaming': 0.029699999999999997,\n",
       " 'which sideman is the best role model sidemen gaming': -0.06906,\n",
       " 'sidemen elimination penalties': 0.1372,\n",
       " 'ksi carries the sidemen in rocket league sidemen gaming': 0.13408888888888892,\n",
       " 'sidemen find out their football stats': 0.07019999999999998,\n",
       " 'what are these words sidemen gaming': 0.04939,\n",
       " 'sidemen vs faze clan among us but ksi has iq': 0.1123,\n",
       " 'sidemen open million subscriber diamond plaques': 0.2353777777777778,\n",
       " 'sidemen giant ball penalty challenge': 0.06885,\n",
       " 'sidemen among us vs faze clan': 0.10962500000000003,\n",
       " 'sidemen among us in real life unseen': 0.11763000000000001,\n",
       " 'among us in golf it sidemen gaming': 0.0015900000000000024,\n",
       " 'brand new quiplash sidemen gaming': 0.18577777777777776,\n",
       " 'sidemen ball launcher challenge': 0.11194000000000001,\n",
       " 'who is the best sidemen striker': -0.15338,\n",
       " 'working on our team chemistry sidemen fifa pro clubs': 0.002036363636363639,\n",
       " 'going for the title sidemen fifa pro clubs': 0.003290000000000004,\n",
       " 'sidemen among us vs mr beast': 0.13014444444444445,\n",
       " 'sidemen insult each other challenge': 0.10057777777777778,\n",
       " 'vik is a god at any sidemen fifa pro clubs': 0.19668999999999998,\n",
       " 'sidemen play among us but there s a rd impostor sidemen gaming': -0.05932000000000002,\n",
       " 'sidemen play among us but that s enough for me sidemen gaming': -0.02325,\n",
       " 'sidemen play among us but it s the strangest play ever sidemen gaming': -0.018066666666666665,\n",
       " 'sidemen among us vs lazarbeam lachlan fresh': 0.007649999999999995,\n",
       " 'the sidemen pro clubs journey begins sidemen fifa pro clubs': 0.035100000000000006,\n",
       " 'sidemen play among us but tobi gets his revenge sidemen gaming': 0.21054,\n",
       " 'sidemen play among us but everyone rages at each other sidemen gaming': -0.049888888888888885,\n",
       " 'sidemen among us vs pewdiepie dream jacksepticeye': 0.09243000000000001,\n",
       " 'sidemen play among us but everyone acts sus sidemen gaming': 0.07390000000000001,\n",
       " 'the sidemen are back on rocket league sidemen gaming': 0.056810000000000006,\n",
       " 'sidemen play among us but everyone has iq sidemen gaming': 0.0,\n",
       " 'the sidemen play among us sidemen gaming': -0.14029999999999998,\n",
       " 'logan paul threatens ksi on gta v sidemen gaming': -0.04748999999999999,\n",
       " 'is ksi actually the smartest sideman sidemen gaming': -0.021540000000000004,\n",
       " 'sidemen minecraft meme olympics sidemen gaming': -0.028199999999999996,\n",
       " 'the sidemen take a quiz but they are hungover': 0.031111111111111107,\n",
       " 'who s the smartest sideman sidemen gaming': -0.03074444444444444,\n",
       " 'ethan s first time on fall guys sidemen gaming': 0.07425999999999999,\n",
       " 'sidemen premier league predictions': 0.28465555555555555,\n",
       " 'sidemen vs professional poker player tournament': 0.16546666666666665,\n",
       " 'playing fall guys on golf sidemen gaming': 0.05282222222222222,\n",
       " 'bullying ksi on fall guys sidemen gaming': -0.01826666666666666,\n",
       " 'sidemen best pro clubs moments of fifa': 0.12362999999999999,\n",
       " 'sidemen rank every fall guys level': -0.04819,\n",
       " 'can we all get to the final in fall guys sidemen gaming': -0.07085,\n",
       " 'the end of clubs sidemen gaming': 0.11772,\n",
       " 'sidemen poker night with lux freezy': 0.16385,\n",
       " 'sidemen dominating on fall guys sidemen gaming': 0.19318,\n",
       " 'worst sidemen trims of all time': 0.016979999999999988,\n",
       " 'goals red cards and more goals sidemen gaming': -0.17499,\n",
       " 'going for the dub in fall guys sidemen gaming': 0.22418888888888888,\n",
       " 'the sidemen play higher or lower sidemen gaming': 0.038880000000000005,\n",
       " 'the sidemen play fall guys sidemen gaming': 0.11486,\n",
       " 'emotions running high sidemen gaming': 0.010530000000000012,\n",
       " 'sidemen fast food tier list': -0.09673000000000001,\n",
       " 'the sidemen being awkward around girls for minutes straight': 0.17343333333333333,\n",
       " 'draw my thing but we kick each other from the game sidemen gaming': 0.004210000000000003,\n",
       " 'survival of the wisest sidemen gaming': -0.07535,\n",
       " 'the sidemen play trivial pursuit sidemen gaming': 0.043755555555555575,\n",
       " 'the mystical forest sidemen gaming': -0.02983333333333333,\n",
       " 'how to not get cancelled with the sidemen sidemen gaming': -0.017011111111111112,\n",
       " 'sidemen best of lockdown': 0.07286999999999999,\n",
       " 'conquering the division sort of sidemen gaming': 0.04997000000000001,\n",
       " 'mad verses in mad verse city sidemen gaming': 0.2273,\n",
       " 'sidemen poker tournament': 0.2599888888888889,\n",
       " 'unseen strangers roast the sidemen': 0.14965555555555554,\n",
       " 'taking on division sidemen gaming': -0.05584,\n",
       " 'it s every sideman for himself sidemen gaming': -0.16494999999999999,\n",
       " 'sidemen warzone giveaway sidemen gaming': -0.054877777777777775,\n",
       " 'sidemen rap or crap': 0.1194111111111111,\n",
       " 'what do our fans think of us': 0.11094,\n",
       " 'it s now or never sidemen gaming': -0.030670000000000003,\n",
       " 'quiplash sidemen edition sidemen gaming': 0.05419,\n",
       " 'back to winning ways sidemen gaming': 0.32709,\n",
       " 'the sidemen play role models sidemen gaming': 0.13677,\n",
       " 'must win games sidemen gaming': -0.021459999999999996,\n",
       " 'questionable quiplash sidemen gaming': 0.0,\n",
       " 'bouncing back sidemen gaming': -0.13582,\n",
       " 'only one can escape sidemen gaming': -0.12416,\n",
       " 'golf but everyone quits sidemen gaming': 0.17446666666666666,\n",
       " 'win draw or go home sidemen gaming': 0.09331111111111111,\n",
       " 'the sidemen play survive the internet sidemen gaming': 0.36948,\n",
       " 'sidemen trivia night sidemen gaming': 0.09423000000000001,\n",
       " 'our biggest win yet sidemen gaming': 0.011066666666666667,\n",
       " 'who scored the best sidemen charity match goal': -0.02387999999999999,\n",
       " 'which of our followers has the most followers': -0.12309999999999999,\n",
       " 'teamwork makes the dreamwork sidemen gaming': -0.27491000000000004,\n",
       " 'quiplash with the boys sidemen gaming': 0.023730000000000008,\n",
       " 'family friendly rap battles sidemen gaming': 0.06300000000000001,\n",
       " 'so division sidemen gaming': 0.15142000000000003,\n",
       " 'which of our subscribers has the most subscribers': 0.27776666666666666,\n",
       " 'best of ksi s characters': 0.10586,\n",
       " 'sidemen lockdown tinder why the girls said no': 0.0,\n",
       " 'sidemen rate their own tiktoks': 0.06736666666666667,\n",
       " 'it all comes down to this sidemen gaming': 0.1656111111111111,\n",
       " 'whose is it sidemen guess the youtuber': 0.04465555555555555,\n",
       " 'completely appropriate quiplash sidemen gaming': -0.010533333333333327,\n",
       " 'promotion is on the horizon sidemen gaming': -0.12143000000000001,\n",
       " 'sidemen majority game': 0.0007333333333333266,\n",
       " 'sidemen back on rocket league sidemen gaming': 0.04501000000000001,\n",
       " 'the sidemen rate their own songs': 0.02764444444444444,\n",
       " 'the sidemen play shellshock live sidemen gaming': -0.0869111111111111,\n",
       " 'the comeback of dreams sidemen gaming': 0.07208888888888887,\n",
       " 'sidemen best warzone moments': 0.03194444444444446,\n",
       " 'sidemen answer fan assumptions': 0.15918750000000004,\n",
       " 'a brand new golf map sidemen gaming': 0.22045000000000003,\n",
       " 'sidemen stay at home skribbl io sidemen gaming': 0.12837777777777779,\n",
       " 'sidemen most likely to': 0.04028888888888889,\n",
       " 'who will win sidemen gaming': 0.10478888888888889,\n",
       " 'top sidemen gta moments': 0.08658888888888888,\n",
       " 'self isolation quiplash sidemen gaming': -0.04387777777777777,\n",
       " 'quarantine golf sidemen gaming': -0.07675555555555555,\n",
       " 'sidemen vs jme rap battle sidemen gaming': 0.05909,\n",
       " 'the sidemen play trials rising sidemen gaming': 0.0347888888888889,\n",
       " 'can the sidemen win on warzone sidemen gaming': 0.13167,\n",
       " 'best of sidemen saturdays': 0.07637000000000001,\n",
       " 'most painful sidemen game ever': -0.032888888888888884,\n",
       " 'sidemen encore challenge': 0.1715666666666667,\n",
       " 'sidemen sundays but it s only stephen tries': 0.17704999999999999,\n",
       " 'sidemen horror movie sidemen gaming': -0.10775555555555555,\n",
       " 'sidemen react to their reddit': 0.32893,\n",
       " 'sidemen youtube tinder why the girls said no': 0.041633333333333335,\n",
       " 'sidemen play google feud': 0.0920625,\n",
       " 'the most outrageous game sidemen play bad people': 0.19874,\n",
       " 'how rich are the sidemen': 0.07042999999999999,\n",
       " 'the worst drawings ever sidemen gaming': 0.19391111111111112,\n",
       " 'sidemen v survival fifa': 0.008577777777777778,\n",
       " 'sidemen diss tracks in sidemen gaming': 0.09961,\n",
       " 'sidemen guess the tune': 0.09455555555555553,\n",
       " 'sidemen heads up': 0.16526666666666667,\n",
       " 'the sidemen play quiplash sidemen gaming': 0.04804444444444445,\n",
       " 'who s the richest sidemen member sidemen q a': 0.32784,\n",
       " 'an embarrassing rage quit sidemen gaming': 0.1691818181818182,\n",
       " 'ksi sleeping for minutes straight': 0.1713555555555556,\n",
       " 'who s the best rapper in the sidemen sidemen gaming': 0.02234444444444445,\n",
       " 'sidemen best of december': 0.15868000000000002,\n",
       " 'sidemen predict anesongib vs jake paul': 0.08384444444444444,\n",
       " 'sidemen reverse hide seek on a private island': 0.05304444444444445,\n",
       " 'kicking jj out of the sidemen sidemen gaming': -0.0203,\n",
       " 'whose sidemen instagram is it': 0.15996666666666667,\n",
       " 'the sidemen play modern warfare sidemen gaming': 0.11256249999999998,\n",
       " 'jake paul or logan paul sidemen would you rather': 0.40221250000000003,\n",
       " 'the sidemen pack van dijk toty pack opening': 0.1544111111111111,\n",
       " 'jj s first win on golf with friends sidemen gaming': 0.12046000000000001,\n",
       " 'sidemen youtube awards': 0.18279,\n",
       " 'sidemen draw the youtuber': 0.18925999999999998,\n",
       " 'the sidemen embarrass jj sidemen gaming': -0.011444444444444455,\n",
       " 'top moments of sidemen': -0.034,\n",
       " 'sidemen the gift ft s x official music video': 0.19773999999999997,\n",
       " 'sidemen merry merry christmas ft jme layz official music video': 0.12148888888888888,\n",
       " 'sidemen youtube whispers': 0.27656,\n",
       " 'sidemen rate usa youtubers': 0.1048375,\n",
       " 'sidemen best of november': -0.04939,\n",
       " 'sidemen react to draw their life': 0.056580000000000005,\n",
       " 'sidemen vs holiday orange team extended cut': 0.25369,\n",
       " 'sidemen vs holiday purple team extended cut': 0.19993333333333338,\n",
       " 'sidemen voting game': 0.19735555555555556,\n",
       " 'happy birthday harry': 0.0260125,\n",
       " 'sidemen best of october': -0.06867999999999999,\n",
       " 'who is the best sideman sidemen gaming': 0.06020909090909091,\n",
       " 'the sidemen take the ultimate youtube quiz': 0.18034,\n",
       " 'into the void sidemen gaming': -0.26620000000000005,\n",
       " 'which of the sidemen knows callux the best': 0.06804444444444445,\n",
       " 'sidemen predict ksi vs logan paul': 0.22754000000000002,\n",
       " 'who s cheating sidemen draw my thing sidemen gaming': 0.008009090909090915,\n",
       " 'sidemen charades': 0.36883333333333335,\n",
       " 'how the sidemen met': -0.061340000000000006,\n",
       " 'sidemen gta death run sidemen gaming': 0.06421,\n",
       " 'which of the sidemen knows calfreezy the best': 0.07242222222222222,\n",
       " 'how many youtubers can you name sidemen categories': 0.15741,\n",
       " 'vik plays as any sidemen fifa pro clubs sidemen gaming': 0.059660000000000005,\n",
       " 'sidemen viral point game': 0.11634,\n",
       " 'the sidemen anniversary awards': -0.12987,\n",
       " 'the sidemen play gta sidemen gaming': 0.030469999999999997,\n",
       " 'sidemen reverse hide seek in a theme park': -0.03921999999999999,\n",
       " 'josh vs tobi sidemen fifa royal rumble final': 0.1739222222222222,\n",
       " 'simon vs tobi sidemen fifa royal rumble': 0.19142999999999996,\n",
       " 'josh vs vik sidemen fifa royal rumble': 0.14775,\n",
       " 'jj vs josh sidemen fifa royal rumble': 0.25898,\n",
       " 'simon vs harry sidemen fifa royal rumble': 0.084925,\n",
       " 'sidemen fifa royal rumble': 0.16831999999999997,\n",
       " 'sidemen answer your assumptions': 0.27324000000000004,\n",
       " 'sidemen best of september': -0.06643333333333332,\n",
       " 'sidemen fifa pro clubs sidemen gaming': 0.11885555555555556,\n",
       " 'ksi vs logan paul anesongib vs jake paul sidemen podcast': 0.04937777777777777,\n",
       " 'sidemen crossing challenge': 0.1118777777777778,\n",
       " 'sidemen rate uk youtubers': -0.054877777777777775,\n",
       " 'sidemen house challenge in minecraft sidemen gaming': 0.1573111111111111,\n",
       " 'sidemen best of august': -0.03232999999999999,\n",
       " 'ksi miniminter reacting to sidemen meme edits': 0.11128,\n",
       " 'the sidemen hitting the crossbar for minutes': 0.08514999999999999,\n",
       " 'the sidemen choose words in draw my thing sidemen gaming': 0.2407,\n",
       " 'happy birthday simon': 0.15889999999999999,\n",
       " 'which of the sidemen knows jj the best': 0.30911,\n",
       " 'sidemen hide seek in minecraft sidemen gaming': 0.04013333333333333,\n",
       " 'happy birthday josh': -0.13826999999999998,\n",
       " 'which of the sidemen knows simon the best': 0.1863,\n",
       " 'sidemen guess the youtuber': 0.22952000000000003,\n",
       " 'all of harry s terrible pick up lines from sidemen tinder': -0.03148000000000001,\n",
       " 'the sidemen duel minecraft sidecraft': 0.11104,\n",
       " 'sidemen tinder why the girls said no': 0.10612222222222223,\n",
       " 'which of the sidemen knows josh the best': -0.029830000000000002,\n",
       " 'the sidemen war ends minecraft sidecraft': 0.048933333333333336,\n",
       " 'unseen sidemen total wipeout': 0.16635,\n",
       " 'the sidemen spend hours in amsterdam': 0.059770000000000004,\n",
       " 'sidemen best of july': 0.13054,\n",
       " 'the sidemen battle minecraft sidecraft': -0.2960888888888889,\n",
       " 'which of the sidemen knows tobi the best': 0.14455454545454544,\n",
       " 'sidemen fc vs youtube allstars': 0.30604444444444445,\n",
       " 'ksi switches sides minecraft sidecraft': 0.0,\n",
       " 'sidemen awkward in public': -0.06847,\n",
       " 'happy birthday vik': -0.032888888888888884,\n",
       " 'sidemen savage golf session sidemen gaming': 0.0,\n",
       " 'sidemen pictionary challenge': 0.22283333333333333,\n",
       " 'sidemen moo off': 0.12793333333333334,\n",
       " 'sidemen beef minecraft sidecraft': -0.1058111111111111,\n",
       " 'which of the sidemen knows vik the best': 0.2038375,\n",
       " 'first to guess the password wins': -0.0531,\n",
       " 'sidemen play minecraft minecraft sidecraft': 0.15288,\n",
       " 'which of the sidemen knows harry the best': 0.037070000000000006,\n",
       " 'sidemen team hide and seek': 0.18886999999999998,\n",
       " 'first sidemen fortnite deathrun sidemen gaming': 0.18128888888888892,\n",
       " 'phil bullying the sidemen for minutes straight': 0.17107,\n",
       " 'sidemen shots fired': 0.0,\n",
       " 'which of the sidemen knows ethan the best': -0.048933333333333336,\n",
       " 'sidemen best of june': 0.14492222222222223,\n",
       " 'the sidemen play dead by daylight sidemen gaming': -0.05907000000000001,\n",
       " 'the sidemen are splitting up sidemen rumours': 0.23392222222222225,\n",
       " 'sidemen strength tests': 0.025500000000000005,\n",
       " 'which of the sidemen was it': 0.28009000000000006,\n",
       " 'sidemen play topgolf': 0.001000000000000012,\n",
       " 'the sidemen open weird fan mail': -0.08074444444444445,\n",
       " 'sidemen react to hate comments': -0.08994444444444444,\n",
       " 'the sidemen in america': -0.08692222222222222,\n",
       " 'sidemen rate sidemen videos': 0.16101000000000001,\n",
       " 'sidemen best of may': 0.0,\n",
       " 'best sidemen hide seek moments': 0.18697777777777777,\n",
       " 'funniest sidemen slip n slide moments': 0.08895000000000002,\n",
       " 'sidemen hide seek on a private jet': 0.09933,\n",
       " 'sidemen try american candy': 0.12095555555555555,\n",
       " 'all sidemen in a golf video first time ever sidemen gaming': -0.07334444444444445,\n",
       " 'best sidemen house and room tours': 0.25678999999999996,\n",
       " 'strangers roast the sidemen phil uncut': -0.014060000000000007,\n",
       " 'strangers roast the sidemen kiera uncut': 0.07190000000000002,\n",
       " 'strangers roast the sidemen joe uncut': -0.0028666666666666667,\n",
       " 'strangers roast the sidemen mia uncut': -0.07007999999999999,\n",
       " 'strangers roast the sidemen scott uncut': 0.0,\n",
       " 'strangers roast the sidemen melissa uncut': 0.30433333333333334,\n",
       " 'sidemen chilli challenges': 0.0064333333333333334,\n",
       " 'sidemen genius diss track lyrics': -0.1255818181818182,\n",
       " 'sidemen chubby bunny challenges': 0.0,\n",
       " 'sidemen vs faze penalty shootout': -0.26531000000000005,\n",
       " 'the sidemen play jenga': 0.06636,\n",
       " 'sidemen deadest jokes': 0.09904,\n",
       " 'the sidemen spent days on a cruise and this happened': 0.03566999999999999,\n",
       " 'sidemen best of april': 0.005710000000000002,\n",
       " 'sidemen clickbait quizzes': 0.029599999999999998,\n",
       " 'sidemen guess who': 0.03874444444444444,\n",
       " 'the sidemen play rocket league': 0.03221666666666665,\n",
       " 'the sidemen get drunk': -0.10515833333333335,\n",
       " 'sidemen give advice': -0.0033444444444444463,\n",
       " 'sidemen drawing challenges': 0.06667000000000003,\n",
       " 'sidemen table tennis tournament': 0.2799888888888889,\n",
       " 'the sidemen get egged': 0.03125,\n",
       " 'the sidemen get waxed': 0.08123,\n",
       " 'sidemen mukbang': 0.29525,\n",
       " 'ranking all sidemen charity match goals': -0.04566666666666666,\n",
       " 'sidemen best of march': 0.0444,\n",
       " 'sidemen one word interviews': 0.2681,\n",
       " 'sidemen indoor penalty challenge': 0.12433000000000001,\n",
       " 'best of sidemen reacting to reddit': -0.06509999999999999,\n",
       " 'sidemen instagram q a part': 0.29846666666666666,\n",
       " 'sidemen instagram q a': 0.22431111111111107,\n",
       " 'one question go': 0.14984000000000003,\n",
       " 'sidemen play scream go hero': 0.2043888888888889,\n",
       " 'sidemen basketball challenge': 0.06629999999999997,\n",
       " 'sidemen you laugh you lose': -0.0052499999999999995,\n",
       " 'sidemen indoor football': 0.17412,\n",
       " 'sidemen not my arms': 0.01610000000000001,\n",
       " 'sidemen go to the arcade': 0.14227000000000004,\n",
       " 'the sidemen try on make up': -0.008029999999999987,\n",
       " 'the sidemen go on tinder': 0.06392,\n",
       " 'sidemen best of february': 0.24483000000000002,\n",
       " 'sidemen simon says': -0.032633333333333334,\n",
       " 'cooking with the sidemen': 0.07212222222222223,\n",
       " 'sidemen best of the siblings': -0.10199,\n",
       " 'sidemen most shocking challenges': -0.041977777777777774,\n",
       " 'sidemen wackiest hairstyles': 0.08313333333333334,\n",
       " 'the best of ksi s comeback': 0.0459,\n",
       " 'sidemen unbox million subscriber plaques': 0.002355555555555555,\n",
       " 'sidemen best of january': 0.023499999999999997,\n",
       " 'sidemen guess the song challenges': 0.0,\n",
       " 'sidemen funniest inflatables moments': -0.09995454545454545,\n",
       " 'most extreme sidemen forfeits': -0.07502222222222221,\n",
       " 'the best moments in the sidemen house': 0.00851,\n",
       " 'sidemen funniest kitchen challenges': 0.16306,\n",
       " 'the sidemen travel the world': 0.027788888888888887,\n",
       " 'sidemen best moments of': 0.018411111111111114,\n",
       " 'sidemen chubby bunny challenge gone wrong': 0.0,\n",
       " 'sidemen accent challenge': 0.02852000000000001,\n",
       " 'sidemen funniest christmas moments': 0.3596,\n",
       " 'the rudest game ever deckheads challenge': -0.0834,\n",
       " 'sidemen react to old videos': -0.04939,\n",
       " 'sidemen react to internet videos': 0.0,\n",
       " 'sidemen best ever pranks': 0.1499777777777778,\n",
       " 'sidemen rock paper scissors tournament': -0.0050700000000000025,\n",
       " 'sidemen pro clubs': 0.07753,\n",
       " 'sidemen try not to laugh impossible': 0.01348000000000001,\n",
       " 'sidemen garry s mod funniest moments': -0.18348,\n",
       " 'sidemen funniest fails': -0.15967777777777778,\n",
       " 'the sidemen play geoguessr': -0.042511111111111104,\n",
       " 'best sidemen fortnite moments': 0.07528,\n",
       " 'funniest sidemen rage quits': -0.06370999999999999,\n",
       " 'sidemen best vr moments': 0.26453333333333334,\n",
       " 'sidemen spookiest moments': 0.0,\n",
       " 'the greatest sidemen moments of all time sidemen years': 0.08367,\n",
       " 'funniest sidemen family moments': 0.15032857142857142,\n",
       " 'sidemen funniest skits': 0.021790909090909086,\n",
       " 'funniest charity match moments': 0.12786,\n",
       " 'sidemen googling ourselves': -0.005559999999999998,\n",
       " 'the sidemen play golf in real life': 0.09769000000000001,\n",
       " 'sidemen funniest snapchat q a questions': 0.10568999999999999,\n",
       " 'the worst sidemen injuries': 0.06416,\n",
       " 'sidemen funniest mad libs moments': 0.1856,\n",
       " 'sidemen would you rather moments': 0.04036000000000001,\n",
       " 'the funniest bits sidemen podcast': 0.30311,\n",
       " 'sidemen quickfire questions': -0.12462222222222222,\n",
       " 'sidemen funniest patience test moments': -0.1358,\n",
       " 'best of sidemen challenges': 0.12342,\n",
       " 'sidemen playing with pro footballers': 0.11484000000000001,\n",
       " 'the biggest event in internet history': 0.14748,\n",
       " 'greatest ever sidemen trickshots': -0.06480999999999999,\n",
       " 'sidemen funniest q a moments': 0.16947777777777778,\n",
       " 'all sidemen diss tracks in order': 0.09248999999999999,\n",
       " 'unreleased wroetoshaw sidemen diss track': 0.07734000000000002,\n",
       " 'unseen footage sidemen wireless hide seek': 0.13655555555555557,\n",
       " 'sidemen reacting to old videos': 0.07165,\n",
       " 'sidemen being awkward in public': 0.07873333333333334,\n",
       " 'best sidemen olympic world records': 0.21280000000000002,\n",
       " 'sidemen penalty shootout': 0.009770000000000001,\n",
       " 'the sidemen play other sports': 0.0705777777777778,\n",
       " 'best of sidemen collabs': 0.037533333333333335,\n",
       " 'sidemen more dead jokes': 0.05097,\n",
       " 'maddest sidemen soundclips': 0.16035555555555556,\n",
       " 'sidemen best hole in ones': 0.21250000000000002,\n",
       " 'unreleased sidemen hide and seek': 0.035879999999999995,\n",
       " 'ksi vs logan paul press conference the sidemen show sidemen podcast': 0.09677777777777778,\n",
       " 'sidemen maddest moments': 0.09892,\n",
       " 'sidemen that s what she said moments': -0.06035999999999999,\n",
       " 'sidemen fc match ksi vs logan paul boxing the sidemen show sidemen podcast': 0.20537777777777777,\n",
       " 'best of sidemen fc charity matches': 0.16704,\n",
       " 'sidemen most likely to challenge': 0.3196800000000001,\n",
       " 'sidemen the movie official trailer behind the scenes day': 0.04186000000000001,\n",
       " 'sidemen more shots fired': 0.0,\n",
       " 'sidemen brain farts': -0.07408,\n",
       " 'sidemen sumo fight behind the scenes': -0.017949999999999997,\n",
       " 'when sidemen videos go wrong': 0.06996,\n",
       " 'sidemen total wipeout football challenge behind the scenes': 0.004049999999999998,\n",
       " 'best sidemen cards against humanity moments': 0.09994444444444445,\n",
       " 'funniest sidemen football moments': 0.33494,\n",
       " 'hilarious sidemen facecam moments': 0.0,\n",
       " 'scariest sidemen moments': -0.10973,\n",
       " 'the sidemen can sing': 0.07085000000000001,\n",
       " 'how the sidemen make a football video': 0.13157000000000002,\n",
       " 'sidemen mum jokes': 0.14488,\n",
       " 'best old sidemen moments': 0.05339000000000001,\n",
       " 'sidemen make weird noises': -0.1336,\n",
       " 'sidemen biggest rage moments': 0.25276666666666664,\n",
       " 'will ksi fight logan paul or jake paul sidemen podcast': 0.1565777777777778,\n",
       " 'sidemen vs beta squad among us in real life': 0.08798,\n",
       " 'women vs sidemen kai cenat edition': 0.11069999999999999,\n",
       " 'sidemen race across a country europe edition': 0.16585999999999998,\n",
       " 'sidemen waterpark hide seek': 0.08617,\n",
       " 'the greatest sidemen moments': 0.16017777777777775,\n",
       " 'sidemen vs christmas day': 0.15871999999999997,\n",
       " 'sidemen big fat quiz of the year': -0.061419999999999995,\n",
       " 'sidemen extreme christmas cook off': 0.05045555555555556,\n",
       " 'sidemen vs christmas song': 0.13713000000000003,\n",
       " 'sidemen vs football match': 0.04683333333333333,\n",
       " 'sidemen superyacht hide and seek': -0.023133333333333332,\n",
       " 'sidemen a z calorie challenge': 0.11887777777777779,\n",
       " 'sidemen extreme japanese gameshows': 0.12589,\n",
       " 'sidemen old vs young for hours challenge': -0.010655555555555554,\n",
       " 'sidemen forfeit blind date': -0.09173333333333333,\n",
       " 'sidemen vs mr beast challenge': -0.17303333333333334,\n",
       " 'sidemen hide seek in world s biggest theatre': 0.28245555555555557,\n",
       " 'sidemen swap lives for hours': 0.18513333333333332,\n",
       " 'sidemen charity match goals highlights': 0.17456666666666665,\n",
       " 'sidemen charity match official stream': 0.13085999999999998,\n",
       " 'who is the best sidemen football player': -0.036019999999999996,\n",
       " 'women vs sidemen logan paul edition': 0.18882,\n",
       " 'sidemen hot vs cold mukbang': 0.08894444444444446,\n",
       " 'sidemen train like ksi for hours': 0.008844444444444445,\n",
       " 'sidemen europe calorie challenge': 0.11219000000000001,\n",
       " 'sidemen vs road trip usa edition': 0.23213636363636364,\n",
       " 'sidemen hide and seek in a school': 0.19186,\n",
       " 'sidemen vs holiday usa edition': 0.27609,\n",
       " 'sidemen tinder in real life usa youtube edition': 0.16154444444444446,\n",
       " 'sidemen escape room challenge': 0.17658000000000001,\n",
       " 'sidemen hole in the wall': 0.06788,\n",
       " 'women vs sidemen jidion edition': -0.08803,\n",
       " 'pointless sidemen edition': -0.05574,\n",
       " 'sidemen vs birthday party': 0.15043,\n",
       " 'sidemen turn into in hours challenge': 0.08037000000000001,\n",
       " 'sidemen vs hotel europe edition': 0.19721999999999995,\n",
       " 'women vs sidemen filly edition': 0.16355555555555557,\n",
       " 'sidemen vs theme park': 0.029300000000000007,\n",
       " 'sidemen a z buying challenge': 0.0,\n",
       " 'sidemen abandoned in europe challenge': 0.14053333333333334,\n",
       " 'sidemen game of life in real life': 0.024137499999999992,\n",
       " 'sidemen silent library': -0.016466666666666668,\n",
       " 'sidemen race across europe challenge': 0.2516222222222222,\n",
       " 'sidemen one million pound drop': -0.005087499999999995,\n",
       " 'sidemen vs premier league goalkeeper': -0.010766666666666666,\n",
       " 'sidemen throw a dart and go where it lands': 0.3424111111111111,\n",
       " 'sidemen usa vs uk calories challenge': 0.23975,\n",
       " 'sidemen las vegas forfeit hide and seek': 0.22250000000000003,\n",
       " 'sidemen complete this challenge win': -0.005877777777777784,\n",
       " 'sidemen mukbang on a bus': -0.00516,\n",
       " 'the cube sidemen edition': 0.008369999999999999,\n",
       " 'women vs sidemen callux edition': 0.06171111111111111,\n",
       " 'sidemen family feud': 0.1930625,\n",
       " 'sidemen that finds lamborghini wins it': -0.0455,\n",
       " 'sidemen drink one colour for hours challenge': 0.0,\n",
       " 'sidemen hide and seek in spanish mansion': 0.04465555555555555,\n",
       " 'sidemen vs new years eve': 0.18087777777777778,\n",
       " 'women vs sidemen ksi edition': 0.1189,\n",
       " 'sidemen hot vs cold holiday': 0.04394545454545455,\n",
       " 'sidemen pub golf europe edition': 0.04153749999999998,\n",
       " 'sidemen hide seek in the world s biggest toy store': 0.1147,\n",
       " 'sidemen extreme robot wars battle bots': -0.022010000000000002,\n",
       " 'sidemen extreme tag': 0.06117999999999999,\n",
       " 'sidemen extreme bake off': 0.16369,\n",
       " 'sidemen abandoned challenge': -0.07731111111111111,\n",
       " 'sidemen who wants to be a millionaire': -0.100575,\n",
       " 'sidemen car challenge': 0.10518000000000001,\n",
       " 'sidemen hide and seek in a nuclear bunker': 0.051059999999999994,\n",
       " 'sidemen vs kids football match': 0.007669999999999999,\n",
       " 'sidemen vs camping': 0.005790000000000017,\n",
       " 'sidemen vs onlyfans olympics': 0.013311111111111114,\n",
       " 'sidemen speed dating extreme': -0.05828888888888888,\n",
       " 'women rate the most attractive sidemen': 0.15012222222222218,\n",
       " 'sidemen hot tub mukbang': -0.037766666666666664,\n",
       " 'sidemen hide and seek in the most expensive house in london': 0.10056000000000001,\n",
       " 'sidemen buying one colour for hours': 0.0128,\n",
       " 'sidemen extreme punishment pool': 0.014440000000000003,\n",
       " 'sidemen extreme fishing vs logan paul': 0.13423000000000002,\n",
       " 'sidemen spend on fans': 0.33704999999999996,\n",
       " 'sidemen hide and seek on a jumbo jet': 0.14076,\n",
       " 'the wheel sidemen edition': 0.04178,\n",
       " 'sidemen gogglebox': 0.1716111111111111,\n",
       " 'sidemen extreme cook off': 0.12248,\n",
       " 'sidemen vs hotel': 0.14817,\n",
       " 'sidemen vs arsenal womens team': 0.09509000000000001,\n",
       " 'sidemen impossible footgolf challenge': 0.14494444444444443,\n",
       " 'sidemen vs mukbang': 0.09781111111111113,\n",
       " 'sidemen guess the millionaire': 0.0,\n",
       " 'sidemen a z drinking challenge gone wrong': 0.06897,\n",
       " 'sidemen hide seek in a dungeon': 0.24413333333333334,\n",
       " 'sidemen most weight lost in hours challenge': -0.0012000000000000107,\n",
       " 'sidemen all sports golf battle': 0.07921111111111112,\n",
       " 'sidemens got talent': 0.0714111111111111,\n",
       " 'sidemen crystal maze': -0.06290000000000001,\n",
       " 'sidemen eat food from different countries hours challenge': -0.052244444444444454,\n",
       " 'sidemen barber shop gone wrong': 0.01686666666666666,\n",
       " 'women vs sidemen harry edition': 0.24659999999999999,\n",
       " 'sidemen worlds most expensive mukbang': 0.07675555555555555,\n",
       " 'sidemen guess the fake couple': 0.12393999999999998,\n",
       " 'sidemen tinder in real life': -0.2020875,\n",
       " 'the price is right sidemen edition': 0.09535,\n",
       " 'sidemen hide and seek in a castle': 0.05493333333333334,\n",
       " 'sidemen calorie battle the rematch': 0.21203333333333335,\n",
       " 'sidemen have minutes to spend': 0.025849999999999995,\n",
       " 'top sidemen moments': 0.01876,\n",
       " 'sidemen blind dating': 0.0745,\n",
       " 'sidemen hide and seek in beta squad house': 0.20468999999999998,\n",
       " 'the weakest link sidemen edition': 0.09146666666666668,\n",
       " 'sidemen among us in real life': 0.1407,\n",
       " 'sidemen calories battle': -0.07888,\n",
       " 'sidemen try expensive vs cheap food': 0.12435000000000002,\n",
       " 'women vs sidemen ethan edition': 0.16060000000000002,\n",
       " 'sidemen trivial pursuit in real life': 0.13314444444444445,\n",
       " 'sidemen a z eating challenge': -0.014069999999999994,\n",
       " 'sidemen split or steal': -0.03613333333333333,\n",
       " 'sidemen drinking mukbang': 0.21972222222222224,\n",
       " 'sidemen hide and seek in a prison': 0.08570999999999998,\n",
       " 'sidemen fall guys in real life': 0.11488000000000001,\n",
       " 'sidemen pub golf gone wrong': 0.04911111111111111,\n",
       " 'sidemen race across the uk': 0.04204,\n",
       " 'sidemen punishment basketball': 0.0,\n",
       " 'sidemen eat the hottest wings challenge': 0.038269999999999985,\n",
       " 'jeopardy sidemen edition': 0.06564545454545455,\n",
       " 'sidemen vs takeaway': 0.08496666666666668,\n",
       " 'sidemen spend on each other in hour': 0.042469999999999994,\n",
       " 'sidemen go camping': 0.1622,\n",
       " 'strangers roast the sidemen': 0.01692222222222222,\n",
       " 'sidemen vs': 0.23235555555555554,\n",
       " 'sidemen reunited mukbang': 0.2102222222222222,\n",
       " 'sidemen vs w s football challenge': 0.013300000000000003,\n",
       " 'sidemen real life bingo in lockdown': -0.0032888888888888846,\n",
       " 'sidemen calories challenge in lockdown': 0.04443333333333333,\n",
       " 'sidemen go back to online school': 0.020622222222222222,\n",
       " 'sidemen talent show': 0.29522,\n",
       " 'sidemen spelling bee': -0.13076,\n",
       " 'sidemen tinder in lockdown': 0.21317999999999998,\n",
       " 'sidemen tiktok challenge': -0.06705,\n",
       " 'sidemen lockdown showdown': 0.2479888888888889,\n",
       " 'sidemen learn skills in hours': 0.08843333333333334,\n",
       " 'sidemen come dine with me': -0.06127777777777778,\n",
       " 'the end of the sidemen channel': 0.04532222222222223,\n",
       " 'stayhome': 0.12229285714285716,\n",
       " 'sidemen escape room': 0.07470000000000002,\n",
       " 'sidemen paintball hide and seek': 0.010511111111111113,\n",
       " 'sidemen dragons den shark tank': 0.11095,\n",
       " 'sidemen tinder in real life uk youtube edition': 0.010209523809523816,\n",
       " 'sidemen spill your guts or fill your guts': -0.09304444444444446,\n",
       " 'sidemen most weight gained in hours challenge': 0.01716363636363636,\n",
       " 'sidemen monopoly in real life': 0.1365333333333333,\n",
       " 'sidemen hide seek on a private island': 0.019377777777777785,\n",
       " 'sidemen eating one colour food for hours challenge': -0.0802,\n",
       " 'sidemen lie detector': 0.02373,\n",
       " 'sidemen rewind': 0.23094,\n",
       " 'sidemen christmas cook off': 0.17224,\n",
       " 'sidemen make a song in hours challenge': 0.03597000000000001,\n",
       " 'sidemen tipping point': -0.10267,\n",
       " 'sidemen real life bingo': 0.03100000000000001,\n",
       " 'sidemen calories in hours challenge usa edition': 0.09771999999999999,\n",
       " 'sidemen spend in hour challenge': 0.008577777777777778,\n",
       " 'sidemen speed dating': 0.10257000000000001,\n",
       " 'sidemen vs holiday europe edition': 0.0,\n",
       " 'sidemen ice dunk tank challenge': 0.24989,\n",
       " 'the roast of the sidemen': 0.06427777777777778,\n",
       " 'sidemen hide seek in a theme park': 0.3915,\n",
       " 'sidemen vs road trip': -0.056809999999999986,\n",
       " 'sidemen wheel of fortune': 0.20884999999999998,\n",
       " 'sidemen handcuffed for hours challenge': 0.09425555555555555,\n",
       " 'sidemen football fear pong': 0.14406666666666668,\n",
       " 'sidemen sumo olympics': 0.19296000000000002,\n",
       " 'sidemen million mansion reverse hide seek': 0.21868000000000004,\n",
       " 'sidemen total wipeout challenge': 0.09356666666666667,\n",
       " 'sidemen burn calories in hours challenge': 0.14807,\n",
       " 'sidemen become parents for hours': 0.26737777777777777,\n",
       " 'the chase sidemen edition': -0.0562,\n",
       " 'sidemen hide seek in a football stadium': 0.10729999999999999,\n",
       " 'sidemen donate to twitch streamers': 0.05319,\n",
       " 'sidemen outfit challenge': 0.17034444444444446,\n",
       " 'sidemen go back to school': 0.14374,\n",
       " 'sidemen tinder in real life original edition': -0.06941,\n",
       " 'sidemen strength test': 0.42279,\n",
       " 'sidemen learn to dance ft jabbawockeez': 0.08459999999999998,\n",
       " 'nigahiga vs sidemen the ultimate challenge': 0.17575,\n",
       " 'sidemen vs faze crossbar challenge': -0.06401111111111112,\n",
       " 'sidemen million faze house hide seek': -0.02317999999999999,\n",
       " 'countdown sidemen edition': 0.25825555555555557,\n",
       " 'sidemen sports day': 0.061811111111111115,\n",
       " 'sidemen vs holiday': 0.013449999999999995,\n",
       " 'sidemen giant inflatable slip and slide challenge': 0.052533333333333335,\n",
       " 'sidemen one question': -0.020011111111111105,\n",
       " 'sidemen million cruise ship hide seek': 0.21858,\n",
       " 'sidemen break world records': 0.10623,\n",
       " 'sidemen eat calories in hours challenge': 0.32889999999999997,\n",
       " 'the sidemen bake off': -0.04683333333333333,\n",
       " 'sidemen try james charles make up tutorial': 0.38589,\n",
       " 'sidemen read mean tweets': 0.17754444444444445,\n",
       " 'sidemen top best moments': -0.021922222222222218,\n",
       " 'sidemen winter olympics': 0.13193000000000002,\n",
       " 'sidemen christmas football challenges': 0.0,\n",
       " 'shocking try not to laugh challenge': 0.027322222222222216,\n",
       " 'sidemen punishment pool insane': 0.11603999999999999,\n",
       " 'sidemen family fortunes': -0.008044444444444446,\n",
       " 'sidemen react to teens react to sidemen': 0.01708888888888889,\n",
       " 'sidemen pumpkin carving challenge gone wrong': 0.07076666666666667,\n",
       " 'haunted clown maze hide and seek': -0.03324444444444444,\n",
       " 'extreme forfeit sidemen quiz': 0.14539999999999997,\n",
       " 'sidemen a side football horrific injury': 0.29684,\n",
       " 'sidemen not my arms challenge': 0.01225555555555555,\n",
       " 'how fast can the sidemen run m sidemen olympics': -0.08562222222222222,\n",
       " 'how well do the sidemen know each other': -0.09023333333333333,\n",
       " 'ksi vs the sidemen': 0.13803,\n",
       " 'sidemen who wants to be a billionaire': -0.12324000000000002,\n",
       " 'sidemen extreme minigolf': -0.03523,\n",
       " 'sidemen carpool diss track karaoke': 0.019444444444444438,\n",
       " 'sidemen explore haunted tunnels warning': -0.03535555555555556,\n",
       " 'how hard can the sidemen punch': 0.13163,\n",
       " 'sidemen bowling gone wrong': 0.10119,\n",
       " 'sidemen world cup football challenges': 0.018359999999999998,\n",
       " 'sidemen hide seek in wireless festival gone wrong': 0.16147999999999998,\n",
       " 'sidemen world cup wipeout challenge': -0.016437499999999994,\n",
       " 'sidemen go to space the sidemen show': 0.3085888888888889,\n",
       " 'sidemen rescue nicole scherzinger the sidemen show': 0.25602,\n",
       " 'hunting the sidemen the sidemen show': 0.2887222222222222,\n",
       " 'sidemen investigate most haunted house the sidemen show': -0.05877777777777778,\n",
       " 'the great sidemen race the sidemen show': 0.03816666666666667,\n",
       " 'sidemen winter sports challenges the sidemen show': 0.08941000000000002,\n",
       " 'sidemen extreme desert race explosion the sidemen show': 0.05836,\n",
       " 'sidemen fc vs youtube allstars goals highlights': 0.054877777777777775,\n",
       " 'sidemen fc vs youtube allstars charity match livestream': 0.17045000000000002,\n",
       " 'the sidemen show official trailer': 0.11717,\n",
       " 'the sidemen show exclusive teaser trailer': 0.044500000000000005,\n",
       " 'sidemen giant slip and slide football': 0.07322999999999999,\n",
       " 'sidemen yoga challenge': 0.06508888888888888,\n",
       " 'sidemen homemade olympics': 0.054900000000000004,\n",
       " 'sidemen deal or no deal': 0.06293333333333334,\n",
       " 'sidemen million mansion hide and seek': 0.11639,\n",
       " 'sidemen sumo fight': 0.027777777777777776,\n",
       " 'sidemen the movie official trailer': 0.1362,\n",
       " 'sidemen total wipeout football challenge': 0.09878,\n",
       " 'sidemen answer the most searched google questions': 0.17131818181818181,\n",
       " 'sidemen ultimate football challenge': 0.054310000000000004,\n",
       " 'sidemen silent challenge': 0.03351111111111111,\n",
       " 'sidemen giant football darts': 0.021377777777777787,\n",
       " 'extreme sidemen fear pong': 0.06354444444444445,\n",
       " 'sidemen try not to laugh challenge w jack whitehall': 0.17495555555555556,\n",
       " 'you laugh you lose sidemen do bad jokes': 0.41818888888888883,\n",
       " 'logan paul ksi vs joe weller fight sidemen diss tracks': 0.13087,\n",
       " 'sidemen fc vs youtube allstars highlights': 0.10769999999999999,\n",
       " 'sidemen fc vs youtube allstars livestream': 0.15196,\n",
       " 'you must watch this before the sidemen match': -0.04465555555555555,\n",
       " 'the legendary vik as any': 0.07997999999999998,\n",
       " 'the end of sidemen clubs': 0.03787777777777778,\n",
       " 'exposing the sidemen': 0.04358000000000001,\n",
       " 'simon is quitting the sidemen': 0.0,\n",
       " 'the sidemen beef begins sdmn clubs': 0.15614444444444445,\n",
       " 'ksi trolls the sidemen sdmn clubs': 0.10941999999999999,\n",
       " 'sidemen book tour': 0.06024444444444445,\n",
       " 'the sidemen awards': -0.05706666666666666,\n",
       " 'first ever sidemen podcast': -0.013,\n",
       " 'sidemen manchester meet up': 0.11607777777777778,\n",
       " 'sidemen fc vs youtube allstars charity football match livestream': 0.2307875,\n",
       " 'sidemen face painting challenge': 0.0,\n",
       " 'welcome to the sidemen channel': 0.11796666666666668}"
      ]
     },
     "execution_count": 35,
     "metadata": {},
     "output_type": "execute_result"
    }
   ],
   "source": [
    "# Run the polarity score on the entire dataset\n",
    "res = {}\n",
    "for index,video in df.iterrows():\n",
    "    title = video['video_title']\n",
    "    comments = video['processed_comments']\n",
    "    sentiment_results = []\n",
    "    for comment in comments:\n",
    "        sentiment_results.append(sia.polarity_scores(comment)['compound'])\n",
    "    avg_pol = sum(sentiment_results)/len(sentiment_results)\n",
    "    res[title] = avg_pol\n",
    "\n",
    "res"
   ]
  },
  {
   "cell_type": "code",
   "execution_count": 37,
   "id": "64ecd74b-075d-41fc-91c8-df1872600b68",
   "metadata": {},
   "outputs": [],
   "source": [
    "polarity_df = pd.DataFrame({'video_title':list(res.keys()),'polarity_score':list(res.values())})"
   ]
  },
  {
   "cell_type": "code",
   "execution_count": 38,
   "id": "fe9fb29c-f099-497c-96dd-6c2538347fd7",
   "metadata": {
    "collapsed": true,
    "jupyter": {
     "outputs_hidden": true
    },
    "tags": []
   },
   "outputs": [
    {
     "data": {
      "text/html": [
       "<div>\n",
       "<style scoped>\n",
       "    .dataframe tbody tr th:only-of-type {\n",
       "        vertical-align: middle;\n",
       "    }\n",
       "\n",
       "    .dataframe tbody tr th {\n",
       "        vertical-align: top;\n",
       "    }\n",
       "\n",
       "    .dataframe thead th {\n",
       "        text-align: right;\n",
       "    }\n",
       "</style>\n",
       "<table border=\"1\" class=\"dataframe\">\n",
       "  <thead>\n",
       "    <tr style=\"text-align: right;\">\n",
       "      <th></th>\n",
       "      <th>video_title</th>\n",
       "      <th>polarity_score</th>\n",
       "    </tr>\n",
       "  </thead>\n",
       "  <tbody>\n",
       "    <tr>\n",
       "      <th>0</th>\n",
       "      <td>sidemen one word interview</td>\n",
       "      <td>0.082100</td>\n",
       "    </tr>\n",
       "    <tr>\n",
       "      <th>1</th>\n",
       "      <td>sidemen among us chaos mode</td>\n",
       "      <td>-0.287980</td>\n",
       "    </tr>\n",
       "    <tr>\n",
       "      <th>2</th>\n",
       "      <td>sidemen association challenge</td>\n",
       "      <td>-0.062000</td>\n",
       "    </tr>\n",
       "    <tr>\n",
       "      <th>3</th>\n",
       "      <td>sidemen noob vs pro rocket league</td>\n",
       "      <td>0.112767</td>\n",
       "    </tr>\n",
       "    <tr>\n",
       "      <th>4</th>\n",
       "      <td>sidemen among us sheriff role the dumbest lobb...</td>\n",
       "      <td>0.130189</td>\n",
       "    </tr>\n",
       "    <tr>\n",
       "      <th>...</th>\n",
       "      <td>...</td>\n",
       "      <td>...</td>\n",
       "    </tr>\n",
       "    <tr>\n",
       "      <th>955</th>\n",
       "      <td>first ever sidemen podcast</td>\n",
       "      <td>-0.013000</td>\n",
       "    </tr>\n",
       "    <tr>\n",
       "      <th>956</th>\n",
       "      <td>sidemen manchester meet up</td>\n",
       "      <td>0.116078</td>\n",
       "    </tr>\n",
       "    <tr>\n",
       "      <th>957</th>\n",
       "      <td>sidemen fc vs youtube allstars charity footbal...</td>\n",
       "      <td>0.230788</td>\n",
       "    </tr>\n",
       "    <tr>\n",
       "      <th>958</th>\n",
       "      <td>sidemen face painting challenge</td>\n",
       "      <td>0.000000</td>\n",
       "    </tr>\n",
       "    <tr>\n",
       "      <th>959</th>\n",
       "      <td>welcome to the sidemen channel</td>\n",
       "      <td>0.117967</td>\n",
       "    </tr>\n",
       "  </tbody>\n",
       "</table>\n",
       "<p>960 rows × 2 columns</p>\n",
       "</div>"
      ],
      "text/plain": [
       "                                           video_title  polarity_score\n",
       "0                           sidemen one word interview        0.082100\n",
       "1                          sidemen among us chaos mode       -0.287980\n",
       "2                        sidemen association challenge       -0.062000\n",
       "3                    sidemen noob vs pro rocket league        0.112767\n",
       "4    sidemen among us sheriff role the dumbest lobb...        0.130189\n",
       "..                                                 ...             ...\n",
       "955                         first ever sidemen podcast       -0.013000\n",
       "956                         sidemen manchester meet up        0.116078\n",
       "957  sidemen fc vs youtube allstars charity footbal...        0.230788\n",
       "958                    sidemen face painting challenge        0.000000\n",
       "959                     welcome to the sidemen channel        0.117967\n",
       "\n",
       "[960 rows x 2 columns]"
      ]
     },
     "execution_count": 38,
     "metadata": {},
     "output_type": "execute_result"
    }
   ],
   "source": [
    "polarity_df"
   ]
  },
  {
   "cell_type": "code",
   "execution_count": 39,
   "id": "9cf9a871-1361-4b3a-a5fe-0a6d3d6fb03a",
   "metadata": {},
   "outputs": [],
   "source": [
    "senti_df = pd.merge(df, polarity_df, on='video_title', how='inner')"
   ]
  },
  {
   "cell_type": "code",
   "execution_count": 40,
   "id": "df08c2f8-9917-4e26-89e5-add705028080",
   "metadata": {
    "collapsed": true,
    "jupyter": {
     "outputs_hidden": true
    },
    "tags": []
   },
   "outputs": [
    {
     "data": {
      "text/html": [
       "<div>\n",
       "<style scoped>\n",
       "    .dataframe tbody tr th:only-of-type {\n",
       "        vertical-align: middle;\n",
       "    }\n",
       "\n",
       "    .dataframe tbody tr th {\n",
       "        vertical-align: top;\n",
       "    }\n",
       "\n",
       "    .dataframe thead th {\n",
       "        text-align: right;\n",
       "    }\n",
       "</style>\n",
       "<table border=\"1\" class=\"dataframe\">\n",
       "  <thead>\n",
       "    <tr style=\"text-align: right;\">\n",
       "      <th></th>\n",
       "      <th>channel</th>\n",
       "      <th>video_id</th>\n",
       "      <th>title</th>\n",
       "      <th>description</th>\n",
       "      <th>categoryId</th>\n",
       "      <th>publishedAt</th>\n",
       "      <th>duration</th>\n",
       "      <th>tags</th>\n",
       "      <th>likes</th>\n",
       "      <th>views</th>\n",
       "      <th>number_of_comments</th>\n",
       "      <th>comments</th>\n",
       "      <th>video_title</th>\n",
       "      <th>processed_comments</th>\n",
       "      <th>polarity_score</th>\n",
       "    </tr>\n",
       "  </thead>\n",
       "  <tbody>\n",
       "    <tr>\n",
       "      <th>0</th>\n",
       "      <td>MoreSidemen</td>\n",
       "      <td>g6Y6qXGH5iI</td>\n",
       "      <td>SIDEMEN ONE WORD INTERVIEW</td>\n",
       "      <td>🍗: Order food NOW at: https://www.eatsides.com...</td>\n",
       "      <td>22</td>\n",
       "      <td>2023-01-30T18:30:47Z</td>\n",
       "      <td>PT16M12S</td>\n",
       "      <td>['sidemen', 'moresidemen', 'miniminter', 'ksi'...</td>\n",
       "      <td>144945.0</td>\n",
       "      <td>2408384.0</td>\n",
       "      <td>2291</td>\n",
       "      <td>['ski', '15:59 that there is a violation', 'We...</td>\n",
       "      <td>sidemen one word interview</td>\n",
       "      <td>[ski, 15 59 that there is a violation, we gott...</td>\n",
       "      <td>0.082100</td>\n",
       "    </tr>\n",
       "    <tr>\n",
       "      <th>1</th>\n",
       "      <td>Sidemen</td>\n",
       "      <td>zjTJ_1pv_N0</td>\n",
       "      <td>SIDEMEN ONE WORD INTERVIEW</td>\n",
       "      <td>The Sidemen are being interviewed today but ca...</td>\n",
       "      <td>24</td>\n",
       "      <td>2019-01-20T18:06:23Z</td>\n",
       "      <td>PT17M13S</td>\n",
       "      <td>['sidemen', 'one', 'word', 'interview', 'lol']</td>\n",
       "      <td>423575.0</td>\n",
       "      <td>22155480.0</td>\n",
       "      <td>10668</td>\n",
       "      <td>[\"JJ's ForeHead Seems to be bigger than usual!...</td>\n",
       "      <td>sidemen one word interview</td>\n",
       "      <td>[s forehead seems to be bigger than usual, , w...</td>\n",
       "      <td>0.082100</td>\n",
       "    </tr>\n",
       "    <tr>\n",
       "      <th>2</th>\n",
       "      <td>MoreSidemen</td>\n",
       "      <td>eQ8htMVTC8g</td>\n",
       "      <td>SIDEMEN AMONG US CHAOS MODE</td>\n",
       "      <td>FINALLY the Sidemen have created their own rol...</td>\n",
       "      <td>22</td>\n",
       "      <td>2023-01-27T18:35:30Z</td>\n",
       "      <td>PT50M48S</td>\n",
       "      <td>['sidemen', 'moresidemen', 'miniminter', 'ksi'...</td>\n",
       "      <td>208354.0</td>\n",
       "      <td>4739125.0</td>\n",
       "      <td>5777</td>\n",
       "      <td>['What is that music between 29 and 30 minutes...</td>\n",
       "      <td>sidemen among us chaos mode</td>\n",
       "      <td>[what is that music between 29 and 30 minutes,...</td>\n",
       "      <td>-0.287980</td>\n",
       "    </tr>\n",
       "    <tr>\n",
       "      <th>3</th>\n",
       "      <td>MoreSidemen</td>\n",
       "      <td>_YRHU0acMkU</td>\n",
       "      <td>SIDEMEN ASSOCIATION CHALLENGE</td>\n",
       "      <td>🍗: Order food NOW at: https://www.eatsides.com...</td>\n",
       "      <td>22</td>\n",
       "      <td>2023-01-23T18:30:26Z</td>\n",
       "      <td>PT20M19S</td>\n",
       "      <td>['sidemen', 'moresidemen', 'miniminter', 'ksi'...</td>\n",
       "      <td>122217.0</td>\n",
       "      <td>2536436.0</td>\n",
       "      <td>2734</td>\n",
       "      <td>['bath finally getting recognition', 'This is ...</td>\n",
       "      <td>sidemen association challenge</td>\n",
       "      <td>[bath finally getting recognition, this is act...</td>\n",
       "      <td>-0.062000</td>\n",
       "    </tr>\n",
       "    <tr>\n",
       "      <th>4</th>\n",
       "      <td>MoreSidemen</td>\n",
       "      <td>sOPOoQsgoIo</td>\n",
       "      <td>SIDEMEN NOOB VS PRO ROCKET LEAGUE</td>\n",
       "      <td>🍗: Order food NOW at: https://www.eatsides.com...</td>\n",
       "      <td>22</td>\n",
       "      <td>2023-01-20T19:30:04Z</td>\n",
       "      <td>PT22M42S</td>\n",
       "      <td>['sidemen', 'moresidemen', 'miniminter', 'ksi'...</td>\n",
       "      <td>89700.0</td>\n",
       "      <td>1871016.0</td>\n",
       "      <td>2403</td>\n",
       "      <td>['can i play with you guys for a video pls', '...</td>\n",
       "      <td>sidemen noob vs pro rocket league</td>\n",
       "      <td>[can i play with you guys for a video pls, vik...</td>\n",
       "      <td>0.112767</td>\n",
       "    </tr>\n",
       "    <tr>\n",
       "      <th>...</th>\n",
       "      <td>...</td>\n",
       "      <td>...</td>\n",
       "      <td>...</td>\n",
       "      <td>...</td>\n",
       "      <td>...</td>\n",
       "      <td>...</td>\n",
       "      <td>...</td>\n",
       "      <td>...</td>\n",
       "      <td>...</td>\n",
       "      <td>...</td>\n",
       "      <td>...</td>\n",
       "      <td>...</td>\n",
       "      <td>...</td>\n",
       "      <td>...</td>\n",
       "      <td>...</td>\n",
       "    </tr>\n",
       "    <tr>\n",
       "      <th>1079</th>\n",
       "      <td>Sidemen</td>\n",
       "      <td>cTBX47Zwc80</td>\n",
       "      <td>FIRST EVER SIDEMEN PODCAST</td>\n",
       "      <td>Sidemen Book Tour: http://www.sidemenbooktour....</td>\n",
       "      <td>24</td>\n",
       "      <td>2016-09-18T14:03:25Z</td>\n",
       "      <td>PT1H1M51S</td>\n",
       "      <td>['sidemen', 'sidemen podcast']</td>\n",
       "      <td>133642.0</td>\n",
       "      <td>4087523.0</td>\n",
       "      <td>12340</td>\n",
       "      <td>['i hope i can make the meet ups!', '5', 'Simo...</td>\n",
       "      <td>first ever sidemen podcast</td>\n",
       "      <td>[i hope i can make the meet ups, 5, simon stil...</td>\n",
       "      <td>-0.013000</td>\n",
       "    </tr>\n",
       "    <tr>\n",
       "      <th>1080</th>\n",
       "      <td>Sidemen</td>\n",
       "      <td>qvPEt52H2ZY</td>\n",
       "      <td>SIDEMEN MANCHESTER MEET UP</td>\n",
       "      <td>Sidemen Book: http://www.sidemenbook.co.uk\\nSi...</td>\n",
       "      <td>24</td>\n",
       "      <td>2016-08-15T16:04:13Z</td>\n",
       "      <td>PT3M3S</td>\n",
       "      <td>['sidemen', 'sidemen event', 'sidemen manchest...</td>\n",
       "      <td>64753.0</td>\n",
       "      <td>1272477.0</td>\n",
       "      <td>4075</td>\n",
       "      <td>['least watched sidemen video', 'Last', 'LAST'...</td>\n",
       "      <td>sidemen manchester meet up</td>\n",
       "      <td>[least watched sidemen video, last, last, this...</td>\n",
       "      <td>0.116078</td>\n",
       "    </tr>\n",
       "    <tr>\n",
       "      <th>1081</th>\n",
       "      <td>Sidemen</td>\n",
       "      <td>J_NniTO22_A</td>\n",
       "      <td>SIDEMEN FC VS YOUTUBE ALLSTARS CHARITY FOOTBAL...</td>\n",
       "      <td>DONATE HERE: https://www.justgiving.com/Sideme...</td>\n",
       "      <td>24</td>\n",
       "      <td>2016-06-03T21:45:41Z</td>\n",
       "      <td>PT2H38M45S</td>\n",
       "      <td>['sidemen', 'sidemen charity match', 'sidemen ...</td>\n",
       "      <td>451470.0</td>\n",
       "      <td>27181272.0</td>\n",
       "      <td>36475</td>\n",
       "      <td>[\"12:40 lmao I'm not the only one that thought...</td>\n",
       "      <td>sidemen fc vs youtube allstars charity footbal...</td>\n",
       "      <td>[m not the only one that thought it 56 30 it, ...</td>\n",
       "      <td>0.230788</td>\n",
       "    </tr>\n",
       "    <tr>\n",
       "      <th>1082</th>\n",
       "      <td>Sidemen</td>\n",
       "      <td>5j_fRfbscaE</td>\n",
       "      <td>SIDEMEN FACE PAINTING CHALLENGE</td>\n",
       "      <td>PREORDER SIDEMEN BOOK NOW: http://www.sidemenb...</td>\n",
       "      <td>24</td>\n",
       "      <td>2016-05-28T19:00:00Z</td>\n",
       "      <td>PT5M21S</td>\n",
       "      <td>['sidemen']</td>\n",
       "      <td>139969.0</td>\n",
       "      <td>4245986.0</td>\n",
       "      <td>16399</td>\n",
       "      <td>['In 2023 Simon and Tobi are the only ones tha...</td>\n",
       "      <td>sidemen face painting challenge</td>\n",
       "      <td>[in 2023 simon and tobi are the only ones that...</td>\n",
       "      <td>0.000000</td>\n",
       "    </tr>\n",
       "    <tr>\n",
       "      <th>1083</th>\n",
       "      <td>Sidemen</td>\n",
       "      <td>QXyJgxWH6h4</td>\n",
       "      <td>WELCOME TO THE SIDEMEN CHANNEL!</td>\n",
       "      <td>Make sure you subscribe to this channel!\\nCome...</td>\n",
       "      <td>22</td>\n",
       "      <td>2016-05-15T15:15:36Z</td>\n",
       "      <td>PT1M</td>\n",
       "      <td>['NO_VALUE']</td>\n",
       "      <td>205131.0</td>\n",
       "      <td>4419509.0</td>\n",
       "      <td>34120</td>\n",
       "      <td>['Ethan 😂', 'Everyone is pretty much the same ...</td>\n",
       "      <td>welcome to the sidemen channel</td>\n",
       "      <td>[ethan, everyone is pretty much the same excep...</td>\n",
       "      <td>0.117967</td>\n",
       "    </tr>\n",
       "  </tbody>\n",
       "</table>\n",
       "<p>1084 rows × 15 columns</p>\n",
       "</div>"
      ],
      "text/plain": [
       "          channel     video_id  \\\n",
       "0     MoreSidemen  g6Y6qXGH5iI   \n",
       "1         Sidemen  zjTJ_1pv_N0   \n",
       "2     MoreSidemen  eQ8htMVTC8g   \n",
       "3     MoreSidemen  _YRHU0acMkU   \n",
       "4     MoreSidemen  sOPOoQsgoIo   \n",
       "...           ...          ...   \n",
       "1079      Sidemen  cTBX47Zwc80   \n",
       "1080      Sidemen  qvPEt52H2ZY   \n",
       "1081      Sidemen  J_NniTO22_A   \n",
       "1082      Sidemen  5j_fRfbscaE   \n",
       "1083      Sidemen  QXyJgxWH6h4   \n",
       "\n",
       "                                                  title  \\\n",
       "0                            SIDEMEN ONE WORD INTERVIEW   \n",
       "1                            SIDEMEN ONE WORD INTERVIEW   \n",
       "2                           SIDEMEN AMONG US CHAOS MODE   \n",
       "3                         SIDEMEN ASSOCIATION CHALLENGE   \n",
       "4                     SIDEMEN NOOB VS PRO ROCKET LEAGUE   \n",
       "...                                                 ...   \n",
       "1079                         FIRST EVER SIDEMEN PODCAST   \n",
       "1080                         SIDEMEN MANCHESTER MEET UP   \n",
       "1081  SIDEMEN FC VS YOUTUBE ALLSTARS CHARITY FOOTBAL...   \n",
       "1082                    SIDEMEN FACE PAINTING CHALLENGE   \n",
       "1083                    WELCOME TO THE SIDEMEN CHANNEL!   \n",
       "\n",
       "                                            description  categoryId  \\\n",
       "0     🍗: Order food NOW at: https://www.eatsides.com...          22   \n",
       "1     The Sidemen are being interviewed today but ca...          24   \n",
       "2     FINALLY the Sidemen have created their own rol...          22   \n",
       "3     🍗: Order food NOW at: https://www.eatsides.com...          22   \n",
       "4     🍗: Order food NOW at: https://www.eatsides.com...          22   \n",
       "...                                                 ...         ...   \n",
       "1079  Sidemen Book Tour: http://www.sidemenbooktour....          24   \n",
       "1080  Sidemen Book: http://www.sidemenbook.co.uk\\nSi...          24   \n",
       "1081  DONATE HERE: https://www.justgiving.com/Sideme...          24   \n",
       "1082  PREORDER SIDEMEN BOOK NOW: http://www.sidemenb...          24   \n",
       "1083  Make sure you subscribe to this channel!\\nCome...          22   \n",
       "\n",
       "               publishedAt    duration  \\\n",
       "0     2023-01-30T18:30:47Z    PT16M12S   \n",
       "1     2019-01-20T18:06:23Z    PT17M13S   \n",
       "2     2023-01-27T18:35:30Z    PT50M48S   \n",
       "3     2023-01-23T18:30:26Z    PT20M19S   \n",
       "4     2023-01-20T19:30:04Z    PT22M42S   \n",
       "...                    ...         ...   \n",
       "1079  2016-09-18T14:03:25Z   PT1H1M51S   \n",
       "1080  2016-08-15T16:04:13Z      PT3M3S   \n",
       "1081  2016-06-03T21:45:41Z  PT2H38M45S   \n",
       "1082  2016-05-28T19:00:00Z     PT5M21S   \n",
       "1083  2016-05-15T15:15:36Z        PT1M   \n",
       "\n",
       "                                                   tags     likes       views  \\\n",
       "0     ['sidemen', 'moresidemen', 'miniminter', 'ksi'...  144945.0   2408384.0   \n",
       "1        ['sidemen', 'one', 'word', 'interview', 'lol']  423575.0  22155480.0   \n",
       "2     ['sidemen', 'moresidemen', 'miniminter', 'ksi'...  208354.0   4739125.0   \n",
       "3     ['sidemen', 'moresidemen', 'miniminter', 'ksi'...  122217.0   2536436.0   \n",
       "4     ['sidemen', 'moresidemen', 'miniminter', 'ksi'...   89700.0   1871016.0   \n",
       "...                                                 ...       ...         ...   \n",
       "1079                     ['sidemen', 'sidemen podcast']  133642.0   4087523.0   \n",
       "1080  ['sidemen', 'sidemen event', 'sidemen manchest...   64753.0   1272477.0   \n",
       "1081  ['sidemen', 'sidemen charity match', 'sidemen ...  451470.0  27181272.0   \n",
       "1082                                        ['sidemen']  139969.0   4245986.0   \n",
       "1083                                       ['NO_VALUE']  205131.0   4419509.0   \n",
       "\n",
       "      number_of_comments                                           comments  \\\n",
       "0                   2291  ['ski', '15:59 that there is a violation', 'We...   \n",
       "1                  10668  [\"JJ's ForeHead Seems to be bigger than usual!...   \n",
       "2                   5777  ['What is that music between 29 and 30 minutes...   \n",
       "3                   2734  ['bath finally getting recognition', 'This is ...   \n",
       "4                   2403  ['can i play with you guys for a video pls', '...   \n",
       "...                  ...                                                ...   \n",
       "1079               12340  ['i hope i can make the meet ups!', '5', 'Simo...   \n",
       "1080                4075  ['least watched sidemen video', 'Last', 'LAST'...   \n",
       "1081               36475  [\"12:40 lmao I'm not the only one that thought...   \n",
       "1082               16399  ['In 2023 Simon and Tobi are the only ones tha...   \n",
       "1083               34120  ['Ethan 😂', 'Everyone is pretty much the same ...   \n",
       "\n",
       "                                            video_title  \\\n",
       "0                            sidemen one word interview   \n",
       "1                            sidemen one word interview   \n",
       "2                           sidemen among us chaos mode   \n",
       "3                         sidemen association challenge   \n",
       "4                     sidemen noob vs pro rocket league   \n",
       "...                                                 ...   \n",
       "1079                         first ever sidemen podcast   \n",
       "1080                         sidemen manchester meet up   \n",
       "1081  sidemen fc vs youtube allstars charity footbal...   \n",
       "1082                    sidemen face painting challenge   \n",
       "1083                     welcome to the sidemen channel   \n",
       "\n",
       "                                     processed_comments  polarity_score  \n",
       "0     [ski, 15 59 that there is a violation, we gott...        0.082100  \n",
       "1     [s forehead seems to be bigger than usual, , w...        0.082100  \n",
       "2     [what is that music between 29 and 30 minutes,...       -0.287980  \n",
       "3     [bath finally getting recognition, this is act...       -0.062000  \n",
       "4     [can i play with you guys for a video pls, vik...        0.112767  \n",
       "...                                                 ...             ...  \n",
       "1079  [i hope i can make the meet ups, 5, simon stil...       -0.013000  \n",
       "1080  [least watched sidemen video, last, last, this...        0.116078  \n",
       "1081  [m not the only one that thought it 56 30 it, ...        0.230788  \n",
       "1082  [in 2023 simon and tobi are the only ones that...        0.000000  \n",
       "1083  [ethan, everyone is pretty much the same excep...        0.117967  \n",
       "\n",
       "[1084 rows x 15 columns]"
      ]
     },
     "execution_count": 40,
     "metadata": {},
     "output_type": "execute_result"
    }
   ],
   "source": [
    "senti_df"
   ]
  },
  {
   "cell_type": "code",
   "execution_count": 42,
   "id": "2d05f645-2849-4812-8a08-fbf6925cc354",
   "metadata": {},
   "outputs": [],
   "source": [
    "sentiment = []\n",
    "polarity = []\n",
    "for i in senti_df.polarity_score:\n",
    "    if i==0: \n",
    "        sentiment.append('neutral')\n",
    "        polarity.append(0)\n",
    "    elif i>0: \n",
    "        sentiment.append('positive')\n",
    "        polarity.append(1)\n",
    "    else:\n",
    "        sentiment.append('negative')\n",
    "        polarity.append(-1)\n",
    "        "
   ]
  },
  {
   "cell_type": "code",
   "execution_count": 43,
   "id": "adf49a19-a905-4ed2-94db-ecf5aa20b1f9",
   "metadata": {},
   "outputs": [],
   "source": [
    "senti_df['sentiment'] = sentiment\n",
    "senti_df['polarity'] = polarity"
   ]
  },
  {
   "cell_type": "code",
   "execution_count": 53,
   "id": "62c8d791-aaff-48cc-ae0f-83b86f369e32",
   "metadata": {
    "collapsed": true,
    "jupyter": {
     "outputs_hidden": true
    },
    "tags": []
   },
   "outputs": [
    {
     "data": {
      "text/html": [
       "<div>\n",
       "<style scoped>\n",
       "    .dataframe tbody tr th:only-of-type {\n",
       "        vertical-align: middle;\n",
       "    }\n",
       "\n",
       "    .dataframe tbody tr th {\n",
       "        vertical-align: top;\n",
       "    }\n",
       "\n",
       "    .dataframe thead th {\n",
       "        text-align: right;\n",
       "    }\n",
       "</style>\n",
       "<table border=\"1\" class=\"dataframe\">\n",
       "  <thead>\n",
       "    <tr style=\"text-align: right;\">\n",
       "      <th></th>\n",
       "      <th>channel</th>\n",
       "      <th>video_id</th>\n",
       "      <th>title</th>\n",
       "      <th>description</th>\n",
       "      <th>categoryId</th>\n",
       "      <th>publishedAt</th>\n",
       "      <th>duration</th>\n",
       "      <th>tags</th>\n",
       "      <th>likes</th>\n",
       "      <th>views</th>\n",
       "      <th>number_of_comments</th>\n",
       "      <th>comments</th>\n",
       "      <th>video_title</th>\n",
       "      <th>processed_comments</th>\n",
       "      <th>polarity_score</th>\n",
       "      <th>sentiment</th>\n",
       "      <th>polarity</th>\n",
       "      <th>date_of_upload</th>\n",
       "    </tr>\n",
       "  </thead>\n",
       "  <tbody>\n",
       "    <tr>\n",
       "      <th>0</th>\n",
       "      <td>MoreSidemen</td>\n",
       "      <td>g6Y6qXGH5iI</td>\n",
       "      <td>SIDEMEN ONE WORD INTERVIEW</td>\n",
       "      <td>🍗: Order food NOW at: https://www.eatsides.com...</td>\n",
       "      <td>22</td>\n",
       "      <td>2023-01-30T18:30:47Z</td>\n",
       "      <td>PT16M12S</td>\n",
       "      <td>['sidemen', 'moresidemen', 'miniminter', 'ksi'...</td>\n",
       "      <td>144945.0</td>\n",
       "      <td>2408384.0</td>\n",
       "      <td>2291</td>\n",
       "      <td>['ski', '15:59 that there is a violation', 'We...</td>\n",
       "      <td>sidemen one word interview</td>\n",
       "      <td>[ski, 15 59 that there is a violation, we gott...</td>\n",
       "      <td>0.082100</td>\n",
       "      <td>positive</td>\n",
       "      <td>1</td>\n",
       "      <td>2023-01-30 18:30:47+00:00</td>\n",
       "    </tr>\n",
       "    <tr>\n",
       "      <th>1</th>\n",
       "      <td>Sidemen</td>\n",
       "      <td>zjTJ_1pv_N0</td>\n",
       "      <td>SIDEMEN ONE WORD INTERVIEW</td>\n",
       "      <td>The Sidemen are being interviewed today but ca...</td>\n",
       "      <td>24</td>\n",
       "      <td>2019-01-20T18:06:23Z</td>\n",
       "      <td>PT17M13S</td>\n",
       "      <td>['sidemen', 'one', 'word', 'interview', 'lol']</td>\n",
       "      <td>423575.0</td>\n",
       "      <td>22155480.0</td>\n",
       "      <td>10668</td>\n",
       "      <td>[\"JJ's ForeHead Seems to be bigger than usual!...</td>\n",
       "      <td>sidemen one word interview</td>\n",
       "      <td>[s forehead seems to be bigger than usual, , w...</td>\n",
       "      <td>0.082100</td>\n",
       "      <td>positive</td>\n",
       "      <td>1</td>\n",
       "      <td>2023-01-27 18:35:30+00:00</td>\n",
       "    </tr>\n",
       "    <tr>\n",
       "      <th>2</th>\n",
       "      <td>MoreSidemen</td>\n",
       "      <td>eQ8htMVTC8g</td>\n",
       "      <td>SIDEMEN AMONG US CHAOS MODE</td>\n",
       "      <td>FINALLY the Sidemen have created their own rol...</td>\n",
       "      <td>22</td>\n",
       "      <td>2023-01-27T18:35:30Z</td>\n",
       "      <td>PT50M48S</td>\n",
       "      <td>['sidemen', 'moresidemen', 'miniminter', 'ksi'...</td>\n",
       "      <td>208354.0</td>\n",
       "      <td>4739125.0</td>\n",
       "      <td>5777</td>\n",
       "      <td>['What is that music between 29 and 30 minutes...</td>\n",
       "      <td>sidemen among us chaos mode</td>\n",
       "      <td>[what is that music between 29 and 30 minutes,...</td>\n",
       "      <td>-0.287980</td>\n",
       "      <td>negative</td>\n",
       "      <td>-1</td>\n",
       "      <td>2023-01-23 18:30:26+00:00</td>\n",
       "    </tr>\n",
       "    <tr>\n",
       "      <th>3</th>\n",
       "      <td>MoreSidemen</td>\n",
       "      <td>_YRHU0acMkU</td>\n",
       "      <td>SIDEMEN ASSOCIATION CHALLENGE</td>\n",
       "      <td>🍗: Order food NOW at: https://www.eatsides.com...</td>\n",
       "      <td>22</td>\n",
       "      <td>2023-01-23T18:30:26Z</td>\n",
       "      <td>PT20M19S</td>\n",
       "      <td>['sidemen', 'moresidemen', 'miniminter', 'ksi'...</td>\n",
       "      <td>122217.0</td>\n",
       "      <td>2536436.0</td>\n",
       "      <td>2734</td>\n",
       "      <td>['bath finally getting recognition', 'This is ...</td>\n",
       "      <td>sidemen association challenge</td>\n",
       "      <td>[bath finally getting recognition, this is act...</td>\n",
       "      <td>-0.062000</td>\n",
       "      <td>negative</td>\n",
       "      <td>-1</td>\n",
       "      <td>2023-01-20 19:30:04+00:00</td>\n",
       "    </tr>\n",
       "    <tr>\n",
       "      <th>4</th>\n",
       "      <td>MoreSidemen</td>\n",
       "      <td>sOPOoQsgoIo</td>\n",
       "      <td>SIDEMEN NOOB VS PRO ROCKET LEAGUE</td>\n",
       "      <td>🍗: Order food NOW at: https://www.eatsides.com...</td>\n",
       "      <td>22</td>\n",
       "      <td>2023-01-20T19:30:04Z</td>\n",
       "      <td>PT22M42S</td>\n",
       "      <td>['sidemen', 'moresidemen', 'miniminter', 'ksi'...</td>\n",
       "      <td>89700.0</td>\n",
       "      <td>1871016.0</td>\n",
       "      <td>2403</td>\n",
       "      <td>['can i play with you guys for a video pls', '...</td>\n",
       "      <td>sidemen noob vs pro rocket league</td>\n",
       "      <td>[can i play with you guys for a video pls, vik...</td>\n",
       "      <td>0.112767</td>\n",
       "      <td>positive</td>\n",
       "      <td>1</td>\n",
       "      <td>2023-01-16 18:00:15+00:00</td>\n",
       "    </tr>\n",
       "    <tr>\n",
       "      <th>...</th>\n",
       "      <td>...</td>\n",
       "      <td>...</td>\n",
       "      <td>...</td>\n",
       "      <td>...</td>\n",
       "      <td>...</td>\n",
       "      <td>...</td>\n",
       "      <td>...</td>\n",
       "      <td>...</td>\n",
       "      <td>...</td>\n",
       "      <td>...</td>\n",
       "      <td>...</td>\n",
       "      <td>...</td>\n",
       "      <td>...</td>\n",
       "      <td>...</td>\n",
       "      <td>...</td>\n",
       "      <td>...</td>\n",
       "      <td>...</td>\n",
       "      <td>...</td>\n",
       "    </tr>\n",
       "    <tr>\n",
       "      <th>1079</th>\n",
       "      <td>Sidemen</td>\n",
       "      <td>cTBX47Zwc80</td>\n",
       "      <td>FIRST EVER SIDEMEN PODCAST</td>\n",
       "      <td>Sidemen Book Tour: http://www.sidemenbooktour....</td>\n",
       "      <td>24</td>\n",
       "      <td>2016-09-18T14:03:25Z</td>\n",
       "      <td>PT1H1M51S</td>\n",
       "      <td>['sidemen', 'sidemen podcast']</td>\n",
       "      <td>133642.0</td>\n",
       "      <td>4087523.0</td>\n",
       "      <td>12340</td>\n",
       "      <td>['i hope i can make the meet ups!', '5', 'Simo...</td>\n",
       "      <td>first ever sidemen podcast</td>\n",
       "      <td>[i hope i can make the meet ups, 5, simon stil...</td>\n",
       "      <td>-0.013000</td>\n",
       "      <td>negative</td>\n",
       "      <td>-1</td>\n",
       "      <td>2016-09-18 14:03:25+00:00</td>\n",
       "    </tr>\n",
       "    <tr>\n",
       "      <th>1080</th>\n",
       "      <td>Sidemen</td>\n",
       "      <td>qvPEt52H2ZY</td>\n",
       "      <td>SIDEMEN MANCHESTER MEET UP</td>\n",
       "      <td>Sidemen Book: http://www.sidemenbook.co.uk\\nSi...</td>\n",
       "      <td>24</td>\n",
       "      <td>2016-08-15T16:04:13Z</td>\n",
       "      <td>PT3M3S</td>\n",
       "      <td>['sidemen', 'sidemen event', 'sidemen manchest...</td>\n",
       "      <td>64753.0</td>\n",
       "      <td>1272477.0</td>\n",
       "      <td>4075</td>\n",
       "      <td>['least watched sidemen video', 'Last', 'LAST'...</td>\n",
       "      <td>sidemen manchester meet up</td>\n",
       "      <td>[least watched sidemen video, last, last, this...</td>\n",
       "      <td>0.116078</td>\n",
       "      <td>positive</td>\n",
       "      <td>1</td>\n",
       "      <td>2016-08-15 16:04:13+00:00</td>\n",
       "    </tr>\n",
       "    <tr>\n",
       "      <th>1081</th>\n",
       "      <td>Sidemen</td>\n",
       "      <td>J_NniTO22_A</td>\n",
       "      <td>SIDEMEN FC VS YOUTUBE ALLSTARS CHARITY FOOTBAL...</td>\n",
       "      <td>DONATE HERE: https://www.justgiving.com/Sideme...</td>\n",
       "      <td>24</td>\n",
       "      <td>2016-06-03T21:45:41Z</td>\n",
       "      <td>PT2H38M45S</td>\n",
       "      <td>['sidemen', 'sidemen charity match', 'sidemen ...</td>\n",
       "      <td>451470.0</td>\n",
       "      <td>27181272.0</td>\n",
       "      <td>36475</td>\n",
       "      <td>[\"12:40 lmao I'm not the only one that thought...</td>\n",
       "      <td>sidemen fc vs youtube allstars charity footbal...</td>\n",
       "      <td>[m not the only one that thought it 56 30 it, ...</td>\n",
       "      <td>0.230788</td>\n",
       "      <td>positive</td>\n",
       "      <td>1</td>\n",
       "      <td>2016-06-03 21:45:41+00:00</td>\n",
       "    </tr>\n",
       "    <tr>\n",
       "      <th>1082</th>\n",
       "      <td>Sidemen</td>\n",
       "      <td>5j_fRfbscaE</td>\n",
       "      <td>SIDEMEN FACE PAINTING CHALLENGE</td>\n",
       "      <td>PREORDER SIDEMEN BOOK NOW: http://www.sidemenb...</td>\n",
       "      <td>24</td>\n",
       "      <td>2016-05-28T19:00:00Z</td>\n",
       "      <td>PT5M21S</td>\n",
       "      <td>['sidemen']</td>\n",
       "      <td>139969.0</td>\n",
       "      <td>4245986.0</td>\n",
       "      <td>16399</td>\n",
       "      <td>['In 2023 Simon and Tobi are the only ones tha...</td>\n",
       "      <td>sidemen face painting challenge</td>\n",
       "      <td>[in 2023 simon and tobi are the only ones that...</td>\n",
       "      <td>0.000000</td>\n",
       "      <td>neutral</td>\n",
       "      <td>0</td>\n",
       "      <td>2016-05-28 19:00:00+00:00</td>\n",
       "    </tr>\n",
       "    <tr>\n",
       "      <th>1083</th>\n",
       "      <td>Sidemen</td>\n",
       "      <td>QXyJgxWH6h4</td>\n",
       "      <td>WELCOME TO THE SIDEMEN CHANNEL!</td>\n",
       "      <td>Make sure you subscribe to this channel!\\nCome...</td>\n",
       "      <td>22</td>\n",
       "      <td>2016-05-15T15:15:36Z</td>\n",
       "      <td>PT1M</td>\n",
       "      <td>['NO_VALUE']</td>\n",
       "      <td>205131.0</td>\n",
       "      <td>4419509.0</td>\n",
       "      <td>34120</td>\n",
       "      <td>['Ethan 😂', 'Everyone is pretty much the same ...</td>\n",
       "      <td>welcome to the sidemen channel</td>\n",
       "      <td>[ethan, everyone is pretty much the same excep...</td>\n",
       "      <td>0.117967</td>\n",
       "      <td>positive</td>\n",
       "      <td>1</td>\n",
       "      <td>2016-05-15 15:15:36+00:00</td>\n",
       "    </tr>\n",
       "  </tbody>\n",
       "</table>\n",
       "<p>1084 rows × 18 columns</p>\n",
       "</div>"
      ],
      "text/plain": [
       "          channel     video_id  \\\n",
       "0     MoreSidemen  g6Y6qXGH5iI   \n",
       "1         Sidemen  zjTJ_1pv_N0   \n",
       "2     MoreSidemen  eQ8htMVTC8g   \n",
       "3     MoreSidemen  _YRHU0acMkU   \n",
       "4     MoreSidemen  sOPOoQsgoIo   \n",
       "...           ...          ...   \n",
       "1079      Sidemen  cTBX47Zwc80   \n",
       "1080      Sidemen  qvPEt52H2ZY   \n",
       "1081      Sidemen  J_NniTO22_A   \n",
       "1082      Sidemen  5j_fRfbscaE   \n",
       "1083      Sidemen  QXyJgxWH6h4   \n",
       "\n",
       "                                                  title  \\\n",
       "0                            SIDEMEN ONE WORD INTERVIEW   \n",
       "1                            SIDEMEN ONE WORD INTERVIEW   \n",
       "2                           SIDEMEN AMONG US CHAOS MODE   \n",
       "3                         SIDEMEN ASSOCIATION CHALLENGE   \n",
       "4                     SIDEMEN NOOB VS PRO ROCKET LEAGUE   \n",
       "...                                                 ...   \n",
       "1079                         FIRST EVER SIDEMEN PODCAST   \n",
       "1080                         SIDEMEN MANCHESTER MEET UP   \n",
       "1081  SIDEMEN FC VS YOUTUBE ALLSTARS CHARITY FOOTBAL...   \n",
       "1082                    SIDEMEN FACE PAINTING CHALLENGE   \n",
       "1083                    WELCOME TO THE SIDEMEN CHANNEL!   \n",
       "\n",
       "                                            description  categoryId  \\\n",
       "0     🍗: Order food NOW at: https://www.eatsides.com...          22   \n",
       "1     The Sidemen are being interviewed today but ca...          24   \n",
       "2     FINALLY the Sidemen have created their own rol...          22   \n",
       "3     🍗: Order food NOW at: https://www.eatsides.com...          22   \n",
       "4     🍗: Order food NOW at: https://www.eatsides.com...          22   \n",
       "...                                                 ...         ...   \n",
       "1079  Sidemen Book Tour: http://www.sidemenbooktour....          24   \n",
       "1080  Sidemen Book: http://www.sidemenbook.co.uk\\nSi...          24   \n",
       "1081  DONATE HERE: https://www.justgiving.com/Sideme...          24   \n",
       "1082  PREORDER SIDEMEN BOOK NOW: http://www.sidemenb...          24   \n",
       "1083  Make sure you subscribe to this channel!\\nCome...          22   \n",
       "\n",
       "               publishedAt    duration  \\\n",
       "0     2023-01-30T18:30:47Z    PT16M12S   \n",
       "1     2019-01-20T18:06:23Z    PT17M13S   \n",
       "2     2023-01-27T18:35:30Z    PT50M48S   \n",
       "3     2023-01-23T18:30:26Z    PT20M19S   \n",
       "4     2023-01-20T19:30:04Z    PT22M42S   \n",
       "...                    ...         ...   \n",
       "1079  2016-09-18T14:03:25Z   PT1H1M51S   \n",
       "1080  2016-08-15T16:04:13Z      PT3M3S   \n",
       "1081  2016-06-03T21:45:41Z  PT2H38M45S   \n",
       "1082  2016-05-28T19:00:00Z     PT5M21S   \n",
       "1083  2016-05-15T15:15:36Z        PT1M   \n",
       "\n",
       "                                                   tags     likes       views  \\\n",
       "0     ['sidemen', 'moresidemen', 'miniminter', 'ksi'...  144945.0   2408384.0   \n",
       "1        ['sidemen', 'one', 'word', 'interview', 'lol']  423575.0  22155480.0   \n",
       "2     ['sidemen', 'moresidemen', 'miniminter', 'ksi'...  208354.0   4739125.0   \n",
       "3     ['sidemen', 'moresidemen', 'miniminter', 'ksi'...  122217.0   2536436.0   \n",
       "4     ['sidemen', 'moresidemen', 'miniminter', 'ksi'...   89700.0   1871016.0   \n",
       "...                                                 ...       ...         ...   \n",
       "1079                     ['sidemen', 'sidemen podcast']  133642.0   4087523.0   \n",
       "1080  ['sidemen', 'sidemen event', 'sidemen manchest...   64753.0   1272477.0   \n",
       "1081  ['sidemen', 'sidemen charity match', 'sidemen ...  451470.0  27181272.0   \n",
       "1082                                        ['sidemen']  139969.0   4245986.0   \n",
       "1083                                       ['NO_VALUE']  205131.0   4419509.0   \n",
       "\n",
       "      number_of_comments                                           comments  \\\n",
       "0                   2291  ['ski', '15:59 that there is a violation', 'We...   \n",
       "1                  10668  [\"JJ's ForeHead Seems to be bigger than usual!...   \n",
       "2                   5777  ['What is that music between 29 and 30 minutes...   \n",
       "3                   2734  ['bath finally getting recognition', 'This is ...   \n",
       "4                   2403  ['can i play with you guys for a video pls', '...   \n",
       "...                  ...                                                ...   \n",
       "1079               12340  ['i hope i can make the meet ups!', '5', 'Simo...   \n",
       "1080                4075  ['least watched sidemen video', 'Last', 'LAST'...   \n",
       "1081               36475  [\"12:40 lmao I'm not the only one that thought...   \n",
       "1082               16399  ['In 2023 Simon and Tobi are the only ones tha...   \n",
       "1083               34120  ['Ethan 😂', 'Everyone is pretty much the same ...   \n",
       "\n",
       "                                            video_title  \\\n",
       "0                            sidemen one word interview   \n",
       "1                            sidemen one word interview   \n",
       "2                           sidemen among us chaos mode   \n",
       "3                         sidemen association challenge   \n",
       "4                     sidemen noob vs pro rocket league   \n",
       "...                                                 ...   \n",
       "1079                         first ever sidemen podcast   \n",
       "1080                         sidemen manchester meet up   \n",
       "1081  sidemen fc vs youtube allstars charity footbal...   \n",
       "1082                    sidemen face painting challenge   \n",
       "1083                     welcome to the sidemen channel   \n",
       "\n",
       "                                     processed_comments  polarity_score  \\\n",
       "0     [ski, 15 59 that there is a violation, we gott...        0.082100   \n",
       "1     [s forehead seems to be bigger than usual, , w...        0.082100   \n",
       "2     [what is that music between 29 and 30 minutes,...       -0.287980   \n",
       "3     [bath finally getting recognition, this is act...       -0.062000   \n",
       "4     [can i play with you guys for a video pls, vik...        0.112767   \n",
       "...                                                 ...             ...   \n",
       "1079  [i hope i can make the meet ups, 5, simon stil...       -0.013000   \n",
       "1080  [least watched sidemen video, last, last, this...        0.116078   \n",
       "1081  [m not the only one that thought it 56 30 it, ...        0.230788   \n",
       "1082  [in 2023 simon and tobi are the only ones that...        0.000000   \n",
       "1083  [ethan, everyone is pretty much the same excep...        0.117967   \n",
       "\n",
       "     sentiment  polarity            date_of_upload  \n",
       "0     positive         1 2023-01-30 18:30:47+00:00  \n",
       "1     positive         1 2023-01-27 18:35:30+00:00  \n",
       "2     negative        -1 2023-01-23 18:30:26+00:00  \n",
       "3     negative        -1 2023-01-20 19:30:04+00:00  \n",
       "4     positive         1 2023-01-16 18:00:15+00:00  \n",
       "...        ...       ...                       ...  \n",
       "1079  negative        -1 2016-09-18 14:03:25+00:00  \n",
       "1080  positive         1 2016-08-15 16:04:13+00:00  \n",
       "1081  positive         1 2016-06-03 21:45:41+00:00  \n",
       "1082   neutral         0 2016-05-28 19:00:00+00:00  \n",
       "1083  positive         1 2016-05-15 15:15:36+00:00  \n",
       "\n",
       "[1084 rows x 18 columns]"
      ]
     },
     "execution_count": 53,
     "metadata": {},
     "output_type": "execute_result"
    }
   ],
   "source": [
    "senti_df"
   ]
  },
  {
   "cell_type": "code",
   "execution_count": 75,
   "id": "00bdb229-a799-478b-bb1d-1ce61161e226",
   "metadata": {},
   "outputs": [],
   "source": [
    "senti_df['date_of_upload'] = pd.to_datetime(senti_df['publishedAt'])\n",
    "senti_df.to_csv('polarity_data.csv',index=False)"
   ]
  },
  {
   "cell_type": "markdown",
   "id": "0661361c-ba82-49ad-9547-322db3e19ed6",
   "metadata": {},
   "source": [
    "### Visualization of polarity over time"
   ]
  },
  {
   "cell_type": "code",
   "execution_count": 55,
   "id": "333bdb99-07bc-4ace-a98c-a914c46dff44",
   "metadata": {},
   "outputs": [],
   "source": [
    "import plotly.graph_objects as go\n",
    "import plotly.express as px"
   ]
  },
  {
   "cell_type": "code",
   "execution_count": 61,
   "id": "20d21379-203d-4f41-bcc3-b2de4c4eee4e",
   "metadata": {
    "tags": []
   },
   "outputs": [
    {
     "data": {
      "application/vnd.plotly.v1+json": {
       "config": {
        "plotlyServerURL": "https://plot.ly"
       },
       "data": [
        {
         "customdata": [
          [
           "sidemen one word interview"
          ],
          [
           "sidemen one word interview"
          ],
          [
           "sidemen among us chaos mode"
          ],
          [
           "sidemen association challenge"
          ],
          [
           "sidemen noob vs pro rocket league"
          ],
          [
           "sidemen among us sheriff role the dumbest lobby ever"
          ],
          [
           "do all the sidemen think the same"
          ],
          [
           "do all the sidemen think the same"
          ],
          [
           "do all the sidemen think the same"
          ],
          [
           "do all the sidemen think the same"
          ],
          [
           "do all the sidemen think the same"
          ],
          [
           "sidemen are you smarter than a year old"
          ],
          [
           "sidemen are you smarter than a year old"
          ],
          [
           "this is the greatest sidemen video ever"
          ],
          [
           "sidemen among us jester role"
          ],
          [
           "sidemen extreme cop chase challenge on gta"
          ],
          [
           "sidemen christmas mukbang"
          ],
          [
           "sidemen christmas mukbang"
          ],
          [
           "sidemen christmas mukbang"
          ],
          [
           "sidemen secret santa"
          ],
          [
           "sidemen secret santa"
          ],
          [
           "sidemen secret santa"
          ],
          [
           "sidemen secret santa"
          ],
          [
           "sidemen reverse hide seek on ksi s mega yacht"
          ],
          [
           "sidemen gta meme olympics"
          ],
          [
           "sidemen gta meme olympics"
          ],
          [
           "buy christmas drillings today"
          ],
          [
           "sidemen christmas drillings edm remix official music video"
          ],
          [
           "sidemen box of lies"
          ],
          [
           "sidemen box of lies"
          ],
          [
           "harry potter s doppelg nger"
          ],
          [
           "sidemen christmas drillings house remix official lyric video"
          ],
          [
           "sidemen vs lucky blocks in minecraft"
          ],
          [
           "sidemen grenade game on gta"
          ],
          [
           "sidemen cards against humanity"
          ],
          [
           "sidemen memory test"
          ],
          [
           "sidemen get cancelled challenge"
          ],
          [
           "sidemen tinder among us edition"
          ],
          [
           "can ksi guess the real prime"
          ],
          [
           "the sidemen christmas quiz"
          ],
          [
           "sidemen blind eating challenge"
          ],
          [
           "the moment that cancelled vikkstar"
          ],
          [
           "sidemen complete the longest race on gta"
          ],
          [
           "sidemen draw the logo challenge"
          ],
          [
           "how ksi lost the wildest sidemen forfeit ever"
          ],
          [
           "sidemen real or fake challenge"
          ],
          [
           "the most offensive sidemen forfeit ever"
          ],
          [
           "sidemen offensive second challenge"
          ],
          [
           "ksi quits sidemen among us forever"
          ],
          [
           "somebody call the authorities"
          ],
          [
           "sidemen christmas drillings ft jme official music video"
          ],
          [
           "sidemen this or that official music video"
          ],
          [
           "sidemen bully harry on gta"
          ],
          [
           "sidemen go to the world cup"
          ],
          [
           "sidemen extreme fear pong"
          ],
          [
           "sidemen sabotage ksi on forfeit mario kart"
          ],
          [
           "ksi shocks the sidemen"
          ],
          [
           "mr beast hijacks a sidemen video"
          ],
          [
           "sidemen offensive try not to laugh"
          ],
          [
           "sidemen vs mr beast youtuber hunger games"
          ],
          [
           "sidemen superhero world cup"
          ],
          [
           "sidemen hilarious proximity chat on warzone"
          ],
          [
           "the most offensive sidemen among us ever"
          ],
          [
           "sidemen guess the fake logo challenge"
          ],
          [
           "sidemen among us chaotic proximity chat returns"
          ],
          [
           "sidemen vs will smith"
          ],
          [
           "sidemen human bowling challenge"
          ],
          [
           "the worst minutes of w s s life"
          ],
          [
           "sidemen guess the emoji youtuber edition"
          ],
          [
           "sidemen speed eating challenge"
          ],
          [
           "sidemen halloween special on gta"
          ],
          [
           "sidemen pro clubs is back"
          ],
          [
           "sidemen pro clubs is back"
          ],
          [
           "sidemen run for their life on gta"
          ],
          [
           "sidemen among us but the lobby has zero iq"
          ],
          [
           "sidemen is it real or chocolate"
          ],
          [
           "sidemen among us but harry cheats to win"
          ],
          [
           "sidemen controversial tweets"
          ],
          [
           "the sidemen sock off"
          ],
          [
           "sidemen lose their minds playing mario"
          ],
          [
           "the most kills sidemen among us has ever seen"
          ],
          [
           "sidemen charity match who scored the best goal"
          ],
          [
           "sidemen play the gta leaks"
          ],
          [
           "sidemen rank the charity match players"
          ],
          [
           "this is sidemen sunday"
          ],
          [
           "sidemen finish the lyric"
          ],
          [
           "sidemen finish the lyric"
          ],
          [
           "sidemen finish the lyric"
          ],
          [
           "sidemen finish the lyric"
          ],
          [
           "ksi hunts the sidemen"
          ],
          [
           "the sidemen will be cancelled for this video"
          ],
          [
           "returning to the sidemen house"
          ],
          [
           "sidemen forfeit golf shot it or slap it"
          ],
          [
           "harry begs to quit on sidemen gta"
          ],
          [
           "sidemen shock the world on gta"
          ],
          [
           "sidemen youtuber guess who"
          ],
          [
           "sidemen reveal why jake paul will beat ksi"
          ],
          [
           "sidemen pringles mukbang"
          ],
          [
           "sidemen play world s scariest game"
          ],
          [
           "sidemen guess the emoji challenge"
          ],
          [
           "dumbest sidemen among us ever"
          ],
          [
           "sidemen take an iq test"
          ],
          [
           "sidemen play among us but the imposter gets hacked"
          ],
          [
           "sidemen gta but loser gets slapped"
          ],
          [
           "sidemen rage at the world s most impossible game"
          ],
          [
           "sidemen gta craziest forfeit we ve ever done"
          ],
          [
           "sidemen become superheroes"
          ],
          [
           "can ksi win his first crown in fall guys"
          ],
          [
           "who is the dumbest sidemen member"
          ],
          [
           "ksi jake paul are secretly friends"
          ],
          [
           "sidemen extreme darts competition"
          ],
          [
           "ksi masterclass vs geoguesser pro"
          ],
          [
           "the last ever sidemen pro clubs episode"
          ],
          [
           "sidemen vs bots on fall guys"
          ],
          [
           "sidemen help w s get his first fortnite win"
          ],
          [
           "sidemen giant jenga painful"
          ],
          [
           "sidemen forfeit golf"
          ],
          [
           "sidemen rage at impossible fall guys map"
          ],
          [
           "sidemen elimination tron race on gta"
          ],
          [
           "sidemen play brand new fall guys"
          ],
          [
           "sidemen mario kart rainbow road rage"
          ],
          [
           "sidemen rage at world s most frustrating game"
          ],
          [
           "sidemen mario kart race"
          ],
          [
           "sidemen hacked on gta cops vs robbers"
          ],
          [
           "sidemen among us but the imposters try to vote each other out"
          ],
          [
           "sidemen rocket league but its golf"
          ],
          [
           "sidemen olympics"
          ],
          [
           "sidemen olympics"
          ],
          [
           "sidemen among us the best shapeshifter yet"
          ],
          [
           "sidemen minigolf but it s a race"
          ],
          [
           "sidemen among us the worst imposters of all time"
          ],
          [
           "who is the smartest sidemen member"
          ],
          [
           "sidemen assumptions are ksi anne marie dating"
          ],
          [
           "ksi races the sidemen for on gta"
          ],
          [
           "sidemen second categories challenge"
          ],
          [
           "sidemen pro clubs meme olympics"
          ],
          [
           "sidemen blind rpg battle on gta"
          ],
          [
           "sidemen guess eachothers passwords"
          ],
          [
           "the sidemen find out who is richer"
          ],
          [
           "sidemen pokemon smash or pass"
          ],
          [
           "sidemen whisper challenge"
          ],
          [
           "sidemen whisper challenge"
          ],
          [
           "sidemen guess the game challenge"
          ],
          [
           "sidemen google feud"
          ],
          [
           "sidemen shapeshifter among us gone right"
          ],
          [
           "sidemen flag game"
          ],
          [
           "sidemen among us but everyone is third imposter"
          ],
          [
           "sidemen quiplash but we forgot how to be funny"
          ],
          [
           "sidemen among us biggest fail"
          ],
          [
           "sidemen rap battle but we diss ourselves"
          ],
          [
           "the rematch sidemen geoguessr duel"
          ],
          [
           "sidemen slap game"
          ],
          [
           "sidemen water game"
          ],
          [
           "sidemen geoguessr bullseye mode"
          ],
          [
           "sidemen trippy olympics"
          ],
          [
           "sidemen fall guys is back"
          ],
          [
           "sidemen geoguessr duel"
          ],
          [
           "brand new sidemen trivial pursuit"
          ],
          [
           "the strangest car ever on sidemen gta"
          ],
          [
           "brand new sidemen shellshock"
          ],
          [
           "sidemen superbowl on gta"
          ],
          [
           "sidemen parkour challenge"
          ],
          [
           "the greatest ever sidemen mukbang"
          ],
          [
           "sidemen lose their minds on gta"
          ],
          [
           "the ultimate sidemen gameshow"
          ],
          [
           "sidemen minigolf"
          ],
          [
           "the most outrageous game yet"
          ],
          [
           "sidemen battleships on gta"
          ],
          [
           "sidemen disstrack season"
          ],
          [
           "sidemen vs sidemen on gta"
          ],
          [
           "the worst swat team of all time ready or not"
          ],
          [
           "sidemen shapeshifter among us"
          ],
          [
           "sidemen play golf it but the map is impossible"
          ],
          [
           "brand new sidemen horror movie"
          ],
          [
           "sidemen cops vs robbers on gta"
          ],
          [
           "the sidemen have to split up"
          ],
          [
           "new roles in sidemen among us"
          ],
          [
           "sidemen extreme grand prix on gta"
          ],
          [
           "sidemen helmet game"
          ],
          [
           "ksi w s among us masterclass"
          ],
          [
           "sidemen among us greatest moments"
          ],
          [
           "sidemen reverse hide seek in marbella mansion"
          ],
          [
           "sidemen break pro clubs world record"
          ],
          [
           "sidemen are hacked on gta"
          ],
          [
           "sidemen darkest secrets revealed"
          ],
          [
           "sidemen giant ramp on gta"
          ],
          [
           "sidemen new years day golf"
          ],
          [
           "sidemen christmas rap battles"
          ],
          [
           "ksi quits on gta"
          ],
          [
           "the last ever sidemen among us"
          ],
          [
           "sidemen christmas quiz"
          ],
          [
           "sidemen gta christmas special"
          ],
          [
           "sidemen vs fortnite pro"
          ],
          [
           "sidemen crossing battle royale"
          ],
          [
           "sidemen among us but it s pure chaos"
          ],
          [
           "the sidemen rate social media apps"
          ],
          [
           "the sidemen finally win squid game"
          ],
          [
           "sidemen call out penalties"
          ],
          [
           "sidemen among us is back"
          ],
          [
           "sidemen password game"
          ],
          [
           "sidemen password game"
          ],
          [
           "sidemen squid game vs fans"
          ],
          [
           "sidemen categories"
          ],
          [
           "sidemen categories"
          ],
          [
           "sidemen football forfeits"
          ],
          [
           "sidemen left hand drawing challenge"
          ],
          [
           "sidemen manhunt in gta"
          ],
          [
           "sidemen google ourselves"
          ],
          [
           "sidemen pro clubs our fastest title ever"
          ],
          [
           "sidemen nando s mukbang"
          ],
          [
           "mikel arteta rates the sidemens football ability"
          ],
          [
           "sidemen squid game glass bridge challenge on gta"
          ],
          [
           "sidemen play scuffed squid game"
          ],
          [
           "extreme sidemen advent calendar forfeits"
          ],
          [
           "sidemen play golf in takeshi s castle"
          ],
          [
           "the sidemen play fifa pro clubs"
          ],
          [
           "sidemen higher or lower youtube subscribers"
          ],
          [
           "sidemen year anniversary on gta"
          ],
          [
           "sidemen play the scariest game ever"
          ],
          [
           "sidemen squid game on gta"
          ],
          [
           "sidemen olympics the new fastest sideman"
          ],
          [
           "trivial pursuit but ksi s knowledge is massive"
          ],
          [
           "sidemen play competitive tetris"
          ],
          [
           "the sidemen play scuffed fall guys"
          ],
          [
           "the sidemen did not finish in gta v"
          ],
          [
           "gib annoys the sidemen for minutes straight"
          ],
          [
           "sidemen penalty challenge vs kids"
          ],
          [
           "the sidemen falling over for minutes straight"
          ],
          [
           "do the sidemen think the same as onlyfans girls"
          ],
          [
           "stroking out with your friends sidemen gaming"
          ],
          [
           "gartic phone but ksi is years old"
          ],
          [
           "the most epic battles in gta history"
          ],
          [
           "the sidemen become thieves"
          ],
          [
           "the nigerian takeover sidemen olympics"
          ],
          [
           "the sidemen being awkward around girls for more minutes straight"
          ],
          [
           "the wildest sidemen assumptions"
          ],
          [
           "most savage tinder lines of all time"
          ],
          [
           "last to stop playing uno wins"
          ],
          [
           "sidemen olympics going for gold"
          ],
          [
           "sidemen describe celebrities in one word"
          ],
          [
           "sidemen word association"
          ],
          [
           "women rate the strongest sidemen"
          ],
          [
           "women rate the smelliest sidemen"
          ],
          [
           "uncut women guess the laziest sidemen"
          ],
          [
           "sidemen guess the song rematch"
          ],
          [
           "sidemen answer the internets strangest questions"
          ],
          [
           "sidemen tiktok game"
          ],
          [
           "the ultimate sidemen ping pong tournament"
          ],
          [
           "sidemen guess the song challenge"
          ],
          [
           "sidemen guess the song challenge"
          ],
          [
           "sidemen guess the song challenge"
          ],
          [
           "sidemen guess the song challenge"
          ],
          [
           "ksi s voice cracks for minutes straight"
          ],
          [
           "first to guess the sidemen password wins"
          ],
          [
           "how to avoid getting cancelled"
          ],
          [
           "biggest sidemen lies exposed"
          ],
          [
           "the sidemen rank the best tinder lines"
          ],
          [
           "what really happened at clash of creators"
          ],
          [
           "the harry curse"
          ],
          [
           "ksi vs w s in gta v"
          ],
          [
           "brand new sidemen hq"
          ],
          [
           "drake messages ksi during gta v"
          ],
          [
           "the sidemen roast ksi s new album"
          ],
          [
           "the race you ve all been waiting for"
          ],
          [
           "ksi has left moresidemen"
          ],
          [
           "hide seek on ksi s private jet"
          ],
          [
           "is harry quitting gaming videos"
          ],
          [
           "quirky quiplash but tobi hates simon"
          ],
          [
           "sidemen but we re set"
          ],
          [
           "ksi karen vs the sidemen"
          ],
          [
           "the smartest sidemen awards"
          ],
          [
           "the worst minutes of harry s life"
          ],
          [
           "trivial pursuit but harry is down bad sidemen gaming"
          ],
          [
           "sidemen drunk bingo the final round"
          ],
          [
           "gartic phone but it s youtube boxing sidemen gaming"
          ],
          [
           "sidemen drunk bingo"
          ],
          [
           "if you laugh you get cancelled"
          ],
          [
           "the sidemen lose their heads on gta"
          ],
          [
           "sidemen higher or lower sidemen sundays"
          ],
          [
           "reacting to our premier league predictions"
          ],
          [
           "sike"
          ],
          [
           "we are the best team in the world sidemen pro clubs"
          ],
          [
           "golf with your enemies sidemen gaming"
          ],
          [
           "sidemen higher or lower spotify streams"
          ],
          [
           "sidemen vs premier league champions"
          ],
          [
           "the worst sidemen drawings ever seen on youtube"
          ],
          [
           "sidemen overrated or underrated"
          ],
          [
           "the sidemen play gartic phone"
          ],
          [
           "sidemen pro clubs with a special guest"
          ],
          [
           "sidemen vs dream minecraft manhunt"
          ],
          [
           "mad verse city but ksi can t rap"
          ],
          [
           "sidemen football darts"
          ],
          [
           "the last ever sidemen gta"
          ],
          [
           "sidemen fc join the super league"
          ],
          [
           "sidemen golf but there s on the line"
          ],
          [
           "sidemen woodwork challenge"
          ],
          [
           "sidemen woodwork challenge"
          ],
          [
           "sidemen reach million subscribers on gta v"
          ],
          [
           "sidemen vs rocket league pro for"
          ],
          [
           "which of the sidemen passed out at a party"
          ],
          [
           "the best freekick video on youtube"
          ],
          [
           "ksi is not funny"
          ],
          [
           "sidemen on striker challenge"
          ],
          [
           "sidemen crossbar challenge"
          ],
          [
           "sidemen crossbar challenge"
          ],
          [
           "monster truck madness in gta"
          ],
          [
           "ksi proves he s the best at fifa"
          ],
          [
           "our gta lobby was hacked"
          ],
          [
           "sidemen higher or lower spotify monthly listeners"
          ],
          [
           "sidemen higher or lower spotify monthly listeners"
          ],
          [
           "sidemen higher or lower spotify monthly listeners"
          ],
          [
           "the most embarrassing sidemen clubs episode ever"
          ],
          [
           "best of sidemen sundays"
          ],
          [
           "best of sidemen sundays"
          ],
          [
           "best of sidemen sundays"
          ],
          [
           "best of sidemen sundays"
          ],
          [
           "best of sidemen sundays"
          ],
          [
           "best of sidemen sundays"
          ],
          [
           "best of sidemen sundays"
          ],
          [
           "best of sidemen sundays"
          ],
          [
           "best of sidemen sundays"
          ],
          [
           "best of sidemen sundays"
          ],
          [
           "best of sidemen sundays"
          ],
          [
           "best of sidemen sundays"
          ],
          [
           "best of sidemen sundays"
          ],
          [
           "best of sidemen sundays"
          ],
          [
           "best of sidemen sundays"
          ],
          [
           "best of sidemen sundays"
          ],
          [
           "best of sidemen sundays"
          ],
          [
           "best of sidemen sundays"
          ],
          [
           "best of sidemen sundays"
          ],
          [
           "best of sidemen sundays"
          ],
          [
           "best of sidemen sundays"
          ],
          [
           "best of sidemen sundays"
          ],
          [
           "best of sidemen sundays"
          ],
          [
           "best of sidemen sundays"
          ],
          [
           "best of sidemen sundays"
          ],
          [
           "best of sidemen sundays"
          ],
          [
           "best of sidemen sundays"
          ],
          [
           "sidemen dodgeball knockout city"
          ],
          [
           "how well do the sidemen know w s"
          ],
          [
           "sidemen easter egg hunt"
          ],
          [
           "last sidemen to stop running wins"
          ],
          [
           "how well do the sidemen know ksi"
          ],
          [
           "how many rappers can you name sidemen categories"
          ],
          [
           "sidemen hide and seek in gta"
          ],
          [
           "how well do the sidemen know tbjzl"
          ],
          [
           "harry causes chaos sidemen pro clubs"
          ],
          [
           "sidemen codenames but it s customised"
          ],
          [
           "sidemen gta madness is back"
          ],
          [
           "how well do the sidemen know behzinga"
          ],
          [
           "the sidemen laugh at ksi for minutes straight"
          ],
          [
           "the most embarrassing sidemen tweets of all time"
          ],
          [
           "sidemen answer the internets weirdest questions"
          ],
          [
           "the fanbase war sidemen among us"
          ],
          [
           "another questionable quiplash sidemen gaming"
          ],
          [
           "tommyinnit ruins our game sidemen fifa pro clubs"
          ],
          [
           "ksi vs tommyinnit fight on among us"
          ],
          [
           "quit the sidemen or quit drinking"
          ],
          [
           "cheating against the fans sidemen geoguessr"
          ],
          [
           "the sidemen play codenames"
          ],
          [
           "road to rage quit sidemen fifa pro clubs"
          ],
          [
           "sidemen family feud sidemen gaming"
          ],
          [
           "the sidemen are in prison"
          ],
          [
           "ksi vs jake paul is finally happening"
          ],
          [
           "are we allowed to draw this sidemen gaming"
          ],
          [
           "the worst crewmates of all time sidemen among us proximity"
          ],
          [
           "the best clubs series on youtube is back sidemen fifa pro clubs"
          ],
          [
           "sidemen chaotic trolling in among us proximity"
          ],
          [
           "the rap battles are back with jme sidemen gaming"
          ],
          [
           "ksi masterclass in proximity mod sidemen among us"
          ],
          [
           "sidemen second challenge"
          ],
          [
           "sidemen second challenge"
          ],
          [
           "sidemen geoguessr battle royale"
          ],
          [
           "what was the best sidemen sunday video of"
          ],
          [
           "sidemen higher or lower instagram followers"
          ],
          [
           "heatseeker is pure chaos sidemen gaming"
          ],
          [
           "sidemen describe youtubers in one word"
          ],
          [
           "sidemen would you rather"
          ],
          [
           "sidemen would you rather"
          ],
          [
           "sidemen clickbait quiz"
          ],
          [
           "sidemen clickbait quiz"
          ],
          [
           "sidemen clickbait quiz"
          ],
          [
           "i can t believe we ve done this sidemen gaming"
          ],
          [
           "what happened after the sidemen christmas mukbang"
          ],
          [
           "sidemen goalkeeper challenge"
          ],
          [
           "mistakes were made sidemen fifa pro clubs"
          ],
          [
           "rocket league season is here sidemen gaming"
          ],
          [
           "which sideman is the best role model sidemen gaming"
          ],
          [
           "sidemen elimination penalties"
          ],
          [
           "ksi carries the sidemen in rocket league sidemen gaming"
          ],
          [
           "sidemen find out their football stats"
          ],
          [
           "what are these words sidemen gaming"
          ],
          [
           "sidemen vs faze clan among us but ksi has iq"
          ],
          [
           "sidemen open million subscriber diamond plaques"
          ],
          [
           "sidemen giant ball penalty challenge"
          ],
          [
           "sidemen among us vs faze clan"
          ],
          [
           "sidemen among us in real life unseen"
          ],
          [
           "sidemen among us in real life unseen"
          ],
          [
           "among us in golf it sidemen gaming"
          ],
          [
           "brand new quiplash sidemen gaming"
          ],
          [
           "sidemen ball launcher challenge"
          ],
          [
           "who is the best sidemen striker"
          ],
          [
           "working on our team chemistry sidemen fifa pro clubs"
          ],
          [
           "going for the title sidemen fifa pro clubs"
          ],
          [
           "sidemen among us vs mr beast"
          ],
          [
           "sidemen among us vs mr beast"
          ],
          [
           "sidemen insult each other challenge"
          ],
          [
           "vik is a god at any sidemen fifa pro clubs"
          ],
          [
           "sidemen play among us but there s a rd impostor sidemen gaming"
          ],
          [
           "sidemen play among us but that s enough for me sidemen gaming"
          ],
          [
           "sidemen play among us but it s the strangest play ever sidemen gaming"
          ],
          [
           "sidemen among us vs lazarbeam lachlan fresh"
          ],
          [
           "the sidemen pro clubs journey begins sidemen fifa pro clubs"
          ],
          [
           "sidemen play among us but tobi gets his revenge sidemen gaming"
          ],
          [
           "sidemen play among us but everyone rages at each other sidemen gaming"
          ],
          [
           "sidemen among us vs pewdiepie dream jacksepticeye"
          ],
          [
           "sidemen play among us but everyone acts sus sidemen gaming"
          ],
          [
           "the sidemen are back on rocket league sidemen gaming"
          ],
          [
           "sidemen play among us but everyone has iq sidemen gaming"
          ],
          [
           "the sidemen play among us sidemen gaming"
          ],
          [
           "logan paul threatens ksi on gta v sidemen gaming"
          ],
          [
           "is ksi actually the smartest sideman sidemen gaming"
          ],
          [
           "sidemen minecraft meme olympics sidemen gaming"
          ],
          [
           "the sidemen take a quiz but they are hungover"
          ],
          [
           "who s the smartest sideman sidemen gaming"
          ],
          [
           "ethan s first time on fall guys sidemen gaming"
          ],
          [
           "sidemen premier league predictions"
          ],
          [
           "sidemen vs professional poker player tournament"
          ],
          [
           "playing fall guys on golf sidemen gaming"
          ],
          [
           "bullying ksi on fall guys sidemen gaming"
          ],
          [
           "sidemen best pro clubs moments of fifa"
          ],
          [
           "sidemen rank every fall guys level"
          ],
          [
           "can we all get to the final in fall guys sidemen gaming"
          ],
          [
           "the end of clubs sidemen gaming"
          ],
          [
           "sidemen poker night with lux freezy"
          ],
          [
           "sidemen dominating on fall guys sidemen gaming"
          ],
          [
           "worst sidemen trims of all time"
          ],
          [
           "goals red cards and more goals sidemen gaming"
          ],
          [
           "going for the dub in fall guys sidemen gaming"
          ],
          [
           "the sidemen play higher or lower sidemen gaming"
          ],
          [
           "the sidemen play fall guys sidemen gaming"
          ],
          [
           "emotions running high sidemen gaming"
          ],
          [
           "sidemen fast food tier list"
          ],
          [
           "the sidemen being awkward around girls for minutes straight"
          ],
          [
           "draw my thing but we kick each other from the game sidemen gaming"
          ],
          [
           "survival of the wisest sidemen gaming"
          ],
          [
           "the sidemen play trivial pursuit sidemen gaming"
          ],
          [
           "the mystical forest sidemen gaming"
          ],
          [
           "how to not get cancelled with the sidemen sidemen gaming"
          ],
          [
           "sidemen best of lockdown"
          ],
          [
           "conquering the division sort of sidemen gaming"
          ],
          [
           "mad verses in mad verse city sidemen gaming"
          ],
          [
           "sidemen poker tournament"
          ],
          [
           "unseen strangers roast the sidemen"
          ],
          [
           "taking on division sidemen gaming"
          ],
          [
           "taking on division sidemen gaming"
          ],
          [
           "it s every sideman for himself sidemen gaming"
          ],
          [
           "sidemen warzone giveaway sidemen gaming"
          ],
          [
           "sidemen rap or crap"
          ],
          [
           "what do our fans think of us"
          ],
          [
           "it s now or never sidemen gaming"
          ],
          [
           "quiplash sidemen edition sidemen gaming"
          ],
          [
           "back to winning ways sidemen gaming"
          ],
          [
           "the sidemen play role models sidemen gaming"
          ],
          [
           "must win games sidemen gaming"
          ],
          [
           "questionable quiplash sidemen gaming"
          ],
          [
           "bouncing back sidemen gaming"
          ],
          [
           "only one can escape sidemen gaming"
          ],
          [
           "golf but everyone quits sidemen gaming"
          ],
          [
           "win draw or go home sidemen gaming"
          ],
          [
           "the sidemen play survive the internet sidemen gaming"
          ],
          [
           "sidemen trivia night sidemen gaming"
          ],
          [
           "our biggest win yet sidemen gaming"
          ],
          [
           "who scored the best sidemen charity match goal"
          ],
          [
           "which of our followers has the most followers"
          ],
          [
           "teamwork makes the dreamwork sidemen gaming"
          ],
          [
           "quiplash with the boys sidemen gaming"
          ],
          [
           "family friendly rap battles sidemen gaming"
          ],
          [
           "so division sidemen gaming"
          ],
          [
           "which of our subscribers has the most subscribers"
          ],
          [
           "best of ksi s characters"
          ],
          [
           "best of ksi s characters"
          ],
          [
           "sidemen lockdown tinder why the girls said no"
          ],
          [
           "sidemen rate their own tiktoks"
          ],
          [
           "it all comes down to this sidemen gaming"
          ],
          [
           "whose is it sidemen guess the youtuber"
          ],
          [
           "completely appropriate quiplash sidemen gaming"
          ],
          [
           "promotion is on the horizon sidemen gaming"
          ],
          [
           "sidemen majority game"
          ],
          [
           "sidemen back on rocket league sidemen gaming"
          ],
          [
           "the sidemen rate their own songs"
          ],
          [
           "the sidemen play shellshock live sidemen gaming"
          ],
          [
           "the comeback of dreams sidemen gaming"
          ],
          [
           "sidemen best warzone moments"
          ],
          [
           "sidemen answer fan assumptions"
          ],
          [
           "a brand new golf map sidemen gaming"
          ],
          [
           "sidemen stay at home skribbl io sidemen gaming"
          ],
          [
           "sidemen most likely to"
          ],
          [
           "who will win sidemen gaming"
          ],
          [
           "top sidemen gta moments"
          ],
          [
           "self isolation quiplash sidemen gaming"
          ],
          [
           "quarantine golf sidemen gaming"
          ],
          [
           "sidemen vs jme rap battle sidemen gaming"
          ],
          [
           "the sidemen play trials rising sidemen gaming"
          ],
          [
           "can the sidemen win on warzone sidemen gaming"
          ],
          [
           "best of sidemen saturdays"
          ],
          [
           "best of sidemen saturdays"
          ],
          [
           "best of sidemen saturdays"
          ],
          [
           "best of sidemen saturdays"
          ],
          [
           "best of sidemen saturdays"
          ],
          [
           "best of sidemen saturdays"
          ],
          [
           "most painful sidemen game ever"
          ],
          [
           "sidemen encore challenge"
          ],
          [
           "sidemen sundays but it s only stephen tries"
          ],
          [
           "sidemen horror movie sidemen gaming"
          ],
          [
           "sidemen react to their reddit"
          ],
          [
           "sidemen react to their reddit"
          ],
          [
           "sidemen react to their reddit"
          ],
          [
           "sidemen youtube tinder why the girls said no"
          ],
          [
           "sidemen play google feud"
          ],
          [
           "the most outrageous game sidemen play bad people"
          ],
          [
           "how rich are the sidemen"
          ],
          [
           "the worst drawings ever sidemen gaming"
          ],
          [
           "sidemen v survival fifa"
          ],
          [
           "sidemen diss tracks in sidemen gaming"
          ],
          [
           "sidemen guess the tune"
          ],
          [
           "sidemen heads up"
          ],
          [
           "the sidemen play quiplash sidemen gaming"
          ],
          [
           "who s the richest sidemen member sidemen q a"
          ],
          [
           "an embarrassing rage quit sidemen gaming"
          ],
          [
           "ksi sleeping for minutes straight"
          ],
          [
           "who s the best rapper in the sidemen sidemen gaming"
          ],
          [
           "sidemen best of december"
          ],
          [
           "sidemen best of december"
          ],
          [
           "sidemen predict anesongib vs jake paul"
          ],
          [
           "sidemen reverse hide seek on a private island"
          ],
          [
           "kicking jj out of the sidemen sidemen gaming"
          ],
          [
           "whose sidemen instagram is it"
          ],
          [
           "the sidemen play modern warfare sidemen gaming"
          ],
          [
           "jake paul or logan paul sidemen would you rather"
          ],
          [
           "the sidemen pack van dijk toty pack opening"
          ],
          [
           "jj s first win on golf with friends sidemen gaming"
          ],
          [
           "sidemen youtube awards"
          ],
          [
           "sidemen youtube awards"
          ],
          [
           "sidemen draw the youtuber"
          ],
          [
           "the sidemen embarrass jj sidemen gaming"
          ],
          [
           "top moments of sidemen"
          ],
          [
           "sidemen the gift ft s x official music video"
          ],
          [
           "sidemen merry merry christmas ft jme layz official music video"
          ],
          [
           "sidemen youtube whispers"
          ],
          [
           "sidemen rate usa youtubers"
          ],
          [
           "sidemen best of november"
          ],
          [
           "sidemen best of november"
          ],
          [
           "sidemen react to draw their life"
          ],
          [
           "sidemen vs holiday orange team extended cut"
          ],
          [
           "sidemen vs holiday purple team extended cut"
          ],
          [
           "sidemen voting game"
          ],
          [
           "happy birthday harry"
          ],
          [
           "sidemen best of october"
          ],
          [
           "sidemen best of october"
          ],
          [
           "who is the best sideman sidemen gaming"
          ],
          [
           "the sidemen take the ultimate youtube quiz"
          ],
          [
           "into the void sidemen gaming"
          ],
          [
           "which of the sidemen knows callux the best"
          ],
          [
           "sidemen predict ksi vs logan paul"
          ],
          [
           "who s cheating sidemen draw my thing sidemen gaming"
          ],
          [
           "sidemen charades"
          ],
          [
           "how the sidemen met"
          ],
          [
           "sidemen gta death run sidemen gaming"
          ],
          [
           "which of the sidemen knows calfreezy the best"
          ],
          [
           "how many youtubers can you name sidemen categories"
          ],
          [
           "vik plays as any sidemen fifa pro clubs sidemen gaming"
          ],
          [
           "sidemen viral point game"
          ],
          [
           "the sidemen anniversary awards"
          ],
          [
           "the sidemen play gta sidemen gaming"
          ],
          [
           "sidemen reverse hide seek in a theme park"
          ],
          [
           "josh vs tobi sidemen fifa royal rumble final"
          ],
          [
           "simon vs tobi sidemen fifa royal rumble"
          ],
          [
           "josh vs vik sidemen fifa royal rumble"
          ],
          [
           "jj vs josh sidemen fifa royal rumble"
          ],
          [
           "simon vs harry sidemen fifa royal rumble"
          ],
          [
           "sidemen fifa royal rumble"
          ],
          [
           "sidemen answer your assumptions"
          ],
          [
           "sidemen best of september"
          ],
          [
           "sidemen best of september"
          ],
          [
           "sidemen fifa pro clubs sidemen gaming"
          ],
          [
           "ksi vs logan paul anesongib vs jake paul sidemen podcast"
          ],
          [
           "sidemen crossing challenge"
          ],
          [
           "sidemen rate uk youtubers"
          ],
          [
           "sidemen house challenge in minecraft sidemen gaming"
          ],
          [
           "sidemen best of august"
          ],
          [
           "sidemen best of august"
          ],
          [
           "ksi miniminter reacting to sidemen meme edits"
          ],
          [
           "the sidemen hitting the crossbar for minutes"
          ],
          [
           "the sidemen choose words in draw my thing sidemen gaming"
          ],
          [
           "happy birthday simon"
          ],
          [
           "which of the sidemen knows jj the best"
          ],
          [
           "sidemen hide seek in minecraft sidemen gaming"
          ],
          [
           "happy birthday josh"
          ],
          [
           "which of the sidemen knows simon the best"
          ],
          [
           "sidemen guess the youtuber"
          ],
          [
           "all of harry s terrible pick up lines from sidemen tinder"
          ],
          [
           "the sidemen duel minecraft sidecraft"
          ],
          [
           "sidemen tinder why the girls said no"
          ],
          [
           "which of the sidemen knows josh the best"
          ],
          [
           "the sidemen war ends minecraft sidecraft"
          ],
          [
           "unseen sidemen total wipeout"
          ],
          [
           "the sidemen spend hours in amsterdam"
          ],
          [
           "sidemen best of july"
          ],
          [
           "sidemen best of july"
          ],
          [
           "the sidemen battle minecraft sidecraft"
          ],
          [
           "which of the sidemen knows tobi the best"
          ],
          [
           "sidemen fc vs youtube allstars"
          ],
          [
           "ksi switches sides minecraft sidecraft"
          ],
          [
           "sidemen awkward in public"
          ],
          [
           "happy birthday vik"
          ],
          [
           "sidemen savage golf session sidemen gaming"
          ],
          [
           "sidemen pictionary challenge"
          ],
          [
           "sidemen moo off"
          ],
          [
           "sidemen moo off"
          ],
          [
           "sidemen beef minecraft sidecraft"
          ],
          [
           "which of the sidemen knows vik the best"
          ],
          [
           "first to guess the password wins"
          ],
          [
           "sidemen play minecraft minecraft sidecraft"
          ],
          [
           "which of the sidemen knows harry the best"
          ],
          [
           "sidemen team hide and seek"
          ],
          [
           "first sidemen fortnite deathrun sidemen gaming"
          ],
          [
           "phil bullying the sidemen for minutes straight"
          ],
          [
           "sidemen shots fired"
          ],
          [
           "sidemen shots fired"
          ],
          [
           "sidemen shots fired"
          ],
          [
           "sidemen shots fired"
          ],
          [
           "sidemen shots fired"
          ],
          [
           "sidemen shots fired"
          ],
          [
           "sidemen shots fired"
          ],
          [
           "sidemen shots fired"
          ],
          [
           "sidemen shots fired"
          ],
          [
           "which of the sidemen knows ethan the best"
          ],
          [
           "sidemen best of june"
          ],
          [
           "sidemen best of june"
          ],
          [
           "the sidemen play dead by daylight sidemen gaming"
          ],
          [
           "the sidemen are splitting up sidemen rumours"
          ],
          [
           "sidemen strength tests"
          ],
          [
           "which of the sidemen was it"
          ],
          [
           "sidemen play topgolf"
          ],
          [
           "the sidemen open weird fan mail"
          ],
          [
           "sidemen react to hate comments"
          ],
          [
           "the sidemen in america"
          ],
          [
           "sidemen rate sidemen videos"
          ],
          [
           "sidemen best of may"
          ],
          [
           "sidemen best of may"
          ],
          [
           "best sidemen hide seek moments"
          ],
          [
           "best sidemen hide seek moments"
          ],
          [
           "funniest sidemen slip n slide moments"
          ],
          [
           "sidemen hide seek on a private jet"
          ],
          [
           "sidemen try american candy"
          ],
          [
           "all sidemen in a golf video first time ever sidemen gaming"
          ],
          [
           "best sidemen house and room tours"
          ],
          [
           "strangers roast the sidemen phil uncut"
          ],
          [
           "strangers roast the sidemen kiera uncut"
          ],
          [
           "strangers roast the sidemen joe uncut"
          ],
          [
           "strangers roast the sidemen mia uncut"
          ],
          [
           "strangers roast the sidemen scott uncut"
          ],
          [
           "strangers roast the sidemen melissa uncut"
          ],
          [
           "sidemen chilli challenges"
          ],
          [
           "sidemen genius diss track lyrics"
          ],
          [
           "sidemen chubby bunny challenges"
          ],
          [
           "sidemen vs faze penalty shootout"
          ],
          [
           "the sidemen play jenga"
          ],
          [
           "sidemen deadest jokes"
          ],
          [
           "sidemen deadest jokes"
          ],
          [
           "sidemen deadest jokes"
          ],
          [
           "sidemen deadest jokes"
          ],
          [
           "sidemen deadest jokes"
          ],
          [
           "the sidemen spent days on a cruise and this happened"
          ],
          [
           "sidemen best of april"
          ],
          [
           "sidemen best of april"
          ],
          [
           "sidemen clickbait quizzes"
          ],
          [
           "sidemen guess who"
          ],
          [
           "the sidemen play rocket league"
          ],
          [
           "the sidemen get drunk"
          ],
          [
           "sidemen give advice"
          ],
          [
           "sidemen drawing challenges"
          ],
          [
           "sidemen table tennis tournament"
          ],
          [
           "the sidemen get egged"
          ],
          [
           "the sidemen get waxed"
          ],
          [
           "sidemen mukbang"
          ],
          [
           "ranking all sidemen charity match goals"
          ],
          [
           "sidemen best of march"
          ],
          [
           "sidemen best of march"
          ],
          [
           "sidemen one word interviews"
          ],
          [
           "sidemen indoor penalty challenge"
          ],
          [
           "best of sidemen reacting to reddit"
          ],
          [
           "sidemen instagram q a part"
          ],
          [
           "sidemen instagram q a"
          ],
          [
           "one question go"
          ],
          [
           "sidemen play scream go hero"
          ],
          [
           "sidemen basketball challenge"
          ],
          [
           "sidemen you laugh you lose"
          ],
          [
           "sidemen indoor football"
          ],
          [
           "sidemen not my arms"
          ],
          [
           "sidemen go to the arcade"
          ],
          [
           "the sidemen try on make up"
          ],
          [
           "the sidemen go on tinder"
          ],
          [
           "sidemen best of february"
          ],
          [
           "sidemen best of february"
          ],
          [
           "sidemen simon says"
          ],
          [
           "cooking with the sidemen"
          ],
          [
           "sidemen best of the siblings"
          ],
          [
           "sidemen most shocking challenges"
          ],
          [
           "sidemen wackiest hairstyles"
          ],
          [
           "the best of ksi s comeback"
          ],
          [
           "sidemen unbox million subscriber plaques"
          ],
          [
           "sidemen best of january"
          ],
          [
           "sidemen best of january"
          ],
          [
           "sidemen guess the song challenges"
          ],
          [
           "sidemen funniest inflatables moments"
          ],
          [
           "most extreme sidemen forfeits"
          ],
          [
           "most extreme sidemen forfeits"
          ],
          [
           "the best moments in the sidemen house"
          ],
          [
           "sidemen funniest kitchen challenges"
          ],
          [
           "the sidemen travel the world"
          ],
          [
           "sidemen best moments of"
          ],
          [
           "sidemen chubby bunny challenge gone wrong"
          ],
          [
           "sidemen accent challenge"
          ],
          [
           "sidemen funniest christmas moments"
          ],
          [
           "the rudest game ever deckheads challenge"
          ],
          [
           "sidemen react to old videos"
          ],
          [
           "sidemen react to old videos"
          ],
          [
           "sidemen react to old videos"
          ],
          [
           "sidemen react to old videos"
          ],
          [
           "sidemen react to internet videos"
          ],
          [
           "sidemen react to internet videos"
          ],
          [
           "sidemen react to internet videos"
          ],
          [
           "sidemen best ever pranks"
          ],
          [
           "sidemen best ever pranks"
          ],
          [
           "sidemen rock paper scissors tournament"
          ],
          [
           "sidemen pro clubs"
          ],
          [
           "sidemen try not to laugh impossible"
          ],
          [
           "sidemen garry s mod funniest moments"
          ],
          [
           "sidemen funniest fails"
          ],
          [
           "the sidemen play geoguessr"
          ],
          [
           "best sidemen fortnite moments"
          ],
          [
           "best sidemen fortnite moments"
          ],
          [
           "funniest sidemen rage quits"
          ],
          [
           "sidemen best vr moments"
          ],
          [
           "sidemen spookiest moments"
          ],
          [
           "the greatest sidemen moments of all time sidemen years"
          ],
          [
           "funniest sidemen family moments"
          ],
          [
           "sidemen funniest skits"
          ],
          [
           "sidemen funniest skits"
          ],
          [
           "sidemen funniest skits"
          ],
          [
           "funniest charity match moments"
          ],
          [
           "sidemen googling ourselves"
          ],
          [
           "the sidemen play golf in real life"
          ],
          [
           "sidemen funniest snapchat q a questions"
          ],
          [
           "the worst sidemen injuries"
          ],
          [
           "sidemen funniest mad libs moments"
          ],
          [
           "sidemen would you rather moments"
          ],
          [
           "the funniest bits sidemen podcast"
          ],
          [
           "sidemen quickfire questions"
          ],
          [
           "sidemen funniest patience test moments"
          ],
          [
           "best of sidemen challenges"
          ],
          [
           "best of sidemen challenges"
          ],
          [
           "sidemen playing with pro footballers"
          ],
          [
           "the biggest event in internet history"
          ],
          [
           "greatest ever sidemen trickshots"
          ],
          [
           "sidemen funniest q a moments"
          ],
          [
           "all sidemen diss tracks in order"
          ],
          [
           "unreleased wroetoshaw sidemen diss track"
          ],
          [
           "unseen footage sidemen wireless hide seek"
          ],
          [
           "sidemen reacting to old videos"
          ],
          [
           "sidemen being awkward in public"
          ],
          [
           "best sidemen olympic world records"
          ],
          [
           "sidemen penalty shootout"
          ],
          [
           "the sidemen play other sports"
          ],
          [
           "best of sidemen collabs"
          ],
          [
           "sidemen more dead jokes"
          ],
          [
           "maddest sidemen soundclips"
          ],
          [
           "sidemen best hole in ones"
          ],
          [
           "unreleased sidemen hide and seek"
          ],
          [
           "ksi vs logan paul press conference the sidemen show sidemen podcast"
          ],
          [
           "sidemen maddest moments"
          ],
          [
           "sidemen maddest moments"
          ],
          [
           "sidemen that s what she said moments"
          ],
          [
           "sidemen fc match ksi vs logan paul boxing the sidemen show sidemen podcast"
          ],
          [
           "best of sidemen fc charity matches"
          ],
          [
           "sidemen most likely to challenge"
          ],
          [
           "sidemen the movie official trailer behind the scenes day"
          ],
          [
           "sidemen the movie official trailer behind the scenes day"
          ],
          [
           "sidemen more shots fired"
          ],
          [
           "sidemen brain farts"
          ],
          [
           "sidemen sumo fight behind the scenes"
          ],
          [
           "when sidemen videos go wrong"
          ],
          [
           "sidemen total wipeout football challenge behind the scenes"
          ],
          [
           "best sidemen cards against humanity moments"
          ],
          [
           "funniest sidemen football moments"
          ],
          [
           "hilarious sidemen facecam moments"
          ],
          [
           "scariest sidemen moments"
          ],
          [
           "the sidemen can sing"
          ],
          [
           "how the sidemen make a football video"
          ],
          [
           "sidemen mum jokes"
          ],
          [
           "best old sidemen moments"
          ],
          [
           "sidemen make weird noises"
          ],
          [
           "sidemen biggest rage moments"
          ],
          [
           "will ksi fight logan paul or jake paul sidemen podcast"
          ],
          [
           "sidemen vs beta squad among us in real life"
          ],
          [
           "women vs sidemen kai cenat edition"
          ],
          [
           "sidemen race across a country europe edition"
          ],
          [
           "sidemen waterpark hide seek"
          ],
          [
           "the greatest sidemen moments"
          ],
          [
           "the greatest sidemen moments"
          ],
          [
           "sidemen vs christmas day"
          ],
          [
           "sidemen vs christmas day"
          ],
          [
           "sidemen big fat quiz of the year"
          ],
          [
           "sidemen big fat quiz of the year"
          ],
          [
           "sidemen big fat quiz of the year"
          ],
          [
           "sidemen extreme christmas cook off"
          ],
          [
           "sidemen vs christmas song"
          ],
          [
           "sidemen vs football match"
          ],
          [
           "sidemen superyacht hide and seek"
          ],
          [
           "sidemen a z calorie challenge"
          ],
          [
           "sidemen extreme japanese gameshows"
          ],
          [
           "sidemen old vs young for hours challenge"
          ],
          [
           "sidemen forfeit blind date"
          ],
          [
           "sidemen vs mr beast challenge"
          ],
          [
           "sidemen hide seek in world s biggest theatre"
          ],
          [
           "sidemen swap lives for hours"
          ],
          [
           "sidemen charity match goals highlights"
          ],
          [
           "sidemen charity match official stream"
          ],
          [
           "who is the best sidemen football player"
          ],
          [
           "women vs sidemen logan paul edition"
          ],
          [
           "sidemen hot vs cold mukbang"
          ],
          [
           "sidemen train like ksi for hours"
          ],
          [
           "sidemen europe calorie challenge"
          ],
          [
           "sidemen vs road trip usa edition"
          ],
          [
           "sidemen hide and seek in a school"
          ],
          [
           "sidemen vs holiday usa edition"
          ],
          [
           "sidemen tinder in real life usa youtube edition"
          ],
          [
           "sidemen escape room challenge"
          ],
          [
           "sidemen hole in the wall"
          ],
          [
           "women vs sidemen jidion edition"
          ],
          [
           "pointless sidemen edition"
          ],
          [
           "sidemen vs birthday party"
          ],
          [
           "sidemen vs birthday party"
          ],
          [
           "sidemen turn into in hours challenge"
          ],
          [
           "sidemen vs hotel europe edition"
          ],
          [
           "women vs sidemen filly edition"
          ],
          [
           "sidemen vs theme park"
          ],
          [
           "sidemen a z buying challenge"
          ],
          [
           "sidemen abandoned in europe challenge"
          ],
          [
           "sidemen game of life in real life"
          ],
          [
           "sidemen silent library"
          ],
          [
           "sidemen silent library"
          ],
          [
           "sidemen race across europe challenge"
          ],
          [
           "sidemen one million pound drop"
          ],
          [
           "sidemen vs premier league goalkeeper"
          ],
          [
           "sidemen throw a dart and go where it lands"
          ],
          [
           "sidemen usa vs uk calories challenge"
          ],
          [
           "sidemen las vegas forfeit hide and seek"
          ],
          [
           "sidemen complete this challenge win"
          ],
          [
           "sidemen mukbang on a bus"
          ],
          [
           "the cube sidemen edition"
          ],
          [
           "women vs sidemen callux edition"
          ],
          [
           "sidemen family feud"
          ],
          [
           "sidemen that finds lamborghini wins it"
          ],
          [
           "sidemen drink one colour for hours challenge"
          ],
          [
           "sidemen hide and seek in spanish mansion"
          ],
          [
           "sidemen vs new years eve"
          ],
          [
           "women vs sidemen ksi edition"
          ],
          [
           "sidemen hot vs cold holiday"
          ],
          [
           "sidemen pub golf europe edition"
          ],
          [
           "sidemen hide seek in the world s biggest toy store"
          ],
          [
           "sidemen extreme robot wars battle bots"
          ],
          [
           "sidemen extreme tag"
          ],
          [
           "sidemen extreme bake off"
          ],
          [
           "sidemen abandoned challenge"
          ],
          [
           "sidemen who wants to be a millionaire"
          ],
          [
           "sidemen car challenge"
          ],
          [
           "sidemen hide and seek in a nuclear bunker"
          ],
          [
           "sidemen vs kids football match"
          ],
          [
           "sidemen vs camping"
          ],
          [
           "sidemen vs onlyfans olympics"
          ],
          [
           "sidemen speed dating extreme"
          ],
          [
           "women rate the most attractive sidemen"
          ],
          [
           "sidemen hot tub mukbang"
          ],
          [
           "sidemen hide and seek in the most expensive house in london"
          ],
          [
           "sidemen buying one colour for hours"
          ],
          [
           "sidemen extreme punishment pool"
          ],
          [
           "sidemen extreme fishing vs logan paul"
          ],
          [
           "sidemen spend on fans"
          ],
          [
           "sidemen hide and seek on a jumbo jet"
          ],
          [
           "the wheel sidemen edition"
          ],
          [
           "sidemen gogglebox"
          ],
          [
           "sidemen extreme cook off"
          ],
          [
           "sidemen vs hotel"
          ],
          [
           "sidemen vs arsenal womens team"
          ],
          [
           "sidemen impossible footgolf challenge"
          ],
          [
           "sidemen vs mukbang"
          ],
          [
           "sidemen guess the millionaire"
          ],
          [
           "sidemen a z drinking challenge gone wrong"
          ],
          [
           "sidemen hide seek in a dungeon"
          ],
          [
           "sidemen most weight lost in hours challenge"
          ],
          [
           "sidemen all sports golf battle"
          ],
          [
           "sidemens got talent"
          ],
          [
           "sidemen crystal maze"
          ],
          [
           "sidemen eat food from different countries hours challenge"
          ],
          [
           "sidemen barber shop gone wrong"
          ],
          [
           "women vs sidemen harry edition"
          ],
          [
           "sidemen worlds most expensive mukbang"
          ],
          [
           "sidemen guess the fake couple"
          ],
          [
           "sidemen tinder in real life"
          ],
          [
           "sidemen tinder in real life"
          ],
          [
           "the price is right sidemen edition"
          ],
          [
           "sidemen hide and seek in a castle"
          ],
          [
           "sidemen calorie battle the rematch"
          ],
          [
           "sidemen have minutes to spend"
          ],
          [
           "top sidemen moments"
          ],
          [
           "sidemen blind dating"
          ],
          [
           "sidemen blind dating"
          ],
          [
           "sidemen blind dating"
          ],
          [
           "sidemen blind dating"
          ],
          [
           "sidemen hide and seek in beta squad house"
          ],
          [
           "the weakest link sidemen edition"
          ],
          [
           "the weakest link sidemen edition"
          ],
          [
           "sidemen among us in real life"
          ],
          [
           "sidemen among us in real life"
          ],
          [
           "sidemen calories battle"
          ],
          [
           "sidemen try expensive vs cheap food"
          ],
          [
           "women vs sidemen ethan edition"
          ],
          [
           "sidemen trivial pursuit in real life"
          ],
          [
           "sidemen a z eating challenge"
          ],
          [
           "sidemen split or steal"
          ],
          [
           "sidemen drinking mukbang"
          ],
          [
           "sidemen hide and seek in a prison"
          ],
          [
           "sidemen fall guys in real life"
          ],
          [
           "sidemen pub golf gone wrong"
          ],
          [
           "sidemen race across the uk"
          ],
          [
           "sidemen punishment basketball"
          ],
          [
           "sidemen eat the hottest wings challenge"
          ],
          [
           "jeopardy sidemen edition"
          ],
          [
           "sidemen vs takeaway"
          ],
          [
           "sidemen spend on each other in hour"
          ],
          [
           "sidemen go camping"
          ],
          [
           "strangers roast the sidemen"
          ],
          [
           "strangers roast the sidemen"
          ],
          [
           "sidemen vs"
          ],
          [
           "sidemen reunited mukbang"
          ],
          [
           "sidemen vs w s football challenge"
          ],
          [
           "sidemen real life bingo in lockdown"
          ],
          [
           "sidemen calories challenge in lockdown"
          ],
          [
           "sidemen go back to online school"
          ],
          [
           "sidemen talent show"
          ],
          [
           "sidemen spelling bee"
          ],
          [
           "sidemen spelling bee"
          ],
          [
           "sidemen tinder in lockdown"
          ],
          [
           "sidemen tiktok challenge"
          ],
          [
           "sidemen lockdown showdown"
          ],
          [
           "sidemen learn skills in hours"
          ],
          [
           "sidemen come dine with me"
          ],
          [
           "the end of the sidemen channel"
          ],
          [
           "stayhome"
          ],
          [
           "sidemen escape room"
          ],
          [
           "sidemen paintball hide and seek"
          ],
          [
           "sidemen dragons den shark tank"
          ],
          [
           "sidemen tinder in real life uk youtube edition"
          ],
          [
           "sidemen spill your guts or fill your guts"
          ],
          [
           "sidemen most weight gained in hours challenge"
          ],
          [
           "sidemen monopoly in real life"
          ],
          [
           "sidemen hide seek on a private island"
          ],
          [
           "sidemen eating one colour food for hours challenge"
          ],
          [
           "sidemen lie detector"
          ],
          [
           "sidemen rewind"
          ],
          [
           "sidemen christmas cook off"
          ],
          [
           "sidemen make a song in hours challenge"
          ],
          [
           "sidemen tipping point"
          ],
          [
           "sidemen real life bingo"
          ],
          [
           "sidemen calories in hours challenge usa edition"
          ],
          [
           "sidemen spend in hour challenge"
          ],
          [
           "sidemen speed dating"
          ],
          [
           "sidemen vs holiday europe edition"
          ],
          [
           "sidemen ice dunk tank challenge"
          ],
          [
           "the roast of the sidemen"
          ],
          [
           "sidemen hide seek in a theme park"
          ],
          [
           "sidemen vs road trip"
          ],
          [
           "sidemen wheel of fortune"
          ],
          [
           "sidemen handcuffed for hours challenge"
          ],
          [
           "sidemen football fear pong"
          ],
          [
           "sidemen sumo olympics"
          ],
          [
           "sidemen million mansion reverse hide seek"
          ],
          [
           "sidemen total wipeout challenge"
          ],
          [
           "sidemen burn calories in hours challenge"
          ],
          [
           "sidemen become parents for hours"
          ],
          [
           "the chase sidemen edition"
          ],
          [
           "sidemen hide seek in a football stadium"
          ],
          [
           "sidemen donate to twitch streamers"
          ],
          [
           "sidemen outfit challenge"
          ],
          [
           "sidemen go back to school"
          ],
          [
           "sidemen tinder in real life original edition"
          ],
          [
           "sidemen strength test"
          ],
          [
           "sidemen learn to dance ft jabbawockeez"
          ],
          [
           "nigahiga vs sidemen the ultimate challenge"
          ],
          [
           "sidemen vs faze crossbar challenge"
          ],
          [
           "sidemen million faze house hide seek"
          ],
          [
           "countdown sidemen edition"
          ],
          [
           "sidemen sports day"
          ],
          [
           "sidemen vs holiday"
          ],
          [
           "sidemen giant inflatable slip and slide challenge"
          ],
          [
           "sidemen one question"
          ],
          [
           "sidemen million cruise ship hide seek"
          ],
          [
           "sidemen break world records"
          ],
          [
           "sidemen eat calories in hours challenge"
          ],
          [
           "the sidemen bake off"
          ],
          [
           "sidemen try james charles make up tutorial"
          ],
          [
           "sidemen read mean tweets"
          ],
          [
           "sidemen read mean tweets"
          ],
          [
           "sidemen top best moments"
          ],
          [
           "sidemen winter olympics"
          ],
          [
           "sidemen christmas football challenges"
          ],
          [
           "shocking try not to laugh challenge"
          ],
          [
           "sidemen punishment pool insane"
          ],
          [
           "sidemen family fortunes"
          ],
          [
           "sidemen react to teens react to sidemen"
          ],
          [
           "sidemen pumpkin carving challenge gone wrong"
          ],
          [
           "haunted clown maze hide and seek"
          ],
          [
           "extreme forfeit sidemen quiz"
          ],
          [
           "sidemen a side football horrific injury"
          ],
          [
           "sidemen not my arms challenge"
          ],
          [
           "how fast can the sidemen run m sidemen olympics"
          ],
          [
           "how well do the sidemen know each other"
          ],
          [
           "ksi vs the sidemen"
          ],
          [
           "sidemen who wants to be a billionaire"
          ],
          [
           "sidemen extreme minigolf"
          ],
          [
           "sidemen carpool diss track karaoke"
          ],
          [
           "sidemen explore haunted tunnels warning"
          ],
          [
           "how hard can the sidemen punch"
          ],
          [
           "sidemen bowling gone wrong"
          ],
          [
           "sidemen world cup football challenges"
          ],
          [
           "sidemen hide seek in wireless festival gone wrong"
          ],
          [
           "sidemen world cup wipeout challenge"
          ],
          [
           "sidemen go to space the sidemen show"
          ],
          [
           "sidemen rescue nicole scherzinger the sidemen show"
          ],
          [
           "hunting the sidemen the sidemen show"
          ],
          [
           "sidemen investigate most haunted house the sidemen show"
          ],
          [
           "the great sidemen race the sidemen show"
          ],
          [
           "sidemen winter sports challenges the sidemen show"
          ],
          [
           "sidemen extreme desert race explosion the sidemen show"
          ],
          [
           "sidemen fc vs youtube allstars goals highlights"
          ],
          [
           "sidemen fc vs youtube allstars charity match livestream"
          ],
          [
           "the sidemen show official trailer"
          ],
          [
           "the sidemen show exclusive teaser trailer"
          ],
          [
           "sidemen giant slip and slide football"
          ],
          [
           "sidemen yoga challenge"
          ],
          [
           "sidemen homemade olympics"
          ],
          [
           "sidemen deal or no deal"
          ],
          [
           "sidemen million mansion hide and seek"
          ],
          [
           "sidemen sumo fight"
          ],
          [
           "sidemen the movie official trailer"
          ],
          [
           "sidemen total wipeout football challenge"
          ],
          [
           "sidemen answer the most searched google questions"
          ],
          [
           "sidemen ultimate football challenge"
          ],
          [
           "sidemen silent challenge"
          ],
          [
           "sidemen giant football darts"
          ],
          [
           "extreme sidemen fear pong"
          ],
          [
           "sidemen try not to laugh challenge w jack whitehall"
          ],
          [
           "you laugh you lose sidemen do bad jokes"
          ],
          [
           "logan paul ksi vs joe weller fight sidemen diss tracks"
          ],
          [
           "sidemen fc vs youtube allstars highlights"
          ],
          [
           "sidemen fc vs youtube allstars livestream"
          ],
          [
           "you must watch this before the sidemen match"
          ],
          [
           "the legendary vik as any"
          ],
          [
           "the end of sidemen clubs"
          ],
          [
           "exposing the sidemen"
          ],
          [
           "simon is quitting the sidemen"
          ],
          [
           "the sidemen beef begins sdmn clubs"
          ],
          [
           "ksi trolls the sidemen sdmn clubs"
          ],
          [
           "sidemen book tour"
          ],
          [
           "the sidemen awards"
          ],
          [
           "first ever sidemen podcast"
          ],
          [
           "sidemen manchester meet up"
          ],
          [
           "sidemen fc vs youtube allstars charity football match livestream"
          ],
          [
           "sidemen face painting challenge"
          ],
          [
           "welcome to the sidemen channel"
          ]
         ],
         "hovertemplate": "date_of_upload=%{x}<br>polarity_score=%{y}<br>video_title=%{customdata[0]}<extra></extra>",
         "legendgroup": "",
         "marker": {
          "color": "#636efa",
          "symbol": "circle"
         },
         "mode": "markers",
         "name": "",
         "showlegend": false,
         "type": "scattergl",
         "x": [
          "2023-01-30T18:30:47+00:00",
          "2023-01-27T18:35:30+00:00",
          "2023-01-23T18:30:26+00:00",
          "2023-01-20T19:30:04+00:00",
          "2023-01-16T18:00:15+00:00",
          "2023-01-11T18:30:26+00:00",
          "2023-01-04T18:00:06+00:00",
          "2022-12-30T18:00:19+00:00",
          "2022-12-28T18:15:05+00:00",
          "2022-12-27T18:30:39+00:00",
          "2022-12-26T18:30:46+00:00",
          "2022-12-24T18:30:36+00:00",
          "2022-12-23T18:00:08+00:00",
          "2022-12-22T18:30:59+00:00",
          "2022-12-22T11:02:02+00:00",
          "2022-12-21T19:00:18+00:00",
          "2022-12-20T18:38:45+00:00",
          "2022-12-20T08:25:34+00:00",
          "2022-12-19T19:20:50+00:00",
          "2022-12-18T20:00:02+00:00",
          "2022-12-17T17:30:02+00:00",
          "2022-12-16T18:00:32+00:00",
          "2022-12-15T18:30:42+00:00",
          "2022-12-14T17:36:37+00:00",
          "2022-12-13T17:00:17+00:00",
          "2022-12-13T11:14:38+00:00",
          "2022-12-12T18:00:00+00:00",
          "2022-12-11T16:24:41+00:00",
          "2022-12-11T09:15:40+00:00",
          "2022-12-10T17:15:00+00:00",
          "2022-12-09T21:00:16+00:00",
          "2022-12-09T11:21:46+00:00",
          "2022-12-08T17:00:19+00:00",
          "2022-12-07T18:00:01+00:00",
          "2022-12-06T18:00:20+00:00",
          "2022-12-05T17:00:19+00:00",
          "2022-12-05T07:50:12+00:00",
          "2022-12-04T18:30:43+00:00",
          "2022-12-04T18:30:34+00:00",
          "2022-12-03T21:00:29+00:00",
          "2022-12-02T21:00:01+00:00",
          "2022-12-01T21:16:49+00:00",
          "2022-11-28T21:00:08+00:00",
          "2022-11-28T10:35:08+00:00",
          "2022-11-27T16:03:16+00:00",
          "2022-11-26T21:00:12+00:00",
          "2022-11-24T17:30:07+00:00",
          "2022-11-21T18:30:30+00:00",
          "2022-11-18T21:33:33+00:00",
          "2022-11-16T18:30:52+00:00",
          "2022-11-14T18:31:16+00:00",
          "2022-11-12T18:00:00+00:00",
          "2022-11-10T18:30:20+00:00",
          "2022-11-08T20:00:00+00:00",
          "2022-11-04T18:30:32+00:00",
          "2022-11-02T20:11:53+00:00",
          "2022-10-31T18:30:49+00:00",
          "2022-10-29T18:30:16+00:00",
          "2022-10-27T18:00:18+00:00",
          "2022-10-25T18:30:34+00:00",
          "2022-10-21T18:00:27+00:00",
          "2022-10-15T17:30:00+00:00",
          "2022-10-13T18:00:28+00:00",
          "2022-10-11T18:40:26+00:00",
          "2022-10-08T18:01:51+00:00",
          "2022-10-06T17:30:02+00:00",
          "2022-10-04T16:30:13+00:00",
          "2022-10-01T14:00:19+00:00",
          "2022-09-29T21:10:52+00:00",
          "2022-09-27T20:39:19+00:00",
          "2022-09-25T14:00:11+00:00",
          "2022-09-22T18:33:19+00:00",
          "2022-09-20T17:00:34+00:00",
          "2022-09-14T17:30:02+00:00",
          "2022-09-12T17:30:11+00:00",
          "2022-09-10T18:36:22+00:00",
          "2022-09-06T17:34:40+00:00",
          "2022-09-03T17:30:02+00:00",
          "2022-09-01T19:47:50+00:00",
          "2022-08-30T17:30:03+00:00",
          "2022-08-26T18:10:29+00:00",
          "2022-08-24T17:30:01+00:00",
          "2022-08-22T17:32:18+00:00",
          "2022-08-20T17:30:00+00:00",
          "2022-08-18T17:40:42+00:00",
          "2022-08-16T17:30:05+00:00",
          "2022-08-13T18:30:19+00:00",
          "2022-08-11T19:32:19+00:00",
          "2022-08-09T18:07:01+00:00",
          "2022-08-06T18:00:17+00:00",
          "2022-08-04T17:30:00+00:00",
          "2022-08-01T19:22:39+00:00",
          "2022-07-29T17:30:06+00:00",
          "2022-07-27T17:30:05+00:00",
          "2022-07-25T17:30:00+00:00",
          "2022-07-21T19:45:02+00:00",
          "2022-07-19T17:30:02+00:00",
          "2022-07-16T17:00:12+00:00",
          "2022-07-14T17:00:31+00:00",
          "2022-07-12T18:31:00+00:00",
          "2022-07-09T17:30:03+00:00",
          "2022-07-07T18:40:42+00:00",
          "2022-07-05T20:00:12+00:00",
          "2022-06-30T17:00:29+00:00",
          "2022-06-28T18:10:01+00:00",
          "2022-06-25T18:00:16+00:00",
          "2022-06-23T17:00:09+00:00",
          "2022-06-21T18:00:22+00:00",
          "2022-06-18T17:10:47+00:00",
          "2022-06-16T17:00:09+00:00",
          "2022-06-14T18:15:01+00:00",
          "2022-06-11T17:00:07+00:00",
          "2022-06-09T19:36:53+00:00",
          "2022-06-07T17:00:14+00:00",
          "2022-06-04T17:30:11+00:00",
          "2022-06-02T17:00:02+00:00",
          "2022-05-31T17:00:32+00:00",
          "2022-05-28T16:30:05+00:00",
          "2022-05-26T18:00:16+00:00",
          "2022-05-21T18:00:21+00:00",
          "2022-05-17T18:39:07+00:00",
          "2022-05-14T18:00:03+00:00",
          "2022-05-12T18:00:07+00:00",
          "2022-05-10T19:00:11+00:00",
          "2022-05-07T19:00:28+00:00",
          "2022-05-05T17:00:03+00:00",
          "2022-05-03T18:00:17+00:00",
          "2022-04-30T18:45:02+00:00",
          "2022-04-28T18:00:27+00:00",
          "2022-04-26T18:30:33+00:00",
          "2022-04-23T19:27:09+00:00",
          "2022-04-21T18:15:01+00:00",
          "2022-04-18T18:00:02+00:00",
          "2022-04-09T18:00:11+00:00",
          "2022-04-07T18:00:03+00:00",
          "2022-04-04T18:00:02+00:00",
          "2022-03-29T18:15:00+00:00",
          "2022-03-26T19:00:25+00:00",
          "2022-03-24T19:00:12+00:00",
          "2022-03-22T19:00:06+00:00",
          "2022-03-19T19:15:00+00:00",
          "2022-03-17T19:00:19+00:00",
          "2022-03-15T19:00:01+00:00",
          "2022-03-12T19:00:07+00:00",
          "2022-03-03T19:00:06+00:00",
          "2022-02-26T19:00:06+00:00",
          "2022-02-24T19:00:10+00:00",
          "2022-02-22T19:00:17+00:00",
          "2022-02-19T19:00:10+00:00",
          "2022-02-17T19:00:08+00:00",
          "2022-02-15T20:30:00+00:00",
          "2022-02-12T19:00:02+00:00",
          "2022-02-11T20:30:04+00:00",
          "2022-02-09T19:00:32+00:00",
          "2022-02-05T19:00:16+00:00",
          "2022-02-03T19:00:07+00:00",
          "2022-02-01T19:00:17+00:00",
          "2022-01-29T19:00:04+00:00",
          "2022-01-27T19:00:31+00:00",
          "2022-01-25T19:00:31+00:00",
          "2022-01-22T19:00:09+00:00",
          "2022-01-20T19:00:10+00:00",
          "2022-01-19T19:00:30+00:00",
          "2022-01-18T19:00:31+00:00",
          "2022-01-15T19:00:21+00:00",
          "2022-01-13T19:00:17+00:00",
          "2022-01-11T20:15:01+00:00",
          "2022-01-06T19:00:09+00:00",
          "2022-01-04T19:00:14+00:00",
          "2022-01-01T20:30:05+00:00",
          "2021-12-30T19:00:04+00:00",
          "2021-12-28T19:00:18+00:00",
          "2021-12-25T19:00:04+00:00",
          "2021-12-23T19:00:12+00:00",
          "2021-12-22T20:30:00+00:00",
          "2021-12-21T19:00:06+00:00",
          "2021-12-17T18:30:29+00:00",
          "2021-12-16T19:00:00+00:00",
          "2021-12-14T19:00:17+00:00",
          "2021-12-11T19:00:14+00:00",
          "2021-12-09T19:00:18+00:00",
          "2021-12-08T20:00:25+00:00",
          "2021-12-07T21:45:04+00:00",
          "2021-12-04T18:00:21+00:00",
          "2021-12-02T19:00:14+00:00",
          "2021-11-30T19:00:11+00:00",
          "2021-11-27T18:00:08+00:00",
          "2021-11-25T19:00:00+00:00",
          "2021-11-23T19:00:15+00:00",
          "2021-11-20T18:00:10+00:00",
          "2021-11-18T18:00:01+00:00",
          "2021-11-16T19:03:58+00:00",
          "2021-11-13T22:12:28+00:00",
          "2021-11-11T18:00:13+00:00",
          "2021-11-09T18:00:13+00:00",
          "2021-11-06T20:30:01+00:00",
          "2021-11-04T19:30:03+00:00",
          "2021-11-02T19:00:15+00:00",
          "2021-10-30T19:00:30+00:00",
          "2021-10-28T18:45:01+00:00",
          "2021-10-26T18:00:19+00:00",
          "2021-10-23T21:30:00+00:00",
          "2021-10-19T18:02:21+00:00",
          "2021-10-16T18:00:02+00:00",
          "2021-10-14T18:00:02+00:00",
          "2021-10-12T19:00:05+00:00",
          "2021-10-09T17:45:00+00:00",
          "2021-10-05T20:00:03+00:00",
          "2021-10-02T18:45:01+00:00",
          "2021-09-30T18:33:12+00:00",
          "2021-09-28T18:00:05+00:00",
          "2021-09-25T18:00:11+00:00",
          "2021-09-23T18:00:01+00:00",
          "2021-09-18T20:30:02+00:00",
          "2021-09-15T20:00:07+00:00",
          "2021-09-11T18:45:01+00:00",
          "2021-09-09T18:00:11+00:00",
          "2021-09-07T19:45:00+00:00",
          "2021-09-04T18:30:02+00:00",
          "2021-09-02T18:00:07+00:00",
          "2021-08-31T18:30:35+00:00",
          "2021-08-28T18:00:04+00:00",
          "2021-08-27T19:00:28+00:00",
          "2021-08-26T18:00:17+00:00",
          "2021-08-21T18:00:08+00:00",
          "2021-08-19T18:00:06+00:00",
          "2021-08-17T18:45:03+00:00",
          "2021-08-14T20:15:37+00:00",
          "2021-08-11T19:00:19+00:00",
          "2021-08-09T19:00:04+00:00",
          "2021-08-07T19:15:00+00:00",
          "2021-08-05T18:00:16+00:00",
          "2021-08-03T18:00:06+00:00",
          "2021-07-31T22:45:00+00:00",
          "2021-07-29T18:15:01+00:00",
          "2021-07-27T20:00:11+00:00",
          "2021-07-26T18:00:12+00:00",
          "2021-07-24T18:00:05+00:00",
          "2021-07-22T18:00:09+00:00",
          "2021-07-20T18:00:15+00:00",
          "2021-07-17T18:00:06+00:00",
          "2021-07-15T18:00:12+00:00",
          "2021-07-13T18:00:01+00:00",
          "2021-07-10T18:00:06+00:00",
          "2021-07-08T18:00:08+00:00",
          "2021-07-06T18:15:01+00:00",
          "2021-07-03T18:00:07+00:00",
          "2021-07-01T18:00:14+00:00",
          "2021-06-29T18:00:02+00:00",
          "2021-06-26T18:00:05+00:00",
          "2021-06-24T18:00:04+00:00",
          "2021-06-22T18:12:38+00:00",
          "2021-06-19T21:00:01+00:00",
          "2021-06-17T20:04:04+00:00",
          "2021-06-15T18:00:18+00:00",
          "2021-06-10T18:00:28+00:00",
          "2021-06-08T18:00:13+00:00",
          "2021-06-05T12:00:12+00:00",
          "2021-06-03T18:00:05+00:00",
          "2021-06-01T18:00:16+00:00",
          "2021-05-29T20:00:07+00:00",
          "2021-05-27T18:00:11+00:00",
          "2021-05-26T19:45:02+00:00",
          "2021-05-25T19:00:04+00:00",
          "2021-05-22T18:00:14+00:00",
          "2021-05-20T18:00:05+00:00",
          "2021-05-18T18:00:07+00:00",
          "2021-05-15T19:15:01+00:00",
          "2021-05-13T18:00:01+00:00",
          "2021-05-11T18:00:00+00:00",
          "2021-05-08T19:00:10+00:00",
          "2021-05-06T18:00:01+00:00",
          "2021-05-04T18:00:30+00:00",
          "2021-05-01T18:30:00+00:00",
          "2021-04-29T18:15:02+00:00",
          "2021-04-28T18:00:15+00:00",
          "2021-04-24T18:00:10+00:00",
          "2021-04-22T18:00:03+00:00",
          "2021-04-20T18:00:12+00:00",
          "2021-04-17T18:00:15+00:00",
          "2021-04-15T18:00:13+00:00",
          "2021-04-13T18:00:00+00:00",
          "2021-04-10T18:00:16+00:00",
          "2021-04-08T16:00:19+00:00",
          "2021-04-06T18:00:21+00:00",
          "2021-04-03T18:00:03+00:00",
          "2021-04-02T18:00:02+00:00",
          "2021-04-01T16:30:02+00:00",
          "2021-03-30T18:00:13+00:00",
          "2021-03-26T20:00:05+00:00",
          "2021-03-25T18:48:28+00:00",
          "2021-03-23T19:00:00+00:00",
          "2021-03-20T19:00:01+00:00",
          "2021-03-18T19:00:06+00:00",
          "2021-03-16T19:00:08+00:00",
          "2021-03-13T19:00:04+00:00",
          "2021-03-11T19:00:06+00:00",
          "2021-03-09T19:00:02+00:00",
          "2021-03-06T19:00:04+00:00",
          "2021-03-04T19:00:03+00:00",
          "2021-03-02T19:00:07+00:00",
          "2021-02-27T19:00:15+00:00",
          "2021-02-25T20:30:04+00:00",
          "2021-02-24T19:00:15+00:00",
          "2021-02-23T19:00:09+00:00",
          "2021-02-20T19:00:03+00:00",
          "2021-02-18T19:00:07+00:00",
          "2021-02-16T19:00:11+00:00",
          "2021-02-13T19:00:07+00:00",
          "2021-02-11T19:00:00+00:00",
          "2021-02-09T19:00:08+00:00",
          "2021-02-06T19:00:00+00:00",
          "2021-02-04T19:00:08+00:00",
          "2021-02-02T19:00:01+00:00",
          "2021-02-01T21:00:02+00:00",
          "2021-01-28T19:00:01+00:00",
          "2021-01-26T19:00:04+00:00",
          "2021-01-23T19:00:02+00:00",
          "2021-01-21T19:00:16+00:00",
          "2021-01-19T19:00:03+00:00",
          "2021-01-16T19:00:00+00:00",
          "2021-01-14T20:00:04+00:00",
          "2021-01-12T19:00:07+00:00",
          "2021-01-09T19:00:04+00:00",
          "2021-01-07T19:00:07+00:00",
          "2021-01-05T19:00:01+00:00",
          "2021-01-02T19:00:04+00:00",
          "2021-01-01T19:00:00+00:00",
          "2020-12-31T19:00:03+00:00",
          "2020-12-29T19:00:02+00:00",
          "2020-12-26T19:00:07+00:00",
          "2020-12-24T22:30:02+00:00",
          "2020-12-22T19:00:15+00:00",
          "2020-12-19T19:30:02+00:00",
          "2020-12-17T19:00:09+00:00",
          "2020-12-15T19:15:01+00:00",
          "2020-12-12T19:00:10+00:00",
          "2020-12-10T19:00:10+00:00",
          "2020-12-08T19:00:14+00:00",
          "2020-12-05T20:00:05+00:00",
          "2020-12-03T19:00:01+00:00",
          "2020-12-01T19:00:06+00:00",
          "2020-12-01T03:31:06+00:00",
          "2020-11-28T19:00:03+00:00",
          "2020-11-27T19:00:01+00:00",
          "2020-11-26T19:00:18+00:00",
          "2020-11-24T19:00:18+00:00",
          "2020-11-21T19:00:13+00:00",
          "2020-11-19T19:00:01+00:00",
          "2020-11-17T19:00:06+00:00",
          "2020-11-14T19:15:04+00:00",
          "2020-11-12T19:00:02+00:00",
          "2020-11-10T19:00:03+00:00",
          "2020-11-07T19:00:11+00:00",
          "2020-11-05T19:00:03+00:00",
          "2020-11-03T19:00:18+00:00",
          "2020-10-31T19:00:15+00:00",
          "2020-10-29T19:00:12+00:00",
          "2020-10-27T19:00:06+00:00",
          "2020-10-23T18:00:03+00:00",
          "2020-10-22T18:00:00+00:00",
          "2020-10-20T18:00:00+00:00",
          "2020-10-17T18:00:01+00:00",
          "2020-10-15T18:00:00+00:00",
          "2020-10-13T18:00:02+00:00",
          "2020-10-10T18:00:00+00:00",
          "2020-10-09T18:00:00+00:00",
          "2020-10-08T18:00:02+00:00",
          "2020-10-06T18:00:03+00:00",
          "2020-10-03T18:00:13+00:00",
          "2020-10-02T19:15:01+00:00",
          "2020-10-01T18:00:07+00:00",
          "2020-09-29T18:00:04+00:00",
          "2020-09-26T18:00:12+00:00",
          "2020-09-24T18:00:07+00:00",
          "2020-09-22T18:00:03+00:00",
          "2020-09-19T18:00:02+00:00",
          "2020-09-17T18:00:05+00:00",
          "2020-09-15T19:30:02+00:00",
          "2020-09-12T12:15:00+00:00",
          "2020-09-11T18:15:02+00:00",
          "2020-09-10T18:00:01+00:00",
          "2020-09-08T18:00:01+00:00",
          "2020-09-05T18:00:03+00:00",
          "2020-09-04T18:00:03+00:00",
          "2020-09-03T20:15:00+00:00",
          "2020-09-01T18:00:00+00:00",
          "2020-08-29T18:00:09+00:00",
          "2020-08-27T18:00:11+00:00",
          "2020-08-26T20:23:08+00:00",
          "2020-08-25T18:00:03+00:00",
          "2020-08-22T20:30:00+00:00",
          "2020-08-21T18:00:09+00:00",
          "2020-08-20T18:00:06+00:00",
          "2020-08-18T18:00:06+00:00",
          "2020-08-15T18:00:07+00:00",
          "2020-08-13T17:00:03+00:00",
          "2020-08-11T18:00:04+00:00",
          "2020-08-08T19:00:04+00:00",
          "2020-08-07T18:00:06+00:00",
          "2020-08-04T18:00:05+00:00",
          "2020-08-01T18:00:01+00:00",
          "2020-07-30T18:00:08+00:00",
          "2020-07-28T18:00:17+00:00",
          "2020-07-25T18:00:03+00:00",
          "2020-07-24T18:00:03+00:00",
          "2020-07-23T18:00:00+00:00",
          "2020-07-21T18:00:00+00:00",
          "2020-07-18T18:00:09+00:00",
          "2020-07-17T18:06:28+00:00",
          "2020-07-16T18:00:07+00:00",
          "2020-07-14T19:00:04+00:00",
          "2020-07-11T18:00:04+00:00",
          "2020-07-10T21:00:10+00:00",
          "2020-07-09T20:00:04+00:00",
          "2020-07-07T19:00:09+00:00",
          "2020-07-04T18:00:02+00:00",
          "2020-07-02T18:00:07+00:00",
          "2020-06-30T18:00:13+00:00",
          "2020-06-27T18:00:09+00:00",
          "2020-06-25T18:00:04+00:00",
          "2020-06-23T19:00:04+00:00",
          "2020-06-20T18:00:11+00:00",
          "2020-06-18T18:00:15+00:00",
          "2020-06-16T18:00:00+00:00",
          "2020-06-13T18:00:03+00:00",
          "2020-06-12T18:00:03+00:00",
          "2020-06-11T18:00:00+00:00",
          "2020-06-09T19:30:03+00:00",
          "2020-06-06T18:00:09+00:00",
          "2020-06-04T18:00:03+00:00",
          "2020-05-30T18:00:00+00:00",
          "2020-05-28T18:00:11+00:00",
          "2020-05-26T18:00:27+00:00",
          "2020-05-23T18:00:20+00:00",
          "2020-05-21T18:00:11+00:00",
          "2020-05-19T18:00:04+00:00",
          "2020-05-16T18:00:14+00:00",
          "2020-05-15T18:00:18+00:00",
          "2020-05-14T18:00:19+00:00",
          "2020-05-12T18:00:17+00:00",
          "2020-05-09T18:00:13+00:00",
          "2020-05-07T18:00:19+00:00",
          "2020-05-05T20:30:04+00:00",
          "2020-05-02T18:00:08+00:00",
          "2020-05-01T18:00:13+00:00",
          "2020-04-30T18:00:10+00:00",
          "2020-04-29T18:00:18+00:00",
          "2020-04-25T18:00:13+00:00",
          "2020-04-24T18:00:14+00:00",
          "2020-04-21T19:00:11+00:00",
          "2020-04-18T18:00:14+00:00",
          "2020-04-17T18:00:27+00:00",
          "2020-04-16T18:00:21+00:00",
          "2020-04-14T18:00:02+00:00",
          "2020-04-11T18:00:01+00:00",
          "2020-04-10T19:00:12+00:00",
          "2020-04-09T18:00:03+00:00",
          "2020-04-07T18:00:07+00:00",
          "2020-04-03T19:00:04+00:00",
          "2020-04-02T18:00:13+00:00",
          "2020-03-31T20:30:02+00:00",
          "2020-03-28T15:00:21+00:00",
          "2020-03-27T19:00:04+00:00",
          "2020-03-24T20:00:07+00:00",
          "2020-03-21T20:00:29+00:00",
          "2020-03-20T19:00:11+00:00",
          "2020-03-17T21:00:13+00:00",
          "2020-03-14T20:00:01+00:00",
          "2020-03-13T19:00:05+00:00",
          "2020-03-12T19:00:00+00:00",
          "2020-03-10T19:00:06+00:00",
          "2020-03-07T17:00:09+00:00",
          "2020-03-06T19:00:06+00:00",
          "2020-03-05T19:00:02+00:00",
          "2020-03-03T21:15:01+00:00",
          "2020-02-29T18:00:04+00:00",
          "2020-02-28T19:00:01+00:00",
          "2020-02-27T19:00:07+00:00",
          "2020-02-25T19:00:12+00:00",
          "2020-02-20T19:00:05+00:00",
          "2020-02-19T19:00:01+00:00",
          "2020-02-15T18:00:03+00:00",
          "2020-02-13T20:22:13+00:00",
          "2020-02-12T19:00:01+00:00",
          "2020-02-08T19:00:04+00:00",
          "2020-02-07T19:00:04+00:00",
          "2020-02-06T19:00:04+00:00",
          "2020-02-04T19:00:05+00:00",
          "2020-01-31T19:00:00+00:00",
          "2020-01-30T17:00:10+00:00",
          "2020-01-28T19:00:00+00:00",
          "2020-01-25T15:00:00+00:00",
          "2020-01-24T19:00:09+00:00",
          "2020-01-23T19:00:02+00:00",
          "2020-01-21T19:00:00+00:00",
          "2020-01-18T17:30:01+00:00",
          "2020-01-17T17:00:00+00:00",
          "2020-01-14T19:00:07+00:00",
          "2020-01-10T20:15:00+00:00",
          "2020-01-09T19:00:06+00:00",
          "2020-01-08T19:00:00+00:00",
          "2020-01-04T18:45:01+00:00",
          "2020-01-02T19:00:02+00:00",
          "2019-12-31T19:00:01+00:00",
          "2019-12-28T15:00:19+00:00",
          "2019-12-24T19:00:10+00:00",
          "2019-12-20T21:06:08+00:00",
          "2019-12-17T19:00:03+00:00",
          "2019-12-15T19:46:18+00:00",
          "2019-12-15T19:46:17+00:00",
          "2019-12-14T15:00:05+00:00",
          "2019-12-13T19:00:00+00:00",
          "2019-12-12T19:00:01+00:00",
          "2019-12-07T17:00:07+00:00",
          "2019-12-06T19:00:07+00:00",
          "2019-12-05T19:00:00+00:00",
          "2019-11-30T22:15:00+00:00",
          "2019-11-29T23:15:01+00:00",
          "2019-11-28T19:00:04+00:00",
          "2019-11-27T19:00:01+00:00",
          "2019-11-24T15:00:07+00:00",
          "2019-11-23T15:00:02+00:00",
          "2019-11-22T23:00:02+00:00",
          "2019-11-21T19:00:00+00:00",
          "2019-11-19T20:00:02+00:00",
          "2019-11-16T23:33:03+00:00",
          "2019-11-14T19:30:01+00:00",
          "2019-11-13T19:00:03+00:00",
          "2019-11-12T19:00:00+00:00",
          "2019-11-09T16:00:03+00:00",
          "2019-11-07T19:00:05+00:00",
          "2019-11-05T19:00:06+00:00",
          "2019-11-02T15:00:04+00:00",
          "2019-10-31T19:00:01+00:00",
          "2019-10-29T19:00:04+00:00",
          "2019-10-26T14:00:00+00:00",
          "2019-10-24T17:00:01+00:00",
          "2019-10-22T17:00:04+00:00",
          "2019-10-19T14:00:00+00:00",
          "2019-10-17T17:00:02+00:00",
          "2019-10-15T17:00:07+00:00",
          "2019-10-12T17:15:01+00:00",
          "2019-10-11T17:00:00+00:00",
          "2019-10-10T21:15:02+00:00",
          "2019-10-09T19:30:00+00:00",
          "2019-10-08T20:15:00+00:00",
          "2019-10-07T20:00:01+00:00",
          "2019-10-05T20:35:21+00:00",
          "2019-10-04T21:00:02+00:00",
          "2019-10-03T17:33:09+00:00",
          "2019-09-28T15:00:00+00:00",
          "2019-09-27T17:00:00+00:00",
          "2019-09-24T17:00:00+00:00",
          "2019-09-21T17:30:02+00:00",
          "2019-09-19T17:00:05+00:00",
          "2019-09-18T18:00:05+00:00",
          "2019-09-16T21:00:00+00:00",
          "2019-09-14T14:00:02+00:00",
          "2019-09-13T17:00:03+00:00",
          "2019-09-12T18:30:05+00:00",
          "2019-09-10T17:00:14+00:00",
          "2019-09-09T17:00:09+00:00",
          "2019-09-07T16:00:44+00:00",
          "2019-09-06T17:00:08+00:00",
          "2019-09-05T17:00:00+00:00",
          "2019-09-04T17:00:10+00:00",
          "2019-09-03T17:00:07+00:00",
          "2019-08-31T14:00:04+00:00",
          "2019-08-30T17:00:03+00:00",
          "2019-08-29T17:00:02+00:00",
          "2019-08-27T19:00:02+00:00",
          "2019-08-24T15:00:04+00:00",
          "2019-08-23T17:00:09+00:00",
          "2019-08-22T18:00:01+00:00",
          "2019-08-20T17:00:04+00:00",
          "2019-08-17T14:00:01+00:00",
          "2019-08-16T17:00:00+00:00",
          "2019-08-15T17:00:06+00:00",
          "2019-08-13T17:00:02+00:00",
          "2019-08-10T14:00:03+00:00",
          "2019-08-08T17:00:00+00:00",
          "2019-08-03T19:30:00+00:00",
          "2019-08-02T20:00:04+00:00",
          "2019-08-01T19:05:00+00:00",
          "2019-07-30T17:00:00+00:00",
          "2019-07-27T14:00:04+00:00",
          "2019-07-25T17:00:06+00:00",
          "2019-07-24T17:00:06+00:00",
          "2019-07-23T17:00:14+00:00",
          "2019-07-20T14:00:11+00:00",
          "2019-07-19T17:00:01+00:00",
          "2019-07-17T18:00:09+00:00",
          "2019-07-16T18:00:01+00:00",
          "2019-07-13T15:00:05+00:00",
          "2019-07-11T17:00:04+00:00",
          "2019-07-10T19:00:03+00:00",
          "2019-07-08T19:00:13+00:00",
          "2019-07-06T17:00:12+00:00",
          "2019-07-05T22:00:02+00:00",
          "2019-07-03T19:00:02+00:00",
          "2019-06-29T14:00:00+00:00",
          "2019-06-28T19:00:02+00:00",
          "2019-06-26T18:00:07+00:00",
          "2019-06-24T19:00:00+00:00",
          "2019-06-22T16:00:13+00:00",
          "2019-06-21T19:00:05+00:00",
          "2019-06-19T18:00:01+00:00",
          "2019-06-17T18:00:09+00:00",
          "2019-06-15T14:00:00+00:00",
          "2019-06-14T19:00:04+00:00",
          "2019-06-12T19:00:09+00:00",
          "2019-06-10T19:00:04+00:00",
          "2019-06-08T16:30:01+00:00",
          "2019-06-07T19:00:02+00:00",
          "2019-06-05T19:00:02+00:00",
          "2019-06-03T19:00:01+00:00",
          "2019-06-01T14:00:09+00:00",
          "2019-05-30T18:00:06+00:00",
          "2019-05-29T16:00:12+00:00",
          "2019-05-27T19:00:00+00:00",
          "2019-05-25T15:00:02+00:00",
          "2019-05-24T18:00:00+00:00",
          "2019-05-23T18:00:00+00:00",
          "2019-05-22T18:00:04+00:00",
          "2019-05-21T19:00:00+00:00",
          "2019-05-20T19:03:02+00:00",
          "2019-05-18T13:00:00+00:00",
          "2019-05-17T19:00:02+00:00",
          "2019-05-15T19:00:01+00:00",
          "2019-05-13T19:00:03+00:00",
          "2019-05-11T18:00:07+00:00",
          "2019-05-10T19:00:05+00:00",
          "2019-05-08T19:00:00+00:00",
          "2019-05-06T19:00:08+00:00",
          "2019-05-04T18:00:00+00:00",
          "2019-05-03T19:00:04+00:00",
          "2019-04-29T19:00:08+00:00",
          "2019-04-26T19:30:01+00:00",
          "2019-04-24T19:00:05+00:00",
          "2019-04-22T19:00:05+00:00",
          "2019-04-20T18:00:08+00:00",
          "2019-04-19T19:00:04+00:00",
          "2019-04-15T19:00:05+00:00",
          "2019-04-13T19:09:01+00:00",
          "2019-04-12T19:00:10+00:00",
          "2019-04-10T19:00:05+00:00",
          "2019-04-08T19:00:01+00:00",
          "2019-04-06T18:00:06+00:00",
          "2019-04-05T19:00:03+00:00",
          "2019-04-03T19:00:02+00:00",
          "2019-04-01T19:00:04+00:00",
          "2019-03-30T19:00:02+00:00",
          "2019-03-29T20:00:00+00:00",
          "2019-03-27T20:00:02+00:00",
          "2019-03-23T23:19:08+00:00",
          "2019-03-22T20:00:03+00:00",
          "2019-03-20T20:45:00+00:00",
          "2019-03-16T19:00:00+00:00",
          "2019-03-15T20:00:03+00:00",
          "2019-03-13T20:00:02+00:00",
          "2019-03-11T20:00:00+00:00",
          "2019-03-09T20:00:04+00:00",
          "2019-03-08T20:00:02+00:00",
          "2019-03-06T23:00:01+00:00",
          "2019-03-04T20:00:02+00:00",
          "2019-03-02T21:30:00+00:00",
          "2019-02-27T21:30:00+00:00",
          "2019-02-25T22:00:02+00:00",
          "2019-02-22T20:00:02+00:00",
          "2019-02-15T23:15:00+00:00",
          "2019-02-13T20:00:02+00:00",
          "2019-02-09T20:00:02+00:00",
          "2019-02-06T20:00:01+00:00",
          "2019-02-02T20:30:32+00:00",
          "2019-02-01T23:48:13+00:00",
          "2019-01-28T20:00:03+00:00",
          "2019-01-25T23:00:12+00:00",
          "2019-01-23T21:15:00+00:00",
          "2019-01-21T20:00:04+00:00",
          "2019-01-14T20:00:03+00:00",
          "2019-01-11T23:45:02+00:00",
          "2019-01-09T20:00:07+00:00",
          "2019-01-07T20:00:00+00:00",
          "2019-01-04T20:00:01+00:00",
          "2019-01-02T20:00:01+00:00",
          "2018-12-31T18:00:01+00:00",
          "2018-12-28T20:00:01+00:00",
          "2018-12-24T20:00:05+00:00",
          "2018-12-22T18:00:40+00:00",
          "2018-12-21T20:00:02+00:00",
          "2018-12-17T21:30:00+00:00",
          "2018-12-14T21:00:01+00:00",
          "2018-12-10T20:00:02+00:00",
          "2018-12-07T20:00:00+00:00",
          "2018-12-05T20:00:03+00:00",
          "2018-12-03T20:00:01+00:00",
          "2018-12-01T18:30:01+00:00",
          "2018-11-30T23:30:02+00:00",
          "2018-11-28T20:00:02+00:00",
          "2018-11-26T20:00:04+00:00",
          "2018-11-23T20:00:00+00:00",
          "2018-11-19T20:00:01+00:00",
          "2018-11-10T19:00:03+00:00",
          "2018-11-09T23:45:01+00:00",
          "2018-11-07T22:30:01+00:00",
          "2018-11-05T20:00:05+00:00",
          "2018-11-02T20:00:06+00:00",
          "2018-10-31T20:00:02+00:00",
          "2018-10-29T20:15:01+00:00",
          "2018-10-24T19:00:01+00:00",
          "2018-10-22T19:00:04+00:00",
          "2018-10-19T21:49:39+00:00",
          "2018-10-17T20:00:00+00:00",
          "2018-10-15T19:00:06+00:00",
          "2018-10-13T18:00:03+00:00",
          "2018-10-12T20:00:00+00:00",
          "2018-10-10T19:00:01+00:00",
          "2018-10-08T19:00:03+00:00",
          "2018-10-05T19:00:00+00:00",
          "2018-10-03T19:00:00+00:00",
          "2018-09-28T19:00:03+00:00",
          "2018-09-26T19:00:00+00:00",
          "2018-09-21T19:00:06+00:00",
          "2018-09-20T19:00:05+00:00",
          "2018-09-17T19:00:01+00:00",
          "2018-09-14T19:00:02+00:00",
          "2018-09-12T19:00:01+00:00",
          "2018-09-10T19:00:02+00:00",
          "2018-09-07T19:00:04+00:00",
          "2018-09-05T19:00:02+00:00",
          "2018-09-03T19:01:06+00:00",
          "2018-08-31T19:00:02+00:00",
          "2018-08-29T19:00:02+00:00",
          "2018-08-27T19:00:01+00:00",
          "2018-08-24T18:00:02+00:00",
          "2018-08-22T19:00:00+00:00",
          "2018-08-20T19:00:03+00:00",
          "2018-08-17T19:00:05+00:00",
          "2018-08-15T19:00:02+00:00",
          "2018-08-13T19:00:08+00:00",
          "2018-08-12T18:30:00+00:00",
          "2018-08-12T17:06:13+00:00",
          "2018-08-11T17:00:06+00:00",
          "2018-08-10T19:00:02+00:00",
          "2018-08-08T19:00:05+00:00",
          "2018-08-06T19:00:01+00:00",
          "2018-08-04T17:00:02+00:00",
          "2018-08-03T19:00:03+00:00",
          "2018-08-01T19:00:05+00:00",
          "2018-07-30T19:00:01+00:00",
          "2018-07-28T17:00:02+00:00",
          "2018-07-27T19:00:02+00:00",
          "2018-07-25T19:00:04+00:00",
          "2018-07-23T19:00:03+00:00",
          "2018-07-20T19:00:03+00:00",
          "2018-07-12T17:30:00+00:00",
          "2018-06-30T13:30:01+00:00",
          "2018-06-27T17:31:48+00:00",
          "2018-06-22T16:00:01+00:00",
          "2018-06-17T20:51:47+00:00",
          "2018-06-14T19:30:01+00:00",
          "2018-06-06T16:10:16+00:00",
          "2018-06-01T18:24:03+00:00",
          "2018-05-31T22:04:02+00:00",
          "2018-05-27T21:47:02+00:00",
          "2018-05-14T17:47:57+00:00",
          "2018-05-12T18:14:40+00:00",
          "2018-05-05T17:13:01+00:00",
          "2018-04-26T21:11:11+00:00",
          "2018-04-19T17:30:00+00:00",
          "2018-04-12T17:48:22+00:00",
          "2018-04-08T20:32:53+00:00",
          "2018-04-05T20:00:01+00:00",
          "2018-04-04T19:15:19+00:00",
          "2018-03-28T22:22:15+00:00",
          "2018-03-25T17:01:09+00:00",
          "2018-03-24T18:39:15+00:00",
          "2018-03-20T18:00:06+00:00",
          "2018-03-17T18:00:01+00:00",
          "2018-03-12T20:39:32+00:00",
          "2018-03-07T18:00:02+00:00",
          "2018-03-03T19:37:10+00:00",
          "2018-03-01T17:37:09+00:00",
          "2018-02-25T18:18:00+00:00",
          "2018-02-24T20:36:51+00:00",
          "2018-02-21T20:45:35+00:00",
          "2018-02-17T18:30:02+00:00",
          "2018-02-15T18:00:00+00:00",
          "2018-02-13T17:19:31+00:00",
          "2018-02-10T20:06:56+00:00",
          "2018-02-08T18:32:13+00:00",
          "2018-02-06T18:02:35+00:00",
          "2018-02-04T18:00:48+00:00",
          "2023-01-29T19:09:33+00:00",
          "2023-01-22T19:09:38+00:00",
          "2023-01-15T20:00:25+00:00",
          "2023-01-08T18:51:49+00:00",
          "2023-01-01T18:30:16+00:00",
          "2022-12-25T18:02:38+00:00",
          "2022-12-18T18:48:24+00:00",
          "2022-12-11T18:00:14+00:00",
          "2022-12-04T17:45:41+00:00",
          "2022-11-27T21:00:31+00:00",
          "2022-11-20T18:43:33+00:00",
          "2022-11-13T21:07:22+00:00",
          "2022-11-06T19:46:49+00:00",
          "2022-10-30T19:31:52+00:00",
          "2022-10-23T16:58:02+00:00",
          "2022-10-16T18:23:41+00:00",
          "2022-10-09T17:30:05+00:00",
          "2022-10-02T17:30:00+00:00",
          "2022-09-24T19:00:19+00:00",
          "2022-09-24T16:31:22+00:00",
          "2022-09-18T17:19:46+00:00",
          "2022-09-11T18:30:19+00:00",
          "2022-09-04T18:21:43+00:00",
          "2022-08-28T17:30:17+00:00",
          "2022-08-21T18:02:18+00:00",
          "2022-08-14T19:30:00+00:00",
          "2022-08-07T18:36:34+00:00",
          "2022-07-31T18:42:35+00:00",
          "2022-07-24T16:55:10+00:00",
          "2022-07-17T17:08:06+00:00",
          "2022-07-10T17:40:17+00:00",
          "2022-07-03T18:24:45+00:00",
          "2022-06-26T17:00:41+00:00",
          "2022-06-19T20:03:17+00:00",
          "2022-06-12T18:05:53+00:00",
          "2022-06-05T19:12:26+00:00",
          "2022-05-29T20:01:13+00:00",
          "2022-05-22T19:09:56+00:00",
          "2022-05-15T17:34:10+00:00",
          "2022-05-08T18:39:28+00:00",
          "2022-05-01T20:27:31+00:00",
          "2022-04-24T19:15:50+00:00",
          "2022-04-17T18:00:07+00:00",
          "2022-04-10T18:40:29+00:00",
          "2022-04-03T17:41:39+00:00",
          "2022-03-27T19:00:58+00:00",
          "2022-03-20T19:53:18+00:00",
          "2022-03-14T18:03:55+00:00",
          "2022-03-06T20:00:01+00:00",
          "2022-02-27T19:36:06+00:00",
          "2022-02-20T18:04:42+00:00",
          "2022-02-13T18:00:29+00:00",
          "2022-02-06T18:00:57+00:00",
          "2022-01-30T19:03:05+00:00",
          "2022-01-23T18:39:23+00:00",
          "2022-01-16T18:02:16+00:00",
          "2022-01-09T18:00:19+00:00",
          "2022-01-02T19:27:21+00:00",
          "2021-12-26T18:00:07+00:00",
          "2021-12-19T19:01:57+00:00",
          "2021-12-12T20:52:16+00:00",
          "2021-12-05T18:06:37+00:00",
          "2021-11-28T19:02:23+00:00",
          "2021-11-21T18:09:23+00:00",
          "2021-11-14T18:31:58+00:00",
          "2021-11-07T19:00:07+00:00",
          "2021-10-31T18:01:48+00:00",
          "2021-10-24T18:06:43+00:00",
          "2021-10-17T18:24:45+00:00",
          "2021-10-10T17:46:05+00:00",
          "2021-10-03T18:02:18+00:00",
          "2021-09-26T18:08:09+00:00",
          "2021-09-19T17:39:55+00:00",
          "2021-09-12T17:10:12+00:00",
          "2021-09-05T19:30:03+00:00",
          "2021-08-29T17:44:01+00:00",
          "2021-08-22T17:28:03+00:00",
          "2021-08-15T18:10:36+00:00",
          "2021-08-08T19:24:40+00:00",
          "2021-08-01T18:35:37+00:00",
          "2021-07-25T17:09:12+00:00",
          "2021-07-18T17:01:58+00:00",
          "2021-07-11T14:03:13+00:00",
          "2021-07-04T17:31:32+00:00",
          "2021-06-27T17:01:46+00:00",
          "2021-06-20T18:00:06+00:00",
          "2021-06-13T17:00:24+00:00",
          "2021-06-06T18:08:10+00:00",
          "2021-05-30T17:05:04+00:00",
          "2021-05-23T22:13:36+00:00",
          "2021-05-16T17:30:03+00:00",
          "2021-05-09T17:01:52+00:00",
          "2021-05-02T17:09:42+00:00",
          "2021-04-25T17:25:46+00:00",
          "2021-04-18T17:00:23+00:00",
          "2021-04-11T17:43:43+00:00",
          "2021-04-04T17:00:18+00:00",
          "2021-03-28T17:00:00+00:00",
          "2021-03-21T18:45:55+00:00",
          "2021-03-14T18:08:58+00:00",
          "2021-03-07T18:23:12+00:00",
          "2021-02-28T18:23:08+00:00",
          "2021-02-21T18:13:37+00:00",
          "2021-02-14T18:27:22+00:00",
          "2021-02-07T18:02:47+00:00",
          "2021-01-31T18:18:45+00:00",
          "2021-01-24T18:53:52+00:00",
          "2021-01-17T18:30:05+00:00",
          "2021-01-10T20:00:06+00:00",
          "2021-01-03T20:01:58+00:00",
          "2020-12-27T18:01:25+00:00",
          "2020-12-20T18:00:29+00:00",
          "2020-12-13T18:55:10+00:00",
          "2020-12-06T19:03:40+00:00",
          "2020-11-29T18:19:46+00:00",
          "2020-11-22T18:01:18+00:00",
          "2020-11-15T18:00:02+00:00",
          "2020-11-08T18:00:14+00:00",
          "2020-11-01T18:25:35+00:00",
          "2020-10-25T18:01:05+00:00",
          "2020-10-18T17:00:07+00:00",
          "2020-10-11T17:04:18+00:00",
          "2020-10-04T17:38:31+00:00",
          "2020-09-27T17:30:01+00:00",
          "2020-09-20T17:41:05+00:00",
          "2020-09-13T17:37:54+00:00",
          "2020-09-06T17:01:55+00:00",
          "2020-08-30T17:00:08+00:00",
          "2020-08-23T18:02:46+00:00",
          "2020-08-16T17:00:07+00:00",
          "2020-08-09T18:42:44+00:00",
          "2020-08-02T18:36:00+00:00",
          "2020-07-26T17:09:09+00:00",
          "2020-07-19T16:23:18+00:00",
          "2020-07-12T17:00:09+00:00",
          "2020-07-05T17:30:00+00:00",
          "2020-06-28T17:04:44+00:00",
          "2020-06-21T17:00:15+00:00",
          "2020-06-14T17:01:06+00:00",
          "2020-06-07T17:00:08+00:00",
          "2020-05-31T17:00:21+00:00",
          "2020-05-24T17:42:59+00:00",
          "2020-05-17T17:00:52+00:00",
          "2020-05-10T16:51:20+00:00",
          "2020-05-03T17:02:19+00:00",
          "2020-04-26T17:00:05+00:00",
          "2020-04-19T17:15:16+00:00",
          "2020-04-12T18:00:09+00:00",
          "2020-04-05T17:03:16+00:00",
          "2020-03-29T19:37:15+00:00",
          "2020-03-29T14:45:31+00:00",
          "2020-03-22T18:00:10+00:00",
          "2020-03-15T18:05:24+00:00",
          "2020-03-09T18:02:01+00:00",
          "2020-03-01T20:17:59+00:00",
          "2020-02-23T18:26:27+00:00",
          "2020-02-16T18:30:09+00:00",
          "2020-02-09T18:51:37+00:00",
          "2020-02-02T18:32:19+00:00",
          "2020-01-26T18:01:36+00:00",
          "2020-01-19T18:21:53+00:00",
          "2020-01-12T17:55:29+00:00",
          "2020-01-05T19:01:13+00:00",
          "2019-12-29T18:31:06+00:00",
          "2019-12-22T18:34:14+00:00",
          "2019-12-15T19:12:38+00:00",
          "2019-12-09T18:03:43+00:00",
          "2019-12-01T18:30:00+00:00",
          "2019-11-24T18:40:43+00:00",
          "2019-11-17T18:11:12+00:00",
          "2019-11-11T19:45:37+00:00",
          "2019-11-03T18:15:15+00:00",
          "2019-10-27T19:00:11+00:00",
          "2019-10-20T17:34:09+00:00",
          "2019-10-13T17:00:50+00:00",
          "2019-10-06T17:03:12+00:00",
          "2019-09-29T17:01:40+00:00",
          "2019-09-22T19:32:40+00:00",
          "2019-09-15T17:01:07+00:00",
          "2019-09-08T18:09:27+00:00",
          "2019-09-01T17:00:43+00:00",
          "2019-08-25T17:03:07+00:00",
          "2019-08-18T17:18:53+00:00",
          "2019-08-11T20:01:20+00:00",
          "2019-08-04T18:01:34+00:00",
          "2019-07-28T17:01:34+00:00",
          "2019-07-21T17:00:14+00:00",
          "2019-07-14T17:01:47+00:00",
          "2019-07-07T17:30:45+00:00",
          "2019-06-30T19:15:54+00:00",
          "2019-06-23T18:31:21+00:00",
          "2019-06-16T16:59:56+00:00",
          "2019-06-09T17:35:08+00:00",
          "2019-06-03T18:42:14+00:00",
          "2019-05-26T20:33:02+00:00",
          "2019-05-19T20:34:42+00:00",
          "2019-05-12T17:00:51+00:00",
          "2019-05-05T17:11:12+00:00",
          "2019-04-28T17:00:06+00:00",
          "2019-04-22T17:07:07+00:00",
          "2019-04-14T17:32:56+00:00",
          "2019-04-07T17:06:59+00:00",
          "2019-03-31T17:30:41+00:00",
          "2019-03-24T18:00:01+00:00",
          "2019-03-17T18:01:13+00:00",
          "2019-03-10T18:01:29+00:00",
          "2019-03-03T18:05:08+00:00",
          "2019-02-17T20:31:13+00:00",
          "2019-02-11T18:00:10+00:00",
          "2019-02-03T18:00:02+00:00",
          "2019-01-27T18:01:07+00:00",
          "2019-01-20T18:06:23+00:00",
          "2019-01-13T18:03:41+00:00",
          "2019-01-06T18:08:30+00:00",
          "2018-12-30T18:14:31+00:00",
          "2018-12-23T19:00:07+00:00",
          "2018-12-16T18:00:01+00:00",
          "2018-12-09T18:05:51+00:00",
          "2018-12-02T18:12:12+00:00",
          "2018-11-25T18:00:01+00:00",
          "2018-11-18T18:01:12+00:00",
          "2018-11-11T18:00:00+00:00",
          "2018-11-04T18:15:00+00:00",
          "2018-10-28T18:03:40+00:00",
          "2018-10-21T17:44:57+00:00",
          "2018-10-15T17:12:34+00:00",
          "2018-10-07T17:00:03+00:00",
          "2018-09-30T18:02:05+00:00",
          "2018-09-23T17:18:01+00:00",
          "2018-09-16T17:11:30+00:00",
          "2018-09-09T18:10:41+00:00",
          "2018-09-02T17:00:30+00:00",
          "2018-08-19T17:00:54+00:00",
          "2018-08-12T17:01:02+00:00",
          "2018-08-05T17:02:16+00:00",
          "2018-07-29T17:00:01+00:00",
          "2018-07-22T17:20:38+00:00",
          "2018-07-15T17:01:16+00:00",
          "2018-07-08T17:00:04+00:00",
          "2018-07-01T20:31:17+00:00",
          "2018-06-24T18:35:46+00:00",
          "2018-06-18T20:02:31+00:00",
          "2018-06-18T20:02:07+00:00",
          "2018-06-18T20:01:43+00:00",
          "2018-06-18T20:01:20+00:00",
          "2018-06-18T20:00:56+00:00",
          "2018-06-18T20:00:30+00:00",
          "2018-06-18T20:00:02+00:00",
          "2018-06-10T17:02:38+00:00",
          "2018-06-02T20:00:23+00:00",
          "2018-06-02T18:21:16+00:00",
          "2018-06-02T16:00:03+00:00",
          "2018-05-23T17:01:41+00:00",
          "2018-05-13T19:01:05+00:00",
          "2018-05-09T21:14:55+00:00",
          "2018-04-29T18:00:56+00:00",
          "2018-04-22T17:02:06+00:00",
          "2018-04-17T18:30:35+00:00",
          "2018-04-08T17:00:02+00:00",
          "2018-04-01T17:05:16+00:00",
          "2018-03-25T17:00:30+00:00",
          "2018-03-18T18:00:24+00:00",
          "2018-03-13T21:00:05+00:00",
          "2018-03-04T18:01:07+00:00",
          "2018-02-25T18:17:42+00:00",
          "2018-02-18T18:00:02+00:00",
          "2018-02-11T18:00:18+00:00",
          "2018-02-04T18:00:19+00:00",
          "2018-01-28T18:00:20+00:00",
          "2018-01-21T18:00:37+00:00",
          "2018-01-14T18:00:02+00:00",
          "2018-01-07T18:00:45+00:00",
          "2017-05-21T20:49:07+00:00",
          "2017-05-21T19:25:38+00:00",
          "2017-05-14T17:37:37+00:00",
          "2017-03-12T15:00:05+00:00",
          "2017-02-26T21:07:41+00:00",
          "2017-02-19T21:30:01+00:00",
          "2017-02-12T21:44:51+00:00",
          "2017-02-05T20:18:14+00:00",
          "2017-01-29T20:47:03+00:00",
          "2017-01-22T21:01:36+00:00",
          "2017-01-08T20:01:25+00:00",
          "2016-11-06T18:00:03+00:00",
          "2016-10-09T18:03:02+00:00",
          "2016-09-18T14:03:25+00:00",
          "2016-08-15T16:04:13+00:00",
          "2016-06-03T21:45:41+00:00",
          "2016-05-28T19:00:00+00:00",
          "2016-05-15T15:15:36+00:00"
         ],
         "xaxis": "x",
         "y": [
          0.08209999999999999,
          0.08209999999999999,
          -0.28798,
          -0.06199999999999999,
          0.11276666666666665,
          0.13018888888888888,
          0.0032000000000000054,
          0.0032000000000000054,
          0.0032000000000000054,
          0.0032000000000000054,
          0.0032000000000000054,
          0.1493375,
          0.1493375,
          0.34574,
          0.34674444444444447,
          0.0615,
          -0.02926666666666667,
          -0.02926666666666667,
          -0.02926666666666667,
          0.14588,
          0.14588,
          0.14588,
          0.14588,
          0.03242222222222223,
          0.2513222222222222,
          0.2513222222222222,
          -0.14691,
          0.16512222222222223,
          -0.0008333333333333402,
          -0.0008333333333333402,
          0.05445,
          0.24916666666666668,
          0.06708888888888888,
          0.0780111111111111,
          0.2368099999999999,
          0.09004444444444444,
          0.01384444444444445,
          -0.049819999999999996,
          0.07129,
          0.15672222222222223,
          -0.09848,
          0.04636999999999999,
          -0.09992999999999999,
          0.1310125,
          -0.056212500000000006,
          -0.034022222222222225,
          0.08896666666666667,
          0.03732,
          0.09205,
          0.0918888888888889,
          -0.09927777777777777,
          0.21430000000000002,
          0.06018888888888888,
          0.15421,
          -0.02984,
          -0.012877777777777774,
          0.14365999999999998,
          0.10300000000000001,
          0.11917,
          -0.03918888888888889,
          0.18183333333333332,
          0.27608,
          0.17633333333333334,
          0.1496111111111111,
          -0.07689,
          0.055075,
          0.09703,
          0,
          0.11868999999999999,
          -0.14643636363636367,
          -0.030919999999999993,
          0.16401111111111114,
          0.16401111111111114,
          -0.028433333333333324,
          0.10227,
          0.06388,
          0.1586090909090909,
          0.06193333333333333,
          0.08514444444444444,
          0.11069,
          -0.026481818181818183,
          0.08751111111111112,
          0.11381,
          0.34381000000000006,
          0.14805,
          0.19122,
          0.19122,
          0.19122,
          0.19122,
          0.13573000000000002,
          0.07217777777777777,
          0.05269,
          0.17395555555555553,
          0.05006666666666667,
          -0.05378888888888889,
          -0.021149999999999995,
          -0.05673333333333334,
          0.12148,
          -0.08091000000000001,
          0.12547777777777777,
          0.24129,
          -0.025512500000000007,
          -0.021188888888888886,
          0.25332000000000005,
          0.16157999999999997,
          0.0551125,
          -0.14807777777777778,
          0.31848000000000004,
          -0.09310000000000002,
          -0.00834,
          0.02551111111111112,
          0.13066666666666668,
          0.07564444444444444,
          0.10411999999999999,
          0.14912999999999998,
          0.08489999999999998,
          -0.08283,
          0.15460000000000002,
          0.2119888888888889,
          0.05973000000000002,
          -0.056537500000000004,
          0.25726,
          0.1652777777777778,
          -0.035179999999999996,
          0.006959999999999999,
          0.29116,
          0.24838888888888888,
          0.24838888888888888,
          0,
          0.14786666666666667,
          0.09426,
          -0.013066666666666671,
          0.08046363636363639,
          -0.04588,
          0.04013333333333333,
          -0.1381222222222222,
          0.15272999999999998,
          0.010310000000000003,
          0.12288999999999999,
          0.11316363636363636,
          0.20849,
          0.20849,
          -0.31521,
          0.037309999999999996,
          -0.11177999999999999,
          0.013333333333333345,
          0.03125,
          -0.14868,
          -0.018488888888888902,
          -0.12319999999999998,
          0.16065000000000002,
          0.23274444444444445,
          0.011766666666666667,
          0.057066666666666675,
          0.12941000000000003,
          0.13548,
          0.12975555555555554,
          -0.03346666666666667,
          -0.016044444444444448,
          0.053610000000000005,
          -0.07649999999999998,
          0.11214444444444445,
          0.23201999999999995,
          0.041844444444444455,
          -0.07675555555555555,
          0.14607,
          0.12405999999999999,
          0.12371818181818182,
          0.07448,
          0.18848,
          0.04192,
          -0.05542222222222223,
          0.08122000000000001,
          0.09111999999999999,
          0.16341111111111112,
          0.1805,
          -0.015788888888888884,
          0.11335999999999999,
          0.16642,
          0.21061999999999997,
          -0.022988888888888885,
          -0.008209999999999995,
          -0.14922222222222223,
          0.11313,
          0.21502222222222223,
          0,
          0.005399999999999999,
          0.019511111111111108,
          -0.04823333333333333,
          -0.006819999999999998,
          0,
          0.04664444444444446,
          0.3081545454545455,
          0.08400999999999999,
          -0.1731888888888889,
          0.1356888888888889,
          0.17194444444444446,
          0.08746666666666666,
          -0.02487272727272727,
          0.032640000000000016,
          0.032640000000000016,
          -0.22616,
          0.039406250000000004,
          0.039406250000000004,
          0.13673,
          0.2195,
          -0.24656666666666668,
          0.20443333333333336,
          0.11432222222222221,
          0,
          0.02675555555555555,
          -0.10521999999999998,
          0.10124,
          0.15376000000000004,
          0.1426222222222222,
          0.10854444444444446,
          0,
          0.08587,
          -0.01568888888888888,
          0.04034000000000001,
          0.19959,
          0.07781111111111111,
          0.27838999999999997,
          0.2805333333333333,
          0.22653333333333336,
          0.1275222222222222,
          0,
          0.2611111111111111,
          0.11733333333333335,
          -0.09326000000000001,
          -0.051944444444444446,
          0.11355555555555556,
          0.04079000000000001,
          0,
          -0.0241,
          0.09966666666666665,
          0.01689,
          0.09373000000000001,
          -0.07568,
          -0.06370909090909092,
          -0.060350000000000015,
          0.14918,
          -0.010519999999999996,
          0.12997777777777778,
          0.26071,
          0.1873,
          0.06931111111111112,
          0.30535555555555555,
          -0.19371111111111114,
          -0.19371111111111114,
          -0.19371111111111114,
          -0.19371111111111114,
          -0.03422,
          0.0020199999999999884,
          0.005499999999999999,
          0.2772111111111111,
          0.08904999999999998,
          -0.048933333333333336,
          0.16975555555555555,
          -0.01646666666666667,
          -0.09748,
          0.2935999999999999,
          0.23903333333333332,
          0.026980000000000014,
          0.24346,
          0.1791,
          0.03777777777777778,
          0.020588888888888886,
          -0.017089999999999984,
          0.1388888888888889,
          0,
          0.056559999999999985,
          -0.15226666666666666,
          0.09458888888888889,
          0.2696090909090909,
          0.050977777777777775,
          0.18746363636363636,
          0.17235555555555554,
          0,
          0.14606000000000002,
          -0.24064000000000002,
          0.097,
          0.12216999999999997,
          -0.020429999999999993,
          0.18262222222222219,
          0.16954444444444444,
          0.26731111111111105,
          0.022966666666666666,
          0.05201818181818181,
          0.34857777777777776,
          0.09194000000000001,
          0.05154444444444444,
          0.27205454545454544,
          0.029789999999999994,
          -0.017011111111111112,
          0.03125,
          0.03125,
          -0.02141111111111111,
          0.054788888888888894,
          0.14021,
          0.20288,
          -0.0062999999999999905,
          0.21047000000000002,
          0.006588888888888886,
          0.006588888888888886,
          0.11167,
          0.24253333333333338,
          -0.0005300000000000082,
          -0.0050636363636363665,
          -0.0050636363636363665,
          -0.0050636363636363665,
          -0.06514444444444445,
          0.10046000000000002,
          0.10046000000000002,
          0.10046000000000002,
          0.10046000000000002,
          0.10046000000000002,
          0.10046000000000002,
          0.10046000000000002,
          0.10046000000000002,
          0.10046000000000002,
          0.10046000000000002,
          0.10046000000000002,
          0.10046000000000002,
          0.10046000000000002,
          0.10046000000000002,
          0.10046000000000002,
          0.10046000000000002,
          0.10046000000000002,
          0.10046000000000002,
          0.10046000000000002,
          0.10046000000000002,
          0.10046000000000002,
          0.10046000000000002,
          0.10046000000000002,
          0.10046000000000002,
          0.10046000000000002,
          0.10046000000000002,
          0.10046000000000002,
          0.33592000000000005,
          0.13873636363636363,
          0.14384444444444444,
          0.0339,
          0.045230000000000006,
          0.07114444444444444,
          0.14200909090909092,
          0.14492,
          -0.04683333333333333,
          0.10499,
          0,
          0.043240000000000015,
          0.10228999999999999,
          0.28089000000000003,
          -0.13149000000000002,
          0.030355555555555556,
          0.142125,
          0.10196666666666666,
          0.16789,
          -0.07206666666666667,
          0.23462222222222223,
          0.16713999999999998,
          -0.03877777777777777,
          0.09942222222222223,
          -0.04846666666666668,
          0.07825555555555556,
          -0.017088888888888883,
          0.17873333333333333,
          0.09231111111111111,
          0.20398,
          -0.04920999999999999,
          0.04254999999999999,
          0.25793333333333335,
          0.25793333333333335,
          0.1389111111111111,
          0.06144999999999999,
          0.12004999999999999,
          0.01673333333333334,
          0,
          -0.05296666666666667,
          -0.05296666666666667,
          0.26630999999999994,
          0.26630999999999994,
          0.26630999999999994,
          0.03399,
          -0.18184444444444445,
          0.11091111111111111,
          -0.02743,
          0.029699999999999997,
          -0.06906,
          0.1372,
          0.13408888888888892,
          0.07019999999999998,
          0.04939,
          0.1123,
          0.2353777777777778,
          0.06885,
          0.10962500000000003,
          0.11763000000000001,
          0.11763000000000001,
          0.0015900000000000024,
          0.18577777777777776,
          0.11194000000000001,
          -0.15338,
          0.002036363636363639,
          0.003290000000000004,
          0.13014444444444445,
          0.13014444444444445,
          0.10057777777777778,
          0.19668999999999998,
          -0.05932000000000002,
          -0.02325,
          -0.018066666666666665,
          0.007649999999999995,
          0.035100000000000006,
          0.21054,
          -0.049888888888888885,
          0.09243000000000001,
          0.07390000000000001,
          0.056810000000000006,
          0,
          -0.14029999999999998,
          -0.04748999999999999,
          -0.021540000000000004,
          -0.028199999999999996,
          0.031111111111111107,
          -0.03074444444444444,
          0.07425999999999999,
          0.28465555555555555,
          0.16546666666666665,
          0.05282222222222222,
          -0.01826666666666666,
          0.12362999999999999,
          -0.04819,
          -0.07085,
          0.11772,
          0.16385,
          0.19318,
          0.016979999999999988,
          -0.17499,
          0.22418888888888888,
          0.038880000000000005,
          0.11486,
          0.010530000000000012,
          -0.09673000000000001,
          0.17343333333333333,
          0.004210000000000003,
          -0.07535,
          0.043755555555555575,
          -0.02983333333333333,
          -0.017011111111111112,
          0.07286999999999999,
          0.04997000000000001,
          0.2273,
          0.2599888888888889,
          0.14965555555555554,
          -0.05584,
          -0.05584,
          -0.16494999999999999,
          -0.054877777777777775,
          0.1194111111111111,
          0.11094,
          -0.030670000000000003,
          0.05419,
          0.32709,
          0.13677,
          -0.021459999999999996,
          0,
          -0.13582,
          -0.12416,
          0.17446666666666666,
          0.09331111111111111,
          0.36948,
          0.09423000000000001,
          0.011066666666666667,
          -0.02387999999999999,
          -0.12309999999999999,
          -0.27491000000000004,
          0.023730000000000008,
          0.06300000000000001,
          0.15142000000000003,
          0.27776666666666666,
          0.10586,
          0.10586,
          0,
          0.06736666666666667,
          0.1656111111111111,
          0.04465555555555555,
          -0.010533333333333327,
          -0.12143000000000001,
          0.0007333333333333266,
          0.04501000000000001,
          0.02764444444444444,
          -0.0869111111111111,
          0.07208888888888887,
          0.03194444444444446,
          0.15918750000000004,
          0.22045000000000003,
          0.12837777777777779,
          0.04028888888888889,
          0.10478888888888889,
          0.08658888888888888,
          -0.04387777777777777,
          -0.07675555555555555,
          0.05909,
          0.0347888888888889,
          0.13167,
          0.07637000000000001,
          0.07637000000000001,
          0.07637000000000001,
          0.07637000000000001,
          0.07637000000000001,
          0.07637000000000001,
          -0.032888888888888884,
          0.1715666666666667,
          0.17704999999999999,
          -0.10775555555555555,
          0.32893,
          0.32893,
          0.32893,
          0.041633333333333335,
          0.0920625,
          0.19874,
          0.07042999999999999,
          0.19391111111111112,
          0.008577777777777778,
          0.09961,
          0.09455555555555553,
          0.16526666666666667,
          0.04804444444444445,
          0.32784,
          0.1691818181818182,
          0.1713555555555556,
          0.02234444444444445,
          0.15868000000000002,
          0.15868000000000002,
          0.08384444444444444,
          0.05304444444444445,
          -0.0203,
          0.15996666666666667,
          0.11256249999999998,
          0.40221250000000003,
          0.1544111111111111,
          0.12046000000000001,
          0.18279,
          0.18279,
          0.18925999999999998,
          -0.011444444444444455,
          -0.034,
          0.19773999999999997,
          0.12148888888888888,
          0.27656,
          0.1048375,
          -0.04939,
          -0.04939,
          0.056580000000000005,
          0.25369,
          0.19993333333333338,
          0.19735555555555556,
          0.0260125,
          -0.06867999999999999,
          -0.06867999999999999,
          0.06020909090909091,
          0.18034,
          -0.26620000000000005,
          0.06804444444444445,
          0.22754000000000002,
          0.008009090909090915,
          0.36883333333333335,
          -0.061340000000000006,
          0.06421,
          0.07242222222222222,
          0.15741,
          0.059660000000000005,
          0.11634,
          -0.12987,
          0.030469999999999997,
          -0.03921999999999999,
          0.1739222222222222,
          0.19142999999999996,
          0.14775,
          0.25898,
          0.084925,
          0.16831999999999997,
          0.27324000000000004,
          -0.06643333333333332,
          -0.06643333333333332,
          0.11885555555555556,
          0.04937777777777777,
          0.1118777777777778,
          -0.054877777777777775,
          0.1573111111111111,
          -0.03232999999999999,
          -0.03232999999999999,
          0.11128,
          0.08514999999999999,
          0.2407,
          0.15889999999999999,
          0.30911,
          0.04013333333333333,
          -0.13826999999999998,
          0.1863,
          0.22952000000000003,
          -0.03148000000000001,
          0.11104,
          0.10612222222222223,
          -0.029830000000000002,
          0.048933333333333336,
          0.16635,
          0.059770000000000004,
          0.13054,
          0.13054,
          -0.2960888888888889,
          0.14455454545454544,
          0.30604444444444445,
          0,
          -0.06847,
          -0.032888888888888884,
          0,
          0.22283333333333333,
          0.12793333333333334,
          0.12793333333333334,
          -0.1058111111111111,
          0.2038375,
          -0.0531,
          0.15288,
          0.037070000000000006,
          0.18886999999999998,
          0.18128888888888892,
          0.17107,
          0,
          0,
          0,
          0,
          0,
          0,
          0,
          0,
          0,
          -0.048933333333333336,
          0.14492222222222223,
          0.14492222222222223,
          -0.05907000000000001,
          0.23392222222222225,
          0.025500000000000005,
          0.28009000000000006,
          0.001000000000000012,
          -0.08074444444444445,
          -0.08994444444444444,
          -0.08692222222222222,
          0.16101000000000001,
          0,
          0,
          0.18697777777777777,
          0.18697777777777777,
          0.08895000000000002,
          0.09933,
          0.12095555555555555,
          -0.07334444444444445,
          0.25678999999999996,
          -0.014060000000000007,
          0.07190000000000002,
          -0.0028666666666666667,
          -0.07007999999999999,
          0,
          0.30433333333333334,
          0.0064333333333333334,
          -0.1255818181818182,
          0,
          -0.26531000000000005,
          0.06636,
          0.09904,
          0.09904,
          0.09904,
          0.09904,
          0.09904,
          0.03566999999999999,
          0.005710000000000002,
          0.005710000000000002,
          0.029599999999999998,
          0.03874444444444444,
          0.03221666666666665,
          -0.10515833333333335,
          -0.0033444444444444463,
          0.06667000000000003,
          0.2799888888888889,
          0.03125,
          0.08123,
          0.29525,
          -0.04566666666666666,
          0.0444,
          0.0444,
          0.2681,
          0.12433000000000001,
          -0.06509999999999999,
          0.29846666666666666,
          0.22431111111111107,
          0.14984000000000003,
          0.2043888888888889,
          0.06629999999999997,
          -0.0052499999999999995,
          0.17412,
          0.01610000000000001,
          0.14227000000000004,
          -0.008029999999999987,
          0.06392,
          0.24483000000000002,
          0.24483000000000002,
          -0.032633333333333334,
          0.07212222222222223,
          -0.10199,
          -0.041977777777777774,
          0.08313333333333334,
          0.0459,
          0.002355555555555555,
          0.023499999999999997,
          0.023499999999999997,
          0,
          -0.09995454545454545,
          -0.07502222222222221,
          -0.07502222222222221,
          0.00851,
          0.16306,
          0.027788888888888887,
          0.018411111111111114,
          0,
          0.02852000000000001,
          0.3596,
          -0.0834,
          -0.04939,
          -0.04939,
          -0.04939,
          -0.04939,
          0,
          0,
          0,
          0.1499777777777778,
          0.1499777777777778,
          -0.0050700000000000025,
          0.07753,
          0.01348000000000001,
          -0.18348,
          -0.15967777777777778,
          -0.042511111111111104,
          0.07528,
          0.07528,
          -0.06370999999999999,
          0.26453333333333334,
          0,
          0.08367,
          0.15032857142857142,
          0.021790909090909086,
          0.021790909090909086,
          0.021790909090909086,
          0.12786,
          -0.005559999999999998,
          0.09769000000000001,
          0.10568999999999999,
          0.06416,
          0.1856,
          0.04036000000000001,
          0.30311,
          -0.12462222222222222,
          -0.1358,
          0.12342,
          0.12342,
          0.11484000000000001,
          0.14748,
          -0.06480999999999999,
          0.16947777777777778,
          0.09248999999999999,
          0.07734000000000002,
          0.13655555555555557,
          0.07165,
          0.07873333333333334,
          0.21280000000000002,
          0.009770000000000001,
          0.0705777777777778,
          0.037533333333333335,
          0.05097,
          0.16035555555555556,
          0.21250000000000002,
          0.035879999999999995,
          0.09677777777777778,
          0.09892,
          0.09892,
          -0.06035999999999999,
          0.20537777777777777,
          0.16704,
          0.3196800000000001,
          0.04186000000000001,
          0.04186000000000001,
          0,
          -0.07408,
          -0.017949999999999997,
          0.06996,
          0.004049999999999998,
          0.09994444444444445,
          0.33494,
          0,
          -0.10973,
          0.07085000000000001,
          0.13157000000000002,
          0.14488,
          0.05339000000000001,
          -0.1336,
          0.25276666666666664,
          0.1565777777777778,
          0.08798,
          0.11069999999999999,
          0.16585999999999998,
          0.08617,
          0.16017777777777775,
          0.16017777777777775,
          0.15871999999999997,
          0.15871999999999997,
          -0.061419999999999995,
          -0.061419999999999995,
          -0.061419999999999995,
          0.05045555555555556,
          0.13713000000000003,
          0.04683333333333333,
          -0.023133333333333332,
          0.11887777777777779,
          0.12589,
          -0.010655555555555554,
          -0.09173333333333333,
          -0.17303333333333334,
          0.28245555555555557,
          0.18513333333333332,
          0.17456666666666665,
          0.13085999999999998,
          -0.036019999999999996,
          0.18882,
          0.08894444444444446,
          0.008844444444444445,
          0.11219000000000001,
          0.23213636363636364,
          0.19186,
          0.27609,
          0.16154444444444446,
          0.17658000000000001,
          0.06788,
          -0.08803,
          -0.05574,
          0.15043,
          0.15043,
          0.08037000000000001,
          0.19721999999999995,
          0.16355555555555557,
          0.029300000000000007,
          0,
          0.14053333333333334,
          0.024137499999999992,
          -0.016466666666666668,
          -0.016466666666666668,
          0.2516222222222222,
          -0.005087499999999995,
          -0.010766666666666666,
          0.3424111111111111,
          0.23975,
          0.22250000000000003,
          -0.005877777777777784,
          -0.00516,
          0.008369999999999999,
          0.06171111111111111,
          0.1930625,
          -0.0455,
          0,
          0.04465555555555555,
          0.18087777777777778,
          0.1189,
          0.04394545454545455,
          0.04153749999999998,
          0.1147,
          -0.022010000000000002,
          0.06117999999999999,
          0.16369,
          -0.07731111111111111,
          -0.100575,
          0.10518000000000001,
          0.051059999999999994,
          0.007669999999999999,
          0.005790000000000017,
          0.013311111111111114,
          -0.05828888888888888,
          0.15012222222222218,
          -0.037766666666666664,
          0.10056000000000001,
          0.0128,
          0.014440000000000003,
          0.13423000000000002,
          0.33704999999999996,
          0.14076,
          0.04178,
          0.1716111111111111,
          0.12248,
          0.14817,
          0.09509000000000001,
          0.14494444444444443,
          0.09781111111111113,
          0,
          0.06897,
          0.24413333333333334,
          -0.0012000000000000107,
          0.07921111111111112,
          0.0714111111111111,
          -0.06290000000000001,
          -0.052244444444444454,
          0.01686666666666666,
          0.24659999999999999,
          0.07675555555555555,
          0.12393999999999998,
          -0.2020875,
          -0.2020875,
          0.09535,
          0.05493333333333334,
          0.21203333333333335,
          0.025849999999999995,
          0.01876,
          0.0745,
          0.0745,
          0.0745,
          0.0745,
          0.20468999999999998,
          0.09146666666666668,
          0.09146666666666668,
          0.1407,
          0.1407,
          -0.07888,
          0.12435000000000002,
          0.16060000000000002,
          0.13314444444444445,
          -0.014069999999999994,
          -0.03613333333333333,
          0.21972222222222224,
          0.08570999999999998,
          0.11488000000000001,
          0.04911111111111111,
          0.04204,
          0,
          0.038269999999999985,
          0.06564545454545455,
          0.08496666666666668,
          0.042469999999999994,
          0.1622,
          0.01692222222222222,
          0.01692222222222222,
          0.23235555555555554,
          0.2102222222222222,
          0.013300000000000003,
          -0.0032888888888888846,
          0.04443333333333333,
          0.020622222222222222,
          0.29522,
          -0.13076,
          -0.13076,
          0.21317999999999998,
          -0.06705,
          0.2479888888888889,
          0.08843333333333334,
          -0.06127777777777778,
          0.04532222222222223,
          0.12229285714285716,
          0.07470000000000002,
          0.010511111111111113,
          0.11095,
          0.010209523809523816,
          -0.09304444444444446,
          0.01716363636363636,
          0.1365333333333333,
          0.019377777777777785,
          -0.0802,
          0.02373,
          0.23094,
          0.17224,
          0.03597000000000001,
          -0.10267,
          0.03100000000000001,
          0.09771999999999999,
          0.008577777777777778,
          0.10257000000000001,
          0,
          0.24989,
          0.06427777777777778,
          0.3915,
          -0.056809999999999986,
          0.20884999999999998,
          0.09425555555555555,
          0.14406666666666668,
          0.19296000000000002,
          0.21868000000000004,
          0.09356666666666667,
          0.14807,
          0.26737777777777777,
          -0.0562,
          0.10729999999999999,
          0.05319,
          0.17034444444444446,
          0.14374,
          -0.06941,
          0.42279,
          0.08459999999999998,
          0.17575,
          -0.06401111111111112,
          -0.02317999999999999,
          0.25825555555555557,
          0.061811111111111115,
          0.013449999999999995,
          0.052533333333333335,
          -0.020011111111111105,
          0.21858,
          0.10623,
          0.32889999999999997,
          -0.04683333333333333,
          0.38589,
          0.17754444444444445,
          0.17754444444444445,
          -0.021922222222222218,
          0.13193000000000002,
          0,
          0.027322222222222216,
          0.11603999999999999,
          -0.008044444444444446,
          0.01708888888888889,
          0.07076666666666667,
          -0.03324444444444444,
          0.14539999999999997,
          0.29684,
          0.01225555555555555,
          -0.08562222222222222,
          -0.09023333333333333,
          0.13803,
          -0.12324000000000002,
          -0.03523,
          0.019444444444444438,
          -0.03535555555555556,
          0.13163,
          0.10119,
          0.018359999999999998,
          0.16147999999999998,
          -0.016437499999999994,
          0.3085888888888889,
          0.25602,
          0.2887222222222222,
          -0.05877777777777778,
          0.03816666666666667,
          0.08941000000000002,
          0.05836,
          0.054877777777777775,
          0.17045000000000002,
          0.11717,
          0.044500000000000005,
          0.07322999999999999,
          0.06508888888888888,
          0.054900000000000004,
          0.06293333333333334,
          0.11639,
          0.027777777777777776,
          0.1362,
          0.09878,
          0.17131818181818181,
          0.054310000000000004,
          0.03351111111111111,
          0.021377777777777787,
          0.06354444444444445,
          0.17495555555555556,
          0.41818888888888883,
          0.13087,
          0.10769999999999999,
          0.15196,
          -0.04465555555555555,
          0.07997999999999998,
          0.03787777777777778,
          0.04358000000000001,
          0,
          0.15614444444444445,
          0.10941999999999999,
          0.06024444444444445,
          -0.05706666666666666,
          -0.013,
          0.11607777777777778,
          0.2307875,
          0,
          0.11796666666666668
         ],
         "yaxis": "y"
        }
       ],
       "layout": {
        "autosize": true,
        "legend": {
         "tracegroupgap": 0
        },
        "template": {
         "data": {
          "bar": [
           {
            "error_x": {
             "color": "#2a3f5f"
            },
            "error_y": {
             "color": "#2a3f5f"
            },
            "marker": {
             "line": {
              "color": "#E5ECF6",
              "width": 0.5
             },
             "pattern": {
              "fillmode": "overlay",
              "size": 10,
              "solidity": 0.2
             }
            },
            "type": "bar"
           }
          ],
          "barpolar": [
           {
            "marker": {
             "line": {
              "color": "#E5ECF6",
              "width": 0.5
             },
             "pattern": {
              "fillmode": "overlay",
              "size": 10,
              "solidity": 0.2
             }
            },
            "type": "barpolar"
           }
          ],
          "carpet": [
           {
            "aaxis": {
             "endlinecolor": "#2a3f5f",
             "gridcolor": "white",
             "linecolor": "white",
             "minorgridcolor": "white",
             "startlinecolor": "#2a3f5f"
            },
            "baxis": {
             "endlinecolor": "#2a3f5f",
             "gridcolor": "white",
             "linecolor": "white",
             "minorgridcolor": "white",
             "startlinecolor": "#2a3f5f"
            },
            "type": "carpet"
           }
          ],
          "choropleth": [
           {
            "colorbar": {
             "outlinewidth": 0,
             "ticks": ""
            },
            "type": "choropleth"
           }
          ],
          "contour": [
           {
            "colorbar": {
             "outlinewidth": 0,
             "ticks": ""
            },
            "colorscale": [
             [
              0,
              "#0d0887"
             ],
             [
              0.1111111111111111,
              "#46039f"
             ],
             [
              0.2222222222222222,
              "#7201a8"
             ],
             [
              0.3333333333333333,
              "#9c179e"
             ],
             [
              0.4444444444444444,
              "#bd3786"
             ],
             [
              0.5555555555555556,
              "#d8576b"
             ],
             [
              0.6666666666666666,
              "#ed7953"
             ],
             [
              0.7777777777777778,
              "#fb9f3a"
             ],
             [
              0.8888888888888888,
              "#fdca26"
             ],
             [
              1,
              "#f0f921"
             ]
            ],
            "type": "contour"
           }
          ],
          "contourcarpet": [
           {
            "colorbar": {
             "outlinewidth": 0,
             "ticks": ""
            },
            "type": "contourcarpet"
           }
          ],
          "heatmap": [
           {
            "colorbar": {
             "outlinewidth": 0,
             "ticks": ""
            },
            "colorscale": [
             [
              0,
              "#0d0887"
             ],
             [
              0.1111111111111111,
              "#46039f"
             ],
             [
              0.2222222222222222,
              "#7201a8"
             ],
             [
              0.3333333333333333,
              "#9c179e"
             ],
             [
              0.4444444444444444,
              "#bd3786"
             ],
             [
              0.5555555555555556,
              "#d8576b"
             ],
             [
              0.6666666666666666,
              "#ed7953"
             ],
             [
              0.7777777777777778,
              "#fb9f3a"
             ],
             [
              0.8888888888888888,
              "#fdca26"
             ],
             [
              1,
              "#f0f921"
             ]
            ],
            "type": "heatmap"
           }
          ],
          "heatmapgl": [
           {
            "colorbar": {
             "outlinewidth": 0,
             "ticks": ""
            },
            "colorscale": [
             [
              0,
              "#0d0887"
             ],
             [
              0.1111111111111111,
              "#46039f"
             ],
             [
              0.2222222222222222,
              "#7201a8"
             ],
             [
              0.3333333333333333,
              "#9c179e"
             ],
             [
              0.4444444444444444,
              "#bd3786"
             ],
             [
              0.5555555555555556,
              "#d8576b"
             ],
             [
              0.6666666666666666,
              "#ed7953"
             ],
             [
              0.7777777777777778,
              "#fb9f3a"
             ],
             [
              0.8888888888888888,
              "#fdca26"
             ],
             [
              1,
              "#f0f921"
             ]
            ],
            "type": "heatmapgl"
           }
          ],
          "histogram": [
           {
            "marker": {
             "pattern": {
              "fillmode": "overlay",
              "size": 10,
              "solidity": 0.2
             }
            },
            "type": "histogram"
           }
          ],
          "histogram2d": [
           {
            "colorbar": {
             "outlinewidth": 0,
             "ticks": ""
            },
            "colorscale": [
             [
              0,
              "#0d0887"
             ],
             [
              0.1111111111111111,
              "#46039f"
             ],
             [
              0.2222222222222222,
              "#7201a8"
             ],
             [
              0.3333333333333333,
              "#9c179e"
             ],
             [
              0.4444444444444444,
              "#bd3786"
             ],
             [
              0.5555555555555556,
              "#d8576b"
             ],
             [
              0.6666666666666666,
              "#ed7953"
             ],
             [
              0.7777777777777778,
              "#fb9f3a"
             ],
             [
              0.8888888888888888,
              "#fdca26"
             ],
             [
              1,
              "#f0f921"
             ]
            ],
            "type": "histogram2d"
           }
          ],
          "histogram2dcontour": [
           {
            "colorbar": {
             "outlinewidth": 0,
             "ticks": ""
            },
            "colorscale": [
             [
              0,
              "#0d0887"
             ],
             [
              0.1111111111111111,
              "#46039f"
             ],
             [
              0.2222222222222222,
              "#7201a8"
             ],
             [
              0.3333333333333333,
              "#9c179e"
             ],
             [
              0.4444444444444444,
              "#bd3786"
             ],
             [
              0.5555555555555556,
              "#d8576b"
             ],
             [
              0.6666666666666666,
              "#ed7953"
             ],
             [
              0.7777777777777778,
              "#fb9f3a"
             ],
             [
              0.8888888888888888,
              "#fdca26"
             ],
             [
              1,
              "#f0f921"
             ]
            ],
            "type": "histogram2dcontour"
           }
          ],
          "mesh3d": [
           {
            "colorbar": {
             "outlinewidth": 0,
             "ticks": ""
            },
            "type": "mesh3d"
           }
          ],
          "parcoords": [
           {
            "line": {
             "colorbar": {
              "outlinewidth": 0,
              "ticks": ""
             }
            },
            "type": "parcoords"
           }
          ],
          "pie": [
           {
            "automargin": true,
            "type": "pie"
           }
          ],
          "scatter": [
           {
            "fillpattern": {
             "fillmode": "overlay",
             "size": 10,
             "solidity": 0.2
            },
            "type": "scatter"
           }
          ],
          "scatter3d": [
           {
            "line": {
             "colorbar": {
              "outlinewidth": 0,
              "ticks": ""
             }
            },
            "marker": {
             "colorbar": {
              "outlinewidth": 0,
              "ticks": ""
             }
            },
            "type": "scatter3d"
           }
          ],
          "scattercarpet": [
           {
            "marker": {
             "colorbar": {
              "outlinewidth": 0,
              "ticks": ""
             }
            },
            "type": "scattercarpet"
           }
          ],
          "scattergeo": [
           {
            "marker": {
             "colorbar": {
              "outlinewidth": 0,
              "ticks": ""
             }
            },
            "type": "scattergeo"
           }
          ],
          "scattergl": [
           {
            "marker": {
             "colorbar": {
              "outlinewidth": 0,
              "ticks": ""
             }
            },
            "type": "scattergl"
           }
          ],
          "scattermapbox": [
           {
            "marker": {
             "colorbar": {
              "outlinewidth": 0,
              "ticks": ""
             }
            },
            "type": "scattermapbox"
           }
          ],
          "scatterpolar": [
           {
            "marker": {
             "colorbar": {
              "outlinewidth": 0,
              "ticks": ""
             }
            },
            "type": "scatterpolar"
           }
          ],
          "scatterpolargl": [
           {
            "marker": {
             "colorbar": {
              "outlinewidth": 0,
              "ticks": ""
             }
            },
            "type": "scatterpolargl"
           }
          ],
          "scatterternary": [
           {
            "marker": {
             "colorbar": {
              "outlinewidth": 0,
              "ticks": ""
             }
            },
            "type": "scatterternary"
           }
          ],
          "surface": [
           {
            "colorbar": {
             "outlinewidth": 0,
             "ticks": ""
            },
            "colorscale": [
             [
              0,
              "#0d0887"
             ],
             [
              0.1111111111111111,
              "#46039f"
             ],
             [
              0.2222222222222222,
              "#7201a8"
             ],
             [
              0.3333333333333333,
              "#9c179e"
             ],
             [
              0.4444444444444444,
              "#bd3786"
             ],
             [
              0.5555555555555556,
              "#d8576b"
             ],
             [
              0.6666666666666666,
              "#ed7953"
             ],
             [
              0.7777777777777778,
              "#fb9f3a"
             ],
             [
              0.8888888888888888,
              "#fdca26"
             ],
             [
              1,
              "#f0f921"
             ]
            ],
            "type": "surface"
           }
          ],
          "table": [
           {
            "cells": {
             "fill": {
              "color": "#EBF0F8"
             },
             "line": {
              "color": "white"
             }
            },
            "header": {
             "fill": {
              "color": "#C8D4E3"
             },
             "line": {
              "color": "white"
             }
            },
            "type": "table"
           }
          ]
         },
         "layout": {
          "annotationdefaults": {
           "arrowcolor": "#2a3f5f",
           "arrowhead": 0,
           "arrowwidth": 1
          },
          "autotypenumbers": "strict",
          "coloraxis": {
           "colorbar": {
            "outlinewidth": 0,
            "ticks": ""
           }
          },
          "colorscale": {
           "diverging": [
            [
             0,
             "#8e0152"
            ],
            [
             0.1,
             "#c51b7d"
            ],
            [
             0.2,
             "#de77ae"
            ],
            [
             0.3,
             "#f1b6da"
            ],
            [
             0.4,
             "#fde0ef"
            ],
            [
             0.5,
             "#f7f7f7"
            ],
            [
             0.6,
             "#e6f5d0"
            ],
            [
             0.7,
             "#b8e186"
            ],
            [
             0.8,
             "#7fbc41"
            ],
            [
             0.9,
             "#4d9221"
            ],
            [
             1,
             "#276419"
            ]
           ],
           "sequential": [
            [
             0,
             "#0d0887"
            ],
            [
             0.1111111111111111,
             "#46039f"
            ],
            [
             0.2222222222222222,
             "#7201a8"
            ],
            [
             0.3333333333333333,
             "#9c179e"
            ],
            [
             0.4444444444444444,
             "#bd3786"
            ],
            [
             0.5555555555555556,
             "#d8576b"
            ],
            [
             0.6666666666666666,
             "#ed7953"
            ],
            [
             0.7777777777777778,
             "#fb9f3a"
            ],
            [
             0.8888888888888888,
             "#fdca26"
            ],
            [
             1,
             "#f0f921"
            ]
           ],
           "sequentialminus": [
            [
             0,
             "#0d0887"
            ],
            [
             0.1111111111111111,
             "#46039f"
            ],
            [
             0.2222222222222222,
             "#7201a8"
            ],
            [
             0.3333333333333333,
             "#9c179e"
            ],
            [
             0.4444444444444444,
             "#bd3786"
            ],
            [
             0.5555555555555556,
             "#d8576b"
            ],
            [
             0.6666666666666666,
             "#ed7953"
            ],
            [
             0.7777777777777778,
             "#fb9f3a"
            ],
            [
             0.8888888888888888,
             "#fdca26"
            ],
            [
             1,
             "#f0f921"
            ]
           ]
          },
          "colorway": [
           "#636efa",
           "#EF553B",
           "#00cc96",
           "#ab63fa",
           "#FFA15A",
           "#19d3f3",
           "#FF6692",
           "#B6E880",
           "#FF97FF",
           "#FECB52"
          ],
          "font": {
           "color": "#2a3f5f"
          },
          "geo": {
           "bgcolor": "white",
           "lakecolor": "white",
           "landcolor": "#E5ECF6",
           "showlakes": true,
           "showland": true,
           "subunitcolor": "white"
          },
          "hoverlabel": {
           "align": "left"
          },
          "hovermode": "closest",
          "mapbox": {
           "style": "light"
          },
          "paper_bgcolor": "white",
          "plot_bgcolor": "#E5ECF6",
          "polar": {
           "angularaxis": {
            "gridcolor": "white",
            "linecolor": "white",
            "ticks": ""
           },
           "bgcolor": "#E5ECF6",
           "radialaxis": {
            "gridcolor": "white",
            "linecolor": "white",
            "ticks": ""
           }
          },
          "scene": {
           "xaxis": {
            "backgroundcolor": "#E5ECF6",
            "gridcolor": "white",
            "gridwidth": 2,
            "linecolor": "white",
            "showbackground": true,
            "ticks": "",
            "zerolinecolor": "white"
           },
           "yaxis": {
            "backgroundcolor": "#E5ECF6",
            "gridcolor": "white",
            "gridwidth": 2,
            "linecolor": "white",
            "showbackground": true,
            "ticks": "",
            "zerolinecolor": "white"
           },
           "zaxis": {
            "backgroundcolor": "#E5ECF6",
            "gridcolor": "white",
            "gridwidth": 2,
            "linecolor": "white",
            "showbackground": true,
            "ticks": "",
            "zerolinecolor": "white"
           }
          },
          "shapedefaults": {
           "line": {
            "color": "#2a3f5f"
           }
          },
          "ternary": {
           "aaxis": {
            "gridcolor": "white",
            "linecolor": "white",
            "ticks": ""
           },
           "baxis": {
            "gridcolor": "white",
            "linecolor": "white",
            "ticks": ""
           },
           "bgcolor": "#E5ECF6",
           "caxis": {
            "gridcolor": "white",
            "linecolor": "white",
            "ticks": ""
           }
          },
          "title": {
           "x": 0.05
          },
          "xaxis": {
           "automargin": true,
           "gridcolor": "white",
           "linecolor": "white",
           "ticks": "",
           "title": {
            "standoff": 15
           },
           "zerolinecolor": "white",
           "zerolinewidth": 2
          },
          "yaxis": {
           "automargin": true,
           "gridcolor": "white",
           "linecolor": "white",
           "ticks": "",
           "title": {
            "standoff": 15
           },
           "zerolinecolor": "white",
           "zerolinewidth": 2
          }
         }
        },
        "title": {
         "text": "Video Sentiment Trend Over Time"
        },
        "xaxis": {
         "anchor": "y",
         "autorange": true,
         "domain": [
          0,
          1
         ],
         "range": [
          "2015-12-10 19:36:00.3114",
          "2023-07-06 14:10:22.6886"
         ],
         "title": {
          "text": "date_of_upload"
         },
         "type": "date"
        },
        "yaxis": {
         "anchor": "x",
         "autorange": true,
         "domain": [
          0,
          1
         ],
         "range": [
          -0.3761129126213592,
          0.4836929126213592
         ],
         "title": {
          "text": "polarity_score"
         },
         "type": "linear"
        }
       }
      },
      "image/png": "[encoded data removed]",
      "text/html": [
       "<div>                            <div id=\"a881f0aa-eea6-4ce9-825e-4e1c4bbac966\" class=\"plotly-graph-div\" style=\"height:525px; width:100%;\"></div>            <script type=\"text/javascript\">                require([\"plotly\"], function(Plotly) {                    window.PLOTLYENV=window.PLOTLYENV || {};                                    if (document.getElementById(\"a881f0aa-eea6-4ce9-825e-4e1c4bbac966\")) {                    Plotly.newPlot(                        \"a881f0aa-eea6-4ce9-825e-4e1c4bbac966\",                        [{\"customdata\":[[\"sidemen one word interview\"],[\"sidemen one word interview\"],[\"sidemen among us chaos mode\"],[\"sidemen association challenge\"],[\"sidemen noob vs pro rocket league\"],[\"sidemen among us sheriff role the dumbest lobby ever\"],[\"do all the sidemen think the same\"],[\"do all the sidemen think the same\"],[\"do all the sidemen think the same\"],[\"do all the sidemen think the same\"],[\"do all the sidemen think the same\"],[\"sidemen are you smarter than a year old\"],[\"sidemen are you smarter than a year old\"],[\"this is the greatest sidemen video ever\"],[\"sidemen among us jester role\"],[\"sidemen extreme cop chase challenge on gta\"],[\"sidemen christmas mukbang\"],[\"sidemen christmas mukbang\"],[\"sidemen christmas mukbang\"],[\"sidemen secret santa\"],[\"sidemen secret santa\"],[\"sidemen secret santa\"],[\"sidemen secret santa\"],[\"sidemen reverse hide seek on ksi s mega yacht\"],[\"sidemen gta meme olympics\"],[\"sidemen gta meme olympics\"],[\"buy christmas drillings today\"],[\"sidemen christmas drillings edm remix official music video\"],[\"sidemen box of lies\"],[\"sidemen box of lies\"],[\"harry potter s doppelg nger\"],[\"sidemen christmas drillings house remix official lyric video\"],[\"sidemen vs lucky blocks in minecraft\"],[\"sidemen grenade game on gta\"],[\"sidemen cards against humanity\"],[\"sidemen memory test\"],[\"sidemen get cancelled challenge\"],[\"sidemen tinder among us edition\"],[\"can ksi guess the real prime\"],[\"the sidemen christmas quiz\"],[\"sidemen blind eating challenge\"],[\"the moment that cancelled vikkstar\"],[\"sidemen complete the longest race on gta\"],[\"sidemen draw the logo challenge\"],[\"how ksi lost the wildest sidemen forfeit ever\"],[\"sidemen real or fake challenge\"],[\"the most offensive sidemen forfeit ever\"],[\"sidemen offensive second challenge\"],[\"ksi quits sidemen among us forever\"],[\"somebody call the authorities\"],[\"sidemen christmas drillings ft jme official music video\"],[\"sidemen this or that official music video\"],[\"sidemen bully harry on gta\"],[\"sidemen go to the world cup\"],[\"sidemen extreme fear pong\"],[\"sidemen sabotage ksi on forfeit mario kart\"],[\"ksi shocks the sidemen\"],[\"mr beast hijacks a sidemen video\"],[\"sidemen offensive try not to laugh\"],[\"sidemen vs mr beast youtuber hunger games\"],[\"sidemen superhero world cup\"],[\"sidemen hilarious proximity chat on warzone\"],[\"the most offensive sidemen among us ever\"],[\"sidemen guess the fake logo challenge\"],[\"sidemen among us chaotic proximity chat returns\"],[\"sidemen vs will smith\"],[\"sidemen human bowling challenge\"],[\"the worst minutes of w s s life\"],[\"sidemen guess the emoji youtuber edition\"],[\"sidemen speed eating challenge\"],[\"sidemen halloween special on gta\"],[\"sidemen pro clubs is back\"],[\"sidemen pro clubs is back\"],[\"sidemen run for their life on gta\"],[\"sidemen among us but the lobby has zero iq\"],[\"sidemen is it real or chocolate\"],[\"sidemen among us but harry cheats to win\"],[\"sidemen controversial tweets\"],[\"the sidemen sock off\"],[\"sidemen lose their minds playing mario\"],[\"the most kills sidemen among us has ever seen\"],[\"sidemen charity match who scored the best goal\"],[\"sidemen play the gta leaks\"],[\"sidemen rank the charity match players\"],[\"this is sidemen sunday\"],[\"sidemen finish the lyric\"],[\"sidemen finish the lyric\"],[\"sidemen finish the lyric\"],[\"sidemen finish the lyric\"],[\"ksi hunts the sidemen\"],[\"the sidemen will be cancelled for this video\"],[\"returning to the sidemen house\"],[\"sidemen forfeit golf shot it or slap it\"],[\"harry begs to quit on sidemen gta\"],[\"sidemen shock the world on gta\"],[\"sidemen youtuber guess who\"],[\"sidemen reveal why jake paul will beat ksi\"],[\"sidemen pringles mukbang\"],[\"sidemen play world s scariest game\"],[\"sidemen guess the emoji challenge\"],[\"dumbest sidemen among us ever\"],[\"sidemen take an iq test\"],[\"sidemen play among us but the imposter gets hacked\"],[\"sidemen gta but loser gets slapped\"],[\"sidemen rage at the world s most impossible game\"],[\"sidemen gta craziest forfeit we ve ever done\"],[\"sidemen become superheroes\"],[\"can ksi win his first crown in fall guys\"],[\"who is the dumbest sidemen member\"],[\"ksi jake paul are secretly friends\"],[\"sidemen extreme darts competition\"],[\"ksi masterclass vs geoguesser pro\"],[\"the last ever sidemen pro clubs episode\"],[\"sidemen vs bots on fall guys\"],[\"sidemen help w s get his first fortnite win\"],[\"sidemen giant jenga painful\"],[\"sidemen forfeit golf\"],[\"sidemen rage at impossible fall guys map\"],[\"sidemen elimination tron race on gta\"],[\"sidemen play brand new fall guys\"],[\"sidemen mario kart rainbow road rage\"],[\"sidemen rage at world s most frustrating game\"],[\"sidemen mario kart race\"],[\"sidemen hacked on gta cops vs robbers\"],[\"sidemen among us but the imposters try to vote each other out\"],[\"sidemen rocket league but its golf\"],[\"sidemen olympics\"],[\"sidemen olympics\"],[\"sidemen among us the best shapeshifter yet\"],[\"sidemen minigolf but it s a race\"],[\"sidemen among us the worst imposters of all time\"],[\"who is the smartest sidemen member\"],[\"sidemen assumptions are ksi anne marie dating\"],[\"ksi races the sidemen for on gta\"],[\"sidemen second categories challenge\"],[\"sidemen pro clubs meme olympics\"],[\"sidemen blind rpg battle on gta\"],[\"sidemen guess eachothers passwords\"],[\"the sidemen find out who is richer\"],[\"sidemen pokemon smash or pass\"],[\"sidemen whisper challenge\"],[\"sidemen whisper challenge\"],[\"sidemen guess the game challenge\"],[\"sidemen google feud\"],[\"sidemen shapeshifter among us gone right\"],[\"sidemen flag game\"],[\"sidemen among us but everyone is third imposter\"],[\"sidemen quiplash but we forgot how to be funny\"],[\"sidemen among us biggest fail\"],[\"sidemen rap battle but we diss ourselves\"],[\"the rematch sidemen geoguessr duel\"],[\"sidemen slap game\"],[\"sidemen water game\"],[\"sidemen geoguessr bullseye mode\"],[\"sidemen trippy olympics\"],[\"sidemen fall guys is back\"],[\"sidemen geoguessr duel\"],[\"brand new sidemen trivial pursuit\"],[\"the strangest car ever on sidemen gta\"],[\"brand new sidemen shellshock\"],[\"sidemen superbowl on gta\"],[\"sidemen parkour challenge\"],[\"the greatest ever sidemen mukbang\"],[\"sidemen lose their minds on gta\"],[\"the ultimate sidemen gameshow\"],[\"sidemen minigolf\"],[\"the most outrageous game yet\"],[\"sidemen battleships on gta\"],[\"sidemen disstrack season\"],[\"sidemen vs sidemen on gta\"],[\"the worst swat team of all time ready or not\"],[\"sidemen shapeshifter among us\"],[\"sidemen play golf it but the map is impossible\"],[\"brand new sidemen horror movie\"],[\"sidemen cops vs robbers on gta\"],[\"the sidemen have to split up\"],[\"new roles in sidemen among us\"],[\"sidemen extreme grand prix on gta\"],[\"sidemen helmet game\"],[\"ksi w s among us masterclass\"],[\"sidemen among us greatest moments\"],[\"sidemen reverse hide seek in marbella mansion\"],[\"sidemen break pro clubs world record\"],[\"sidemen are hacked on gta\"],[\"sidemen darkest secrets revealed\"],[\"sidemen giant ramp on gta\"],[\"sidemen new years day golf\"],[\"sidemen christmas rap battles\"],[\"ksi quits on gta\"],[\"the last ever sidemen among us\"],[\"sidemen christmas quiz\"],[\"sidemen gta christmas special\"],[\"sidemen vs fortnite pro\"],[\"sidemen crossing battle royale\"],[\"sidemen among us but it s pure chaos\"],[\"the sidemen rate social media apps\"],[\"the sidemen finally win squid game\"],[\"sidemen call out penalties\"],[\"sidemen among us is back\"],[\"sidemen password game\"],[\"sidemen password game\"],[\"sidemen squid game vs fans\"],[\"sidemen categories\"],[\"sidemen categories\"],[\"sidemen football forfeits\"],[\"sidemen left hand drawing challenge\"],[\"sidemen manhunt in gta\"],[\"sidemen google ourselves\"],[\"sidemen pro clubs our fastest title ever\"],[\"sidemen nando s mukbang\"],[\"mikel arteta rates the sidemens football ability\"],[\"sidemen squid game glass bridge challenge on gta\"],[\"sidemen play scuffed squid game\"],[\"extreme sidemen advent calendar forfeits\"],[\"sidemen play golf in takeshi s castle\"],[\"the sidemen play fifa pro clubs\"],[\"sidemen higher or lower youtube subscribers\"],[\"sidemen year anniversary on gta\"],[\"sidemen play the scariest game ever\"],[\"sidemen squid game on gta\"],[\"sidemen olympics the new fastest sideman\"],[\"trivial pursuit but ksi s knowledge is massive\"],[\"sidemen play competitive tetris\"],[\"the sidemen play scuffed fall guys\"],[\"the sidemen did not finish in gta v\"],[\"gib annoys the sidemen for minutes straight\"],[\"sidemen penalty challenge vs kids\"],[\"the sidemen falling over for minutes straight\"],[\"do the sidemen think the same as onlyfans girls\"],[\"stroking out with your friends sidemen gaming\"],[\"gartic phone but ksi is years old\"],[\"the most epic battles in gta history\"],[\"the sidemen become thieves\"],[\"the nigerian takeover sidemen olympics\"],[\"the sidemen being awkward around girls for more minutes straight\"],[\"the wildest sidemen assumptions\"],[\"most savage tinder lines of all time\"],[\"last to stop playing uno wins\"],[\"sidemen olympics going for gold\"],[\"sidemen describe celebrities in one word\"],[\"sidemen word association\"],[\"women rate the strongest sidemen\"],[\"women rate the smelliest sidemen\"],[\"uncut women guess the laziest sidemen\"],[\"sidemen guess the song rematch\"],[\"sidemen answer the internets strangest questions\"],[\"sidemen tiktok game\"],[\"the ultimate sidemen ping pong tournament\"],[\"sidemen guess the song challenge\"],[\"sidemen guess the song challenge\"],[\"sidemen guess the song challenge\"],[\"sidemen guess the song challenge\"],[\"ksi s voice cracks for minutes straight\"],[\"first to guess the sidemen password wins\"],[\"how to avoid getting cancelled\"],[\"biggest sidemen lies exposed\"],[\"the sidemen rank the best tinder lines\"],[\"what really happened at clash of creators\"],[\"the harry curse\"],[\"ksi vs w s in gta v\"],[\"brand new sidemen hq\"],[\"drake messages ksi during gta v\"],[\"the sidemen roast ksi s new album\"],[\"the race you ve all been waiting for\"],[\"ksi has left moresidemen\"],[\"hide seek on ksi s private jet\"],[\"is harry quitting gaming videos\"],[\"quirky quiplash but tobi hates simon\"],[\"sidemen but we re set\"],[\"ksi karen vs the sidemen\"],[\"the smartest sidemen awards\"],[\"the worst minutes of harry s life\"],[\"trivial pursuit but harry is down bad sidemen gaming\"],[\"sidemen drunk bingo the final round\"],[\"gartic phone but it s youtube boxing sidemen gaming\"],[\"sidemen drunk bingo\"],[\"if you laugh you get cancelled\"],[\"the sidemen lose their heads on gta\"],[\"sidemen higher or lower sidemen sundays\"],[\"reacting to our premier league predictions\"],[\"sike\"],[\"we are the best team in the world sidemen pro clubs\"],[\"golf with your enemies sidemen gaming\"],[\"sidemen higher or lower spotify streams\"],[\"sidemen vs premier league champions\"],[\"the worst sidemen drawings ever seen on youtube\"],[\"sidemen overrated or underrated\"],[\"the sidemen play gartic phone\"],[\"sidemen pro clubs with a special guest\"],[\"sidemen vs dream minecraft manhunt\"],[\"mad verse city but ksi can t rap\"],[\"sidemen football darts\"],[\"the last ever sidemen gta\"],[\"sidemen fc join the super league\"],[\"sidemen golf but there s on the line\"],[\"sidemen woodwork challenge\"],[\"sidemen woodwork challenge\"],[\"sidemen reach million subscribers on gta v\"],[\"sidemen vs rocket league pro for\"],[\"which of the sidemen passed out at a party\"],[\"the best freekick video on youtube\"],[\"ksi is not funny\"],[\"sidemen on striker challenge\"],[\"sidemen crossbar challenge\"],[\"sidemen crossbar challenge\"],[\"monster truck madness in gta\"],[\"ksi proves he s the best at fifa\"],[\"our gta lobby was hacked\"],[\"sidemen higher or lower spotify monthly listeners\"],[\"sidemen higher or lower spotify monthly listeners\"],[\"sidemen higher or lower spotify monthly listeners\"],[\"the most embarrassing sidemen clubs episode ever\"],[\"best of sidemen sundays\"],[\"best of sidemen sundays\"],[\"best of sidemen sundays\"],[\"best of sidemen sundays\"],[\"best of sidemen sundays\"],[\"best of sidemen sundays\"],[\"best of sidemen sundays\"],[\"best of sidemen sundays\"],[\"best of sidemen sundays\"],[\"best of sidemen sundays\"],[\"best of sidemen sundays\"],[\"best of sidemen sundays\"],[\"best of sidemen sundays\"],[\"best of sidemen sundays\"],[\"best of sidemen sundays\"],[\"best of sidemen sundays\"],[\"best of sidemen sundays\"],[\"best of sidemen sundays\"],[\"best of sidemen sundays\"],[\"best of sidemen sundays\"],[\"best of sidemen sundays\"],[\"best of sidemen sundays\"],[\"best of sidemen sundays\"],[\"best of sidemen sundays\"],[\"best of sidemen sundays\"],[\"best of sidemen sundays\"],[\"best of sidemen sundays\"],[\"sidemen dodgeball knockout city\"],[\"how well do the sidemen know w s\"],[\"sidemen easter egg hunt\"],[\"last sidemen to stop running wins\"],[\"how well do the sidemen know ksi\"],[\"how many rappers can you name sidemen categories\"],[\"sidemen hide and seek in gta\"],[\"how well do the sidemen know tbjzl\"],[\"harry causes chaos sidemen pro clubs\"],[\"sidemen codenames but it s customised\"],[\"sidemen gta madness is back\"],[\"how well do the sidemen know behzinga\"],[\"the sidemen laugh at ksi for minutes straight\"],[\"the most embarrassing sidemen tweets of all time\"],[\"sidemen answer the internets weirdest questions\"],[\"the fanbase war sidemen among us\"],[\"another questionable quiplash sidemen gaming\"],[\"tommyinnit ruins our game sidemen fifa pro clubs\"],[\"ksi vs tommyinnit fight on among us\"],[\"quit the sidemen or quit drinking\"],[\"cheating against the fans sidemen geoguessr\"],[\"the sidemen play codenames\"],[\"road to rage quit sidemen fifa pro clubs\"],[\"sidemen family feud sidemen gaming\"],[\"the sidemen are in prison\"],[\"ksi vs jake paul is finally happening\"],[\"are we allowed to draw this sidemen gaming\"],[\"the worst crewmates of all time sidemen among us proximity\"],[\"the best clubs series on youtube is back sidemen fifa pro clubs\"],[\"sidemen chaotic trolling in among us proximity\"],[\"the rap battles are back with jme sidemen gaming\"],[\"ksi masterclass in proximity mod sidemen among us\"],[\"sidemen second challenge\"],[\"sidemen second challenge\"],[\"sidemen geoguessr battle royale\"],[\"what was the best sidemen sunday video of\"],[\"sidemen higher or lower instagram followers\"],[\"heatseeker is pure chaos sidemen gaming\"],[\"sidemen describe youtubers in one word\"],[\"sidemen would you rather\"],[\"sidemen would you rather\"],[\"sidemen clickbait quiz\"],[\"sidemen clickbait quiz\"],[\"sidemen clickbait quiz\"],[\"i can t believe we ve done this sidemen gaming\"],[\"what happened after the sidemen christmas mukbang\"],[\"sidemen goalkeeper challenge\"],[\"mistakes were made sidemen fifa pro clubs\"],[\"rocket league season is here sidemen gaming\"],[\"which sideman is the best role model sidemen gaming\"],[\"sidemen elimination penalties\"],[\"ksi carries the sidemen in rocket league sidemen gaming\"],[\"sidemen find out their football stats\"],[\"what are these words sidemen gaming\"],[\"sidemen vs faze clan among us but ksi has iq\"],[\"sidemen open million subscriber diamond plaques\"],[\"sidemen giant ball penalty challenge\"],[\"sidemen among us vs faze clan\"],[\"sidemen among us in real life unseen\"],[\"sidemen among us in real life unseen\"],[\"among us in golf it sidemen gaming\"],[\"brand new quiplash sidemen gaming\"],[\"sidemen ball launcher challenge\"],[\"who is the best sidemen striker\"],[\"working on our team chemistry sidemen fifa pro clubs\"],[\"going for the title sidemen fifa pro clubs\"],[\"sidemen among us vs mr beast\"],[\"sidemen among us vs mr beast\"],[\"sidemen insult each other challenge\"],[\"vik is a god at any sidemen fifa pro clubs\"],[\"sidemen play among us but there s a rd impostor sidemen gaming\"],[\"sidemen play among us but that s enough for me sidemen gaming\"],[\"sidemen play among us but it s the strangest play ever sidemen gaming\"],[\"sidemen among us vs lazarbeam lachlan fresh\"],[\"the sidemen pro clubs journey begins sidemen fifa pro clubs\"],[\"sidemen play among us but tobi gets his revenge sidemen gaming\"],[\"sidemen play among us but everyone rages at each other sidemen gaming\"],[\"sidemen among us vs pewdiepie dream jacksepticeye\"],[\"sidemen play among us but everyone acts sus sidemen gaming\"],[\"the sidemen are back on rocket league sidemen gaming\"],[\"sidemen play among us but everyone has iq sidemen gaming\"],[\"the sidemen play among us sidemen gaming\"],[\"logan paul threatens ksi on gta v sidemen gaming\"],[\"is ksi actually the smartest sideman sidemen gaming\"],[\"sidemen minecraft meme olympics sidemen gaming\"],[\"the sidemen take a quiz but they are hungover\"],[\"who s the smartest sideman sidemen gaming\"],[\"ethan s first time on fall guys sidemen gaming\"],[\"sidemen premier league predictions\"],[\"sidemen vs professional poker player tournament\"],[\"playing fall guys on golf sidemen gaming\"],[\"bullying ksi on fall guys sidemen gaming\"],[\"sidemen best pro clubs moments of fifa\"],[\"sidemen rank every fall guys level\"],[\"can we all get to the final in fall guys sidemen gaming\"],[\"the end of clubs sidemen gaming\"],[\"sidemen poker night with lux freezy\"],[\"sidemen dominating on fall guys sidemen gaming\"],[\"worst sidemen trims of all time\"],[\"goals red cards and more goals sidemen gaming\"],[\"going for the dub in fall guys sidemen gaming\"],[\"the sidemen play higher or lower sidemen gaming\"],[\"the sidemen play fall guys sidemen gaming\"],[\"emotions running high sidemen gaming\"],[\"sidemen fast food tier list\"],[\"the sidemen being awkward around girls for minutes straight\"],[\"draw my thing but we kick each other from the game sidemen gaming\"],[\"survival of the wisest sidemen gaming\"],[\"the sidemen play trivial pursuit sidemen gaming\"],[\"the mystical forest sidemen gaming\"],[\"how to not get cancelled with the sidemen sidemen gaming\"],[\"sidemen best of lockdown\"],[\"conquering the division sort of sidemen gaming\"],[\"mad verses in mad verse city sidemen gaming\"],[\"sidemen poker tournament\"],[\"unseen strangers roast the sidemen\"],[\"taking on division sidemen gaming\"],[\"taking on division sidemen gaming\"],[\"it s every sideman for himself sidemen gaming\"],[\"sidemen warzone giveaway sidemen gaming\"],[\"sidemen rap or crap\"],[\"what do our fans think of us\"],[\"it s now or never sidemen gaming\"],[\"quiplash sidemen edition sidemen gaming\"],[\"back to winning ways sidemen gaming\"],[\"the sidemen play role models sidemen gaming\"],[\"must win games sidemen gaming\"],[\"questionable quiplash sidemen gaming\"],[\"bouncing back sidemen gaming\"],[\"only one can escape sidemen gaming\"],[\"golf but everyone quits sidemen gaming\"],[\"win draw or go home sidemen gaming\"],[\"the sidemen play survive the internet sidemen gaming\"],[\"sidemen trivia night sidemen gaming\"],[\"our biggest win yet sidemen gaming\"],[\"who scored the best sidemen charity match goal\"],[\"which of our followers has the most followers\"],[\"teamwork makes the dreamwork sidemen gaming\"],[\"quiplash with the boys sidemen gaming\"],[\"family friendly rap battles sidemen gaming\"],[\"so division sidemen gaming\"],[\"which of our subscribers has the most subscribers\"],[\"best of ksi s characters\"],[\"best of ksi s characters\"],[\"sidemen lockdown tinder why the girls said no\"],[\"sidemen rate their own tiktoks\"],[\"it all comes down to this sidemen gaming\"],[\"whose is it sidemen guess the youtuber\"],[\"completely appropriate quiplash sidemen gaming\"],[\"promotion is on the horizon sidemen gaming\"],[\"sidemen majority game\"],[\"sidemen back on rocket league sidemen gaming\"],[\"the sidemen rate their own songs\"],[\"the sidemen play shellshock live sidemen gaming\"],[\"the comeback of dreams sidemen gaming\"],[\"sidemen best warzone moments\"],[\"sidemen answer fan assumptions\"],[\"a brand new golf map sidemen gaming\"],[\"sidemen stay at home skribbl io sidemen gaming\"],[\"sidemen most likely to\"],[\"who will win sidemen gaming\"],[\"top sidemen gta moments\"],[\"self isolation quiplash sidemen gaming\"],[\"quarantine golf sidemen gaming\"],[\"sidemen vs jme rap battle sidemen gaming\"],[\"the sidemen play trials rising sidemen gaming\"],[\"can the sidemen win on warzone sidemen gaming\"],[\"best of sidemen saturdays\"],[\"best of sidemen saturdays\"],[\"best of sidemen saturdays\"],[\"best of sidemen saturdays\"],[\"best of sidemen saturdays\"],[\"best of sidemen saturdays\"],[\"most painful sidemen game ever\"],[\"sidemen encore challenge\"],[\"sidemen sundays but it s only stephen tries\"],[\"sidemen horror movie sidemen gaming\"],[\"sidemen react to their reddit\"],[\"sidemen react to their reddit\"],[\"sidemen react to their reddit\"],[\"sidemen youtube tinder why the girls said no\"],[\"sidemen play google feud\"],[\"the most outrageous game sidemen play bad people\"],[\"how rich are the sidemen\"],[\"the worst drawings ever sidemen gaming\"],[\"sidemen v survival fifa\"],[\"sidemen diss tracks in sidemen gaming\"],[\"sidemen guess the tune\"],[\"sidemen heads up\"],[\"the sidemen play quiplash sidemen gaming\"],[\"who s the richest sidemen member sidemen q a\"],[\"an embarrassing rage quit sidemen gaming\"],[\"ksi sleeping for minutes straight\"],[\"who s the best rapper in the sidemen sidemen gaming\"],[\"sidemen best of december\"],[\"sidemen best of december\"],[\"sidemen predict anesongib vs jake paul\"],[\"sidemen reverse hide seek on a private island\"],[\"kicking jj out of the sidemen sidemen gaming\"],[\"whose sidemen instagram is it\"],[\"the sidemen play modern warfare sidemen gaming\"],[\"jake paul or logan paul sidemen would you rather\"],[\"the sidemen pack van dijk toty pack opening\"],[\"jj s first win on golf with friends sidemen gaming\"],[\"sidemen youtube awards\"],[\"sidemen youtube awards\"],[\"sidemen draw the youtuber\"],[\"the sidemen embarrass jj sidemen gaming\"],[\"top moments of sidemen\"],[\"sidemen the gift ft s x official music video\"],[\"sidemen merry merry christmas ft jme layz official music video\"],[\"sidemen youtube whispers\"],[\"sidemen rate usa youtubers\"],[\"sidemen best of november\"],[\"sidemen best of november\"],[\"sidemen react to draw their life\"],[\"sidemen vs holiday orange team extended cut\"],[\"sidemen vs holiday purple team extended cut\"],[\"sidemen voting game\"],[\"happy birthday harry\"],[\"sidemen best of october\"],[\"sidemen best of october\"],[\"who is the best sideman sidemen gaming\"],[\"the sidemen take the ultimate youtube quiz\"],[\"into the void sidemen gaming\"],[\"which of the sidemen knows callux the best\"],[\"sidemen predict ksi vs logan paul\"],[\"who s cheating sidemen draw my thing sidemen gaming\"],[\"sidemen charades\"],[\"how the sidemen met\"],[\"sidemen gta death run sidemen gaming\"],[\"which of the sidemen knows calfreezy the best\"],[\"how many youtubers can you name sidemen categories\"],[\"vik plays as any sidemen fifa pro clubs sidemen gaming\"],[\"sidemen viral point game\"],[\"the sidemen anniversary awards\"],[\"the sidemen play gta sidemen gaming\"],[\"sidemen reverse hide seek in a theme park\"],[\"josh vs tobi sidemen fifa royal rumble final\"],[\"simon vs tobi sidemen fifa royal rumble\"],[\"josh vs vik sidemen fifa royal rumble\"],[\"jj vs josh sidemen fifa royal rumble\"],[\"simon vs harry sidemen fifa royal rumble\"],[\"sidemen fifa royal rumble\"],[\"sidemen answer your assumptions\"],[\"sidemen best of september\"],[\"sidemen best of september\"],[\"sidemen fifa pro clubs sidemen gaming\"],[\"ksi vs logan paul anesongib vs jake paul sidemen podcast\"],[\"sidemen crossing challenge\"],[\"sidemen rate uk youtubers\"],[\"sidemen house challenge in minecraft sidemen gaming\"],[\"sidemen best of august\"],[\"sidemen best of august\"],[\"ksi miniminter reacting to sidemen meme edits\"],[\"the sidemen hitting the crossbar for minutes\"],[\"the sidemen choose words in draw my thing sidemen gaming\"],[\"happy birthday simon\"],[\"which of the sidemen knows jj the best\"],[\"sidemen hide seek in minecraft sidemen gaming\"],[\"happy birthday josh\"],[\"which of the sidemen knows simon the best\"],[\"sidemen guess the youtuber\"],[\"all of harry s terrible pick up lines from sidemen tinder\"],[\"the sidemen duel minecraft sidecraft\"],[\"sidemen tinder why the girls said no\"],[\"which of the sidemen knows josh the best\"],[\"the sidemen war ends minecraft sidecraft\"],[\"unseen sidemen total wipeout\"],[\"the sidemen spend hours in amsterdam\"],[\"sidemen best of july\"],[\"sidemen best of july\"],[\"the sidemen battle minecraft sidecraft\"],[\"which of the sidemen knows tobi the best\"],[\"sidemen fc vs youtube allstars\"],[\"ksi switches sides minecraft sidecraft\"],[\"sidemen awkward in public\"],[\"happy birthday vik\"],[\"sidemen savage golf session sidemen gaming\"],[\"sidemen pictionary challenge\"],[\"sidemen moo off\"],[\"sidemen moo off\"],[\"sidemen beef minecraft sidecraft\"],[\"which of the sidemen knows vik the best\"],[\"first to guess the password wins\"],[\"sidemen play minecraft minecraft sidecraft\"],[\"which of the sidemen knows harry the best\"],[\"sidemen team hide and seek\"],[\"first sidemen fortnite deathrun sidemen gaming\"],[\"phil bullying the sidemen for minutes straight\"],[\"sidemen shots fired\"],[\"sidemen shots fired\"],[\"sidemen shots fired\"],[\"sidemen shots fired\"],[\"sidemen shots fired\"],[\"sidemen shots fired\"],[\"sidemen shots fired\"],[\"sidemen shots fired\"],[\"sidemen shots fired\"],[\"which of the sidemen knows ethan the best\"],[\"sidemen best of june\"],[\"sidemen best of june\"],[\"the sidemen play dead by daylight sidemen gaming\"],[\"the sidemen are splitting up sidemen rumours\"],[\"sidemen strength tests\"],[\"which of the sidemen was it\"],[\"sidemen play topgolf\"],[\"the sidemen open weird fan mail\"],[\"sidemen react to hate comments\"],[\"the sidemen in america\"],[\"sidemen rate sidemen videos\"],[\"sidemen best of may\"],[\"sidemen best of may\"],[\"best sidemen hide seek moments\"],[\"best sidemen hide seek moments\"],[\"funniest sidemen slip n slide moments\"],[\"sidemen hide seek on a private jet\"],[\"sidemen try american candy\"],[\"all sidemen in a golf video first time ever sidemen gaming\"],[\"best sidemen house and room tours\"],[\"strangers roast the sidemen phil uncut\"],[\"strangers roast the sidemen kiera uncut\"],[\"strangers roast the sidemen joe uncut\"],[\"strangers roast the sidemen mia uncut\"],[\"strangers roast the sidemen scott uncut\"],[\"strangers roast the sidemen melissa uncut\"],[\"sidemen chilli challenges\"],[\"sidemen genius diss track lyrics\"],[\"sidemen chubby bunny challenges\"],[\"sidemen vs faze penalty shootout\"],[\"the sidemen play jenga\"],[\"sidemen deadest jokes\"],[\"sidemen deadest jokes\"],[\"sidemen deadest jokes\"],[\"sidemen deadest jokes\"],[\"sidemen deadest jokes\"],[\"the sidemen spent days on a cruise and this happened\"],[\"sidemen best of april\"],[\"sidemen best of april\"],[\"sidemen clickbait quizzes\"],[\"sidemen guess who\"],[\"the sidemen play rocket league\"],[\"the sidemen get drunk\"],[\"sidemen give advice\"],[\"sidemen drawing challenges\"],[\"sidemen table tennis tournament\"],[\"the sidemen get egged\"],[\"the sidemen get waxed\"],[\"sidemen mukbang\"],[\"ranking all sidemen charity match goals\"],[\"sidemen best of march\"],[\"sidemen best of march\"],[\"sidemen one word interviews\"],[\"sidemen indoor penalty challenge\"],[\"best of sidemen reacting to reddit\"],[\"sidemen instagram q a part\"],[\"sidemen instagram q a\"],[\"one question go\"],[\"sidemen play scream go hero\"],[\"sidemen basketball challenge\"],[\"sidemen you laugh you lose\"],[\"sidemen indoor football\"],[\"sidemen not my arms\"],[\"sidemen go to the arcade\"],[\"the sidemen try on make up\"],[\"the sidemen go on tinder\"],[\"sidemen best of february\"],[\"sidemen best of february\"],[\"sidemen simon says\"],[\"cooking with the sidemen\"],[\"sidemen best of the siblings\"],[\"sidemen most shocking challenges\"],[\"sidemen wackiest hairstyles\"],[\"the best of ksi s comeback\"],[\"sidemen unbox million subscriber plaques\"],[\"sidemen best of january\"],[\"sidemen best of january\"],[\"sidemen guess the song challenges\"],[\"sidemen funniest inflatables moments\"],[\"most extreme sidemen forfeits\"],[\"most extreme sidemen forfeits\"],[\"the best moments in the sidemen house\"],[\"sidemen funniest kitchen challenges\"],[\"the sidemen travel the world\"],[\"sidemen best moments of\"],[\"sidemen chubby bunny challenge gone wrong\"],[\"sidemen accent challenge\"],[\"sidemen funniest christmas moments\"],[\"the rudest game ever deckheads challenge\"],[\"sidemen react to old videos\"],[\"sidemen react to old videos\"],[\"sidemen react to old videos\"],[\"sidemen react to old videos\"],[\"sidemen react to internet videos\"],[\"sidemen react to internet videos\"],[\"sidemen react to internet videos\"],[\"sidemen best ever pranks\"],[\"sidemen best ever pranks\"],[\"sidemen rock paper scissors tournament\"],[\"sidemen pro clubs\"],[\"sidemen try not to laugh impossible\"],[\"sidemen garry s mod funniest moments\"],[\"sidemen funniest fails\"],[\"the sidemen play geoguessr\"],[\"best sidemen fortnite moments\"],[\"best sidemen fortnite moments\"],[\"funniest sidemen rage quits\"],[\"sidemen best vr moments\"],[\"sidemen spookiest moments\"],[\"the greatest sidemen moments of all time sidemen years\"],[\"funniest sidemen family moments\"],[\"sidemen funniest skits\"],[\"sidemen funniest skits\"],[\"sidemen funniest skits\"],[\"funniest charity match moments\"],[\"sidemen googling ourselves\"],[\"the sidemen play golf in real life\"],[\"sidemen funniest snapchat q a questions\"],[\"the worst sidemen injuries\"],[\"sidemen funniest mad libs moments\"],[\"sidemen would you rather moments\"],[\"the funniest bits sidemen podcast\"],[\"sidemen quickfire questions\"],[\"sidemen funniest patience test moments\"],[\"best of sidemen challenges\"],[\"best of sidemen challenges\"],[\"sidemen playing with pro footballers\"],[\"the biggest event in internet history\"],[\"greatest ever sidemen trickshots\"],[\"sidemen funniest q a moments\"],[\"all sidemen diss tracks in order\"],[\"unreleased wroetoshaw sidemen diss track\"],[\"unseen footage sidemen wireless hide seek\"],[\"sidemen reacting to old videos\"],[\"sidemen being awkward in public\"],[\"best sidemen olympic world records\"],[\"sidemen penalty shootout\"],[\"the sidemen play other sports\"],[\"best of sidemen collabs\"],[\"sidemen more dead jokes\"],[\"maddest sidemen soundclips\"],[\"sidemen best hole in ones\"],[\"unreleased sidemen hide and seek\"],[\"ksi vs logan paul press conference the sidemen show sidemen podcast\"],[\"sidemen maddest moments\"],[\"sidemen maddest moments\"],[\"sidemen that s what she said moments\"],[\"sidemen fc match ksi vs logan paul boxing the sidemen show sidemen podcast\"],[\"best of sidemen fc charity matches\"],[\"sidemen most likely to challenge\"],[\"sidemen the movie official trailer behind the scenes day\"],[\"sidemen the movie official trailer behind the scenes day\"],[\"sidemen more shots fired\"],[\"sidemen brain farts\"],[\"sidemen sumo fight behind the scenes\"],[\"when sidemen videos go wrong\"],[\"sidemen total wipeout football challenge behind the scenes\"],[\"best sidemen cards against humanity moments\"],[\"funniest sidemen football moments\"],[\"hilarious sidemen facecam moments\"],[\"scariest sidemen moments\"],[\"the sidemen can sing\"],[\"how the sidemen make a football video\"],[\"sidemen mum jokes\"],[\"best old sidemen moments\"],[\"sidemen make weird noises\"],[\"sidemen biggest rage moments\"],[\"will ksi fight logan paul or jake paul sidemen podcast\"],[\"sidemen vs beta squad among us in real life\"],[\"women vs sidemen kai cenat edition\"],[\"sidemen race across a country europe edition\"],[\"sidemen waterpark hide seek\"],[\"the greatest sidemen moments\"],[\"the greatest sidemen moments\"],[\"sidemen vs christmas day\"],[\"sidemen vs christmas day\"],[\"sidemen big fat quiz of the year\"],[\"sidemen big fat quiz of the year\"],[\"sidemen big fat quiz of the year\"],[\"sidemen extreme christmas cook off\"],[\"sidemen vs christmas song\"],[\"sidemen vs football match\"],[\"sidemen superyacht hide and seek\"],[\"sidemen a z calorie challenge\"],[\"sidemen extreme japanese gameshows\"],[\"sidemen old vs young for hours challenge\"],[\"sidemen forfeit blind date\"],[\"sidemen vs mr beast challenge\"],[\"sidemen hide seek in world s biggest theatre\"],[\"sidemen swap lives for hours\"],[\"sidemen charity match goals highlights\"],[\"sidemen charity match official stream\"],[\"who is the best sidemen football player\"],[\"women vs sidemen logan paul edition\"],[\"sidemen hot vs cold mukbang\"],[\"sidemen train like ksi for hours\"],[\"sidemen europe calorie challenge\"],[\"sidemen vs road trip usa edition\"],[\"sidemen hide and seek in a school\"],[\"sidemen vs holiday usa edition\"],[\"sidemen tinder in real life usa youtube edition\"],[\"sidemen escape room challenge\"],[\"sidemen hole in the wall\"],[\"women vs sidemen jidion edition\"],[\"pointless sidemen edition\"],[\"sidemen vs birthday party\"],[\"sidemen vs birthday party\"],[\"sidemen turn into in hours challenge\"],[\"sidemen vs hotel europe edition\"],[\"women vs sidemen filly edition\"],[\"sidemen vs theme park\"],[\"sidemen a z buying challenge\"],[\"sidemen abandoned in europe challenge\"],[\"sidemen game of life in real life\"],[\"sidemen silent library\"],[\"sidemen silent library\"],[\"sidemen race across europe challenge\"],[\"sidemen one million pound drop\"],[\"sidemen vs premier league goalkeeper\"],[\"sidemen throw a dart and go where it lands\"],[\"sidemen usa vs uk calories challenge\"],[\"sidemen las vegas forfeit hide and seek\"],[\"sidemen complete this challenge win\"],[\"sidemen mukbang on a bus\"],[\"the cube sidemen edition\"],[\"women vs sidemen callux edition\"],[\"sidemen family feud\"],[\"sidemen that finds lamborghini wins it\"],[\"sidemen drink one colour for hours challenge\"],[\"sidemen hide and seek in spanish mansion\"],[\"sidemen vs new years eve\"],[\"women vs sidemen ksi edition\"],[\"sidemen hot vs cold holiday\"],[\"sidemen pub golf europe edition\"],[\"sidemen hide seek in the world s biggest toy store\"],[\"sidemen extreme robot wars battle bots\"],[\"sidemen extreme tag\"],[\"sidemen extreme bake off\"],[\"sidemen abandoned challenge\"],[\"sidemen who wants to be a millionaire\"],[\"sidemen car challenge\"],[\"sidemen hide and seek in a nuclear bunker\"],[\"sidemen vs kids football match\"],[\"sidemen vs camping\"],[\"sidemen vs onlyfans olympics\"],[\"sidemen speed dating extreme\"],[\"women rate the most attractive sidemen\"],[\"sidemen hot tub mukbang\"],[\"sidemen hide and seek in the most expensive house in london\"],[\"sidemen buying one colour for hours\"],[\"sidemen extreme punishment pool\"],[\"sidemen extreme fishing vs logan paul\"],[\"sidemen spend on fans\"],[\"sidemen hide and seek on a jumbo jet\"],[\"the wheel sidemen edition\"],[\"sidemen gogglebox\"],[\"sidemen extreme cook off\"],[\"sidemen vs hotel\"],[\"sidemen vs arsenal womens team\"],[\"sidemen impossible footgolf challenge\"],[\"sidemen vs mukbang\"],[\"sidemen guess the millionaire\"],[\"sidemen a z drinking challenge gone wrong\"],[\"sidemen hide seek in a dungeon\"],[\"sidemen most weight lost in hours challenge\"],[\"sidemen all sports golf battle\"],[\"sidemens got talent\"],[\"sidemen crystal maze\"],[\"sidemen eat food from different countries hours challenge\"],[\"sidemen barber shop gone wrong\"],[\"women vs sidemen harry edition\"],[\"sidemen worlds most expensive mukbang\"],[\"sidemen guess the fake couple\"],[\"sidemen tinder in real life\"],[\"sidemen tinder in real life\"],[\"the price is right sidemen edition\"],[\"sidemen hide and seek in a castle\"],[\"sidemen calorie battle the rematch\"],[\"sidemen have minutes to spend\"],[\"top sidemen moments\"],[\"sidemen blind dating\"],[\"sidemen blind dating\"],[\"sidemen blind dating\"],[\"sidemen blind dating\"],[\"sidemen hide and seek in beta squad house\"],[\"the weakest link sidemen edition\"],[\"the weakest link sidemen edition\"],[\"sidemen among us in real life\"],[\"sidemen among us in real life\"],[\"sidemen calories battle\"],[\"sidemen try expensive vs cheap food\"],[\"women vs sidemen ethan edition\"],[\"sidemen trivial pursuit in real life\"],[\"sidemen a z eating challenge\"],[\"sidemen split or steal\"],[\"sidemen drinking mukbang\"],[\"sidemen hide and seek in a prison\"],[\"sidemen fall guys in real life\"],[\"sidemen pub golf gone wrong\"],[\"sidemen race across the uk\"],[\"sidemen punishment basketball\"],[\"sidemen eat the hottest wings challenge\"],[\"jeopardy sidemen edition\"],[\"sidemen vs takeaway\"],[\"sidemen spend on each other in hour\"],[\"sidemen go camping\"],[\"strangers roast the sidemen\"],[\"strangers roast the sidemen\"],[\"sidemen vs\"],[\"sidemen reunited mukbang\"],[\"sidemen vs w s football challenge\"],[\"sidemen real life bingo in lockdown\"],[\"sidemen calories challenge in lockdown\"],[\"sidemen go back to online school\"],[\"sidemen talent show\"],[\"sidemen spelling bee\"],[\"sidemen spelling bee\"],[\"sidemen tinder in lockdown\"],[\"sidemen tiktok challenge\"],[\"sidemen lockdown showdown\"],[\"sidemen learn skills in hours\"],[\"sidemen come dine with me\"],[\"the end of the sidemen channel\"],[\"stayhome\"],[\"sidemen escape room\"],[\"sidemen paintball hide and seek\"],[\"sidemen dragons den shark tank\"],[\"sidemen tinder in real life uk youtube edition\"],[\"sidemen spill your guts or fill your guts\"],[\"sidemen most weight gained in hours challenge\"],[\"sidemen monopoly in real life\"],[\"sidemen hide seek on a private island\"],[\"sidemen eating one colour food for hours challenge\"],[\"sidemen lie detector\"],[\"sidemen rewind\"],[\"sidemen christmas cook off\"],[\"sidemen make a song in hours challenge\"],[\"sidemen tipping point\"],[\"sidemen real life bingo\"],[\"sidemen calories in hours challenge usa edition\"],[\"sidemen spend in hour challenge\"],[\"sidemen speed dating\"],[\"sidemen vs holiday europe edition\"],[\"sidemen ice dunk tank challenge\"],[\"the roast of the sidemen\"],[\"sidemen hide seek in a theme park\"],[\"sidemen vs road trip\"],[\"sidemen wheel of fortune\"],[\"sidemen handcuffed for hours challenge\"],[\"sidemen football fear pong\"],[\"sidemen sumo olympics\"],[\"sidemen million mansion reverse hide seek\"],[\"sidemen total wipeout challenge\"],[\"sidemen burn calories in hours challenge\"],[\"sidemen become parents for hours\"],[\"the chase sidemen edition\"],[\"sidemen hide seek in a football stadium\"],[\"sidemen donate to twitch streamers\"],[\"sidemen outfit challenge\"],[\"sidemen go back to school\"],[\"sidemen tinder in real life original edition\"],[\"sidemen strength test\"],[\"sidemen learn to dance ft jabbawockeez\"],[\"nigahiga vs sidemen the ultimate challenge\"],[\"sidemen vs faze crossbar challenge\"],[\"sidemen million faze house hide seek\"],[\"countdown sidemen edition\"],[\"sidemen sports day\"],[\"sidemen vs holiday\"],[\"sidemen giant inflatable slip and slide challenge\"],[\"sidemen one question\"],[\"sidemen million cruise ship hide seek\"],[\"sidemen break world records\"],[\"sidemen eat calories in hours challenge\"],[\"the sidemen bake off\"],[\"sidemen try james charles make up tutorial\"],[\"sidemen read mean tweets\"],[\"sidemen read mean tweets\"],[\"sidemen top best moments\"],[\"sidemen winter olympics\"],[\"sidemen christmas football challenges\"],[\"shocking try not to laugh challenge\"],[\"sidemen punishment pool insane\"],[\"sidemen family fortunes\"],[\"sidemen react to teens react to sidemen\"],[\"sidemen pumpkin carving challenge gone wrong\"],[\"haunted clown maze hide and seek\"],[\"extreme forfeit sidemen quiz\"],[\"sidemen a side football horrific injury\"],[\"sidemen not my arms challenge\"],[\"how fast can the sidemen run m sidemen olympics\"],[\"how well do the sidemen know each other\"],[\"ksi vs the sidemen\"],[\"sidemen who wants to be a billionaire\"],[\"sidemen extreme minigolf\"],[\"sidemen carpool diss track karaoke\"],[\"sidemen explore haunted tunnels warning\"],[\"how hard can the sidemen punch\"],[\"sidemen bowling gone wrong\"],[\"sidemen world cup football challenges\"],[\"sidemen hide seek in wireless festival gone wrong\"],[\"sidemen world cup wipeout challenge\"],[\"sidemen go to space the sidemen show\"],[\"sidemen rescue nicole scherzinger the sidemen show\"],[\"hunting the sidemen the sidemen show\"],[\"sidemen investigate most haunted house the sidemen show\"],[\"the great sidemen race the sidemen show\"],[\"sidemen winter sports challenges the sidemen show\"],[\"sidemen extreme desert race explosion the sidemen show\"],[\"sidemen fc vs youtube allstars goals highlights\"],[\"sidemen fc vs youtube allstars charity match livestream\"],[\"the sidemen show official trailer\"],[\"the sidemen show exclusive teaser trailer\"],[\"sidemen giant slip and slide football\"],[\"sidemen yoga challenge\"],[\"sidemen homemade olympics\"],[\"sidemen deal or no deal\"],[\"sidemen million mansion hide and seek\"],[\"sidemen sumo fight\"],[\"sidemen the movie official trailer\"],[\"sidemen total wipeout football challenge\"],[\"sidemen answer the most searched google questions\"],[\"sidemen ultimate football challenge\"],[\"sidemen silent challenge\"],[\"sidemen giant football darts\"],[\"extreme sidemen fear pong\"],[\"sidemen try not to laugh challenge w jack whitehall\"],[\"you laugh you lose sidemen do bad jokes\"],[\"logan paul ksi vs joe weller fight sidemen diss tracks\"],[\"sidemen fc vs youtube allstars highlights\"],[\"sidemen fc vs youtube allstars livestream\"],[\"you must watch this before the sidemen match\"],[\"the legendary vik as any\"],[\"the end of sidemen clubs\"],[\"exposing the sidemen\"],[\"simon is quitting the sidemen\"],[\"the sidemen beef begins sdmn clubs\"],[\"ksi trolls the sidemen sdmn clubs\"],[\"sidemen book tour\"],[\"the sidemen awards\"],[\"first ever sidemen podcast\"],[\"sidemen manchester meet up\"],[\"sidemen fc vs youtube allstars charity football match livestream\"],[\"sidemen face painting challenge\"],[\"welcome to the sidemen channel\"]],\"hovertemplate\":\"date_of_upload=%{x}<br>polarity_score=%{y}<br>video_title=%{customdata[0]}<extra></extra>\",\"legendgroup\":\"\",\"marker\":{\"color\":\"#636efa\",\"symbol\":\"circle\"},\"mode\":\"markers\",\"name\":\"\",\"showlegend\":false,\"x\":[\"2023-01-30T18:30:47+00:00\",\"2023-01-27T18:35:30+00:00\",\"2023-01-23T18:30:26+00:00\",\"2023-01-20T19:30:04+00:00\",\"2023-01-16T18:00:15+00:00\",\"2023-01-11T18:30:26+00:00\",\"2023-01-04T18:00:06+00:00\",\"2022-12-30T18:00:19+00:00\",\"2022-12-28T18:15:05+00:00\",\"2022-12-27T18:30:39+00:00\",\"2022-12-26T18:30:46+00:00\",\"2022-12-24T18:30:36+00:00\",\"2022-12-23T18:00:08+00:00\",\"2022-12-22T18:30:59+00:00\",\"2022-12-22T11:02:02+00:00\",\"2022-12-21T19:00:18+00:00\",\"2022-12-20T18:38:45+00:00\",\"2022-12-20T08:25:34+00:00\",\"2022-12-19T19:20:50+00:00\",\"2022-12-18T20:00:02+00:00\",\"2022-12-17T17:30:02+00:00\",\"2022-12-16T18:00:32+00:00\",\"2022-12-15T18:30:42+00:00\",\"2022-12-14T17:36:37+00:00\",\"2022-12-13T17:00:17+00:00\",\"2022-12-13T11:14:38+00:00\",\"2022-12-12T18:00:00+00:00\",\"2022-12-11T16:24:41+00:00\",\"2022-12-11T09:15:40+00:00\",\"2022-12-10T17:15:00+00:00\",\"2022-12-09T21:00:16+00:00\",\"2022-12-09T11:21:46+00:00\",\"2022-12-08T17:00:19+00:00\",\"2022-12-07T18:00:01+00:00\",\"2022-12-06T18:00:20+00:00\",\"2022-12-05T17:00:19+00:00\",\"2022-12-05T07:50:12+00:00\",\"2022-12-04T18:30:43+00:00\",\"2022-12-04T18:30:34+00:00\",\"2022-12-03T21:00:29+00:00\",\"2022-12-02T21:00:01+00:00\",\"2022-12-01T21:16:49+00:00\",\"2022-11-28T21:00:08+00:00\",\"2022-11-28T10:35:08+00:00\",\"2022-11-27T16:03:16+00:00\",\"2022-11-26T21:00:12+00:00\",\"2022-11-24T17:30:07+00:00\",\"2022-11-21T18:30:30+00:00\",\"2022-11-18T21:33:33+00:00\",\"2022-11-16T18:30:52+00:00\",\"2022-11-14T18:31:16+00:00\",\"2022-11-12T18:00:00+00:00\",\"2022-11-10T18:30:20+00:00\",\"2022-11-08T20:00:00+00:00\",\"2022-11-04T18:30:32+00:00\",\"2022-11-02T20:11:53+00:00\",\"2022-10-31T18:30:49+00:00\",\"2022-10-29T18:30:16+00:00\",\"2022-10-27T18:00:18+00:00\",\"2022-10-25T18:30:34+00:00\",\"2022-10-21T18:00:27+00:00\",\"2022-10-15T17:30:00+00:00\",\"2022-10-13T18:00:28+00:00\",\"2022-10-11T18:40:26+00:00\",\"2022-10-08T18:01:51+00:00\",\"2022-10-06T17:30:02+00:00\",\"2022-10-04T16:30:13+00:00\",\"2022-10-01T14:00:19+00:00\",\"2022-09-29T21:10:52+00:00\",\"2022-09-27T20:39:19+00:00\",\"2022-09-25T14:00:11+00:00\",\"2022-09-22T18:33:19+00:00\",\"2022-09-20T17:00:34+00:00\",\"2022-09-14T17:30:02+00:00\",\"2022-09-12T17:30:11+00:00\",\"2022-09-10T18:36:22+00:00\",\"2022-09-06T17:34:40+00:00\",\"2022-09-03T17:30:02+00:00\",\"2022-09-01T19:47:50+00:00\",\"2022-08-30T17:30:03+00:00\",\"2022-08-26T18:10:29+00:00\",\"2022-08-24T17:30:01+00:00\",\"2022-08-22T17:32:18+00:00\",\"2022-08-20T17:30:00+00:00\",\"2022-08-18T17:40:42+00:00\",\"2022-08-16T17:30:05+00:00\",\"2022-08-13T18:30:19+00:00\",\"2022-08-11T19:32:19+00:00\",\"2022-08-09T18:07:01+00:00\",\"2022-08-06T18:00:17+00:00\",\"2022-08-04T17:30:00+00:00\",\"2022-08-01T19:22:39+00:00\",\"2022-07-29T17:30:06+00:00\",\"2022-07-27T17:30:05+00:00\",\"2022-07-25T17:30:00+00:00\",\"2022-07-21T19:45:02+00:00\",\"2022-07-19T17:30:02+00:00\",\"2022-07-16T17:00:12+00:00\",\"2022-07-14T17:00:31+00:00\",\"2022-07-12T18:31:00+00:00\",\"2022-07-09T17:30:03+00:00\",\"2022-07-07T18:40:42+00:00\",\"2022-07-05T20:00:12+00:00\",\"2022-06-30T17:00:29+00:00\",\"2022-06-28T18:10:01+00:00\",\"2022-06-25T18:00:16+00:00\",\"2022-06-23T17:00:09+00:00\",\"2022-06-21T18:00:22+00:00\",\"2022-06-18T17:10:47+00:00\",\"2022-06-16T17:00:09+00:00\",\"2022-06-14T18:15:01+00:00\",\"2022-06-11T17:00:07+00:00\",\"2022-06-09T19:36:53+00:00\",\"2022-06-07T17:00:14+00:00\",\"2022-06-04T17:30:11+00:00\",\"2022-06-02T17:00:02+00:00\",\"2022-05-31T17:00:32+00:00\",\"2022-05-28T16:30:05+00:00\",\"2022-05-26T18:00:16+00:00\",\"2022-05-21T18:00:21+00:00\",\"2022-05-17T18:39:07+00:00\",\"2022-05-14T18:00:03+00:00\",\"2022-05-12T18:00:07+00:00\",\"2022-05-10T19:00:11+00:00\",\"2022-05-07T19:00:28+00:00\",\"2022-05-05T17:00:03+00:00\",\"2022-05-03T18:00:17+00:00\",\"2022-04-30T18:45:02+00:00\",\"2022-04-28T18:00:27+00:00\",\"2022-04-26T18:30:33+00:00\",\"2022-04-23T19:27:09+00:00\",\"2022-04-21T18:15:01+00:00\",\"2022-04-18T18:00:02+00:00\",\"2022-04-09T18:00:11+00:00\",\"2022-04-07T18:00:03+00:00\",\"2022-04-04T18:00:02+00:00\",\"2022-03-29T18:15:00+00:00\",\"2022-03-26T19:00:25+00:00\",\"2022-03-24T19:00:12+00:00\",\"2022-03-22T19:00:06+00:00\",\"2022-03-19T19:15:00+00:00\",\"2022-03-17T19:00:19+00:00\",\"2022-03-15T19:00:01+00:00\",\"2022-03-12T19:00:07+00:00\",\"2022-03-03T19:00:06+00:00\",\"2022-02-26T19:00:06+00:00\",\"2022-02-24T19:00:10+00:00\",\"2022-02-22T19:00:17+00:00\",\"2022-02-19T19:00:10+00:00\",\"2022-02-17T19:00:08+00:00\",\"2022-02-15T20:30:00+00:00\",\"2022-02-12T19:00:02+00:00\",\"2022-02-11T20:30:04+00:00\",\"2022-02-09T19:00:32+00:00\",\"2022-02-05T19:00:16+00:00\",\"2022-02-03T19:00:07+00:00\",\"2022-02-01T19:00:17+00:00\",\"2022-01-29T19:00:04+00:00\",\"2022-01-27T19:00:31+00:00\",\"2022-01-25T19:00:31+00:00\",\"2022-01-22T19:00:09+00:00\",\"2022-01-20T19:00:10+00:00\",\"2022-01-19T19:00:30+00:00\",\"2022-01-18T19:00:31+00:00\",\"2022-01-15T19:00:21+00:00\",\"2022-01-13T19:00:17+00:00\",\"2022-01-11T20:15:01+00:00\",\"2022-01-06T19:00:09+00:00\",\"2022-01-04T19:00:14+00:00\",\"2022-01-01T20:30:05+00:00\",\"2021-12-30T19:00:04+00:00\",\"2021-12-28T19:00:18+00:00\",\"2021-12-25T19:00:04+00:00\",\"2021-12-23T19:00:12+00:00\",\"2021-12-22T20:30:00+00:00\",\"2021-12-21T19:00:06+00:00\",\"2021-12-17T18:30:29+00:00\",\"2021-12-16T19:00:00+00:00\",\"2021-12-14T19:00:17+00:00\",\"2021-12-11T19:00:14+00:00\",\"2021-12-09T19:00:18+00:00\",\"2021-12-08T20:00:25+00:00\",\"2021-12-07T21:45:04+00:00\",\"2021-12-04T18:00:21+00:00\",\"2021-12-02T19:00:14+00:00\",\"2021-11-30T19:00:11+00:00\",\"2021-11-27T18:00:08+00:00\",\"2021-11-25T19:00:00+00:00\",\"2021-11-23T19:00:15+00:00\",\"2021-11-20T18:00:10+00:00\",\"2021-11-18T18:00:01+00:00\",\"2021-11-16T19:03:58+00:00\",\"2021-11-13T22:12:28+00:00\",\"2021-11-11T18:00:13+00:00\",\"2021-11-09T18:00:13+00:00\",\"2021-11-06T20:30:01+00:00\",\"2021-11-04T19:30:03+00:00\",\"2021-11-02T19:00:15+00:00\",\"2021-10-30T19:00:30+00:00\",\"2021-10-28T18:45:01+00:00\",\"2021-10-26T18:00:19+00:00\",\"2021-10-23T21:30:00+00:00\",\"2021-10-19T18:02:21+00:00\",\"2021-10-16T18:00:02+00:00\",\"2021-10-14T18:00:02+00:00\",\"2021-10-12T19:00:05+00:00\",\"2021-10-09T17:45:00+00:00\",\"2021-10-05T20:00:03+00:00\",\"2021-10-02T18:45:01+00:00\",\"2021-09-30T18:33:12+00:00\",\"2021-09-28T18:00:05+00:00\",\"2021-09-25T18:00:11+00:00\",\"2021-09-23T18:00:01+00:00\",\"2021-09-18T20:30:02+00:00\",\"2021-09-15T20:00:07+00:00\",\"2021-09-11T18:45:01+00:00\",\"2021-09-09T18:00:11+00:00\",\"2021-09-07T19:45:00+00:00\",\"2021-09-04T18:30:02+00:00\",\"2021-09-02T18:00:07+00:00\",\"2021-08-31T18:30:35+00:00\",\"2021-08-28T18:00:04+00:00\",\"2021-08-27T19:00:28+00:00\",\"2021-08-26T18:00:17+00:00\",\"2021-08-21T18:00:08+00:00\",\"2021-08-19T18:00:06+00:00\",\"2021-08-17T18:45:03+00:00\",\"2021-08-14T20:15:37+00:00\",\"2021-08-11T19:00:19+00:00\",\"2021-08-09T19:00:04+00:00\",\"2021-08-07T19:15:00+00:00\",\"2021-08-05T18:00:16+00:00\",\"2021-08-03T18:00:06+00:00\",\"2021-07-31T22:45:00+00:00\",\"2021-07-29T18:15:01+00:00\",\"2021-07-27T20:00:11+00:00\",\"2021-07-26T18:00:12+00:00\",\"2021-07-24T18:00:05+00:00\",\"2021-07-22T18:00:09+00:00\",\"2021-07-20T18:00:15+00:00\",\"2021-07-17T18:00:06+00:00\",\"2021-07-15T18:00:12+00:00\",\"2021-07-13T18:00:01+00:00\",\"2021-07-10T18:00:06+00:00\",\"2021-07-08T18:00:08+00:00\",\"2021-07-06T18:15:01+00:00\",\"2021-07-03T18:00:07+00:00\",\"2021-07-01T18:00:14+00:00\",\"2021-06-29T18:00:02+00:00\",\"2021-06-26T18:00:05+00:00\",\"2021-06-24T18:00:04+00:00\",\"2021-06-22T18:12:38+00:00\",\"2021-06-19T21:00:01+00:00\",\"2021-06-17T20:04:04+00:00\",\"2021-06-15T18:00:18+00:00\",\"2021-06-10T18:00:28+00:00\",\"2021-06-08T18:00:13+00:00\",\"2021-06-05T12:00:12+00:00\",\"2021-06-03T18:00:05+00:00\",\"2021-06-01T18:00:16+00:00\",\"2021-05-29T20:00:07+00:00\",\"2021-05-27T18:00:11+00:00\",\"2021-05-26T19:45:02+00:00\",\"2021-05-25T19:00:04+00:00\",\"2021-05-22T18:00:14+00:00\",\"2021-05-20T18:00:05+00:00\",\"2021-05-18T18:00:07+00:00\",\"2021-05-15T19:15:01+00:00\",\"2021-05-13T18:00:01+00:00\",\"2021-05-11T18:00:00+00:00\",\"2021-05-08T19:00:10+00:00\",\"2021-05-06T18:00:01+00:00\",\"2021-05-04T18:00:30+00:00\",\"2021-05-01T18:30:00+00:00\",\"2021-04-29T18:15:02+00:00\",\"2021-04-28T18:00:15+00:00\",\"2021-04-24T18:00:10+00:00\",\"2021-04-22T18:00:03+00:00\",\"2021-04-20T18:00:12+00:00\",\"2021-04-17T18:00:15+00:00\",\"2021-04-15T18:00:13+00:00\",\"2021-04-13T18:00:00+00:00\",\"2021-04-10T18:00:16+00:00\",\"2021-04-08T16:00:19+00:00\",\"2021-04-06T18:00:21+00:00\",\"2021-04-03T18:00:03+00:00\",\"2021-04-02T18:00:02+00:00\",\"2021-04-01T16:30:02+00:00\",\"2021-03-30T18:00:13+00:00\",\"2021-03-26T20:00:05+00:00\",\"2021-03-25T18:48:28+00:00\",\"2021-03-23T19:00:00+00:00\",\"2021-03-20T19:00:01+00:00\",\"2021-03-18T19:00:06+00:00\",\"2021-03-16T19:00:08+00:00\",\"2021-03-13T19:00:04+00:00\",\"2021-03-11T19:00:06+00:00\",\"2021-03-09T19:00:02+00:00\",\"2021-03-06T19:00:04+00:00\",\"2021-03-04T19:00:03+00:00\",\"2021-03-02T19:00:07+00:00\",\"2021-02-27T19:00:15+00:00\",\"2021-02-25T20:30:04+00:00\",\"2021-02-24T19:00:15+00:00\",\"2021-02-23T19:00:09+00:00\",\"2021-02-20T19:00:03+00:00\",\"2021-02-18T19:00:07+00:00\",\"2021-02-16T19:00:11+00:00\",\"2021-02-13T19:00:07+00:00\",\"2021-02-11T19:00:00+00:00\",\"2021-02-09T19:00:08+00:00\",\"2021-02-06T19:00:00+00:00\",\"2021-02-04T19:00:08+00:00\",\"2021-02-02T19:00:01+00:00\",\"2021-02-01T21:00:02+00:00\",\"2021-01-28T19:00:01+00:00\",\"2021-01-26T19:00:04+00:00\",\"2021-01-23T19:00:02+00:00\",\"2021-01-21T19:00:16+00:00\",\"2021-01-19T19:00:03+00:00\",\"2021-01-16T19:00:00+00:00\",\"2021-01-14T20:00:04+00:00\",\"2021-01-12T19:00:07+00:00\",\"2021-01-09T19:00:04+00:00\",\"2021-01-07T19:00:07+00:00\",\"2021-01-05T19:00:01+00:00\",\"2021-01-02T19:00:04+00:00\",\"2021-01-01T19:00:00+00:00\",\"2020-12-31T19:00:03+00:00\",\"2020-12-29T19:00:02+00:00\",\"2020-12-26T19:00:07+00:00\",\"2020-12-24T22:30:02+00:00\",\"2020-12-22T19:00:15+00:00\",\"2020-12-19T19:30:02+00:00\",\"2020-12-17T19:00:09+00:00\",\"2020-12-15T19:15:01+00:00\",\"2020-12-12T19:00:10+00:00\",\"2020-12-10T19:00:10+00:00\",\"2020-12-08T19:00:14+00:00\",\"2020-12-05T20:00:05+00:00\",\"2020-12-03T19:00:01+00:00\",\"2020-12-01T19:00:06+00:00\",\"2020-12-01T03:31:06+00:00\",\"2020-11-28T19:00:03+00:00\",\"2020-11-27T19:00:01+00:00\",\"2020-11-26T19:00:18+00:00\",\"2020-11-24T19:00:18+00:00\",\"2020-11-21T19:00:13+00:00\",\"2020-11-19T19:00:01+00:00\",\"2020-11-17T19:00:06+00:00\",\"2020-11-14T19:15:04+00:00\",\"2020-11-12T19:00:02+00:00\",\"2020-11-10T19:00:03+00:00\",\"2020-11-07T19:00:11+00:00\",\"2020-11-05T19:00:03+00:00\",\"2020-11-03T19:00:18+00:00\",\"2020-10-31T19:00:15+00:00\",\"2020-10-29T19:00:12+00:00\",\"2020-10-27T19:00:06+00:00\",\"2020-10-23T18:00:03+00:00\",\"2020-10-22T18:00:00+00:00\",\"2020-10-20T18:00:00+00:00\",\"2020-10-17T18:00:01+00:00\",\"2020-10-15T18:00:00+00:00\",\"2020-10-13T18:00:02+00:00\",\"2020-10-10T18:00:00+00:00\",\"2020-10-09T18:00:00+00:00\",\"2020-10-08T18:00:02+00:00\",\"2020-10-06T18:00:03+00:00\",\"2020-10-03T18:00:13+00:00\",\"2020-10-02T19:15:01+00:00\",\"2020-10-01T18:00:07+00:00\",\"2020-09-29T18:00:04+00:00\",\"2020-09-26T18:00:12+00:00\",\"2020-09-24T18:00:07+00:00\",\"2020-09-22T18:00:03+00:00\",\"2020-09-19T18:00:02+00:00\",\"2020-09-17T18:00:05+00:00\",\"2020-09-15T19:30:02+00:00\",\"2020-09-12T12:15:00+00:00\",\"2020-09-11T18:15:02+00:00\",\"2020-09-10T18:00:01+00:00\",\"2020-09-08T18:00:01+00:00\",\"2020-09-05T18:00:03+00:00\",\"2020-09-04T18:00:03+00:00\",\"2020-09-03T20:15:00+00:00\",\"2020-09-01T18:00:00+00:00\",\"2020-08-29T18:00:09+00:00\",\"2020-08-27T18:00:11+00:00\",\"2020-08-26T20:23:08+00:00\",\"2020-08-25T18:00:03+00:00\",\"2020-08-22T20:30:00+00:00\",\"2020-08-21T18:00:09+00:00\",\"2020-08-20T18:00:06+00:00\",\"2020-08-18T18:00:06+00:00\",\"2020-08-15T18:00:07+00:00\",\"2020-08-13T17:00:03+00:00\",\"2020-08-11T18:00:04+00:00\",\"2020-08-08T19:00:04+00:00\",\"2020-08-07T18:00:06+00:00\",\"2020-08-04T18:00:05+00:00\",\"2020-08-01T18:00:01+00:00\",\"2020-07-30T18:00:08+00:00\",\"2020-07-28T18:00:17+00:00\",\"2020-07-25T18:00:03+00:00\",\"2020-07-24T18:00:03+00:00\",\"2020-07-23T18:00:00+00:00\",\"2020-07-21T18:00:00+00:00\",\"2020-07-18T18:00:09+00:00\",\"2020-07-17T18:06:28+00:00\",\"2020-07-16T18:00:07+00:00\",\"2020-07-14T19:00:04+00:00\",\"2020-07-11T18:00:04+00:00\",\"2020-07-10T21:00:10+00:00\",\"2020-07-09T20:00:04+00:00\",\"2020-07-07T19:00:09+00:00\",\"2020-07-04T18:00:02+00:00\",\"2020-07-02T18:00:07+00:00\",\"2020-06-30T18:00:13+00:00\",\"2020-06-27T18:00:09+00:00\",\"2020-06-25T18:00:04+00:00\",\"2020-06-23T19:00:04+00:00\",\"2020-06-20T18:00:11+00:00\",\"2020-06-18T18:00:15+00:00\",\"2020-06-16T18:00:00+00:00\",\"2020-06-13T18:00:03+00:00\",\"2020-06-12T18:00:03+00:00\",\"2020-06-11T18:00:00+00:00\",\"2020-06-09T19:30:03+00:00\",\"2020-06-06T18:00:09+00:00\",\"2020-06-04T18:00:03+00:00\",\"2020-05-30T18:00:00+00:00\",\"2020-05-28T18:00:11+00:00\",\"2020-05-26T18:00:27+00:00\",\"2020-05-23T18:00:20+00:00\",\"2020-05-21T18:00:11+00:00\",\"2020-05-19T18:00:04+00:00\",\"2020-05-16T18:00:14+00:00\",\"2020-05-15T18:00:18+00:00\",\"2020-05-14T18:00:19+00:00\",\"2020-05-12T18:00:17+00:00\",\"2020-05-09T18:00:13+00:00\",\"2020-05-07T18:00:19+00:00\",\"2020-05-05T20:30:04+00:00\",\"2020-05-02T18:00:08+00:00\",\"2020-05-01T18:00:13+00:00\",\"2020-04-30T18:00:10+00:00\",\"2020-04-29T18:00:18+00:00\",\"2020-04-25T18:00:13+00:00\",\"2020-04-24T18:00:14+00:00\",\"2020-04-21T19:00:11+00:00\",\"2020-04-18T18:00:14+00:00\",\"2020-04-17T18:00:27+00:00\",\"2020-04-16T18:00:21+00:00\",\"2020-04-14T18:00:02+00:00\",\"2020-04-11T18:00:01+00:00\",\"2020-04-10T19:00:12+00:00\",\"2020-04-09T18:00:03+00:00\",\"2020-04-07T18:00:07+00:00\",\"2020-04-03T19:00:04+00:00\",\"2020-04-02T18:00:13+00:00\",\"2020-03-31T20:30:02+00:00\",\"2020-03-28T15:00:21+00:00\",\"2020-03-27T19:00:04+00:00\",\"2020-03-24T20:00:07+00:00\",\"2020-03-21T20:00:29+00:00\",\"2020-03-20T19:00:11+00:00\",\"2020-03-17T21:00:13+00:00\",\"2020-03-14T20:00:01+00:00\",\"2020-03-13T19:00:05+00:00\",\"2020-03-12T19:00:00+00:00\",\"2020-03-10T19:00:06+00:00\",\"2020-03-07T17:00:09+00:00\",\"2020-03-06T19:00:06+00:00\",\"2020-03-05T19:00:02+00:00\",\"2020-03-03T21:15:01+00:00\",\"2020-02-29T18:00:04+00:00\",\"2020-02-28T19:00:01+00:00\",\"2020-02-27T19:00:07+00:00\",\"2020-02-25T19:00:12+00:00\",\"2020-02-20T19:00:05+00:00\",\"2020-02-19T19:00:01+00:00\",\"2020-02-15T18:00:03+00:00\",\"2020-02-13T20:22:13+00:00\",\"2020-02-12T19:00:01+00:00\",\"2020-02-08T19:00:04+00:00\",\"2020-02-07T19:00:04+00:00\",\"2020-02-06T19:00:04+00:00\",\"2020-02-04T19:00:05+00:00\",\"2020-01-31T19:00:00+00:00\",\"2020-01-30T17:00:10+00:00\",\"2020-01-28T19:00:00+00:00\",\"2020-01-25T15:00:00+00:00\",\"2020-01-24T19:00:09+00:00\",\"2020-01-23T19:00:02+00:00\",\"2020-01-21T19:00:00+00:00\",\"2020-01-18T17:30:01+00:00\",\"2020-01-17T17:00:00+00:00\",\"2020-01-14T19:00:07+00:00\",\"2020-01-10T20:15:00+00:00\",\"2020-01-09T19:00:06+00:00\",\"2020-01-08T19:00:00+00:00\",\"2020-01-04T18:45:01+00:00\",\"2020-01-02T19:00:02+00:00\",\"2019-12-31T19:00:01+00:00\",\"2019-12-28T15:00:19+00:00\",\"2019-12-24T19:00:10+00:00\",\"2019-12-20T21:06:08+00:00\",\"2019-12-17T19:00:03+00:00\",\"2019-12-15T19:46:18+00:00\",\"2019-12-15T19:46:17+00:00\",\"2019-12-14T15:00:05+00:00\",\"2019-12-13T19:00:00+00:00\",\"2019-12-12T19:00:01+00:00\",\"2019-12-07T17:00:07+00:00\",\"2019-12-06T19:00:07+00:00\",\"2019-12-05T19:00:00+00:00\",\"2019-11-30T22:15:00+00:00\",\"2019-11-29T23:15:01+00:00\",\"2019-11-28T19:00:04+00:00\",\"2019-11-27T19:00:01+00:00\",\"2019-11-24T15:00:07+00:00\",\"2019-11-23T15:00:02+00:00\",\"2019-11-22T23:00:02+00:00\",\"2019-11-21T19:00:00+00:00\",\"2019-11-19T20:00:02+00:00\",\"2019-11-16T23:33:03+00:00\",\"2019-11-14T19:30:01+00:00\",\"2019-11-13T19:00:03+00:00\",\"2019-11-12T19:00:00+00:00\",\"2019-11-09T16:00:03+00:00\",\"2019-11-07T19:00:05+00:00\",\"2019-11-05T19:00:06+00:00\",\"2019-11-02T15:00:04+00:00\",\"2019-10-31T19:00:01+00:00\",\"2019-10-29T19:00:04+00:00\",\"2019-10-26T14:00:00+00:00\",\"2019-10-24T17:00:01+00:00\",\"2019-10-22T17:00:04+00:00\",\"2019-10-19T14:00:00+00:00\",\"2019-10-17T17:00:02+00:00\",\"2019-10-15T17:00:07+00:00\",\"2019-10-12T17:15:01+00:00\",\"2019-10-11T17:00:00+00:00\",\"2019-10-10T21:15:02+00:00\",\"2019-10-09T19:30:00+00:00\",\"2019-10-08T20:15:00+00:00\",\"2019-10-07T20:00:01+00:00\",\"2019-10-05T20:35:21+00:00\",\"2019-10-04T21:00:02+00:00\",\"2019-10-03T17:33:09+00:00\",\"2019-09-28T15:00:00+00:00\",\"2019-09-27T17:00:00+00:00\",\"2019-09-24T17:00:00+00:00\",\"2019-09-21T17:30:02+00:00\",\"2019-09-19T17:00:05+00:00\",\"2019-09-18T18:00:05+00:00\",\"2019-09-16T21:00:00+00:00\",\"2019-09-14T14:00:02+00:00\",\"2019-09-13T17:00:03+00:00\",\"2019-09-12T18:30:05+00:00\",\"2019-09-10T17:00:14+00:00\",\"2019-09-09T17:00:09+00:00\",\"2019-09-07T16:00:44+00:00\",\"2019-09-06T17:00:08+00:00\",\"2019-09-05T17:00:00+00:00\",\"2019-09-04T17:00:10+00:00\",\"2019-09-03T17:00:07+00:00\",\"2019-08-31T14:00:04+00:00\",\"2019-08-30T17:00:03+00:00\",\"2019-08-29T17:00:02+00:00\",\"2019-08-27T19:00:02+00:00\",\"2019-08-24T15:00:04+00:00\",\"2019-08-23T17:00:09+00:00\",\"2019-08-22T18:00:01+00:00\",\"2019-08-20T17:00:04+00:00\",\"2019-08-17T14:00:01+00:00\",\"2019-08-16T17:00:00+00:00\",\"2019-08-15T17:00:06+00:00\",\"2019-08-13T17:00:02+00:00\",\"2019-08-10T14:00:03+00:00\",\"2019-08-08T17:00:00+00:00\",\"2019-08-03T19:30:00+00:00\",\"2019-08-02T20:00:04+00:00\",\"2019-08-01T19:05:00+00:00\",\"2019-07-30T17:00:00+00:00\",\"2019-07-27T14:00:04+00:00\",\"2019-07-25T17:00:06+00:00\",\"2019-07-24T17:00:06+00:00\",\"2019-07-23T17:00:14+00:00\",\"2019-07-20T14:00:11+00:00\",\"2019-07-19T17:00:01+00:00\",\"2019-07-17T18:00:09+00:00\",\"2019-07-16T18:00:01+00:00\",\"2019-07-13T15:00:05+00:00\",\"2019-07-11T17:00:04+00:00\",\"2019-07-10T19:00:03+00:00\",\"2019-07-08T19:00:13+00:00\",\"2019-07-06T17:00:12+00:00\",\"2019-07-05T22:00:02+00:00\",\"2019-07-03T19:00:02+00:00\",\"2019-06-29T14:00:00+00:00\",\"2019-06-28T19:00:02+00:00\",\"2019-06-26T18:00:07+00:00\",\"2019-06-24T19:00:00+00:00\",\"2019-06-22T16:00:13+00:00\",\"2019-06-21T19:00:05+00:00\",\"2019-06-19T18:00:01+00:00\",\"2019-06-17T18:00:09+00:00\",\"2019-06-15T14:00:00+00:00\",\"2019-06-14T19:00:04+00:00\",\"2019-06-12T19:00:09+00:00\",\"2019-06-10T19:00:04+00:00\",\"2019-06-08T16:30:01+00:00\",\"2019-06-07T19:00:02+00:00\",\"2019-06-05T19:00:02+00:00\",\"2019-06-03T19:00:01+00:00\",\"2019-06-01T14:00:09+00:00\",\"2019-05-30T18:00:06+00:00\",\"2019-05-29T16:00:12+00:00\",\"2019-05-27T19:00:00+00:00\",\"2019-05-25T15:00:02+00:00\",\"2019-05-24T18:00:00+00:00\",\"2019-05-23T18:00:00+00:00\",\"2019-05-22T18:00:04+00:00\",\"2019-05-21T19:00:00+00:00\",\"2019-05-20T19:03:02+00:00\",\"2019-05-18T13:00:00+00:00\",\"2019-05-17T19:00:02+00:00\",\"2019-05-15T19:00:01+00:00\",\"2019-05-13T19:00:03+00:00\",\"2019-05-11T18:00:07+00:00\",\"2019-05-10T19:00:05+00:00\",\"2019-05-08T19:00:00+00:00\",\"2019-05-06T19:00:08+00:00\",\"2019-05-04T18:00:00+00:00\",\"2019-05-03T19:00:04+00:00\",\"2019-04-29T19:00:08+00:00\",\"2019-04-26T19:30:01+00:00\",\"2019-04-24T19:00:05+00:00\",\"2019-04-22T19:00:05+00:00\",\"2019-04-20T18:00:08+00:00\",\"2019-04-19T19:00:04+00:00\",\"2019-04-15T19:00:05+00:00\",\"2019-04-13T19:09:01+00:00\",\"2019-04-12T19:00:10+00:00\",\"2019-04-10T19:00:05+00:00\",\"2019-04-08T19:00:01+00:00\",\"2019-04-06T18:00:06+00:00\",\"2019-04-05T19:00:03+00:00\",\"2019-04-03T19:00:02+00:00\",\"2019-04-01T19:00:04+00:00\",\"2019-03-30T19:00:02+00:00\",\"2019-03-29T20:00:00+00:00\",\"2019-03-27T20:00:02+00:00\",\"2019-03-23T23:19:08+00:00\",\"2019-03-22T20:00:03+00:00\",\"2019-03-20T20:45:00+00:00\",\"2019-03-16T19:00:00+00:00\",\"2019-03-15T20:00:03+00:00\",\"2019-03-13T20:00:02+00:00\",\"2019-03-11T20:00:00+00:00\",\"2019-03-09T20:00:04+00:00\",\"2019-03-08T20:00:02+00:00\",\"2019-03-06T23:00:01+00:00\",\"2019-03-04T20:00:02+00:00\",\"2019-03-02T21:30:00+00:00\",\"2019-02-27T21:30:00+00:00\",\"2019-02-25T22:00:02+00:00\",\"2019-02-22T20:00:02+00:00\",\"2019-02-15T23:15:00+00:00\",\"2019-02-13T20:00:02+00:00\",\"2019-02-09T20:00:02+00:00\",\"2019-02-06T20:00:01+00:00\",\"2019-02-02T20:30:32+00:00\",\"2019-02-01T23:48:13+00:00\",\"2019-01-28T20:00:03+00:00\",\"2019-01-25T23:00:12+00:00\",\"2019-01-23T21:15:00+00:00\",\"2019-01-21T20:00:04+00:00\",\"2019-01-14T20:00:03+00:00\",\"2019-01-11T23:45:02+00:00\",\"2019-01-09T20:00:07+00:00\",\"2019-01-07T20:00:00+00:00\",\"2019-01-04T20:00:01+00:00\",\"2019-01-02T20:00:01+00:00\",\"2018-12-31T18:00:01+00:00\",\"2018-12-28T20:00:01+00:00\",\"2018-12-24T20:00:05+00:00\",\"2018-12-22T18:00:40+00:00\",\"2018-12-21T20:00:02+00:00\",\"2018-12-17T21:30:00+00:00\",\"2018-12-14T21:00:01+00:00\",\"2018-12-10T20:00:02+00:00\",\"2018-12-07T20:00:00+00:00\",\"2018-12-05T20:00:03+00:00\",\"2018-12-03T20:00:01+00:00\",\"2018-12-01T18:30:01+00:00\",\"2018-11-30T23:30:02+00:00\",\"2018-11-28T20:00:02+00:00\",\"2018-11-26T20:00:04+00:00\",\"2018-11-23T20:00:00+00:00\",\"2018-11-19T20:00:01+00:00\",\"2018-11-10T19:00:03+00:00\",\"2018-11-09T23:45:01+00:00\",\"2018-11-07T22:30:01+00:00\",\"2018-11-05T20:00:05+00:00\",\"2018-11-02T20:00:06+00:00\",\"2018-10-31T20:00:02+00:00\",\"2018-10-29T20:15:01+00:00\",\"2018-10-24T19:00:01+00:00\",\"2018-10-22T19:00:04+00:00\",\"2018-10-19T21:49:39+00:00\",\"2018-10-17T20:00:00+00:00\",\"2018-10-15T19:00:06+00:00\",\"2018-10-13T18:00:03+00:00\",\"2018-10-12T20:00:00+00:00\",\"2018-10-10T19:00:01+00:00\",\"2018-10-08T19:00:03+00:00\",\"2018-10-05T19:00:00+00:00\",\"2018-10-03T19:00:00+00:00\",\"2018-09-28T19:00:03+00:00\",\"2018-09-26T19:00:00+00:00\",\"2018-09-21T19:00:06+00:00\",\"2018-09-20T19:00:05+00:00\",\"2018-09-17T19:00:01+00:00\",\"2018-09-14T19:00:02+00:00\",\"2018-09-12T19:00:01+00:00\",\"2018-09-10T19:00:02+00:00\",\"2018-09-07T19:00:04+00:00\",\"2018-09-05T19:00:02+00:00\",\"2018-09-03T19:01:06+00:00\",\"2018-08-31T19:00:02+00:00\",\"2018-08-29T19:00:02+00:00\",\"2018-08-27T19:00:01+00:00\",\"2018-08-24T18:00:02+00:00\",\"2018-08-22T19:00:00+00:00\",\"2018-08-20T19:00:03+00:00\",\"2018-08-17T19:00:05+00:00\",\"2018-08-15T19:00:02+00:00\",\"2018-08-13T19:00:08+00:00\",\"2018-08-12T18:30:00+00:00\",\"2018-08-12T17:06:13+00:00\",\"2018-08-11T17:00:06+00:00\",\"2018-08-10T19:00:02+00:00\",\"2018-08-08T19:00:05+00:00\",\"2018-08-06T19:00:01+00:00\",\"2018-08-04T17:00:02+00:00\",\"2018-08-03T19:00:03+00:00\",\"2018-08-01T19:00:05+00:00\",\"2018-07-30T19:00:01+00:00\",\"2018-07-28T17:00:02+00:00\",\"2018-07-27T19:00:02+00:00\",\"2018-07-25T19:00:04+00:00\",\"2018-07-23T19:00:03+00:00\",\"2018-07-20T19:00:03+00:00\",\"2018-07-12T17:30:00+00:00\",\"2018-06-30T13:30:01+00:00\",\"2018-06-27T17:31:48+00:00\",\"2018-06-22T16:00:01+00:00\",\"2018-06-17T20:51:47+00:00\",\"2018-06-14T19:30:01+00:00\",\"2018-06-06T16:10:16+00:00\",\"2018-06-01T18:24:03+00:00\",\"2018-05-31T22:04:02+00:00\",\"2018-05-27T21:47:02+00:00\",\"2018-05-14T17:47:57+00:00\",\"2018-05-12T18:14:40+00:00\",\"2018-05-05T17:13:01+00:00\",\"2018-04-26T21:11:11+00:00\",\"2018-04-19T17:30:00+00:00\",\"2018-04-12T17:48:22+00:00\",\"2018-04-08T20:32:53+00:00\",\"2018-04-05T20:00:01+00:00\",\"2018-04-04T19:15:19+00:00\",\"2018-03-28T22:22:15+00:00\",\"2018-03-25T17:01:09+00:00\",\"2018-03-24T18:39:15+00:00\",\"2018-03-20T18:00:06+00:00\",\"2018-03-17T18:00:01+00:00\",\"2018-03-12T20:39:32+00:00\",\"2018-03-07T18:00:02+00:00\",\"2018-03-03T19:37:10+00:00\",\"2018-03-01T17:37:09+00:00\",\"2018-02-25T18:18:00+00:00\",\"2018-02-24T20:36:51+00:00\",\"2018-02-21T20:45:35+00:00\",\"2018-02-17T18:30:02+00:00\",\"2018-02-15T18:00:00+00:00\",\"2018-02-13T17:19:31+00:00\",\"2018-02-10T20:06:56+00:00\",\"2018-02-08T18:32:13+00:00\",\"2018-02-06T18:02:35+00:00\",\"2018-02-04T18:00:48+00:00\",\"2023-01-29T19:09:33+00:00\",\"2023-01-22T19:09:38+00:00\",\"2023-01-15T20:00:25+00:00\",\"2023-01-08T18:51:49+00:00\",\"2023-01-01T18:30:16+00:00\",\"2022-12-25T18:02:38+00:00\",\"2022-12-18T18:48:24+00:00\",\"2022-12-11T18:00:14+00:00\",\"2022-12-04T17:45:41+00:00\",\"2022-11-27T21:00:31+00:00\",\"2022-11-20T18:43:33+00:00\",\"2022-11-13T21:07:22+00:00\",\"2022-11-06T19:46:49+00:00\",\"2022-10-30T19:31:52+00:00\",\"2022-10-23T16:58:02+00:00\",\"2022-10-16T18:23:41+00:00\",\"2022-10-09T17:30:05+00:00\",\"2022-10-02T17:30:00+00:00\",\"2022-09-24T19:00:19+00:00\",\"2022-09-24T16:31:22+00:00\",\"2022-09-18T17:19:46+00:00\",\"2022-09-11T18:30:19+00:00\",\"2022-09-04T18:21:43+00:00\",\"2022-08-28T17:30:17+00:00\",\"2022-08-21T18:02:18+00:00\",\"2022-08-14T19:30:00+00:00\",\"2022-08-07T18:36:34+00:00\",\"2022-07-31T18:42:35+00:00\",\"2022-07-24T16:55:10+00:00\",\"2022-07-17T17:08:06+00:00\",\"2022-07-10T17:40:17+00:00\",\"2022-07-03T18:24:45+00:00\",\"2022-06-26T17:00:41+00:00\",\"2022-06-19T20:03:17+00:00\",\"2022-06-12T18:05:53+00:00\",\"2022-06-05T19:12:26+00:00\",\"2022-05-29T20:01:13+00:00\",\"2022-05-22T19:09:56+00:00\",\"2022-05-15T17:34:10+00:00\",\"2022-05-08T18:39:28+00:00\",\"2022-05-01T20:27:31+00:00\",\"2022-04-24T19:15:50+00:00\",\"2022-04-17T18:00:07+00:00\",\"2022-04-10T18:40:29+00:00\",\"2022-04-03T17:41:39+00:00\",\"2022-03-27T19:00:58+00:00\",\"2022-03-20T19:53:18+00:00\",\"2022-03-14T18:03:55+00:00\",\"2022-03-06T20:00:01+00:00\",\"2022-02-27T19:36:06+00:00\",\"2022-02-20T18:04:42+00:00\",\"2022-02-13T18:00:29+00:00\",\"2022-02-06T18:00:57+00:00\",\"2022-01-30T19:03:05+00:00\",\"2022-01-23T18:39:23+00:00\",\"2022-01-16T18:02:16+00:00\",\"2022-01-09T18:00:19+00:00\",\"2022-01-02T19:27:21+00:00\",\"2021-12-26T18:00:07+00:00\",\"2021-12-19T19:01:57+00:00\",\"2021-12-12T20:52:16+00:00\",\"2021-12-05T18:06:37+00:00\",\"2021-11-28T19:02:23+00:00\",\"2021-11-21T18:09:23+00:00\",\"2021-11-14T18:31:58+00:00\",\"2021-11-07T19:00:07+00:00\",\"2021-10-31T18:01:48+00:00\",\"2021-10-24T18:06:43+00:00\",\"2021-10-17T18:24:45+00:00\",\"2021-10-10T17:46:05+00:00\",\"2021-10-03T18:02:18+00:00\",\"2021-09-26T18:08:09+00:00\",\"2021-09-19T17:39:55+00:00\",\"2021-09-12T17:10:12+00:00\",\"2021-09-05T19:30:03+00:00\",\"2021-08-29T17:44:01+00:00\",\"2021-08-22T17:28:03+00:00\",\"2021-08-15T18:10:36+00:00\",\"2021-08-08T19:24:40+00:00\",\"2021-08-01T18:35:37+00:00\",\"2021-07-25T17:09:12+00:00\",\"2021-07-18T17:01:58+00:00\",\"2021-07-11T14:03:13+00:00\",\"2021-07-04T17:31:32+00:00\",\"2021-06-27T17:01:46+00:00\",\"2021-06-20T18:00:06+00:00\",\"2021-06-13T17:00:24+00:00\",\"2021-06-06T18:08:10+00:00\",\"2021-05-30T17:05:04+00:00\",\"2021-05-23T22:13:36+00:00\",\"2021-05-16T17:30:03+00:00\",\"2021-05-09T17:01:52+00:00\",\"2021-05-02T17:09:42+00:00\",\"2021-04-25T17:25:46+00:00\",\"2021-04-18T17:00:23+00:00\",\"2021-04-11T17:43:43+00:00\",\"2021-04-04T17:00:18+00:00\",\"2021-03-28T17:00:00+00:00\",\"2021-03-21T18:45:55+00:00\",\"2021-03-14T18:08:58+00:00\",\"2021-03-07T18:23:12+00:00\",\"2021-02-28T18:23:08+00:00\",\"2021-02-21T18:13:37+00:00\",\"2021-02-14T18:27:22+00:00\",\"2021-02-07T18:02:47+00:00\",\"2021-01-31T18:18:45+00:00\",\"2021-01-24T18:53:52+00:00\",\"2021-01-17T18:30:05+00:00\",\"2021-01-10T20:00:06+00:00\",\"2021-01-03T20:01:58+00:00\",\"2020-12-27T18:01:25+00:00\",\"2020-12-20T18:00:29+00:00\",\"2020-12-13T18:55:10+00:00\",\"2020-12-06T19:03:40+00:00\",\"2020-11-29T18:19:46+00:00\",\"2020-11-22T18:01:18+00:00\",\"2020-11-15T18:00:02+00:00\",\"2020-11-08T18:00:14+00:00\",\"2020-11-01T18:25:35+00:00\",\"2020-10-25T18:01:05+00:00\",\"2020-10-18T17:00:07+00:00\",\"2020-10-11T17:04:18+00:00\",\"2020-10-04T17:38:31+00:00\",\"2020-09-27T17:30:01+00:00\",\"2020-09-20T17:41:05+00:00\",\"2020-09-13T17:37:54+00:00\",\"2020-09-06T17:01:55+00:00\",\"2020-08-30T17:00:08+00:00\",\"2020-08-23T18:02:46+00:00\",\"2020-08-16T17:00:07+00:00\",\"2020-08-09T18:42:44+00:00\",\"2020-08-02T18:36:00+00:00\",\"2020-07-26T17:09:09+00:00\",\"2020-07-19T16:23:18+00:00\",\"2020-07-12T17:00:09+00:00\",\"2020-07-05T17:30:00+00:00\",\"2020-06-28T17:04:44+00:00\",\"2020-06-21T17:00:15+00:00\",\"2020-06-14T17:01:06+00:00\",\"2020-06-07T17:00:08+00:00\",\"2020-05-31T17:00:21+00:00\",\"2020-05-24T17:42:59+00:00\",\"2020-05-17T17:00:52+00:00\",\"2020-05-10T16:51:20+00:00\",\"2020-05-03T17:02:19+00:00\",\"2020-04-26T17:00:05+00:00\",\"2020-04-19T17:15:16+00:00\",\"2020-04-12T18:00:09+00:00\",\"2020-04-05T17:03:16+00:00\",\"2020-03-29T19:37:15+00:00\",\"2020-03-29T14:45:31+00:00\",\"2020-03-22T18:00:10+00:00\",\"2020-03-15T18:05:24+00:00\",\"2020-03-09T18:02:01+00:00\",\"2020-03-01T20:17:59+00:00\",\"2020-02-23T18:26:27+00:00\",\"2020-02-16T18:30:09+00:00\",\"2020-02-09T18:51:37+00:00\",\"2020-02-02T18:32:19+00:00\",\"2020-01-26T18:01:36+00:00\",\"2020-01-19T18:21:53+00:00\",\"2020-01-12T17:55:29+00:00\",\"2020-01-05T19:01:13+00:00\",\"2019-12-29T18:31:06+00:00\",\"2019-12-22T18:34:14+00:00\",\"2019-12-15T19:12:38+00:00\",\"2019-12-09T18:03:43+00:00\",\"2019-12-01T18:30:00+00:00\",\"2019-11-24T18:40:43+00:00\",\"2019-11-17T18:11:12+00:00\",\"2019-11-11T19:45:37+00:00\",\"2019-11-03T18:15:15+00:00\",\"2019-10-27T19:00:11+00:00\",\"2019-10-20T17:34:09+00:00\",\"2019-10-13T17:00:50+00:00\",\"2019-10-06T17:03:12+00:00\",\"2019-09-29T17:01:40+00:00\",\"2019-09-22T19:32:40+00:00\",\"2019-09-15T17:01:07+00:00\",\"2019-09-08T18:09:27+00:00\",\"2019-09-01T17:00:43+00:00\",\"2019-08-25T17:03:07+00:00\",\"2019-08-18T17:18:53+00:00\",\"2019-08-11T20:01:20+00:00\",\"2019-08-04T18:01:34+00:00\",\"2019-07-28T17:01:34+00:00\",\"2019-07-21T17:00:14+00:00\",\"2019-07-14T17:01:47+00:00\",\"2019-07-07T17:30:45+00:00\",\"2019-06-30T19:15:54+00:00\",\"2019-06-23T18:31:21+00:00\",\"2019-06-16T16:59:56+00:00\",\"2019-06-09T17:35:08+00:00\",\"2019-06-03T18:42:14+00:00\",\"2019-05-26T20:33:02+00:00\",\"2019-05-19T20:34:42+00:00\",\"2019-05-12T17:00:51+00:00\",\"2019-05-05T17:11:12+00:00\",\"2019-04-28T17:00:06+00:00\",\"2019-04-22T17:07:07+00:00\",\"2019-04-14T17:32:56+00:00\",\"2019-04-07T17:06:59+00:00\",\"2019-03-31T17:30:41+00:00\",\"2019-03-24T18:00:01+00:00\",\"2019-03-17T18:01:13+00:00\",\"2019-03-10T18:01:29+00:00\",\"2019-03-03T18:05:08+00:00\",\"2019-02-17T20:31:13+00:00\",\"2019-02-11T18:00:10+00:00\",\"2019-02-03T18:00:02+00:00\",\"2019-01-27T18:01:07+00:00\",\"2019-01-20T18:06:23+00:00\",\"2019-01-13T18:03:41+00:00\",\"2019-01-06T18:08:30+00:00\",\"2018-12-30T18:14:31+00:00\",\"2018-12-23T19:00:07+00:00\",\"2018-12-16T18:00:01+00:00\",\"2018-12-09T18:05:51+00:00\",\"2018-12-02T18:12:12+00:00\",\"2018-11-25T18:00:01+00:00\",\"2018-11-18T18:01:12+00:00\",\"2018-11-11T18:00:00+00:00\",\"2018-11-04T18:15:00+00:00\",\"2018-10-28T18:03:40+00:00\",\"2018-10-21T17:44:57+00:00\",\"2018-10-15T17:12:34+00:00\",\"2018-10-07T17:00:03+00:00\",\"2018-09-30T18:02:05+00:00\",\"2018-09-23T17:18:01+00:00\",\"2018-09-16T17:11:30+00:00\",\"2018-09-09T18:10:41+00:00\",\"2018-09-02T17:00:30+00:00\",\"2018-08-19T17:00:54+00:00\",\"2018-08-12T17:01:02+00:00\",\"2018-08-05T17:02:16+00:00\",\"2018-07-29T17:00:01+00:00\",\"2018-07-22T17:20:38+00:00\",\"2018-07-15T17:01:16+00:00\",\"2018-07-08T17:00:04+00:00\",\"2018-07-01T20:31:17+00:00\",\"2018-06-24T18:35:46+00:00\",\"2018-06-18T20:02:31+00:00\",\"2018-06-18T20:02:07+00:00\",\"2018-06-18T20:01:43+00:00\",\"2018-06-18T20:01:20+00:00\",\"2018-06-18T20:00:56+00:00\",\"2018-06-18T20:00:30+00:00\",\"2018-06-18T20:00:02+00:00\",\"2018-06-10T17:02:38+00:00\",\"2018-06-02T20:00:23+00:00\",\"2018-06-02T18:21:16+00:00\",\"2018-06-02T16:00:03+00:00\",\"2018-05-23T17:01:41+00:00\",\"2018-05-13T19:01:05+00:00\",\"2018-05-09T21:14:55+00:00\",\"2018-04-29T18:00:56+00:00\",\"2018-04-22T17:02:06+00:00\",\"2018-04-17T18:30:35+00:00\",\"2018-04-08T17:00:02+00:00\",\"2018-04-01T17:05:16+00:00\",\"2018-03-25T17:00:30+00:00\",\"2018-03-18T18:00:24+00:00\",\"2018-03-13T21:00:05+00:00\",\"2018-03-04T18:01:07+00:00\",\"2018-02-25T18:17:42+00:00\",\"2018-02-18T18:00:02+00:00\",\"2018-02-11T18:00:18+00:00\",\"2018-02-04T18:00:19+00:00\",\"2018-01-28T18:00:20+00:00\",\"2018-01-21T18:00:37+00:00\",\"2018-01-14T18:00:02+00:00\",\"2018-01-07T18:00:45+00:00\",\"2017-05-21T20:49:07+00:00\",\"2017-05-21T19:25:38+00:00\",\"2017-05-14T17:37:37+00:00\",\"2017-03-12T15:00:05+00:00\",\"2017-02-26T21:07:41+00:00\",\"2017-02-19T21:30:01+00:00\",\"2017-02-12T21:44:51+00:00\",\"2017-02-05T20:18:14+00:00\",\"2017-01-29T20:47:03+00:00\",\"2017-01-22T21:01:36+00:00\",\"2017-01-08T20:01:25+00:00\",\"2016-11-06T18:00:03+00:00\",\"2016-10-09T18:03:02+00:00\",\"2016-09-18T14:03:25+00:00\",\"2016-08-15T16:04:13+00:00\",\"2016-06-03T21:45:41+00:00\",\"2016-05-28T19:00:00+00:00\",\"2016-05-15T15:15:36+00:00\"],\"xaxis\":\"x\",\"y\":[0.08209999999999999,0.08209999999999999,-0.28798,-0.06199999999999999,0.11276666666666665,0.13018888888888888,0.0032000000000000054,0.0032000000000000054,0.0032000000000000054,0.0032000000000000054,0.0032000000000000054,0.1493375,0.1493375,0.34574,0.34674444444444447,0.0615,-0.02926666666666667,-0.02926666666666667,-0.02926666666666667,0.14588,0.14588,0.14588,0.14588,0.03242222222222223,0.2513222222222222,0.2513222222222222,-0.14691,0.16512222222222223,-0.0008333333333333402,-0.0008333333333333402,0.05445,0.24916666666666668,0.06708888888888888,0.0780111111111111,0.2368099999999999,0.09004444444444444,0.01384444444444445,-0.049819999999999996,0.07129,0.15672222222222223,-0.09848,0.04636999999999999,-0.09992999999999999,0.1310125,-0.056212500000000006,-0.034022222222222225,0.08896666666666667,0.03732,0.09205,0.0918888888888889,-0.09927777777777777,0.21430000000000002,0.06018888888888888,0.15421,-0.02984,-0.012877777777777774,0.14365999999999998,0.10300000000000001,0.11917,-0.03918888888888889,0.18183333333333332,0.27608,0.17633333333333334,0.1496111111111111,-0.07689,0.055075,0.09703,0.0,0.11868999999999999,-0.14643636363636367,-0.030919999999999993,0.16401111111111114,0.16401111111111114,-0.028433333333333324,0.10227,0.06388,0.1586090909090909,0.06193333333333333,0.08514444444444444,0.11069,-0.026481818181818183,0.08751111111111112,0.11381,0.34381000000000006,0.14805,0.19122,0.19122,0.19122,0.19122,0.13573000000000002,0.07217777777777777,0.05269,0.17395555555555553,0.05006666666666667,-0.05378888888888889,-0.021149999999999995,-0.05673333333333334,0.12148,-0.08091000000000001,0.12547777777777777,0.24129,-0.025512500000000007,-0.021188888888888886,0.25332000000000005,0.16157999999999997,0.0551125,-0.14807777777777778,0.31848000000000004,-0.09310000000000002,-0.00834,0.02551111111111112,0.13066666666666668,0.07564444444444444,0.10411999999999999,0.14912999999999998,0.08489999999999998,-0.08283,0.15460000000000002,0.2119888888888889,0.05973000000000002,-0.056537500000000004,0.25726,0.1652777777777778,-0.035179999999999996,0.006959999999999999,0.29116,0.24838888888888888,0.24838888888888888,0.0,0.14786666666666667,0.09426,-0.013066666666666671,0.08046363636363639,-0.04588,0.04013333333333333,-0.1381222222222222,0.15272999999999998,0.010310000000000003,0.12288999999999999,0.11316363636363636,0.20849,0.20849,-0.31521,0.037309999999999996,-0.11177999999999999,0.013333333333333345,0.03125,-0.14868,-0.018488888888888902,-0.12319999999999998,0.16065000000000002,0.23274444444444445,0.011766666666666667,0.057066666666666675,0.12941000000000003,0.13548,0.12975555555555554,-0.03346666666666667,-0.016044444444444448,0.053610000000000005,-0.07649999999999998,0.11214444444444445,0.23201999999999995,0.041844444444444455,-0.07675555555555555,0.14607,0.12405999999999999,0.12371818181818182,0.07448,0.18848,0.04192,-0.05542222222222223,0.08122000000000001,0.09111999999999999,0.16341111111111112,0.1805,-0.015788888888888884,0.11335999999999999,0.16642,0.21061999999999997,-0.022988888888888885,-0.008209999999999995,-0.14922222222222223,0.11313,0.21502222222222223,0.0,0.005399999999999999,0.019511111111111108,-0.04823333333333333,-0.006819999999999998,0.0,0.04664444444444446,0.3081545454545455,0.08400999999999999,-0.1731888888888889,0.1356888888888889,0.17194444444444446,0.08746666666666666,-0.02487272727272727,0.032640000000000016,0.032640000000000016,-0.22616,0.039406250000000004,0.039406250000000004,0.13673,0.2195,-0.24656666666666668,0.20443333333333336,0.11432222222222221,0.0,0.02675555555555555,-0.10521999999999998,0.10124,0.15376000000000004,0.1426222222222222,0.10854444444444446,0.0,0.08587,-0.01568888888888888,0.04034000000000001,0.19959,0.07781111111111111,0.27838999999999997,0.2805333333333333,0.22653333333333336,0.1275222222222222,0.0,0.2611111111111111,0.11733333333333335,-0.09326000000000001,-0.051944444444444446,0.11355555555555556,0.04079000000000001,0.0,-0.0241,0.09966666666666665,0.01689,0.09373000000000001,-0.07568,-0.06370909090909092,-0.060350000000000015,0.14918,-0.010519999999999996,0.12997777777777778,0.26071,0.1873,0.06931111111111112,0.30535555555555555,-0.19371111111111114,-0.19371111111111114,-0.19371111111111114,-0.19371111111111114,-0.03422,0.0020199999999999884,0.005499999999999999,0.2772111111111111,0.08904999999999998,-0.048933333333333336,0.16975555555555555,-0.01646666666666667,-0.09748,0.2935999999999999,0.23903333333333332,0.026980000000000014,0.24346,0.1791,0.03777777777777778,0.020588888888888886,-0.017089999999999984,0.1388888888888889,0.0,0.056559999999999985,-0.15226666666666666,0.09458888888888889,0.2696090909090909,0.050977777777777775,0.18746363636363636,0.17235555555555554,0.0,0.14606000000000002,-0.24064000000000002,0.097,0.12216999999999997,-0.020429999999999993,0.18262222222222219,0.16954444444444444,0.26731111111111105,0.022966666666666666,0.05201818181818181,0.34857777777777776,0.09194000000000001,0.05154444444444444,0.27205454545454544,0.029789999999999994,-0.017011111111111112,0.03125,0.03125,-0.02141111111111111,0.054788888888888894,0.14021,0.20288,-0.0062999999999999905,0.21047000000000002,0.006588888888888886,0.006588888888888886,0.11167,0.24253333333333338,-0.0005300000000000082,-0.0050636363636363665,-0.0050636363636363665,-0.0050636363636363665,-0.06514444444444445,0.10046000000000002,0.10046000000000002,0.10046000000000002,0.10046000000000002,0.10046000000000002,0.10046000000000002,0.10046000000000002,0.10046000000000002,0.10046000000000002,0.10046000000000002,0.10046000000000002,0.10046000000000002,0.10046000000000002,0.10046000000000002,0.10046000000000002,0.10046000000000002,0.10046000000000002,0.10046000000000002,0.10046000000000002,0.10046000000000002,0.10046000000000002,0.10046000000000002,0.10046000000000002,0.10046000000000002,0.10046000000000002,0.10046000000000002,0.10046000000000002,0.33592000000000005,0.13873636363636363,0.14384444444444444,0.0339,0.045230000000000006,0.07114444444444444,0.14200909090909092,0.14492,-0.04683333333333333,0.10499,0.0,0.043240000000000015,0.10228999999999999,0.28089000000000003,-0.13149000000000002,0.030355555555555556,0.142125,0.10196666666666666,0.16789,-0.07206666666666667,0.23462222222222223,0.16713999999999998,-0.03877777777777777,0.09942222222222223,-0.04846666666666668,0.07825555555555556,-0.017088888888888883,0.17873333333333333,0.09231111111111111,0.20398,-0.04920999999999999,0.04254999999999999,0.25793333333333335,0.25793333333333335,0.1389111111111111,0.06144999999999999,0.12004999999999999,0.01673333333333334,0.0,-0.05296666666666667,-0.05296666666666667,0.26630999999999994,0.26630999999999994,0.26630999999999994,0.03399,-0.18184444444444445,0.11091111111111111,-0.02743,0.029699999999999997,-0.06906,0.1372,0.13408888888888892,0.07019999999999998,0.04939,0.1123,0.2353777777777778,0.06885,0.10962500000000003,0.11763000000000001,0.11763000000000001,0.0015900000000000024,0.18577777777777776,0.11194000000000001,-0.15338,0.002036363636363639,0.003290000000000004,0.13014444444444445,0.13014444444444445,0.10057777777777778,0.19668999999999998,-0.05932000000000002,-0.02325,-0.018066666666666665,0.007649999999999995,0.035100000000000006,0.21054,-0.049888888888888885,0.09243000000000001,0.07390000000000001,0.056810000000000006,0.0,-0.14029999999999998,-0.04748999999999999,-0.021540000000000004,-0.028199999999999996,0.031111111111111107,-0.03074444444444444,0.07425999999999999,0.28465555555555555,0.16546666666666665,0.05282222222222222,-0.01826666666666666,0.12362999999999999,-0.04819,-0.07085,0.11772,0.16385,0.19318,0.016979999999999988,-0.17499,0.22418888888888888,0.038880000000000005,0.11486,0.010530000000000012,-0.09673000000000001,0.17343333333333333,0.004210000000000003,-0.07535,0.043755555555555575,-0.02983333333333333,-0.017011111111111112,0.07286999999999999,0.04997000000000001,0.2273,0.2599888888888889,0.14965555555555554,-0.05584,-0.05584,-0.16494999999999999,-0.054877777777777775,0.1194111111111111,0.11094,-0.030670000000000003,0.05419,0.32709,0.13677,-0.021459999999999996,0.0,-0.13582,-0.12416,0.17446666666666666,0.09331111111111111,0.36948,0.09423000000000001,0.011066666666666667,-0.02387999999999999,-0.12309999999999999,-0.27491000000000004,0.023730000000000008,0.06300000000000001,0.15142000000000003,0.27776666666666666,0.10586,0.10586,0.0,0.06736666666666667,0.1656111111111111,0.04465555555555555,-0.010533333333333327,-0.12143000000000001,0.0007333333333333266,0.04501000000000001,0.02764444444444444,-0.0869111111111111,0.07208888888888887,0.03194444444444446,0.15918750000000004,0.22045000000000003,0.12837777777777779,0.04028888888888889,0.10478888888888889,0.08658888888888888,-0.04387777777777777,-0.07675555555555555,0.05909,0.0347888888888889,0.13167,0.07637000000000001,0.07637000000000001,0.07637000000000001,0.07637000000000001,0.07637000000000001,0.07637000000000001,-0.032888888888888884,0.1715666666666667,0.17704999999999999,-0.10775555555555555,0.32893,0.32893,0.32893,0.041633333333333335,0.0920625,0.19874,0.07042999999999999,0.19391111111111112,0.008577777777777778,0.09961,0.09455555555555553,0.16526666666666667,0.04804444444444445,0.32784,0.1691818181818182,0.1713555555555556,0.02234444444444445,0.15868000000000002,0.15868000000000002,0.08384444444444444,0.05304444444444445,-0.0203,0.15996666666666667,0.11256249999999998,0.40221250000000003,0.1544111111111111,0.12046000000000001,0.18279,0.18279,0.18925999999999998,-0.011444444444444455,-0.034,0.19773999999999997,0.12148888888888888,0.27656,0.1048375,-0.04939,-0.04939,0.056580000000000005,0.25369,0.19993333333333338,0.19735555555555556,0.0260125,-0.06867999999999999,-0.06867999999999999,0.06020909090909091,0.18034,-0.26620000000000005,0.06804444444444445,0.22754000000000002,0.008009090909090915,0.36883333333333335,-0.061340000000000006,0.06421,0.07242222222222222,0.15741,0.059660000000000005,0.11634,-0.12987,0.030469999999999997,-0.03921999999999999,0.1739222222222222,0.19142999999999996,0.14775,0.25898,0.084925,0.16831999999999997,0.27324000000000004,-0.06643333333333332,-0.06643333333333332,0.11885555555555556,0.04937777777777777,0.1118777777777778,-0.054877777777777775,0.1573111111111111,-0.03232999999999999,-0.03232999999999999,0.11128,0.08514999999999999,0.2407,0.15889999999999999,0.30911,0.04013333333333333,-0.13826999999999998,0.1863,0.22952000000000003,-0.03148000000000001,0.11104,0.10612222222222223,-0.029830000000000002,0.048933333333333336,0.16635,0.059770000000000004,0.13054,0.13054,-0.2960888888888889,0.14455454545454544,0.30604444444444445,0.0,-0.06847,-0.032888888888888884,0.0,0.22283333333333333,0.12793333333333334,0.12793333333333334,-0.1058111111111111,0.2038375,-0.0531,0.15288,0.037070000000000006,0.18886999999999998,0.18128888888888892,0.17107,0.0,0.0,0.0,0.0,0.0,0.0,0.0,0.0,0.0,-0.048933333333333336,0.14492222222222223,0.14492222222222223,-0.05907000000000001,0.23392222222222225,0.025500000000000005,0.28009000000000006,0.001000000000000012,-0.08074444444444445,-0.08994444444444444,-0.08692222222222222,0.16101000000000001,0.0,0.0,0.18697777777777777,0.18697777777777777,0.08895000000000002,0.09933,0.12095555555555555,-0.07334444444444445,0.25678999999999996,-0.014060000000000007,0.07190000000000002,-0.0028666666666666667,-0.07007999999999999,0.0,0.30433333333333334,0.0064333333333333334,-0.1255818181818182,0.0,-0.26531000000000005,0.06636,0.09904,0.09904,0.09904,0.09904,0.09904,0.03566999999999999,0.005710000000000002,0.005710000000000002,0.029599999999999998,0.03874444444444444,0.03221666666666665,-0.10515833333333335,-0.0033444444444444463,0.06667000000000003,0.2799888888888889,0.03125,0.08123,0.29525,-0.04566666666666666,0.0444,0.0444,0.2681,0.12433000000000001,-0.06509999999999999,0.29846666666666666,0.22431111111111107,0.14984000000000003,0.2043888888888889,0.06629999999999997,-0.0052499999999999995,0.17412,0.01610000000000001,0.14227000000000004,-0.008029999999999987,0.06392,0.24483000000000002,0.24483000000000002,-0.032633333333333334,0.07212222222222223,-0.10199,-0.041977777777777774,0.08313333333333334,0.0459,0.002355555555555555,0.023499999999999997,0.023499999999999997,0.0,-0.09995454545454545,-0.07502222222222221,-0.07502222222222221,0.00851,0.16306,0.027788888888888887,0.018411111111111114,0.0,0.02852000000000001,0.3596,-0.0834,-0.04939,-0.04939,-0.04939,-0.04939,0.0,0.0,0.0,0.1499777777777778,0.1499777777777778,-0.0050700000000000025,0.07753,0.01348000000000001,-0.18348,-0.15967777777777778,-0.042511111111111104,0.07528,0.07528,-0.06370999999999999,0.26453333333333334,0.0,0.08367,0.15032857142857142,0.021790909090909086,0.021790909090909086,0.021790909090909086,0.12786,-0.005559999999999998,0.09769000000000001,0.10568999999999999,0.06416,0.1856,0.04036000000000001,0.30311,-0.12462222222222222,-0.1358,0.12342,0.12342,0.11484000000000001,0.14748,-0.06480999999999999,0.16947777777777778,0.09248999999999999,0.07734000000000002,0.13655555555555557,0.07165,0.07873333333333334,0.21280000000000002,0.009770000000000001,0.0705777777777778,0.037533333333333335,0.05097,0.16035555555555556,0.21250000000000002,0.035879999999999995,0.09677777777777778,0.09892,0.09892,-0.06035999999999999,0.20537777777777777,0.16704,0.3196800000000001,0.04186000000000001,0.04186000000000001,0.0,-0.07408,-0.017949999999999997,0.06996,0.004049999999999998,0.09994444444444445,0.33494,0.0,-0.10973,0.07085000000000001,0.13157000000000002,0.14488,0.05339000000000001,-0.1336,0.25276666666666664,0.1565777777777778,0.08798,0.11069999999999999,0.16585999999999998,0.08617,0.16017777777777775,0.16017777777777775,0.15871999999999997,0.15871999999999997,-0.061419999999999995,-0.061419999999999995,-0.061419999999999995,0.05045555555555556,0.13713000000000003,0.04683333333333333,-0.023133333333333332,0.11887777777777779,0.12589,-0.010655555555555554,-0.09173333333333333,-0.17303333333333334,0.28245555555555557,0.18513333333333332,0.17456666666666665,0.13085999999999998,-0.036019999999999996,0.18882,0.08894444444444446,0.008844444444444445,0.11219000000000001,0.23213636363636364,0.19186,0.27609,0.16154444444444446,0.17658000000000001,0.06788,-0.08803,-0.05574,0.15043,0.15043,0.08037000000000001,0.19721999999999995,0.16355555555555557,0.029300000000000007,0.0,0.14053333333333334,0.024137499999999992,-0.016466666666666668,-0.016466666666666668,0.2516222222222222,-0.005087499999999995,-0.010766666666666666,0.3424111111111111,0.23975,0.22250000000000003,-0.005877777777777784,-0.00516,0.008369999999999999,0.06171111111111111,0.1930625,-0.0455,0.0,0.04465555555555555,0.18087777777777778,0.1189,0.04394545454545455,0.04153749999999998,0.1147,-0.022010000000000002,0.06117999999999999,0.16369,-0.07731111111111111,-0.100575,0.10518000000000001,0.051059999999999994,0.007669999999999999,0.005790000000000017,0.013311111111111114,-0.05828888888888888,0.15012222222222218,-0.037766666666666664,0.10056000000000001,0.0128,0.014440000000000003,0.13423000000000002,0.33704999999999996,0.14076,0.04178,0.1716111111111111,0.12248,0.14817,0.09509000000000001,0.14494444444444443,0.09781111111111113,0.0,0.06897,0.24413333333333334,-0.0012000000000000107,0.07921111111111112,0.0714111111111111,-0.06290000000000001,-0.052244444444444454,0.01686666666666666,0.24659999999999999,0.07675555555555555,0.12393999999999998,-0.2020875,-0.2020875,0.09535,0.05493333333333334,0.21203333333333335,0.025849999999999995,0.01876,0.0745,0.0745,0.0745,0.0745,0.20468999999999998,0.09146666666666668,0.09146666666666668,0.1407,0.1407,-0.07888,0.12435000000000002,0.16060000000000002,0.13314444444444445,-0.014069999999999994,-0.03613333333333333,0.21972222222222224,0.08570999999999998,0.11488000000000001,0.04911111111111111,0.04204,0.0,0.038269999999999985,0.06564545454545455,0.08496666666666668,0.042469999999999994,0.1622,0.01692222222222222,0.01692222222222222,0.23235555555555554,0.2102222222222222,0.013300000000000003,-0.0032888888888888846,0.04443333333333333,0.020622222222222222,0.29522,-0.13076,-0.13076,0.21317999999999998,-0.06705,0.2479888888888889,0.08843333333333334,-0.06127777777777778,0.04532222222222223,0.12229285714285716,0.07470000000000002,0.010511111111111113,0.11095,0.010209523809523816,-0.09304444444444446,0.01716363636363636,0.1365333333333333,0.019377777777777785,-0.0802,0.02373,0.23094,0.17224,0.03597000000000001,-0.10267,0.03100000000000001,0.09771999999999999,0.008577777777777778,0.10257000000000001,0.0,0.24989,0.06427777777777778,0.3915,-0.056809999999999986,0.20884999999999998,0.09425555555555555,0.14406666666666668,0.19296000000000002,0.21868000000000004,0.09356666666666667,0.14807,0.26737777777777777,-0.0562,0.10729999999999999,0.05319,0.17034444444444446,0.14374,-0.06941,0.42279,0.08459999999999998,0.17575,-0.06401111111111112,-0.02317999999999999,0.25825555555555557,0.061811111111111115,0.013449999999999995,0.052533333333333335,-0.020011111111111105,0.21858,0.10623,0.32889999999999997,-0.04683333333333333,0.38589,0.17754444444444445,0.17754444444444445,-0.021922222222222218,0.13193000000000002,0.0,0.027322222222222216,0.11603999999999999,-0.008044444444444446,0.01708888888888889,0.07076666666666667,-0.03324444444444444,0.14539999999999997,0.29684,0.01225555555555555,-0.08562222222222222,-0.09023333333333333,0.13803,-0.12324000000000002,-0.03523,0.019444444444444438,-0.03535555555555556,0.13163,0.10119,0.018359999999999998,0.16147999999999998,-0.016437499999999994,0.3085888888888889,0.25602,0.2887222222222222,-0.05877777777777778,0.03816666666666667,0.08941000000000002,0.05836,0.054877777777777775,0.17045000000000002,0.11717,0.044500000000000005,0.07322999999999999,0.06508888888888888,0.054900000000000004,0.06293333333333334,0.11639,0.027777777777777776,0.1362,0.09878,0.17131818181818181,0.054310000000000004,0.03351111111111111,0.021377777777777787,0.06354444444444445,0.17495555555555556,0.41818888888888883,0.13087,0.10769999999999999,0.15196,-0.04465555555555555,0.07997999999999998,0.03787777777777778,0.04358000000000001,0.0,0.15614444444444445,0.10941999999999999,0.06024444444444445,-0.05706666666666666,-0.013,0.11607777777777778,0.2307875,0.0,0.11796666666666668],\"yaxis\":\"y\",\"type\":\"scattergl\"}],                        {\"template\":{\"data\":{\"histogram2dcontour\":[{\"type\":\"histogram2dcontour\",\"colorbar\":{\"outlinewidth\":0,\"ticks\":\"\"},\"colorscale\":[[0.0,\"#0d0887\"],[0.1111111111111111,\"#46039f\"],[0.2222222222222222,\"#7201a8\"],[0.3333333333333333,\"#9c179e\"],[0.4444444444444444,\"#bd3786\"],[0.5555555555555556,\"#d8576b\"],[0.6666666666666666,\"#ed7953\"],[0.7777777777777778,\"#fb9f3a\"],[0.8888888888888888,\"#fdca26\"],[1.0,\"#f0f921\"]]}],\"choropleth\":[{\"type\":\"choropleth\",\"colorbar\":{\"outlinewidth\":0,\"ticks\":\"\"}}],\"histogram2d\":[{\"type\":\"histogram2d\",\"colorbar\":{\"outlinewidth\":0,\"ticks\":\"\"},\"colorscale\":[[0.0,\"#0d0887\"],[0.1111111111111111,\"#46039f\"],[0.2222222222222222,\"#7201a8\"],[0.3333333333333333,\"#9c179e\"],[0.4444444444444444,\"#bd3786\"],[0.5555555555555556,\"#d8576b\"],[0.6666666666666666,\"#ed7953\"],[0.7777777777777778,\"#fb9f3a\"],[0.8888888888888888,\"#fdca26\"],[1.0,\"#f0f921\"]]}],\"heatmap\":[{\"type\":\"heatmap\",\"colorbar\":{\"outlinewidth\":0,\"ticks\":\"\"},\"colorscale\":[[0.0,\"#0d0887\"],[0.1111111111111111,\"#46039f\"],[0.2222222222222222,\"#7201a8\"],[0.3333333333333333,\"#9c179e\"],[0.4444444444444444,\"#bd3786\"],[0.5555555555555556,\"#d8576b\"],[0.6666666666666666,\"#ed7953\"],[0.7777777777777778,\"#fb9f3a\"],[0.8888888888888888,\"#fdca26\"],[1.0,\"#f0f921\"]]}],\"heatmapgl\":[{\"type\":\"heatmapgl\",\"colorbar\":{\"outlinewidth\":0,\"ticks\":\"\"},\"colorscale\":[[0.0,\"#0d0887\"],[0.1111111111111111,\"#46039f\"],[0.2222222222222222,\"#7201a8\"],[0.3333333333333333,\"#9c179e\"],[0.4444444444444444,\"#bd3786\"],[0.5555555555555556,\"#d8576b\"],[0.6666666666666666,\"#ed7953\"],[0.7777777777777778,\"#fb9f3a\"],[0.8888888888888888,\"#fdca26\"],[1.0,\"#f0f921\"]]}],\"contourcarpet\":[{\"type\":\"contourcarpet\",\"colorbar\":{\"outlinewidth\":0,\"ticks\":\"\"}}],\"contour\":[{\"type\":\"contour\",\"colorbar\":{\"outlinewidth\":0,\"ticks\":\"\"},\"colorscale\":[[0.0,\"#0d0887\"],[0.1111111111111111,\"#46039f\"],[0.2222222222222222,\"#7201a8\"],[0.3333333333333333,\"#9c179e\"],[0.4444444444444444,\"#bd3786\"],[0.5555555555555556,\"#d8576b\"],[0.6666666666666666,\"#ed7953\"],[0.7777777777777778,\"#fb9f3a\"],[0.8888888888888888,\"#fdca26\"],[1.0,\"#f0f921\"]]}],\"surface\":[{\"type\":\"surface\",\"colorbar\":{\"outlinewidth\":0,\"ticks\":\"\"},\"colorscale\":[[0.0,\"#0d0887\"],[0.1111111111111111,\"#46039f\"],[0.2222222222222222,\"#7201a8\"],[0.3333333333333333,\"#9c179e\"],[0.4444444444444444,\"#bd3786\"],[0.5555555555555556,\"#d8576b\"],[0.6666666666666666,\"#ed7953\"],[0.7777777777777778,\"#fb9f3a\"],[0.8888888888888888,\"#fdca26\"],[1.0,\"#f0f921\"]]}],\"mesh3d\":[{\"type\":\"mesh3d\",\"colorbar\":{\"outlinewidth\":0,\"ticks\":\"\"}}],\"scatter\":[{\"fillpattern\":{\"fillmode\":\"overlay\",\"size\":10,\"solidity\":0.2},\"type\":\"scatter\"}],\"parcoords\":[{\"type\":\"parcoords\",\"line\":{\"colorbar\":{\"outlinewidth\":0,\"ticks\":\"\"}}}],\"scatterpolargl\":[{\"type\":\"scatterpolargl\",\"marker\":{\"colorbar\":{\"outlinewidth\":0,\"ticks\":\"\"}}}],\"bar\":[{\"error_x\":{\"color\":\"#2a3f5f\"},\"error_y\":{\"color\":\"#2a3f5f\"},\"marker\":{\"line\":{\"color\":\"#E5ECF6\",\"width\":0.5},\"pattern\":{\"fillmode\":\"overlay\",\"size\":10,\"solidity\":0.2}},\"type\":\"bar\"}],\"scattergeo\":[{\"type\":\"scattergeo\",\"marker\":{\"colorbar\":{\"outlinewidth\":0,\"ticks\":\"\"}}}],\"scatterpolar\":[{\"type\":\"scatterpolar\",\"marker\":{\"colorbar\":{\"outlinewidth\":0,\"ticks\":\"\"}}}],\"histogram\":[{\"marker\":{\"pattern\":{\"fillmode\":\"overlay\",\"size\":10,\"solidity\":0.2}},\"type\":\"histogram\"}],\"scattergl\":[{\"type\":\"scattergl\",\"marker\":{\"colorbar\":{\"outlinewidth\":0,\"ticks\":\"\"}}}],\"scatter3d\":[{\"type\":\"scatter3d\",\"line\":{\"colorbar\":{\"outlinewidth\":0,\"ticks\":\"\"}},\"marker\":{\"colorbar\":{\"outlinewidth\":0,\"ticks\":\"\"}}}],\"scattermapbox\":[{\"type\":\"scattermapbox\",\"marker\":{\"colorbar\":{\"outlinewidth\":0,\"ticks\":\"\"}}}],\"scatterternary\":[{\"type\":\"scatterternary\",\"marker\":{\"colorbar\":{\"outlinewidth\":0,\"ticks\":\"\"}}}],\"scattercarpet\":[{\"type\":\"scattercarpet\",\"marker\":{\"colorbar\":{\"outlinewidth\":0,\"ticks\":\"\"}}}],\"carpet\":[{\"aaxis\":{\"endlinecolor\":\"#2a3f5f\",\"gridcolor\":\"white\",\"linecolor\":\"white\",\"minorgridcolor\":\"white\",\"startlinecolor\":\"#2a3f5f\"},\"baxis\":{\"endlinecolor\":\"#2a3f5f\",\"gridcolor\":\"white\",\"linecolor\":\"white\",\"minorgridcolor\":\"white\",\"startlinecolor\":\"#2a3f5f\"},\"type\":\"carpet\"}],\"table\":[{\"cells\":{\"fill\":{\"color\":\"#EBF0F8\"},\"line\":{\"color\":\"white\"}},\"header\":{\"fill\":{\"color\":\"#C8D4E3\"},\"line\":{\"color\":\"white\"}},\"type\":\"table\"}],\"barpolar\":[{\"marker\":{\"line\":{\"color\":\"#E5ECF6\",\"width\":0.5},\"pattern\":{\"fillmode\":\"overlay\",\"size\":10,\"solidity\":0.2}},\"type\":\"barpolar\"}],\"pie\":[{\"automargin\":true,\"type\":\"pie\"}]},\"layout\":{\"autotypenumbers\":\"strict\",\"colorway\":[\"#636efa\",\"#EF553B\",\"#00cc96\",\"#ab63fa\",\"#FFA15A\",\"#19d3f3\",\"#FF6692\",\"#B6E880\",\"#FF97FF\",\"#FECB52\"],\"font\":{\"color\":\"#2a3f5f\"},\"hovermode\":\"closest\",\"hoverlabel\":{\"align\":\"left\"},\"paper_bgcolor\":\"white\",\"plot_bgcolor\":\"#E5ECF6\",\"polar\":{\"bgcolor\":\"#E5ECF6\",\"angularaxis\":{\"gridcolor\":\"white\",\"linecolor\":\"white\",\"ticks\":\"\"},\"radialaxis\":{\"gridcolor\":\"white\",\"linecolor\":\"white\",\"ticks\":\"\"}},\"ternary\":{\"bgcolor\":\"#E5ECF6\",\"aaxis\":{\"gridcolor\":\"white\",\"linecolor\":\"white\",\"ticks\":\"\"},\"baxis\":{\"gridcolor\":\"white\",\"linecolor\":\"white\",\"ticks\":\"\"},\"caxis\":{\"gridcolor\":\"white\",\"linecolor\":\"white\",\"ticks\":\"\"}},\"coloraxis\":{\"colorbar\":{\"outlinewidth\":0,\"ticks\":\"\"}},\"colorscale\":{\"sequential\":[[0.0,\"#0d0887\"],[0.1111111111111111,\"#46039f\"],[0.2222222222222222,\"#7201a8\"],[0.3333333333333333,\"#9c179e\"],[0.4444444444444444,\"#bd3786\"],[0.5555555555555556,\"#d8576b\"],[0.6666666666666666,\"#ed7953\"],[0.7777777777777778,\"#fb9f3a\"],[0.8888888888888888,\"#fdca26\"],[1.0,\"#f0f921\"]],\"sequentialminus\":[[0.0,\"#0d0887\"],[0.1111111111111111,\"#46039f\"],[0.2222222222222222,\"#7201a8\"],[0.3333333333333333,\"#9c179e\"],[0.4444444444444444,\"#bd3786\"],[0.5555555555555556,\"#d8576b\"],[0.6666666666666666,\"#ed7953\"],[0.7777777777777778,\"#fb9f3a\"],[0.8888888888888888,\"#fdca26\"],[1.0,\"#f0f921\"]],\"diverging\":[[0,\"#8e0152\"],[0.1,\"#c51b7d\"],[0.2,\"#de77ae\"],[0.3,\"#f1b6da\"],[0.4,\"#fde0ef\"],[0.5,\"#f7f7f7\"],[0.6,\"#e6f5d0\"],[0.7,\"#b8e186\"],[0.8,\"#7fbc41\"],[0.9,\"#4d9221\"],[1,\"#276419\"]]},\"xaxis\":{\"gridcolor\":\"white\",\"linecolor\":\"white\",\"ticks\":\"\",\"title\":{\"standoff\":15},\"zerolinecolor\":\"white\",\"automargin\":true,\"zerolinewidth\":2},\"yaxis\":{\"gridcolor\":\"white\",\"linecolor\":\"white\",\"ticks\":\"\",\"title\":{\"standoff\":15},\"zerolinecolor\":\"white\",\"automargin\":true,\"zerolinewidth\":2},\"scene\":{\"xaxis\":{\"backgroundcolor\":\"#E5ECF6\",\"gridcolor\":\"white\",\"linecolor\":\"white\",\"showbackground\":true,\"ticks\":\"\",\"zerolinecolor\":\"white\",\"gridwidth\":2},\"yaxis\":{\"backgroundcolor\":\"#E5ECF6\",\"gridcolor\":\"white\",\"linecolor\":\"white\",\"showbackground\":true,\"ticks\":\"\",\"zerolinecolor\":\"white\",\"gridwidth\":2},\"zaxis\":{\"backgroundcolor\":\"#E5ECF6\",\"gridcolor\":\"white\",\"linecolor\":\"white\",\"showbackground\":true,\"ticks\":\"\",\"zerolinecolor\":\"white\",\"gridwidth\":2}},\"shapedefaults\":{\"line\":{\"color\":\"#2a3f5f\"}},\"annotationdefaults\":{\"arrowcolor\":\"#2a3f5f\",\"arrowhead\":0,\"arrowwidth\":1},\"geo\":{\"bgcolor\":\"white\",\"landcolor\":\"#E5ECF6\",\"subunitcolor\":\"white\",\"showland\":true,\"showlakes\":true,\"lakecolor\":\"white\"},\"title\":{\"x\":0.05},\"mapbox\":{\"style\":\"light\"}}},\"xaxis\":{\"anchor\":\"y\",\"domain\":[0.0,1.0],\"title\":{\"text\":\"date_of_upload\"}},\"yaxis\":{\"anchor\":\"x\",\"domain\":[0.0,1.0],\"title\":{\"text\":\"polarity_score\"}},\"legend\":{\"tracegroupgap\":0},\"title\":{\"text\":\"Video Sentiment Trend Over Time\"}},                        {\"responsive\": true}                    ).then(function(){\n",
       "                            \n",
       "var gd = document.getElementById('a881f0aa-eea6-4ce9-825e-4e1c4bbac966');\n",
       "var x = new MutationObserver(function (mutations, observer) {{\n",
       "        var display = window.getComputedStyle(gd).display;\n",
       "        if (!display || display === 'none') {{\n",
       "            console.log([gd, 'removed!']);\n",
       "            Plotly.purge(gd);\n",
       "            observer.disconnect();\n",
       "        }}\n",
       "}});\n",
       "\n",
       "// Listen for the removal of the full notebook cells\n",
       "var notebookContainer = gd.closest('#notebook-container');\n",
       "if (notebookContainer) {{\n",
       "    x.observe(notebookContainer, {childList: true});\n",
       "}}\n",
       "\n",
       "// Listen for the clearing of the current output cell\n",
       "var outputEl = gd.closest('.output');\n",
       "if (outputEl) {{\n",
       "    x.observe(outputEl, {childList: true});\n",
       "}}\n",
       "\n",
       "                        })                };                });            </script>        </div>"
      ]
     },
     "metadata": {},
     "output_type": "display_data"
    }
   ],
   "source": [
    "# Create a scatter plot with initial data (first data point)\n",
    "fig = px.scatter(senti_df, x='date_of_upload', y='polarity_score', \n",
    "                 labels={'sentiment_score': 'polarity_score'},\n",
    "                 title='Video Sentiment Trend Over Time',\n",
    "                 hover_data=['video_title'])\n",
    "\n",
    "# # Show the plot\n",
    "fig.show()\n"
   ]
  },
  {
   "cell_type": "markdown",
   "id": "7f154c33-c32e-4eba-b3bb-3f7ac71e9bf8",
   "metadata": {
    "tags": []
   },
   "source": [
    "# Understanding correlation between sentiment of users and video engagement"
   ]
  },
  {
   "cell_type": "code",
   "execution_count": 69,
   "id": "2828d849-2395-4873-93cc-1e9aa3b8ec74",
   "metadata": {},
   "outputs": [
    {
     "name": "stdout",
     "output_type": "stream",
     "text": [
      "Correlation between Sentiment Polarity and Likes: 0.8998933033719934\n",
      "Correlation between Sentiment Polarity and Likes: 0.8551947017697046\n",
      "Correlation between Sentiment Polarity and Likes: 0.8885819599688495\n"
     ]
    }
   ],
   "source": [
    "correlation = senti_df['views'].corr(senti_df['likes'])\n",
    "print(\"Correlation between Sentiment Polarity and Likes:\", correlation)\n",
    "\n",
    "correlation = senti_df['views'].corr(senti_df['number_of_comments'])\n",
    "print(\"Correlation between Sentiment Polarity and Likes:\", correlation)\n",
    "\n",
    "correlation = senti_df['number_of_comments'].corr(senti_df['likes'])\n",
    "print(\"Correlation between Sentiment Polarity and Likes:\", correlation)"
   ]
  },
  {
   "cell_type": "code",
   "execution_count": 70,
   "id": "4dd76412-8820-4d6d-bc54-be34803f5401",
   "metadata": {},
   "outputs": [
    {
     "name": "stdout",
     "output_type": "stream",
     "text": [
      "Correlation between Sentiment Polarity and Likes: 0.029179015964389224\n",
      "Correlation between Sentiment Polarity and Views: 0.014464650504319672\n",
      "Correlation between Sentiment Polarity and Number Of Comments: 0.02245067425210184\n"
     ]
    }
   ],
   "source": [
    "correlation = senti_df['polarity'].corr(senti_df['likes'])\n",
    "print(\"Correlation between Sentiment Polarity and Likes:\", correlation)\n",
    "\n",
    "correlation = senti_df['polarity'].corr(senti_df['views'])\n",
    "print(\"Correlation between Sentiment Polarity and Views:\", correlation)\n",
    "\n",
    "correlation = senti_df['polarity'].corr(senti_df['number_of_comments'])\n",
    "print(\"Correlation between Sentiment Polarity and Number Of Comments:\", correlation)"
   ]
  },
  {
   "cell_type": "markdown",
   "id": "473669ae-ba5c-468d-ae8b-514064ed3b6b",
   "metadata": {},
   "source": [
    "### Sentiment Polarity vs Likes"
   ]
  },
  {
   "cell_type": "code",
   "execution_count": 71,
   "id": "3554a6e4-84ef-43f0-b3c2-70ddf0244497",
   "metadata": {},
   "outputs": [
    {
     "data": {
      "application/vnd.plotly.v1+json": {
       "config": {
        "plotlyServerURL": "https://plot.ly"
       },
       "data": [
        {
         "customdata": [
          [
           "sidemen one word interview"
          ],
          [
           "sidemen one word interview"
          ],
          [
           "sidemen among us chaos mode"
          ],
          [
           "sidemen association challenge"
          ],
          [
           "sidemen noob vs pro rocket league"
          ],
          [
           "sidemen among us sheriff role the dumbest lobby ever"
          ],
          [
           "do all the sidemen think the same"
          ],
          [
           "do all the sidemen think the same"
          ],
          [
           "do all the sidemen think the same"
          ],
          [
           "do all the sidemen think the same"
          ],
          [
           "do all the sidemen think the same"
          ],
          [
           "sidemen are you smarter than a year old"
          ],
          [
           "sidemen are you smarter than a year old"
          ],
          [
           "this is the greatest sidemen video ever"
          ],
          [
           "sidemen among us jester role"
          ],
          [
           "sidemen extreme cop chase challenge on gta"
          ],
          [
           "sidemen christmas mukbang"
          ],
          [
           "sidemen christmas mukbang"
          ],
          [
           "sidemen christmas mukbang"
          ],
          [
           "sidemen secret santa"
          ],
          [
           "sidemen secret santa"
          ],
          [
           "sidemen secret santa"
          ],
          [
           "sidemen secret santa"
          ],
          [
           "sidemen reverse hide seek on ksi s mega yacht"
          ],
          [
           "sidemen gta meme olympics"
          ],
          [
           "sidemen gta meme olympics"
          ],
          [
           "buy christmas drillings today"
          ],
          [
           "sidemen christmas drillings edm remix official music video"
          ],
          [
           "sidemen box of lies"
          ],
          [
           "sidemen box of lies"
          ],
          [
           "harry potter s doppelg nger"
          ],
          [
           "sidemen christmas drillings house remix official lyric video"
          ],
          [
           "sidemen vs lucky blocks in minecraft"
          ],
          [
           "sidemen grenade game on gta"
          ],
          [
           "sidemen cards against humanity"
          ],
          [
           "sidemen memory test"
          ],
          [
           "sidemen get cancelled challenge"
          ],
          [
           "sidemen tinder among us edition"
          ],
          [
           "can ksi guess the real prime"
          ],
          [
           "the sidemen christmas quiz"
          ],
          [
           "sidemen blind eating challenge"
          ],
          [
           "the moment that cancelled vikkstar"
          ],
          [
           "sidemen complete the longest race on gta"
          ],
          [
           "sidemen draw the logo challenge"
          ],
          [
           "how ksi lost the wildest sidemen forfeit ever"
          ],
          [
           "sidemen real or fake challenge"
          ],
          [
           "the most offensive sidemen forfeit ever"
          ],
          [
           "sidemen offensive second challenge"
          ],
          [
           "ksi quits sidemen among us forever"
          ],
          [
           "somebody call the authorities"
          ],
          [
           "sidemen christmas drillings ft jme official music video"
          ],
          [
           "sidemen this or that official music video"
          ],
          [
           "sidemen bully harry on gta"
          ],
          [
           "sidemen go to the world cup"
          ],
          [
           "sidemen extreme fear pong"
          ],
          [
           "sidemen sabotage ksi on forfeit mario kart"
          ],
          [
           "ksi shocks the sidemen"
          ],
          [
           "mr beast hijacks a sidemen video"
          ],
          [
           "sidemen offensive try not to laugh"
          ],
          [
           "sidemen vs mr beast youtuber hunger games"
          ],
          [
           "sidemen superhero world cup"
          ],
          [
           "sidemen hilarious proximity chat on warzone"
          ],
          [
           "the most offensive sidemen among us ever"
          ],
          [
           "sidemen guess the fake logo challenge"
          ],
          [
           "sidemen among us chaotic proximity chat returns"
          ],
          [
           "sidemen vs will smith"
          ],
          [
           "sidemen human bowling challenge"
          ],
          [
           "the worst minutes of w s s life"
          ],
          [
           "sidemen guess the emoji youtuber edition"
          ],
          [
           "sidemen speed eating challenge"
          ],
          [
           "sidemen halloween special on gta"
          ],
          [
           "sidemen pro clubs is back"
          ],
          [
           "sidemen pro clubs is back"
          ],
          [
           "sidemen run for their life on gta"
          ],
          [
           "sidemen among us but the lobby has zero iq"
          ],
          [
           "sidemen is it real or chocolate"
          ],
          [
           "sidemen among us but harry cheats to win"
          ],
          [
           "sidemen controversial tweets"
          ],
          [
           "the sidemen sock off"
          ],
          [
           "sidemen lose their minds playing mario"
          ],
          [
           "the most kills sidemen among us has ever seen"
          ],
          [
           "sidemen charity match who scored the best goal"
          ],
          [
           "sidemen play the gta leaks"
          ],
          [
           "sidemen rank the charity match players"
          ],
          [
           "this is sidemen sunday"
          ],
          [
           "sidemen finish the lyric"
          ],
          [
           "sidemen finish the lyric"
          ],
          [
           "sidemen finish the lyric"
          ],
          [
           "sidemen finish the lyric"
          ],
          [
           "ksi hunts the sidemen"
          ],
          [
           "the sidemen will be cancelled for this video"
          ],
          [
           "returning to the sidemen house"
          ],
          [
           "sidemen forfeit golf shot it or slap it"
          ],
          [
           "harry begs to quit on sidemen gta"
          ],
          [
           "sidemen shock the world on gta"
          ],
          [
           "sidemen youtuber guess who"
          ],
          [
           "sidemen reveal why jake paul will beat ksi"
          ],
          [
           "sidemen pringles mukbang"
          ],
          [
           "sidemen play world s scariest game"
          ],
          [
           "sidemen guess the emoji challenge"
          ],
          [
           "dumbest sidemen among us ever"
          ],
          [
           "sidemen take an iq test"
          ],
          [
           "sidemen play among us but the imposter gets hacked"
          ],
          [
           "sidemen gta but loser gets slapped"
          ],
          [
           "sidemen rage at the world s most impossible game"
          ],
          [
           "sidemen gta craziest forfeit we ve ever done"
          ],
          [
           "sidemen become superheroes"
          ],
          [
           "can ksi win his first crown in fall guys"
          ],
          [
           "who is the dumbest sidemen member"
          ],
          [
           "ksi jake paul are secretly friends"
          ],
          [
           "sidemen extreme darts competition"
          ],
          [
           "ksi masterclass vs geoguesser pro"
          ],
          [
           "the last ever sidemen pro clubs episode"
          ],
          [
           "sidemen vs bots on fall guys"
          ],
          [
           "sidemen help w s get his first fortnite win"
          ],
          [
           "sidemen giant jenga painful"
          ],
          [
           "sidemen forfeit golf"
          ],
          [
           "sidemen rage at impossible fall guys map"
          ],
          [
           "sidemen elimination tron race on gta"
          ],
          [
           "sidemen play brand new fall guys"
          ],
          [
           "sidemen mario kart rainbow road rage"
          ],
          [
           "sidemen rage at world s most frustrating game"
          ],
          [
           "sidemen mario kart race"
          ],
          [
           "sidemen hacked on gta cops vs robbers"
          ],
          [
           "sidemen among us but the imposters try to vote each other out"
          ],
          [
           "sidemen rocket league but its golf"
          ],
          [
           "sidemen olympics"
          ],
          [
           "sidemen olympics"
          ],
          [
           "sidemen among us the best shapeshifter yet"
          ],
          [
           "sidemen minigolf but it s a race"
          ],
          [
           "sidemen among us the worst imposters of all time"
          ],
          [
           "who is the smartest sidemen member"
          ],
          [
           "sidemen assumptions are ksi anne marie dating"
          ],
          [
           "ksi races the sidemen for on gta"
          ],
          [
           "sidemen second categories challenge"
          ],
          [
           "sidemen pro clubs meme olympics"
          ],
          [
           "sidemen blind rpg battle on gta"
          ],
          [
           "sidemen guess eachothers passwords"
          ],
          [
           "the sidemen find out who is richer"
          ],
          [
           "sidemen pokemon smash or pass"
          ],
          [
           "sidemen whisper challenge"
          ],
          [
           "sidemen whisper challenge"
          ],
          [
           "sidemen guess the game challenge"
          ],
          [
           "sidemen google feud"
          ],
          [
           "sidemen shapeshifter among us gone right"
          ],
          [
           "sidemen flag game"
          ],
          [
           "sidemen among us but everyone is third imposter"
          ],
          [
           "sidemen quiplash but we forgot how to be funny"
          ],
          [
           "sidemen among us biggest fail"
          ],
          [
           "sidemen rap battle but we diss ourselves"
          ],
          [
           "the rematch sidemen geoguessr duel"
          ],
          [
           "sidemen slap game"
          ],
          [
           "sidemen water game"
          ],
          [
           "sidemen geoguessr bullseye mode"
          ],
          [
           "sidemen trippy olympics"
          ],
          [
           "sidemen fall guys is back"
          ],
          [
           "sidemen geoguessr duel"
          ],
          [
           "brand new sidemen trivial pursuit"
          ],
          [
           "the strangest car ever on sidemen gta"
          ],
          [
           "brand new sidemen shellshock"
          ],
          [
           "sidemen superbowl on gta"
          ],
          [
           "sidemen parkour challenge"
          ],
          [
           "the greatest ever sidemen mukbang"
          ],
          [
           "sidemen lose their minds on gta"
          ],
          [
           "the ultimate sidemen gameshow"
          ],
          [
           "sidemen minigolf"
          ],
          [
           "the most outrageous game yet"
          ],
          [
           "sidemen battleships on gta"
          ],
          [
           "sidemen disstrack season"
          ],
          [
           "sidemen vs sidemen on gta"
          ],
          [
           "the worst swat team of all time ready or not"
          ],
          [
           "sidemen shapeshifter among us"
          ],
          [
           "sidemen play golf it but the map is impossible"
          ],
          [
           "brand new sidemen horror movie"
          ],
          [
           "sidemen cops vs robbers on gta"
          ],
          [
           "the sidemen have to split up"
          ],
          [
           "new roles in sidemen among us"
          ],
          [
           "sidemen extreme grand prix on gta"
          ],
          [
           "sidemen helmet game"
          ],
          [
           "ksi w s among us masterclass"
          ],
          [
           "sidemen among us greatest moments"
          ],
          [
           "sidemen reverse hide seek in marbella mansion"
          ],
          [
           "sidemen break pro clubs world record"
          ],
          [
           "sidemen are hacked on gta"
          ],
          [
           "sidemen darkest secrets revealed"
          ],
          [
           "sidemen giant ramp on gta"
          ],
          [
           "sidemen new years day golf"
          ],
          [
           "sidemen christmas rap battles"
          ],
          [
           "ksi quits on gta"
          ],
          [
           "the last ever sidemen among us"
          ],
          [
           "sidemen christmas quiz"
          ],
          [
           "sidemen gta christmas special"
          ],
          [
           "sidemen vs fortnite pro"
          ],
          [
           "sidemen crossing battle royale"
          ],
          [
           "sidemen among us but it s pure chaos"
          ],
          [
           "the sidemen rate social media apps"
          ],
          [
           "the sidemen finally win squid game"
          ],
          [
           "sidemen call out penalties"
          ],
          [
           "sidemen among us is back"
          ],
          [
           "sidemen password game"
          ],
          [
           "sidemen password game"
          ],
          [
           "sidemen squid game vs fans"
          ],
          [
           "sidemen categories"
          ],
          [
           "sidemen categories"
          ],
          [
           "sidemen football forfeits"
          ],
          [
           "sidemen left hand drawing challenge"
          ],
          [
           "sidemen manhunt in gta"
          ],
          [
           "sidemen google ourselves"
          ],
          [
           "sidemen pro clubs our fastest title ever"
          ],
          [
           "sidemen nando s mukbang"
          ],
          [
           "mikel arteta rates the sidemens football ability"
          ],
          [
           "sidemen squid game glass bridge challenge on gta"
          ],
          [
           "sidemen play scuffed squid game"
          ],
          [
           "extreme sidemen advent calendar forfeits"
          ],
          [
           "sidemen play golf in takeshi s castle"
          ],
          [
           "the sidemen play fifa pro clubs"
          ],
          [
           "sidemen higher or lower youtube subscribers"
          ],
          [
           "sidemen year anniversary on gta"
          ],
          [
           "sidemen play the scariest game ever"
          ],
          [
           "sidemen squid game on gta"
          ],
          [
           "sidemen olympics the new fastest sideman"
          ],
          [
           "trivial pursuit but ksi s knowledge is massive"
          ],
          [
           "sidemen play competitive tetris"
          ],
          [
           "the sidemen play scuffed fall guys"
          ],
          [
           "the sidemen did not finish in gta v"
          ],
          [
           "gib annoys the sidemen for minutes straight"
          ],
          [
           "sidemen penalty challenge vs kids"
          ],
          [
           "the sidemen falling over for minutes straight"
          ],
          [
           "do the sidemen think the same as onlyfans girls"
          ],
          [
           "stroking out with your friends sidemen gaming"
          ],
          [
           "gartic phone but ksi is years old"
          ],
          [
           "the most epic battles in gta history"
          ],
          [
           "the sidemen become thieves"
          ],
          [
           "the nigerian takeover sidemen olympics"
          ],
          [
           "the sidemen being awkward around girls for more minutes straight"
          ],
          [
           "the wildest sidemen assumptions"
          ],
          [
           "most savage tinder lines of all time"
          ],
          [
           "last to stop playing uno wins"
          ],
          [
           "sidemen olympics going for gold"
          ],
          [
           "sidemen describe celebrities in one word"
          ],
          [
           "sidemen word association"
          ],
          [
           "women rate the strongest sidemen"
          ],
          [
           "women rate the smelliest sidemen"
          ],
          [
           "uncut women guess the laziest sidemen"
          ],
          [
           "sidemen guess the song rematch"
          ],
          [
           "sidemen answer the internets strangest questions"
          ],
          [
           "sidemen tiktok game"
          ],
          [
           "the ultimate sidemen ping pong tournament"
          ],
          [
           "sidemen guess the song challenge"
          ],
          [
           "sidemen guess the song challenge"
          ],
          [
           "sidemen guess the song challenge"
          ],
          [
           "sidemen guess the song challenge"
          ],
          [
           "ksi s voice cracks for minutes straight"
          ],
          [
           "first to guess the sidemen password wins"
          ],
          [
           "how to avoid getting cancelled"
          ],
          [
           "biggest sidemen lies exposed"
          ],
          [
           "the sidemen rank the best tinder lines"
          ],
          [
           "what really happened at clash of creators"
          ],
          [
           "the harry curse"
          ],
          [
           "ksi vs w s in gta v"
          ],
          [
           "brand new sidemen hq"
          ],
          [
           "drake messages ksi during gta v"
          ],
          [
           "the sidemen roast ksi s new album"
          ],
          [
           "the race you ve all been waiting for"
          ],
          [
           "ksi has left moresidemen"
          ],
          [
           "hide seek on ksi s private jet"
          ],
          [
           "is harry quitting gaming videos"
          ],
          [
           "quirky quiplash but tobi hates simon"
          ],
          [
           "sidemen but we re set"
          ],
          [
           "ksi karen vs the sidemen"
          ],
          [
           "the smartest sidemen awards"
          ],
          [
           "the worst minutes of harry s life"
          ],
          [
           "trivial pursuit but harry is down bad sidemen gaming"
          ],
          [
           "sidemen drunk bingo the final round"
          ],
          [
           "gartic phone but it s youtube boxing sidemen gaming"
          ],
          [
           "sidemen drunk bingo"
          ],
          [
           "if you laugh you get cancelled"
          ],
          [
           "the sidemen lose their heads on gta"
          ],
          [
           "sidemen higher or lower sidemen sundays"
          ],
          [
           "reacting to our premier league predictions"
          ],
          [
           "sike"
          ],
          [
           "we are the best team in the world sidemen pro clubs"
          ],
          [
           "golf with your enemies sidemen gaming"
          ],
          [
           "sidemen higher or lower spotify streams"
          ],
          [
           "sidemen vs premier league champions"
          ],
          [
           "the worst sidemen drawings ever seen on youtube"
          ],
          [
           "sidemen overrated or underrated"
          ],
          [
           "the sidemen play gartic phone"
          ],
          [
           "sidemen pro clubs with a special guest"
          ],
          [
           "sidemen vs dream minecraft manhunt"
          ],
          [
           "mad verse city but ksi can t rap"
          ],
          [
           "sidemen football darts"
          ],
          [
           "the last ever sidemen gta"
          ],
          [
           "sidemen fc join the super league"
          ],
          [
           "sidemen golf but there s on the line"
          ],
          [
           "sidemen woodwork challenge"
          ],
          [
           "sidemen woodwork challenge"
          ],
          [
           "sidemen reach million subscribers on gta v"
          ],
          [
           "sidemen vs rocket league pro for"
          ],
          [
           "which of the sidemen passed out at a party"
          ],
          [
           "the best freekick video on youtube"
          ],
          [
           "ksi is not funny"
          ],
          [
           "sidemen on striker challenge"
          ],
          [
           "sidemen crossbar challenge"
          ],
          [
           "sidemen crossbar challenge"
          ],
          [
           "monster truck madness in gta"
          ],
          [
           "ksi proves he s the best at fifa"
          ],
          [
           "our gta lobby was hacked"
          ],
          [
           "sidemen higher or lower spotify monthly listeners"
          ],
          [
           "sidemen higher or lower spotify monthly listeners"
          ],
          [
           "sidemen higher or lower spotify monthly listeners"
          ],
          [
           "the most embarrassing sidemen clubs episode ever"
          ],
          [
           "best of sidemen sundays"
          ],
          [
           "best of sidemen sundays"
          ],
          [
           "best of sidemen sundays"
          ],
          [
           "best of sidemen sundays"
          ],
          [
           "best of sidemen sundays"
          ],
          [
           "best of sidemen sundays"
          ],
          [
           "best of sidemen sundays"
          ],
          [
           "best of sidemen sundays"
          ],
          [
           "best of sidemen sundays"
          ],
          [
           "best of sidemen sundays"
          ],
          [
           "best of sidemen sundays"
          ],
          [
           "best of sidemen sundays"
          ],
          [
           "best of sidemen sundays"
          ],
          [
           "best of sidemen sundays"
          ],
          [
           "best of sidemen sundays"
          ],
          [
           "best of sidemen sundays"
          ],
          [
           "best of sidemen sundays"
          ],
          [
           "best of sidemen sundays"
          ],
          [
           "best of sidemen sundays"
          ],
          [
           "best of sidemen sundays"
          ],
          [
           "best of sidemen sundays"
          ],
          [
           "best of sidemen sundays"
          ],
          [
           "best of sidemen sundays"
          ],
          [
           "best of sidemen sundays"
          ],
          [
           "best of sidemen sundays"
          ],
          [
           "best of sidemen sundays"
          ],
          [
           "best of sidemen sundays"
          ],
          [
           "sidemen dodgeball knockout city"
          ],
          [
           "how well do the sidemen know w s"
          ],
          [
           "sidemen easter egg hunt"
          ],
          [
           "last sidemen to stop running wins"
          ],
          [
           "how well do the sidemen know ksi"
          ],
          [
           "how many rappers can you name sidemen categories"
          ],
          [
           "sidemen hide and seek in gta"
          ],
          [
           "how well do the sidemen know tbjzl"
          ],
          [
           "harry causes chaos sidemen pro clubs"
          ],
          [
           "sidemen codenames but it s customised"
          ],
          [
           "sidemen gta madness is back"
          ],
          [
           "how well do the sidemen know behzinga"
          ],
          [
           "the sidemen laugh at ksi for minutes straight"
          ],
          [
           "the most embarrassing sidemen tweets of all time"
          ],
          [
           "sidemen answer the internets weirdest questions"
          ],
          [
           "the fanbase war sidemen among us"
          ],
          [
           "another questionable quiplash sidemen gaming"
          ],
          [
           "tommyinnit ruins our game sidemen fifa pro clubs"
          ],
          [
           "ksi vs tommyinnit fight on among us"
          ],
          [
           "quit the sidemen or quit drinking"
          ],
          [
           "cheating against the fans sidemen geoguessr"
          ],
          [
           "the sidemen play codenames"
          ],
          [
           "road to rage quit sidemen fifa pro clubs"
          ],
          [
           "sidemen family feud sidemen gaming"
          ],
          [
           "the sidemen are in prison"
          ],
          [
           "ksi vs jake paul is finally happening"
          ],
          [
           "are we allowed to draw this sidemen gaming"
          ],
          [
           "the worst crewmates of all time sidemen among us proximity"
          ],
          [
           "the best clubs series on youtube is back sidemen fifa pro clubs"
          ],
          [
           "sidemen chaotic trolling in among us proximity"
          ],
          [
           "the rap battles are back with jme sidemen gaming"
          ],
          [
           "ksi masterclass in proximity mod sidemen among us"
          ],
          [
           "sidemen second challenge"
          ],
          [
           "sidemen second challenge"
          ],
          [
           "sidemen geoguessr battle royale"
          ],
          [
           "what was the best sidemen sunday video of"
          ],
          [
           "sidemen higher or lower instagram followers"
          ],
          [
           "heatseeker is pure chaos sidemen gaming"
          ],
          [
           "sidemen describe youtubers in one word"
          ],
          [
           "sidemen would you rather"
          ],
          [
           "sidemen would you rather"
          ],
          [
           "sidemen clickbait quiz"
          ],
          [
           "sidemen clickbait quiz"
          ],
          [
           "sidemen clickbait quiz"
          ],
          [
           "i can t believe we ve done this sidemen gaming"
          ],
          [
           "what happened after the sidemen christmas mukbang"
          ],
          [
           "sidemen goalkeeper challenge"
          ],
          [
           "mistakes were made sidemen fifa pro clubs"
          ],
          [
           "rocket league season is here sidemen gaming"
          ],
          [
           "which sideman is the best role model sidemen gaming"
          ],
          [
           "sidemen elimination penalties"
          ],
          [
           "ksi carries the sidemen in rocket league sidemen gaming"
          ],
          [
           "sidemen find out their football stats"
          ],
          [
           "what are these words sidemen gaming"
          ],
          [
           "sidemen vs faze clan among us but ksi has iq"
          ],
          [
           "sidemen open million subscriber diamond plaques"
          ],
          [
           "sidemen giant ball penalty challenge"
          ],
          [
           "sidemen among us vs faze clan"
          ],
          [
           "sidemen among us in real life unseen"
          ],
          [
           "sidemen among us in real life unseen"
          ],
          [
           "among us in golf it sidemen gaming"
          ],
          [
           "brand new quiplash sidemen gaming"
          ],
          [
           "sidemen ball launcher challenge"
          ],
          [
           "who is the best sidemen striker"
          ],
          [
           "working on our team chemistry sidemen fifa pro clubs"
          ],
          [
           "going for the title sidemen fifa pro clubs"
          ],
          [
           "sidemen among us vs mr beast"
          ],
          [
           "sidemen among us vs mr beast"
          ],
          [
           "sidemen insult each other challenge"
          ],
          [
           "vik is a god at any sidemen fifa pro clubs"
          ],
          [
           "sidemen play among us but there s a rd impostor sidemen gaming"
          ],
          [
           "sidemen play among us but that s enough for me sidemen gaming"
          ],
          [
           "sidemen play among us but it s the strangest play ever sidemen gaming"
          ],
          [
           "sidemen among us vs lazarbeam lachlan fresh"
          ],
          [
           "the sidemen pro clubs journey begins sidemen fifa pro clubs"
          ],
          [
           "sidemen play among us but tobi gets his revenge sidemen gaming"
          ],
          [
           "sidemen play among us but everyone rages at each other sidemen gaming"
          ],
          [
           "sidemen among us vs pewdiepie dream jacksepticeye"
          ],
          [
           "sidemen play among us but everyone acts sus sidemen gaming"
          ],
          [
           "the sidemen are back on rocket league sidemen gaming"
          ],
          [
           "sidemen play among us but everyone has iq sidemen gaming"
          ],
          [
           "the sidemen play among us sidemen gaming"
          ],
          [
           "logan paul threatens ksi on gta v sidemen gaming"
          ],
          [
           "is ksi actually the smartest sideman sidemen gaming"
          ],
          [
           "sidemen minecraft meme olympics sidemen gaming"
          ],
          [
           "the sidemen take a quiz but they are hungover"
          ],
          [
           "who s the smartest sideman sidemen gaming"
          ],
          [
           "ethan s first time on fall guys sidemen gaming"
          ],
          [
           "sidemen premier league predictions"
          ],
          [
           "sidemen vs professional poker player tournament"
          ],
          [
           "playing fall guys on golf sidemen gaming"
          ],
          [
           "bullying ksi on fall guys sidemen gaming"
          ],
          [
           "sidemen best pro clubs moments of fifa"
          ],
          [
           "sidemen rank every fall guys level"
          ],
          [
           "can we all get to the final in fall guys sidemen gaming"
          ],
          [
           "the end of clubs sidemen gaming"
          ],
          [
           "sidemen poker night with lux freezy"
          ],
          [
           "sidemen dominating on fall guys sidemen gaming"
          ],
          [
           "worst sidemen trims of all time"
          ],
          [
           "goals red cards and more goals sidemen gaming"
          ],
          [
           "going for the dub in fall guys sidemen gaming"
          ],
          [
           "the sidemen play higher or lower sidemen gaming"
          ],
          [
           "the sidemen play fall guys sidemen gaming"
          ],
          [
           "emotions running high sidemen gaming"
          ],
          [
           "sidemen fast food tier list"
          ],
          [
           "the sidemen being awkward around girls for minutes straight"
          ],
          [
           "draw my thing but we kick each other from the game sidemen gaming"
          ],
          [
           "survival of the wisest sidemen gaming"
          ],
          [
           "the sidemen play trivial pursuit sidemen gaming"
          ],
          [
           "the mystical forest sidemen gaming"
          ],
          [
           "how to not get cancelled with the sidemen sidemen gaming"
          ],
          [
           "sidemen best of lockdown"
          ],
          [
           "conquering the division sort of sidemen gaming"
          ],
          [
           "mad verses in mad verse city sidemen gaming"
          ],
          [
           "sidemen poker tournament"
          ],
          [
           "unseen strangers roast the sidemen"
          ],
          [
           "taking on division sidemen gaming"
          ],
          [
           "taking on division sidemen gaming"
          ],
          [
           "it s every sideman for himself sidemen gaming"
          ],
          [
           "sidemen warzone giveaway sidemen gaming"
          ],
          [
           "sidemen rap or crap"
          ],
          [
           "what do our fans think of us"
          ],
          [
           "it s now or never sidemen gaming"
          ],
          [
           "quiplash sidemen edition sidemen gaming"
          ],
          [
           "back to winning ways sidemen gaming"
          ],
          [
           "the sidemen play role models sidemen gaming"
          ],
          [
           "must win games sidemen gaming"
          ],
          [
           "questionable quiplash sidemen gaming"
          ],
          [
           "bouncing back sidemen gaming"
          ],
          [
           "only one can escape sidemen gaming"
          ],
          [
           "golf but everyone quits sidemen gaming"
          ],
          [
           "win draw or go home sidemen gaming"
          ],
          [
           "the sidemen play survive the internet sidemen gaming"
          ],
          [
           "sidemen trivia night sidemen gaming"
          ],
          [
           "our biggest win yet sidemen gaming"
          ],
          [
           "who scored the best sidemen charity match goal"
          ],
          [
           "which of our followers has the most followers"
          ],
          [
           "teamwork makes the dreamwork sidemen gaming"
          ],
          [
           "quiplash with the boys sidemen gaming"
          ],
          [
           "family friendly rap battles sidemen gaming"
          ],
          [
           "so division sidemen gaming"
          ],
          [
           "which of our subscribers has the most subscribers"
          ],
          [
           "best of ksi s characters"
          ],
          [
           "best of ksi s characters"
          ],
          [
           "sidemen lockdown tinder why the girls said no"
          ],
          [
           "sidemen rate their own tiktoks"
          ],
          [
           "it all comes down to this sidemen gaming"
          ],
          [
           "whose is it sidemen guess the youtuber"
          ],
          [
           "completely appropriate quiplash sidemen gaming"
          ],
          [
           "promotion is on the horizon sidemen gaming"
          ],
          [
           "sidemen majority game"
          ],
          [
           "sidemen back on rocket league sidemen gaming"
          ],
          [
           "the sidemen rate their own songs"
          ],
          [
           "the sidemen play shellshock live sidemen gaming"
          ],
          [
           "the comeback of dreams sidemen gaming"
          ],
          [
           "sidemen best warzone moments"
          ],
          [
           "sidemen answer fan assumptions"
          ],
          [
           "a brand new golf map sidemen gaming"
          ],
          [
           "sidemen stay at home skribbl io sidemen gaming"
          ],
          [
           "sidemen most likely to"
          ],
          [
           "who will win sidemen gaming"
          ],
          [
           "top sidemen gta moments"
          ],
          [
           "self isolation quiplash sidemen gaming"
          ],
          [
           "quarantine golf sidemen gaming"
          ],
          [
           "sidemen vs jme rap battle sidemen gaming"
          ],
          [
           "the sidemen play trials rising sidemen gaming"
          ],
          [
           "can the sidemen win on warzone sidemen gaming"
          ],
          [
           "best of sidemen saturdays"
          ],
          [
           "best of sidemen saturdays"
          ],
          [
           "best of sidemen saturdays"
          ],
          [
           "best of sidemen saturdays"
          ],
          [
           "best of sidemen saturdays"
          ],
          [
           "best of sidemen saturdays"
          ],
          [
           "most painful sidemen game ever"
          ],
          [
           "sidemen encore challenge"
          ],
          [
           "sidemen sundays but it s only stephen tries"
          ],
          [
           "sidemen horror movie sidemen gaming"
          ],
          [
           "sidemen react to their reddit"
          ],
          [
           "sidemen react to their reddit"
          ],
          [
           "sidemen react to their reddit"
          ],
          [
           "sidemen youtube tinder why the girls said no"
          ],
          [
           "sidemen play google feud"
          ],
          [
           "the most outrageous game sidemen play bad people"
          ],
          [
           "how rich are the sidemen"
          ],
          [
           "the worst drawings ever sidemen gaming"
          ],
          [
           "sidemen v survival fifa"
          ],
          [
           "sidemen diss tracks in sidemen gaming"
          ],
          [
           "sidemen guess the tune"
          ],
          [
           "sidemen heads up"
          ],
          [
           "the sidemen play quiplash sidemen gaming"
          ],
          [
           "who s the richest sidemen member sidemen q a"
          ],
          [
           "an embarrassing rage quit sidemen gaming"
          ],
          [
           "ksi sleeping for minutes straight"
          ],
          [
           "who s the best rapper in the sidemen sidemen gaming"
          ],
          [
           "sidemen best of december"
          ],
          [
           "sidemen best of december"
          ],
          [
           "sidemen predict anesongib vs jake paul"
          ],
          [
           "sidemen reverse hide seek on a private island"
          ],
          [
           "kicking jj out of the sidemen sidemen gaming"
          ],
          [
           "whose sidemen instagram is it"
          ],
          [
           "the sidemen play modern warfare sidemen gaming"
          ],
          [
           "jake paul or logan paul sidemen would you rather"
          ],
          [
           "the sidemen pack van dijk toty pack opening"
          ],
          [
           "jj s first win on golf with friends sidemen gaming"
          ],
          [
           "sidemen youtube awards"
          ],
          [
           "sidemen youtube awards"
          ],
          [
           "sidemen draw the youtuber"
          ],
          [
           "the sidemen embarrass jj sidemen gaming"
          ],
          [
           "top moments of sidemen"
          ],
          [
           "sidemen the gift ft s x official music video"
          ],
          [
           "sidemen merry merry christmas ft jme layz official music video"
          ],
          [
           "sidemen youtube whispers"
          ],
          [
           "sidemen rate usa youtubers"
          ],
          [
           "sidemen best of november"
          ],
          [
           "sidemen best of november"
          ],
          [
           "sidemen react to draw their life"
          ],
          [
           "sidemen vs holiday orange team extended cut"
          ],
          [
           "sidemen vs holiday purple team extended cut"
          ],
          [
           "sidemen voting game"
          ],
          [
           "happy birthday harry"
          ],
          [
           "sidemen best of october"
          ],
          [
           "sidemen best of october"
          ],
          [
           "who is the best sideman sidemen gaming"
          ],
          [
           "the sidemen take the ultimate youtube quiz"
          ],
          [
           "into the void sidemen gaming"
          ],
          [
           "which of the sidemen knows callux the best"
          ],
          [
           "sidemen predict ksi vs logan paul"
          ],
          [
           "who s cheating sidemen draw my thing sidemen gaming"
          ],
          [
           "sidemen charades"
          ],
          [
           "how the sidemen met"
          ],
          [
           "sidemen gta death run sidemen gaming"
          ],
          [
           "which of the sidemen knows calfreezy the best"
          ],
          [
           "how many youtubers can you name sidemen categories"
          ],
          [
           "vik plays as any sidemen fifa pro clubs sidemen gaming"
          ],
          [
           "sidemen viral point game"
          ],
          [
           "the sidemen anniversary awards"
          ],
          [
           "the sidemen play gta sidemen gaming"
          ],
          [
           "sidemen reverse hide seek in a theme park"
          ],
          [
           "josh vs tobi sidemen fifa royal rumble final"
          ],
          [
           "simon vs tobi sidemen fifa royal rumble"
          ],
          [
           "josh vs vik sidemen fifa royal rumble"
          ],
          [
           "jj vs josh sidemen fifa royal rumble"
          ],
          [
           "simon vs harry sidemen fifa royal rumble"
          ],
          [
           "sidemen fifa royal rumble"
          ],
          [
           "sidemen answer your assumptions"
          ],
          [
           "sidemen best of september"
          ],
          [
           "sidemen best of september"
          ],
          [
           "sidemen fifa pro clubs sidemen gaming"
          ],
          [
           "ksi vs logan paul anesongib vs jake paul sidemen podcast"
          ],
          [
           "sidemen crossing challenge"
          ],
          [
           "sidemen rate uk youtubers"
          ],
          [
           "sidemen house challenge in minecraft sidemen gaming"
          ],
          [
           "sidemen best of august"
          ],
          [
           "sidemen best of august"
          ],
          [
           "ksi miniminter reacting to sidemen meme edits"
          ],
          [
           "the sidemen hitting the crossbar for minutes"
          ],
          [
           "the sidemen choose words in draw my thing sidemen gaming"
          ],
          [
           "happy birthday simon"
          ],
          [
           "which of the sidemen knows jj the best"
          ],
          [
           "sidemen hide seek in minecraft sidemen gaming"
          ],
          [
           "happy birthday josh"
          ],
          [
           "which of the sidemen knows simon the best"
          ],
          [
           "sidemen guess the youtuber"
          ],
          [
           "all of harry s terrible pick up lines from sidemen tinder"
          ],
          [
           "the sidemen duel minecraft sidecraft"
          ],
          [
           "sidemen tinder why the girls said no"
          ],
          [
           "which of the sidemen knows josh the best"
          ],
          [
           "the sidemen war ends minecraft sidecraft"
          ],
          [
           "unseen sidemen total wipeout"
          ],
          [
           "the sidemen spend hours in amsterdam"
          ],
          [
           "sidemen best of july"
          ],
          [
           "sidemen best of july"
          ],
          [
           "the sidemen battle minecraft sidecraft"
          ],
          [
           "which of the sidemen knows tobi the best"
          ],
          [
           "sidemen fc vs youtube allstars"
          ],
          [
           "ksi switches sides minecraft sidecraft"
          ],
          [
           "sidemen awkward in public"
          ],
          [
           "happy birthday vik"
          ],
          [
           "sidemen savage golf session sidemen gaming"
          ],
          [
           "sidemen pictionary challenge"
          ],
          [
           "sidemen moo off"
          ],
          [
           "sidemen moo off"
          ],
          [
           "sidemen beef minecraft sidecraft"
          ],
          [
           "which of the sidemen knows vik the best"
          ],
          [
           "first to guess the password wins"
          ],
          [
           "sidemen play minecraft minecraft sidecraft"
          ],
          [
           "which of the sidemen knows harry the best"
          ],
          [
           "sidemen team hide and seek"
          ],
          [
           "first sidemen fortnite deathrun sidemen gaming"
          ],
          [
           "phil bullying the sidemen for minutes straight"
          ],
          [
           "sidemen shots fired"
          ],
          [
           "sidemen shots fired"
          ],
          [
           "sidemen shots fired"
          ],
          [
           "sidemen shots fired"
          ],
          [
           "sidemen shots fired"
          ],
          [
           "sidemen shots fired"
          ],
          [
           "sidemen shots fired"
          ],
          [
           "sidemen shots fired"
          ],
          [
           "sidemen shots fired"
          ],
          [
           "which of the sidemen knows ethan the best"
          ],
          [
           "sidemen best of june"
          ],
          [
           "sidemen best of june"
          ],
          [
           "the sidemen play dead by daylight sidemen gaming"
          ],
          [
           "the sidemen are splitting up sidemen rumours"
          ],
          [
           "sidemen strength tests"
          ],
          [
           "which of the sidemen was it"
          ],
          [
           "sidemen play topgolf"
          ],
          [
           "the sidemen open weird fan mail"
          ],
          [
           "sidemen react to hate comments"
          ],
          [
           "the sidemen in america"
          ],
          [
           "sidemen rate sidemen videos"
          ],
          [
           "sidemen best of may"
          ],
          [
           "sidemen best of may"
          ],
          [
           "best sidemen hide seek moments"
          ],
          [
           "best sidemen hide seek moments"
          ],
          [
           "funniest sidemen slip n slide moments"
          ],
          [
           "sidemen hide seek on a private jet"
          ],
          [
           "sidemen try american candy"
          ],
          [
           "all sidemen in a golf video first time ever sidemen gaming"
          ],
          [
           "best sidemen house and room tours"
          ],
          [
           "strangers roast the sidemen phil uncut"
          ],
          [
           "strangers roast the sidemen kiera uncut"
          ],
          [
           "strangers roast the sidemen joe uncut"
          ],
          [
           "strangers roast the sidemen mia uncut"
          ],
          [
           "strangers roast the sidemen scott uncut"
          ],
          [
           "strangers roast the sidemen melissa uncut"
          ],
          [
           "sidemen chilli challenges"
          ],
          [
           "sidemen genius diss track lyrics"
          ],
          [
           "sidemen chubby bunny challenges"
          ],
          [
           "sidemen vs faze penalty shootout"
          ],
          [
           "the sidemen play jenga"
          ],
          [
           "sidemen deadest jokes"
          ],
          [
           "sidemen deadest jokes"
          ],
          [
           "sidemen deadest jokes"
          ],
          [
           "sidemen deadest jokes"
          ],
          [
           "sidemen deadest jokes"
          ],
          [
           "the sidemen spent days on a cruise and this happened"
          ],
          [
           "sidemen best of april"
          ],
          [
           "sidemen best of april"
          ],
          [
           "sidemen clickbait quizzes"
          ],
          [
           "sidemen guess who"
          ],
          [
           "the sidemen play rocket league"
          ],
          [
           "the sidemen get drunk"
          ],
          [
           "sidemen give advice"
          ],
          [
           "sidemen drawing challenges"
          ],
          [
           "sidemen table tennis tournament"
          ],
          [
           "the sidemen get egged"
          ],
          [
           "the sidemen get waxed"
          ],
          [
           "sidemen mukbang"
          ],
          [
           "ranking all sidemen charity match goals"
          ],
          [
           "sidemen best of march"
          ],
          [
           "sidemen best of march"
          ],
          [
           "sidemen one word interviews"
          ],
          [
           "sidemen indoor penalty challenge"
          ],
          [
           "best of sidemen reacting to reddit"
          ],
          [
           "sidemen instagram q a part"
          ],
          [
           "sidemen instagram q a"
          ],
          [
           "one question go"
          ],
          [
           "sidemen play scream go hero"
          ],
          [
           "sidemen basketball challenge"
          ],
          [
           "sidemen you laugh you lose"
          ],
          [
           "sidemen indoor football"
          ],
          [
           "sidemen not my arms"
          ],
          [
           "sidemen go to the arcade"
          ],
          [
           "the sidemen try on make up"
          ],
          [
           "the sidemen go on tinder"
          ],
          [
           "sidemen best of february"
          ],
          [
           "sidemen best of february"
          ],
          [
           "sidemen simon says"
          ],
          [
           "cooking with the sidemen"
          ],
          [
           "sidemen best of the siblings"
          ],
          [
           "sidemen most shocking challenges"
          ],
          [
           "sidemen wackiest hairstyles"
          ],
          [
           "the best of ksi s comeback"
          ],
          [
           "sidemen unbox million subscriber plaques"
          ],
          [
           "sidemen best of january"
          ],
          [
           "sidemen best of january"
          ],
          [
           "sidemen guess the song challenges"
          ],
          [
           "sidemen funniest inflatables moments"
          ],
          [
           "most extreme sidemen forfeits"
          ],
          [
           "most extreme sidemen forfeits"
          ],
          [
           "the best moments in the sidemen house"
          ],
          [
           "sidemen funniest kitchen challenges"
          ],
          [
           "the sidemen travel the world"
          ],
          [
           "sidemen best moments of"
          ],
          [
           "sidemen chubby bunny challenge gone wrong"
          ],
          [
           "sidemen accent challenge"
          ],
          [
           "sidemen funniest christmas moments"
          ],
          [
           "the rudest game ever deckheads challenge"
          ],
          [
           "sidemen react to old videos"
          ],
          [
           "sidemen react to old videos"
          ],
          [
           "sidemen react to old videos"
          ],
          [
           "sidemen react to old videos"
          ],
          [
           "sidemen react to internet videos"
          ],
          [
           "sidemen react to internet videos"
          ],
          [
           "sidemen react to internet videos"
          ],
          [
           "sidemen best ever pranks"
          ],
          [
           "sidemen best ever pranks"
          ],
          [
           "sidemen rock paper scissors tournament"
          ],
          [
           "sidemen pro clubs"
          ],
          [
           "sidemen try not to laugh impossible"
          ],
          [
           "sidemen garry s mod funniest moments"
          ],
          [
           "sidemen funniest fails"
          ],
          [
           "the sidemen play geoguessr"
          ],
          [
           "best sidemen fortnite moments"
          ],
          [
           "best sidemen fortnite moments"
          ],
          [
           "funniest sidemen rage quits"
          ],
          [
           "sidemen best vr moments"
          ],
          [
           "sidemen spookiest moments"
          ],
          [
           "the greatest sidemen moments of all time sidemen years"
          ],
          [
           "funniest sidemen family moments"
          ],
          [
           "sidemen funniest skits"
          ],
          [
           "sidemen funniest skits"
          ],
          [
           "sidemen funniest skits"
          ],
          [
           "funniest charity match moments"
          ],
          [
           "sidemen googling ourselves"
          ],
          [
           "the sidemen play golf in real life"
          ],
          [
           "sidemen funniest snapchat q a questions"
          ],
          [
           "the worst sidemen injuries"
          ],
          [
           "sidemen funniest mad libs moments"
          ],
          [
           "sidemen would you rather moments"
          ],
          [
           "the funniest bits sidemen podcast"
          ],
          [
           "sidemen quickfire questions"
          ],
          [
           "sidemen funniest patience test moments"
          ],
          [
           "best of sidemen challenges"
          ],
          [
           "best of sidemen challenges"
          ],
          [
           "sidemen playing with pro footballers"
          ],
          [
           "the biggest event in internet history"
          ],
          [
           "greatest ever sidemen trickshots"
          ],
          [
           "sidemen funniest q a moments"
          ],
          [
           "all sidemen diss tracks in order"
          ],
          [
           "unreleased wroetoshaw sidemen diss track"
          ],
          [
           "unseen footage sidemen wireless hide seek"
          ],
          [
           "sidemen reacting to old videos"
          ],
          [
           "sidemen being awkward in public"
          ],
          [
           "best sidemen olympic world records"
          ],
          [
           "sidemen penalty shootout"
          ],
          [
           "the sidemen play other sports"
          ],
          [
           "best of sidemen collabs"
          ],
          [
           "sidemen more dead jokes"
          ],
          [
           "maddest sidemen soundclips"
          ],
          [
           "sidemen best hole in ones"
          ],
          [
           "unreleased sidemen hide and seek"
          ],
          [
           "ksi vs logan paul press conference the sidemen show sidemen podcast"
          ],
          [
           "sidemen maddest moments"
          ],
          [
           "sidemen maddest moments"
          ],
          [
           "sidemen that s what she said moments"
          ],
          [
           "sidemen fc match ksi vs logan paul boxing the sidemen show sidemen podcast"
          ],
          [
           "best of sidemen fc charity matches"
          ],
          [
           "sidemen most likely to challenge"
          ],
          [
           "sidemen the movie official trailer behind the scenes day"
          ],
          [
           "sidemen the movie official trailer behind the scenes day"
          ],
          [
           "sidemen more shots fired"
          ],
          [
           "sidemen brain farts"
          ],
          [
           "sidemen sumo fight behind the scenes"
          ],
          [
           "when sidemen videos go wrong"
          ],
          [
           "sidemen total wipeout football challenge behind the scenes"
          ],
          [
           "best sidemen cards against humanity moments"
          ],
          [
           "funniest sidemen football moments"
          ],
          [
           "hilarious sidemen facecam moments"
          ],
          [
           "scariest sidemen moments"
          ],
          [
           "the sidemen can sing"
          ],
          [
           "how the sidemen make a football video"
          ],
          [
           "sidemen mum jokes"
          ],
          [
           "best old sidemen moments"
          ],
          [
           "sidemen make weird noises"
          ],
          [
           "sidemen biggest rage moments"
          ],
          [
           "will ksi fight logan paul or jake paul sidemen podcast"
          ],
          [
           "sidemen vs beta squad among us in real life"
          ],
          [
           "women vs sidemen kai cenat edition"
          ],
          [
           "sidemen race across a country europe edition"
          ],
          [
           "sidemen waterpark hide seek"
          ],
          [
           "the greatest sidemen moments"
          ],
          [
           "the greatest sidemen moments"
          ],
          [
           "sidemen vs christmas day"
          ],
          [
           "sidemen vs christmas day"
          ],
          [
           "sidemen big fat quiz of the year"
          ],
          [
           "sidemen big fat quiz of the year"
          ],
          [
           "sidemen big fat quiz of the year"
          ],
          [
           "sidemen extreme christmas cook off"
          ],
          [
           "sidemen vs christmas song"
          ],
          [
           "sidemen vs football match"
          ],
          [
           "sidemen superyacht hide and seek"
          ],
          [
           "sidemen a z calorie challenge"
          ],
          [
           "sidemen extreme japanese gameshows"
          ],
          [
           "sidemen old vs young for hours challenge"
          ],
          [
           "sidemen forfeit blind date"
          ],
          [
           "sidemen vs mr beast challenge"
          ],
          [
           "sidemen hide seek in world s biggest theatre"
          ],
          [
           "sidemen swap lives for hours"
          ],
          [
           "sidemen charity match goals highlights"
          ],
          [
           "sidemen charity match official stream"
          ],
          [
           "who is the best sidemen football player"
          ],
          [
           "women vs sidemen logan paul edition"
          ],
          [
           "sidemen hot vs cold mukbang"
          ],
          [
           "sidemen train like ksi for hours"
          ],
          [
           "sidemen europe calorie challenge"
          ],
          [
           "sidemen vs road trip usa edition"
          ],
          [
           "sidemen hide and seek in a school"
          ],
          [
           "sidemen vs holiday usa edition"
          ],
          [
           "sidemen tinder in real life usa youtube edition"
          ],
          [
           "sidemen escape room challenge"
          ],
          [
           "sidemen hole in the wall"
          ],
          [
           "women vs sidemen jidion edition"
          ],
          [
           "pointless sidemen edition"
          ],
          [
           "sidemen vs birthday party"
          ],
          [
           "sidemen vs birthday party"
          ],
          [
           "sidemen turn into in hours challenge"
          ],
          [
           "sidemen vs hotel europe edition"
          ],
          [
           "women vs sidemen filly edition"
          ],
          [
           "sidemen vs theme park"
          ],
          [
           "sidemen a z buying challenge"
          ],
          [
           "sidemen abandoned in europe challenge"
          ],
          [
           "sidemen game of life in real life"
          ],
          [
           "sidemen silent library"
          ],
          [
           "sidemen silent library"
          ],
          [
           "sidemen race across europe challenge"
          ],
          [
           "sidemen one million pound drop"
          ],
          [
           "sidemen vs premier league goalkeeper"
          ],
          [
           "sidemen throw a dart and go where it lands"
          ],
          [
           "sidemen usa vs uk calories challenge"
          ],
          [
           "sidemen las vegas forfeit hide and seek"
          ],
          [
           "sidemen complete this challenge win"
          ],
          [
           "sidemen mukbang on a bus"
          ],
          [
           "the cube sidemen edition"
          ],
          [
           "women vs sidemen callux edition"
          ],
          [
           "sidemen family feud"
          ],
          [
           "sidemen that finds lamborghini wins it"
          ],
          [
           "sidemen drink one colour for hours challenge"
          ],
          [
           "sidemen hide and seek in spanish mansion"
          ],
          [
           "sidemen vs new years eve"
          ],
          [
           "women vs sidemen ksi edition"
          ],
          [
           "sidemen hot vs cold holiday"
          ],
          [
           "sidemen pub golf europe edition"
          ],
          [
           "sidemen hide seek in the world s biggest toy store"
          ],
          [
           "sidemen extreme robot wars battle bots"
          ],
          [
           "sidemen extreme tag"
          ],
          [
           "sidemen extreme bake off"
          ],
          [
           "sidemen abandoned challenge"
          ],
          [
           "sidemen who wants to be a millionaire"
          ],
          [
           "sidemen car challenge"
          ],
          [
           "sidemen hide and seek in a nuclear bunker"
          ],
          [
           "sidemen vs kids football match"
          ],
          [
           "sidemen vs camping"
          ],
          [
           "sidemen vs onlyfans olympics"
          ],
          [
           "sidemen speed dating extreme"
          ],
          [
           "women rate the most attractive sidemen"
          ],
          [
           "sidemen hot tub mukbang"
          ],
          [
           "sidemen hide and seek in the most expensive house in london"
          ],
          [
           "sidemen buying one colour for hours"
          ],
          [
           "sidemen extreme punishment pool"
          ],
          [
           "sidemen extreme fishing vs logan paul"
          ],
          [
           "sidemen spend on fans"
          ],
          [
           "sidemen hide and seek on a jumbo jet"
          ],
          [
           "the wheel sidemen edition"
          ],
          [
           "sidemen gogglebox"
          ],
          [
           "sidemen extreme cook off"
          ],
          [
           "sidemen vs hotel"
          ],
          [
           "sidemen vs arsenal womens team"
          ],
          [
           "sidemen impossible footgolf challenge"
          ],
          [
           "sidemen vs mukbang"
          ],
          [
           "sidemen guess the millionaire"
          ],
          [
           "sidemen a z drinking challenge gone wrong"
          ],
          [
           "sidemen hide seek in a dungeon"
          ],
          [
           "sidemen most weight lost in hours challenge"
          ],
          [
           "sidemen all sports golf battle"
          ],
          [
           "sidemens got talent"
          ],
          [
           "sidemen crystal maze"
          ],
          [
           "sidemen eat food from different countries hours challenge"
          ],
          [
           "sidemen barber shop gone wrong"
          ],
          [
           "women vs sidemen harry edition"
          ],
          [
           "sidemen worlds most expensive mukbang"
          ],
          [
           "sidemen guess the fake couple"
          ],
          [
           "sidemen tinder in real life"
          ],
          [
           "sidemen tinder in real life"
          ],
          [
           "the price is right sidemen edition"
          ],
          [
           "sidemen hide and seek in a castle"
          ],
          [
           "sidemen calorie battle the rematch"
          ],
          [
           "sidemen have minutes to spend"
          ],
          [
           "top sidemen moments"
          ],
          [
           "sidemen blind dating"
          ],
          [
           "sidemen blind dating"
          ],
          [
           "sidemen blind dating"
          ],
          [
           "sidemen blind dating"
          ],
          [
           "sidemen hide and seek in beta squad house"
          ],
          [
           "the weakest link sidemen edition"
          ],
          [
           "the weakest link sidemen edition"
          ],
          [
           "sidemen among us in real life"
          ],
          [
           "sidemen among us in real life"
          ],
          [
           "sidemen calories battle"
          ],
          [
           "sidemen try expensive vs cheap food"
          ],
          [
           "women vs sidemen ethan edition"
          ],
          [
           "sidemen trivial pursuit in real life"
          ],
          [
           "sidemen a z eating challenge"
          ],
          [
           "sidemen split or steal"
          ],
          [
           "sidemen drinking mukbang"
          ],
          [
           "sidemen hide and seek in a prison"
          ],
          [
           "sidemen fall guys in real life"
          ],
          [
           "sidemen pub golf gone wrong"
          ],
          [
           "sidemen race across the uk"
          ],
          [
           "sidemen punishment basketball"
          ],
          [
           "sidemen eat the hottest wings challenge"
          ],
          [
           "jeopardy sidemen edition"
          ],
          [
           "sidemen vs takeaway"
          ],
          [
           "sidemen spend on each other in hour"
          ],
          [
           "sidemen go camping"
          ],
          [
           "strangers roast the sidemen"
          ],
          [
           "strangers roast the sidemen"
          ],
          [
           "sidemen vs"
          ],
          [
           "sidemen reunited mukbang"
          ],
          [
           "sidemen vs w s football challenge"
          ],
          [
           "sidemen real life bingo in lockdown"
          ],
          [
           "sidemen calories challenge in lockdown"
          ],
          [
           "sidemen go back to online school"
          ],
          [
           "sidemen talent show"
          ],
          [
           "sidemen spelling bee"
          ],
          [
           "sidemen spelling bee"
          ],
          [
           "sidemen tinder in lockdown"
          ],
          [
           "sidemen tiktok challenge"
          ],
          [
           "sidemen lockdown showdown"
          ],
          [
           "sidemen learn skills in hours"
          ],
          [
           "sidemen come dine with me"
          ],
          [
           "the end of the sidemen channel"
          ],
          [
           "stayhome"
          ],
          [
           "sidemen escape room"
          ],
          [
           "sidemen paintball hide and seek"
          ],
          [
           "sidemen dragons den shark tank"
          ],
          [
           "sidemen tinder in real life uk youtube edition"
          ],
          [
           "sidemen spill your guts or fill your guts"
          ],
          [
           "sidemen most weight gained in hours challenge"
          ],
          [
           "sidemen monopoly in real life"
          ],
          [
           "sidemen hide seek on a private island"
          ],
          [
           "sidemen eating one colour food for hours challenge"
          ],
          [
           "sidemen lie detector"
          ],
          [
           "sidemen rewind"
          ],
          [
           "sidemen christmas cook off"
          ],
          [
           "sidemen make a song in hours challenge"
          ],
          [
           "sidemen tipping point"
          ],
          [
           "sidemen real life bingo"
          ],
          [
           "sidemen calories in hours challenge usa edition"
          ],
          [
           "sidemen spend in hour challenge"
          ],
          [
           "sidemen speed dating"
          ],
          [
           "sidemen vs holiday europe edition"
          ],
          [
           "sidemen ice dunk tank challenge"
          ],
          [
           "the roast of the sidemen"
          ],
          [
           "sidemen hide seek in a theme park"
          ],
          [
           "sidemen vs road trip"
          ],
          [
           "sidemen wheel of fortune"
          ],
          [
           "sidemen handcuffed for hours challenge"
          ],
          [
           "sidemen football fear pong"
          ],
          [
           "sidemen sumo olympics"
          ],
          [
           "sidemen million mansion reverse hide seek"
          ],
          [
           "sidemen total wipeout challenge"
          ],
          [
           "sidemen burn calories in hours challenge"
          ],
          [
           "sidemen become parents for hours"
          ],
          [
           "the chase sidemen edition"
          ],
          [
           "sidemen hide seek in a football stadium"
          ],
          [
           "sidemen donate to twitch streamers"
          ],
          [
           "sidemen outfit challenge"
          ],
          [
           "sidemen go back to school"
          ],
          [
           "sidemen tinder in real life original edition"
          ],
          [
           "sidemen strength test"
          ],
          [
           "sidemen learn to dance ft jabbawockeez"
          ],
          [
           "nigahiga vs sidemen the ultimate challenge"
          ],
          [
           "sidemen vs faze crossbar challenge"
          ],
          [
           "sidemen million faze house hide seek"
          ],
          [
           "countdown sidemen edition"
          ],
          [
           "sidemen sports day"
          ],
          [
           "sidemen vs holiday"
          ],
          [
           "sidemen giant inflatable slip and slide challenge"
          ],
          [
           "sidemen one question"
          ],
          [
           "sidemen million cruise ship hide seek"
          ],
          [
           "sidemen break world records"
          ],
          [
           "sidemen eat calories in hours challenge"
          ],
          [
           "the sidemen bake off"
          ],
          [
           "sidemen try james charles make up tutorial"
          ],
          [
           "sidemen read mean tweets"
          ],
          [
           "sidemen read mean tweets"
          ],
          [
           "sidemen top best moments"
          ],
          [
           "sidemen winter olympics"
          ],
          [
           "sidemen christmas football challenges"
          ],
          [
           "shocking try not to laugh challenge"
          ],
          [
           "sidemen punishment pool insane"
          ],
          [
           "sidemen family fortunes"
          ],
          [
           "sidemen react to teens react to sidemen"
          ],
          [
           "sidemen pumpkin carving challenge gone wrong"
          ],
          [
           "haunted clown maze hide and seek"
          ],
          [
           "extreme forfeit sidemen quiz"
          ],
          [
           "sidemen a side football horrific injury"
          ],
          [
           "sidemen not my arms challenge"
          ],
          [
           "how fast can the sidemen run m sidemen olympics"
          ],
          [
           "how well do the sidemen know each other"
          ],
          [
           "ksi vs the sidemen"
          ],
          [
           "sidemen who wants to be a billionaire"
          ],
          [
           "sidemen extreme minigolf"
          ],
          [
           "sidemen carpool diss track karaoke"
          ],
          [
           "sidemen explore haunted tunnels warning"
          ],
          [
           "how hard can the sidemen punch"
          ],
          [
           "sidemen bowling gone wrong"
          ],
          [
           "sidemen world cup football challenges"
          ],
          [
           "sidemen hide seek in wireless festival gone wrong"
          ],
          [
           "sidemen world cup wipeout challenge"
          ],
          [
           "sidemen go to space the sidemen show"
          ],
          [
           "sidemen rescue nicole scherzinger the sidemen show"
          ],
          [
           "hunting the sidemen the sidemen show"
          ],
          [
           "sidemen investigate most haunted house the sidemen show"
          ],
          [
           "the great sidemen race the sidemen show"
          ],
          [
           "sidemen winter sports challenges the sidemen show"
          ],
          [
           "sidemen extreme desert race explosion the sidemen show"
          ],
          [
           "sidemen fc vs youtube allstars goals highlights"
          ],
          [
           "sidemen fc vs youtube allstars charity match livestream"
          ],
          [
           "the sidemen show official trailer"
          ],
          [
           "the sidemen show exclusive teaser trailer"
          ],
          [
           "sidemen giant slip and slide football"
          ],
          [
           "sidemen yoga challenge"
          ],
          [
           "sidemen homemade olympics"
          ],
          [
           "sidemen deal or no deal"
          ],
          [
           "sidemen million mansion hide and seek"
          ],
          [
           "sidemen sumo fight"
          ],
          [
           "sidemen the movie official trailer"
          ],
          [
           "sidemen total wipeout football challenge"
          ],
          [
           "sidemen answer the most searched google questions"
          ],
          [
           "sidemen ultimate football challenge"
          ],
          [
           "sidemen silent challenge"
          ],
          [
           "sidemen giant football darts"
          ],
          [
           "extreme sidemen fear pong"
          ],
          [
           "sidemen try not to laugh challenge w jack whitehall"
          ],
          [
           "you laugh you lose sidemen do bad jokes"
          ],
          [
           "logan paul ksi vs joe weller fight sidemen diss tracks"
          ],
          [
           "sidemen fc vs youtube allstars highlights"
          ],
          [
           "sidemen fc vs youtube allstars livestream"
          ],
          [
           "you must watch this before the sidemen match"
          ],
          [
           "the legendary vik as any"
          ],
          [
           "the end of sidemen clubs"
          ],
          [
           "exposing the sidemen"
          ],
          [
           "simon is quitting the sidemen"
          ],
          [
           "the sidemen beef begins sdmn clubs"
          ],
          [
           "ksi trolls the sidemen sdmn clubs"
          ],
          [
           "sidemen book tour"
          ],
          [
           "the sidemen awards"
          ],
          [
           "first ever sidemen podcast"
          ],
          [
           "sidemen manchester meet up"
          ],
          [
           "sidemen fc vs youtube allstars charity football match livestream"
          ],
          [
           "sidemen face painting challenge"
          ],
          [
           "welcome to the sidemen channel"
          ]
         ],
         "hovertemplate": "polarity=%{x}<br>likes=%{y}<br>video_title=%{customdata[0]}<extra></extra>",
         "legendgroup": "",
         "marker": {
          "color": "#636efa",
          "symbol": "circle"
         },
         "mode": "markers",
         "name": "",
         "showlegend": false,
         "type": "scattergl",
         "x": [
          1,
          1,
          -1,
          -1,
          1,
          1,
          1,
          1,
          1,
          1,
          1,
          1,
          1,
          1,
          1,
          1,
          -1,
          -1,
          -1,
          1,
          1,
          1,
          1,
          1,
          1,
          1,
          -1,
          1,
          -1,
          -1,
          1,
          1,
          1,
          1,
          1,
          1,
          1,
          -1,
          1,
          1,
          -1,
          1,
          -1,
          1,
          -1,
          -1,
          1,
          1,
          1,
          1,
          -1,
          1,
          1,
          1,
          -1,
          -1,
          1,
          1,
          1,
          -1,
          1,
          1,
          1,
          1,
          -1,
          1,
          1,
          0,
          1,
          -1,
          -1,
          1,
          1,
          -1,
          1,
          1,
          1,
          1,
          1,
          1,
          -1,
          1,
          1,
          1,
          1,
          1,
          1,
          1,
          1,
          1,
          1,
          1,
          1,
          1,
          -1,
          -1,
          -1,
          1,
          -1,
          1,
          1,
          -1,
          -1,
          1,
          1,
          1,
          -1,
          1,
          -1,
          -1,
          1,
          1,
          1,
          1,
          1,
          1,
          -1,
          1,
          1,
          1,
          -1,
          1,
          1,
          -1,
          1,
          1,
          1,
          1,
          0,
          1,
          1,
          -1,
          1,
          -1,
          1,
          -1,
          1,
          1,
          1,
          1,
          1,
          1,
          -1,
          1,
          -1,
          1,
          1,
          -1,
          -1,
          -1,
          1,
          1,
          1,
          1,
          1,
          1,
          1,
          -1,
          -1,
          1,
          -1,
          1,
          1,
          1,
          -1,
          1,
          1,
          1,
          1,
          1,
          1,
          -1,
          1,
          1,
          1,
          1,
          -1,
          1,
          1,
          1,
          -1,
          -1,
          -1,
          1,
          1,
          0,
          1,
          1,
          -1,
          -1,
          0,
          1,
          1,
          1,
          -1,
          1,
          1,
          1,
          -1,
          1,
          1,
          -1,
          1,
          1,
          1,
          1,
          -1,
          1,
          1,
          0,
          1,
          -1,
          1,
          1,
          1,
          1,
          0,
          1,
          -1,
          1,
          1,
          1,
          1,
          1,
          1,
          1,
          0,
          1,
          1,
          -1,
          -1,
          1,
          1,
          0,
          -1,
          1,
          1,
          1,
          -1,
          -1,
          -1,
          1,
          -1,
          1,
          1,
          1,
          1,
          1,
          -1,
          -1,
          -1,
          -1,
          -1,
          1,
          1,
          1,
          1,
          -1,
          1,
          -1,
          -1,
          1,
          1,
          1,
          1,
          1,
          1,
          1,
          -1,
          1,
          0,
          1,
          -1,
          1,
          1,
          1,
          1,
          1,
          0,
          1,
          -1,
          1,
          1,
          -1,
          1,
          1,
          1,
          1,
          1,
          1,
          1,
          1,
          1,
          1,
          -1,
          1,
          1,
          -1,
          1,
          1,
          1,
          -1,
          1,
          1,
          1,
          1,
          1,
          -1,
          -1,
          -1,
          -1,
          -1,
          1,
          1,
          1,
          1,
          1,
          1,
          1,
          1,
          1,
          1,
          1,
          1,
          1,
          1,
          1,
          1,
          1,
          1,
          1,
          1,
          1,
          1,
          1,
          1,
          1,
          1,
          1,
          1,
          1,
          1,
          1,
          1,
          1,
          1,
          1,
          -1,
          1,
          0,
          1,
          1,
          1,
          -1,
          1,
          1,
          1,
          1,
          -1,
          1,
          1,
          -1,
          1,
          -1,
          1,
          -1,
          1,
          1,
          1,
          -1,
          1,
          1,
          1,
          1,
          1,
          1,
          1,
          0,
          -1,
          -1,
          1,
          1,
          1,
          1,
          -1,
          1,
          -1,
          1,
          -1,
          1,
          1,
          1,
          1,
          1,
          1,
          1,
          1,
          1,
          1,
          1,
          1,
          1,
          -1,
          1,
          1,
          1,
          1,
          1,
          1,
          -1,
          -1,
          -1,
          1,
          1,
          1,
          -1,
          1,
          1,
          1,
          0,
          -1,
          -1,
          -1,
          -1,
          1,
          -1,
          1,
          1,
          1,
          1,
          -1,
          1,
          -1,
          -1,
          1,
          1,
          1,
          1,
          -1,
          1,
          1,
          1,
          1,
          -1,
          1,
          1,
          -1,
          1,
          -1,
          -1,
          1,
          1,
          1,
          1,
          1,
          -1,
          -1,
          -1,
          -1,
          1,
          1,
          -1,
          1,
          1,
          1,
          -1,
          0,
          -1,
          -1,
          1,
          1,
          1,
          1,
          1,
          -1,
          -1,
          -1,
          1,
          1,
          1,
          1,
          1,
          1,
          0,
          1,
          1,
          1,
          -1,
          -1,
          1,
          1,
          1,
          -1,
          1,
          1,
          1,
          1,
          1,
          1,
          1,
          1,
          -1,
          -1,
          1,
          1,
          1,
          1,
          1,
          1,
          1,
          1,
          1,
          -1,
          1,
          1,
          -1,
          1,
          1,
          1,
          1,
          1,
          1,
          1,
          1,
          1,
          1,
          1,
          1,
          1,
          1,
          1,
          1,
          1,
          1,
          1,
          1,
          1,
          -1,
          1,
          1,
          1,
          1,
          1,
          1,
          1,
          1,
          -1,
          -1,
          1,
          1,
          1,
          1,
          -1,
          -1,
          1,
          1,
          1,
          1,
          1,
          -1,
          -1,
          1,
          1,
          -1,
          1,
          1,
          1,
          1,
          -1,
          1,
          1,
          1,
          1,
          1,
          -1,
          1,
          -1,
          1,
          1,
          1,
          1,
          1,
          1,
          1,
          -1,
          -1,
          1,
          1,
          1,
          -1,
          1,
          -1,
          -1,
          1,
          1,
          1,
          1,
          1,
          1,
          -1,
          1,
          1,
          -1,
          1,
          1,
          -1,
          1,
          1,
          1,
          1,
          1,
          -1,
          1,
          1,
          0,
          -1,
          -1,
          0,
          1,
          1,
          1,
          -1,
          1,
          -1,
          1,
          1,
          1,
          1,
          1,
          0,
          0,
          0,
          0,
          0,
          0,
          0,
          0,
          0,
          -1,
          1,
          1,
          -1,
          1,
          1,
          1,
          1,
          -1,
          -1,
          -1,
          1,
          0,
          0,
          1,
          1,
          1,
          1,
          1,
          -1,
          1,
          -1,
          1,
          -1,
          -1,
          0,
          1,
          1,
          -1,
          0,
          -1,
          1,
          1,
          1,
          1,
          1,
          1,
          1,
          1,
          1,
          1,
          1,
          1,
          -1,
          -1,
          1,
          1,
          1,
          1,
          1,
          -1,
          1,
          1,
          1,
          1,
          -1,
          1,
          1,
          1,
          1,
          1,
          -1,
          1,
          1,
          1,
          -1,
          1,
          1,
          1,
          -1,
          1,
          -1,
          -1,
          1,
          1,
          1,
          1,
          1,
          0,
          -1,
          -1,
          -1,
          1,
          1,
          1,
          1,
          0,
          1,
          1,
          -1,
          -1,
          -1,
          -1,
          -1,
          0,
          0,
          0,
          1,
          1,
          -1,
          1,
          1,
          -1,
          -1,
          -1,
          1,
          1,
          -1,
          1,
          0,
          1,
          1,
          1,
          1,
          1,
          1,
          -1,
          1,
          1,
          1,
          1,
          1,
          1,
          -1,
          -1,
          1,
          1,
          1,
          1,
          -1,
          1,
          1,
          1,
          1,
          1,
          1,
          1,
          1,
          1,
          1,
          1,
          1,
          1,
          1,
          1,
          1,
          1,
          -1,
          1,
          1,
          1,
          1,
          1,
          0,
          -1,
          -1,
          1,
          1,
          1,
          1,
          0,
          -1,
          1,
          1,
          1,
          1,
          -1,
          1,
          1,
          1,
          1,
          1,
          1,
          1,
          1,
          1,
          1,
          -1,
          -1,
          -1,
          1,
          1,
          1,
          -1,
          1,
          1,
          -1,
          -1,
          -1,
          1,
          1,
          1,
          1,
          -1,
          1,
          1,
          1,
          1,
          1,
          1,
          1,
          1,
          1,
          1,
          -1,
          -1,
          1,
          1,
          1,
          1,
          1,
          1,
          0,
          1,
          1,
          -1,
          -1,
          1,
          -1,
          -1,
          1,
          1,
          1,
          -1,
          -1,
          1,
          1,
          1,
          -1,
          0,
          1,
          1,
          1,
          1,
          1,
          1,
          -1,
          1,
          1,
          -1,
          -1,
          1,
          1,
          1,
          1,
          1,
          -1,
          1,
          -1,
          1,
          1,
          1,
          1,
          1,
          1,
          1,
          1,
          1,
          1,
          1,
          1,
          1,
          0,
          1,
          1,
          -1,
          1,
          1,
          -1,
          -1,
          1,
          1,
          1,
          1,
          -1,
          -1,
          1,
          1,
          1,
          1,
          1,
          1,
          1,
          1,
          1,
          1,
          1,
          1,
          1,
          1,
          -1,
          1,
          1,
          1,
          -1,
          -1,
          1,
          1,
          1,
          1,
          1,
          0,
          1,
          1,
          1,
          1,
          1,
          1,
          1,
          1,
          1,
          1,
          -1,
          1,
          1,
          1,
          -1,
          -1,
          1,
          -1,
          1,
          1,
          -1,
          1,
          1,
          1,
          1,
          1,
          1,
          -1,
          1,
          1,
          1,
          -1,
          1,
          1,
          1,
          1,
          -1,
          1,
          1,
          1,
          1,
          0,
          1,
          1,
          1,
          -1,
          1,
          1,
          1,
          1,
          1,
          1,
          1,
          1,
          -1,
          1,
          1,
          1,
          1,
          -1,
          1,
          1,
          1,
          -1,
          -1,
          1,
          1,
          1,
          1,
          -1,
          1,
          1,
          1,
          -1,
          1,
          1,
          1,
          -1,
          1,
          0,
          1,
          1,
          -1,
          1,
          1,
          -1,
          1,
          1,
          1,
          -1,
          -1,
          1,
          -1,
          -1,
          1,
          -1,
          1,
          1,
          1,
          1,
          -1,
          1,
          1,
          1,
          -1,
          1,
          1,
          1,
          1,
          1,
          1,
          1,
          1,
          1,
          1,
          1,
          1,
          1,
          1,
          1,
          1,
          1,
          1,
          1,
          1,
          1,
          1,
          1,
          1,
          1,
          -1,
          1,
          1,
          1,
          0,
          1,
          1,
          1,
          -1,
          -1,
          1,
          1,
          0,
          1
         ],
         "xaxis": "x",
         "y": [
          144945,
          423575,
          208354,
          122217,
          89700,
          240260,
          132415,
          201340,
          240170,
          177306,
          365410,
          89405,
          532280,
          125353,
          233308,
          97807,
          102632,
          311653,
          683400,
          179477,
          332427,
          235545,
          317398,
          167423,
          163998,
          240219,
          30317,
          33969,
          175476,
          467681,
          32704,
          49609,
          119057,
          92054,
          182128,
          154550,
          139901,
          219434,
          54947,
          116852,
          136236,
          57748,
          101388,
          126781,
          29228,
          163510,
          153767,
          234716,
          217131,
          62665,
          543200,
          509647,
          118490,
          105790,
          164533,
          161554,
          46438,
          35350,
          344518,
          231654,
          77771,
          95669,
          224969,
          152078,
          216268,
          146999,
          160317,
          129315,
          193742,
          184588,
          135352,
          133117,
          159670,
          125229,
          209461,
          328050,
          250012,
          138875,
          145230,
          120316,
          255511,
          87577,
          174198,
          184666,
          186575,
          141852,
          123786,
          115730,
          181455,
          122336,
          139478,
          148380,
          96541,
          164643,
          162564,
          215393,
          148704,
          161341,
          187277,
          200790,
          311629,
          158147,
          288573,
          143760,
          148124,
          224904,
          113068,
          155853,
          235844,
          207745,
          202229,
          150902,
          193332,
          141071,
          136665,
          204025,
          127280,
          143543,
          166857,
          176423,
          317287,
          286027,
          459344,
          130792,
          277896,
          81087,
          165460,
          191516,
          322035,
          124677,
          288949,
          199638,
          246049,
          179324,
          170336,
          138222,
          119274,
          148527,
          210558,
          189822,
          280135,
          268287,
          175415,
          190365,
          383736,
          199794,
          254876,
          91869,
          304417,
          119218,
          114747,
          198829,
          223490,
          92381,
          84451,
          175114,
          138551,
          81337,
          132482,
          92268,
          151634,
          121736,
          88202,
          156102,
          121371,
          168700,
          85190,
          158689,
          122751,
          127934,
          165280,
          389811,
          111474,
          123528,
          222808,
          182543,
          281649,
          208213,
          382049,
          355753,
          152046,
          150707,
          107198,
          196148,
          121160,
          227077,
          97711,
          124475,
          218532,
          522657,
          157797,
          209008,
          175507,
          175565,
          328664,
          99703,
          102283,
          213740,
          344082,
          153992,
          121450,
          119802,
          194531,
          170084,
          234467,
          108068,
          262258,
          264897,
          103212,
          219549,
          265505,
          191439,
          207130,
          203074,
          107122,
          146501,
          165653,
          245273,
          176396,
          291357,
          102889,
          122630,
          112778,
          132894,
          155767,
          113867,
          238812,
          63805,
          182133,
          82696,
          118178,
          149701,
          86385,
          151765,
          76242,
          185369,
          189579,
          135101,
          188114,
          214890,
          213763,
          138894,
          46236,
          82121,
          142008,
          174616,
          207077,
          222424,
          236280,
          282756,
          106605,
          129998,
          128224,
          194378,
          75459,
          84061,
          181456,
          95918,
          95903,
          222973,
          106602,
          252642,
          83987,
          145621,
          105411,
          519423,
          90524,
          84117,
          98091,
          123809,
          91707,
          166283,
          106357,
          434742,
          95771,
          334953,
          199558,
          580429,
          121536,
          81744,
          296880,
          99574,
          95883,
          108094,
          71007,
          170870,
          128394,
          206565,
          89908,
          589609,
          100248,
          185859,
          277623,
          112399,
          118993,
          179072,
          138308,
          241052,
          221424,
          74592,
          216755,
          121726,
          244847,
          232346,
          253253,
          160015,
          131898,
          236718,
          117176,
          115815,
          156691,
          80303,
          37197,
          54584,
          51390,
          41618,
          46520,
          61209,
          39016,
          46623,
          47500,
          39457,
          62949,
          39097,
          39490,
          36203,
          61864,
          34343,
          59012,
          108283,
          25874,
          26080,
          25522,
          21015,
          17905,
          41976,
          21956,
          42655,
          88545,
          63605,
          140227,
          225383,
          310703,
          149580,
          186781,
          263519,
          102467,
          103742,
          134642,
          425062,
          127652,
          141701,
          193492,
          182679,
          312828,
          136932,
          121126,
          362787,
          94525,
          88367,
          147149,
          96584,
          152598,
          134957,
          136420,
          111952,
          281841,
          99182,
          303028,
          155916,
          360868,
          360042,
          228411,
          227783,
          102265,
          153883,
          83633,
          234044,
          264067,
          279222,
          117155,
          115597,
          96093,
          128785,
          138305,
          253227,
          94741,
          106040,
          86576,
          228153,
          143984,
          410611,
          145401,
          274820,
          317862,
          220888,
          301514,
          175432,
          199544,
          92557,
          122207,
          203271,
          274149,
          103767,
          103408,
          500124,
          374569,
          214752,
          142928,
          331935,
          309919,
          415021,
          356312,
          156475,
          369905,
          443120,
          390991,
          372093,
          128504,
          434548,
          516250,
          224092,
          147283,
          220022,
          146362,
          108816,
          110212,
          88170,
          47945,
          81211,
          172304,
          64506,
          68127,
          157810,
          89623,
          83582,
          195874,
          256839,
          91281,
          193011,
          155477,
          328548,
          87308,
          160249,
          146361,
          85437,
          74786,
          102813,
          89969,
          107803,
          68984,
          82883,
          101907,
          119912,
          67704,
          93711,
          81979,
          95757,
          66865,
          157364,
          170634,
          95222,
          141310,
          101188,
          87437,
          94464,
          98554,
          96442,
          99701,
          132049,
          107118,
          191735,
          162714,
          100974,
          140446,
          81598,
          81072,
          114121,
          95384,
          90884,
          148784,
          88515,
          228881,
          55839,
          159677,
          80778,
          116081,
          108430,
          92250,
          153903,
          106993,
          207699,
          97755,
          123428,
          50773,
          176327,
          109343,
          109620,
          241232,
          96844,
          174788,
          107143,
          91144,
          114052,
          70882,
          83379,
          23040,
          33422,
          21080,
          24490,
          15268,
          25391,
          229303,
          115259,
          265134,
          92098,
          150752,
          307080,
          178095,
          128143,
          155113,
          160385,
          152007,
          104891,
          138730,
          119559,
          130521,
          178336,
          143408,
          201724,
          68312,
          243111,
          111096,
          33845,
          11838,
          66575,
          126099,
          111688,
          98369,
          143838,
          220943,
          164075,
          119384,
          191624,
          195951,
          142164,
          177435,
          134612,
          781346,
          749906,
          296191,
          177047,
          19910,
          15222,
          138299,
          124117,
          85602,
          134206,
          274423,
          28473,
          10158,
          85710,
          119472,
          52079,
          87367,
          91970,
          93271,
          197860,
          191043,
          123117,
          88956,
          245166,
          56685,
          206731,
          160033,
          344827,
          181264,
          62650,
          72318,
          52875,
          76888,
          91613,
          120662,
          185404,
          25878,
          13378,
          131639,
          113975,
          186656,
          126102,
          236347,
          27935,
          20049,
          125322,
          46474,
          119010,
          58705,
          215747,
          174376,
          55458,
          143395,
          144812,
          463132,
          131113,
          86864,
          100978,
          130148,
          201920,
          181756,
          39159,
          18149,
          129360,
          121998,
          134362,
          136103,
          352268,
          117155,
          53382,
          174942,
          293684,
          361220,
          148761,
          130859,
          163771,
          222387,
          208708,
          166040,
          153294,
          151021,
          64012,
          33266,
          28447,
          34525,
          40018,
          54480,
          36937,
          35193,
          40952,
          149431,
          43996,
          16925,
          133084,
          148732,
          15040,
          151167,
          130139,
          27264,
          38417,
          44127,
          95017,
          12933,
          21605,
          18773,
          63312,
          49980,
          217779,
          117235,
          70730,
          47644,
          208184,
          16498,
          22810,
          23706,
          40626,
          100367,
          20381,
          24194,
          10066,
          271317,
          12467,
          14018,
          13651,
          13637,
          26112,
          56443,
          175269,
          14895,
          17320,
          13593,
          18657,
          36207,
          92181,
          116832,
          12456,
          138620,
          11245,
          18228,
          120798,
          75847,
          14209,
          21375,
          50307,
          258652,
          37865,
          110968,
          114803,
          46239,
          146837,
          171946,
          30372,
          21766,
          14245,
          183871,
          7411,
          23133,
          15920,
          23482,
          200222,
          46909,
          84719,
          9707,
          99674,
          40112,
          48494,
          18637,
          28447,
          18511,
          16143,
          14906,
          42394,
          89805,
          13906,
          33968,
          50033,
          86406,
          231706,
          16096,
          129901,
          24708,
          32633,
          210875,
          348345,
          29844,
          32105,
          52484,
          115425,
          167263,
          74617,
          44334,
          373641,
          23298,
          142449,
          115451,
          54107,
          28031,
          46123,
          10700,
          12074,
          54247,
          132254,
          79618,
          64980,
          274980,
          84737,
          22407,
          13902,
          16868,
          189983,
          19651,
          37195,
          42466,
          30905,
          17143,
          21736,
          39005,
          101127,
          20869,
          122073,
          29249,
          362234,
          377271,
          115201,
          52639,
          74079,
          43460,
          143838,
          38530,
          52574,
          17686,
          17599,
          32849,
          254131,
          51767,
          27145,
          61944,
          17590,
          66283,
          22510,
          166902,
          88337,
          50053,
          31057,
          29470,
          77190,
          78657,
          41434,
          40431,
          95469,
          21341,
          22876,
          25832,
          74257,
          25655,
          186710,
          28268,
          85780,
          57432,
          357675,
          991754,
          296858,
          377087,
          160927,
          366696,
          258434,
          414005,
          240637,
          437044,
          273039,
          284770,
          453152,
          334127,
          369112,
          295930,
          539617,
          351463,
          704235,
          877695,
          435882,
          369410,
          613453,
          1147608,
          330493,
          866222,
          319162,
          445471,
          388037,
          595883,
          509874,
          694371,
          1664676,
          474410,
          833937,
          765909,
          337875,
          422622,
          475635,
          405289,
          631316,
          1229892,
          485898,
          372963,
          425009,
          331994,
          584516,
          811265,
          415335,
          387259,
          377910,
          742700,
          367107,
          370834,
          260486,
          310295,
          370426,
          647697,
          528456,
          445640,
          394115,
          375884,
          476929,
          865375,
          603325,
          463695,
          428980,
          371260,
          659257,
          396896,
          503666,
          514536,
          600127,
          424647,
          557759,
          549251,
          636961,
          570574,
          553048,
          445871,
          564937,
          533183,
          558903,
          987398,
          512015,
          641259,
          798353,
          441740,
          661891,
          651557,
          762918,
          387450,
          471435,
          396960,
          542086,
          433882,
          351151,
          453167,
          646450,
          382831,
          613069,
          509106,
          1350634,
          518785,
          506367,
          1967905,
          1326863,
          453250,
          486836,
          545042,
          804724,
          282093,
          795897,
          644582,
          899138,
          657487,
          732381,
          606300,
          379510,
          587907,
          840431,
          468008,
          526389,
          923078,
          395216,
          619949,
          647817,
          413183,
          651296,
          849434,
          653020,
          1221206,
          518960,
          990364,
          370614,
          460768,
          715102,
          696954,
          442459,
          680697,
          373039,
          1437350,
          508823,
          430616,
          646124,
          542952,
          428539,
          566995,
          760171,
          706464,
          568876,
          312152,
          340561,
          453747,
          278275,
          251764,
          458880,
          404352,
          504352,
          1859465,
          659398,
          786950,
          396422,
          535174,
          548412,
          859278,
          204801,
          382899,
          543883,
          290211,
          367991,
          456738,
          605680,
          728169,
          1315521,
          427519,
          1081220,
          987048,
          1416618,
          382477,
          454765,
          359259,
          356904,
          473619,
          848840,
          442845,
          651383,
          558919,
          392815,
          280163,
          431540,
          907360,
          887131,
          607606,
          351704,
          315263,
          576982,
          400068,
          458949,
          224395,
          1129254,
          234758,
          252361,
          425099,
          255853,
          657073,
          766705,
          261784,
          529685,
          395731,
          212039,
          147230,
          229765,
          470326,
          293842,
          445791,
          293402,
          168394,
          233309,
          340090,
          312430,
          213741,
          296690,
          207177,
          648492,
          277572,
          200272,
          530352,
          309652,
          529090,
          382945,
          307230,
          283557,
          333911,
          null,
          null,
          null,
          null,
          null,
          null,
          364850,
          363083,
          197103,
          47353,
          103286,
          580530,
          322907,
          312760,
          273412,
          363054,
          344159,
          359626,
          385475,
          256825,
          298161,
          428955,
          339940,
          327329,
          356098,
          420289,
          163155,
          99409,
          221182,
          60234,
          63968,
          63849,
          65821,
          67176,
          65062,
          82789,
          59495,
          84087,
          133642,
          64753,
          451470,
          139969,
          205131
         ],
         "yaxis": "y"
        }
       ],
       "layout": {
        "autosize": true,
        "legend": {
         "tracegroupgap": 0
        },
        "template": {
         "data": {
          "bar": [
           {
            "error_x": {
             "color": "#2a3f5f"
            },
            "error_y": {
             "color": "#2a3f5f"
            },
            "marker": {
             "line": {
              "color": "#E5ECF6",
              "width": 0.5
             },
             "pattern": {
              "fillmode": "overlay",
              "size": 10,
              "solidity": 0.2
             }
            },
            "type": "bar"
           }
          ],
          "barpolar": [
           {
            "marker": {
             "line": {
              "color": "#E5ECF6",
              "width": 0.5
             },
             "pattern": {
              "fillmode": "overlay",
              "size": 10,
              "solidity": 0.2
             }
            },
            "type": "barpolar"
           }
          ],
          "carpet": [
           {
            "aaxis": {
             "endlinecolor": "#2a3f5f",
             "gridcolor": "white",
             "linecolor": "white",
             "minorgridcolor": "white",
             "startlinecolor": "#2a3f5f"
            },
            "baxis": {
             "endlinecolor": "#2a3f5f",
             "gridcolor": "white",
             "linecolor": "white",
             "minorgridcolor": "white",
             "startlinecolor": "#2a3f5f"
            },
            "type": "carpet"
           }
          ],
          "choropleth": [
           {
            "colorbar": {
             "outlinewidth": 0,
             "ticks": ""
            },
            "type": "choropleth"
           }
          ],
          "contour": [
           {
            "colorbar": {
             "outlinewidth": 0,
             "ticks": ""
            },
            "colorscale": [
             [
              0,
              "#0d0887"
             ],
             [
              0.1111111111111111,
              "#46039f"
             ],
             [
              0.2222222222222222,
              "#7201a8"
             ],
             [
              0.3333333333333333,
              "#9c179e"
             ],
             [
              0.4444444444444444,
              "#bd3786"
             ],
             [
              0.5555555555555556,
              "#d8576b"
             ],
             [
              0.6666666666666666,
              "#ed7953"
             ],
             [
              0.7777777777777778,
              "#fb9f3a"
             ],
             [
              0.8888888888888888,
              "#fdca26"
             ],
             [
              1,
              "#f0f921"
             ]
            ],
            "type": "contour"
           }
          ],
          "contourcarpet": [
           {
            "colorbar": {
             "outlinewidth": 0,
             "ticks": ""
            },
            "type": "contourcarpet"
           }
          ],
          "heatmap": [
           {
            "colorbar": {
             "outlinewidth": 0,
             "ticks": ""
            },
            "colorscale": [
             [
              0,
              "#0d0887"
             ],
             [
              0.1111111111111111,
              "#46039f"
             ],
             [
              0.2222222222222222,
              "#7201a8"
             ],
             [
              0.3333333333333333,
              "#9c179e"
             ],
             [
              0.4444444444444444,
              "#bd3786"
             ],
             [
              0.5555555555555556,
              "#d8576b"
             ],
             [
              0.6666666666666666,
              "#ed7953"
             ],
             [
              0.7777777777777778,
              "#fb9f3a"
             ],
             [
              0.8888888888888888,
              "#fdca26"
             ],
             [
              1,
              "#f0f921"
             ]
            ],
            "type": "heatmap"
           }
          ],
          "heatmapgl": [
           {
            "colorbar": {
             "outlinewidth": 0,
             "ticks": ""
            },
            "colorscale": [
             [
              0,
              "#0d0887"
             ],
             [
              0.1111111111111111,
              "#46039f"
             ],
             [
              0.2222222222222222,
              "#7201a8"
             ],
             [
              0.3333333333333333,
              "#9c179e"
             ],
             [
              0.4444444444444444,
              "#bd3786"
             ],
             [
              0.5555555555555556,
              "#d8576b"
             ],
             [
              0.6666666666666666,
              "#ed7953"
             ],
             [
              0.7777777777777778,
              "#fb9f3a"
             ],
             [
              0.8888888888888888,
              "#fdca26"
             ],
             [
              1,
              "#f0f921"
             ]
            ],
            "type": "heatmapgl"
           }
          ],
          "histogram": [
           {
            "marker": {
             "pattern": {
              "fillmode": "overlay",
              "size": 10,
              "solidity": 0.2
             }
            },
            "type": "histogram"
           }
          ],
          "histogram2d": [
           {
            "colorbar": {
             "outlinewidth": 0,
             "ticks": ""
            },
            "colorscale": [
             [
              0,
              "#0d0887"
             ],
             [
              0.1111111111111111,
              "#46039f"
             ],
             [
              0.2222222222222222,
              "#7201a8"
             ],
             [
              0.3333333333333333,
              "#9c179e"
             ],
             [
              0.4444444444444444,
              "#bd3786"
             ],
             [
              0.5555555555555556,
              "#d8576b"
             ],
             [
              0.6666666666666666,
              "#ed7953"
             ],
             [
              0.7777777777777778,
              "#fb9f3a"
             ],
             [
              0.8888888888888888,
              "#fdca26"
             ],
             [
              1,
              "#f0f921"
             ]
            ],
            "type": "histogram2d"
           }
          ],
          "histogram2dcontour": [
           {
            "colorbar": {
             "outlinewidth": 0,
             "ticks": ""
            },
            "colorscale": [
             [
              0,
              "#0d0887"
             ],
             [
              0.1111111111111111,
              "#46039f"
             ],
             [
              0.2222222222222222,
              "#7201a8"
             ],
             [
              0.3333333333333333,
              "#9c179e"
             ],
             [
              0.4444444444444444,
              "#bd3786"
             ],
             [
              0.5555555555555556,
              "#d8576b"
             ],
             [
              0.6666666666666666,
              "#ed7953"
             ],
             [
              0.7777777777777778,
              "#fb9f3a"
             ],
             [
              0.8888888888888888,
              "#fdca26"
             ],
             [
              1,
              "#f0f921"
             ]
            ],
            "type": "histogram2dcontour"
           }
          ],
          "mesh3d": [
           {
            "colorbar": {
             "outlinewidth": 0,
             "ticks": ""
            },
            "type": "mesh3d"
           }
          ],
          "parcoords": [
           {
            "line": {
             "colorbar": {
              "outlinewidth": 0,
              "ticks": ""
             }
            },
            "type": "parcoords"
           }
          ],
          "pie": [
           {
            "automargin": true,
            "type": "pie"
           }
          ],
          "scatter": [
           {
            "fillpattern": {
             "fillmode": "overlay",
             "size": 10,
             "solidity": 0.2
            },
            "type": "scatter"
           }
          ],
          "scatter3d": [
           {
            "line": {
             "colorbar": {
              "outlinewidth": 0,
              "ticks": ""
             }
            },
            "marker": {
             "colorbar": {
              "outlinewidth": 0,
              "ticks": ""
             }
            },
            "type": "scatter3d"
           }
          ],
          "scattercarpet": [
           {
            "marker": {
             "colorbar": {
              "outlinewidth": 0,
              "ticks": ""
             }
            },
            "type": "scattercarpet"
           }
          ],
          "scattergeo": [
           {
            "marker": {
             "colorbar": {
              "outlinewidth": 0,
              "ticks": ""
             }
            },
            "type": "scattergeo"
           }
          ],
          "scattergl": [
           {
            "marker": {
             "colorbar": {
              "outlinewidth": 0,
              "ticks": ""
             }
            },
            "type": "scattergl"
           }
          ],
          "scattermapbox": [
           {
            "marker": {
             "colorbar": {
              "outlinewidth": 0,
              "ticks": ""
             }
            },
            "type": "scattermapbox"
           }
          ],
          "scatterpolar": [
           {
            "marker": {
             "colorbar": {
              "outlinewidth": 0,
              "ticks": ""
             }
            },
            "type": "scatterpolar"
           }
          ],
          "scatterpolargl": [
           {
            "marker": {
             "colorbar": {
              "outlinewidth": 0,
              "ticks": ""
             }
            },
            "type": "scatterpolargl"
           }
          ],
          "scatterternary": [
           {
            "marker": {
             "colorbar": {
              "outlinewidth": 0,
              "ticks": ""
             }
            },
            "type": "scatterternary"
           }
          ],
          "surface": [
           {
            "colorbar": {
             "outlinewidth": 0,
             "ticks": ""
            },
            "colorscale": [
             [
              0,
              "#0d0887"
             ],
             [
              0.1111111111111111,
              "#46039f"
             ],
             [
              0.2222222222222222,
              "#7201a8"
             ],
             [
              0.3333333333333333,
              "#9c179e"
             ],
             [
              0.4444444444444444,
              "#bd3786"
             ],
             [
              0.5555555555555556,
              "#d8576b"
             ],
             [
              0.6666666666666666,
              "#ed7953"
             ],
             [
              0.7777777777777778,
              "#fb9f3a"
             ],
             [
              0.8888888888888888,
              "#fdca26"
             ],
             [
              1,
              "#f0f921"
             ]
            ],
            "type": "surface"
           }
          ],
          "table": [
           {
            "cells": {
             "fill": {
              "color": "#EBF0F8"
             },
             "line": {
              "color": "white"
             }
            },
            "header": {
             "fill": {
              "color": "#C8D4E3"
             },
             "line": {
              "color": "white"
             }
            },
            "type": "table"
           }
          ]
         },
         "layout": {
          "annotationdefaults": {
           "arrowcolor": "#2a3f5f",
           "arrowhead": 0,
           "arrowwidth": 1
          },
          "autotypenumbers": "strict",
          "coloraxis": {
           "colorbar": {
            "outlinewidth": 0,
            "ticks": ""
           }
          },
          "colorscale": {
           "diverging": [
            [
             0,
             "#8e0152"
            ],
            [
             0.1,
             "#c51b7d"
            ],
            [
             0.2,
             "#de77ae"
            ],
            [
             0.3,
             "#f1b6da"
            ],
            [
             0.4,
             "#fde0ef"
            ],
            [
             0.5,
             "#f7f7f7"
            ],
            [
             0.6,
             "#e6f5d0"
            ],
            [
             0.7,
             "#b8e186"
            ],
            [
             0.8,
             "#7fbc41"
            ],
            [
             0.9,
             "#4d9221"
            ],
            [
             1,
             "#276419"
            ]
           ],
           "sequential": [
            [
             0,
             "#0d0887"
            ],
            [
             0.1111111111111111,
             "#46039f"
            ],
            [
             0.2222222222222222,
             "#7201a8"
            ],
            [
             0.3333333333333333,
             "#9c179e"
            ],
            [
             0.4444444444444444,
             "#bd3786"
            ],
            [
             0.5555555555555556,
             "#d8576b"
            ],
            [
             0.6666666666666666,
             "#ed7953"
            ],
            [
             0.7777777777777778,
             "#fb9f3a"
            ],
            [
             0.8888888888888888,
             "#fdca26"
            ],
            [
             1,
             "#f0f921"
            ]
           ],
           "sequentialminus": [
            [
             0,
             "#0d0887"
            ],
            [
             0.1111111111111111,
             "#46039f"
            ],
            [
             0.2222222222222222,
             "#7201a8"
            ],
            [
             0.3333333333333333,
             "#9c179e"
            ],
            [
             0.4444444444444444,
             "#bd3786"
            ],
            [
             0.5555555555555556,
             "#d8576b"
            ],
            [
             0.6666666666666666,
             "#ed7953"
            ],
            [
             0.7777777777777778,
             "#fb9f3a"
            ],
            [
             0.8888888888888888,
             "#fdca26"
            ],
            [
             1,
             "#f0f921"
            ]
           ]
          },
          "colorway": [
           "#636efa",
           "#EF553B",
           "#00cc96",
           "#ab63fa",
           "#FFA15A",
           "#19d3f3",
           "#FF6692",
           "#B6E880",
           "#FF97FF",
           "#FECB52"
          ],
          "font": {
           "color": "#2a3f5f"
          },
          "geo": {
           "bgcolor": "white",
           "lakecolor": "white",
           "landcolor": "#E5ECF6",
           "showlakes": true,
           "showland": true,
           "subunitcolor": "white"
          },
          "hoverlabel": {
           "align": "left"
          },
          "hovermode": "closest",
          "mapbox": {
           "style": "light"
          },
          "paper_bgcolor": "white",
          "plot_bgcolor": "#E5ECF6",
          "polar": {
           "angularaxis": {
            "gridcolor": "white",
            "linecolor": "white",
            "ticks": ""
           },
           "bgcolor": "#E5ECF6",
           "radialaxis": {
            "gridcolor": "white",
            "linecolor": "white",
            "ticks": ""
           }
          },
          "scene": {
           "xaxis": {
            "backgroundcolor": "#E5ECF6",
            "gridcolor": "white",
            "gridwidth": 2,
            "linecolor": "white",
            "showbackground": true,
            "ticks": "",
            "zerolinecolor": "white"
           },
           "yaxis": {
            "backgroundcolor": "#E5ECF6",
            "gridcolor": "white",
            "gridwidth": 2,
            "linecolor": "white",
            "showbackground": true,
            "ticks": "",
            "zerolinecolor": "white"
           },
           "zaxis": {
            "backgroundcolor": "#E5ECF6",
            "gridcolor": "white",
            "gridwidth": 2,
            "linecolor": "white",
            "showbackground": true,
            "ticks": "",
            "zerolinecolor": "white"
           }
          },
          "shapedefaults": {
           "line": {
            "color": "#2a3f5f"
           }
          },
          "ternary": {
           "aaxis": {
            "gridcolor": "white",
            "linecolor": "white",
            "ticks": ""
           },
           "baxis": {
            "gridcolor": "white",
            "linecolor": "white",
            "ticks": ""
           },
           "bgcolor": "#E5ECF6",
           "caxis": {
            "gridcolor": "white",
            "linecolor": "white",
            "ticks": ""
           }
          },
          "title": {
           "x": 0.05
          },
          "xaxis": {
           "automargin": true,
           "gridcolor": "white",
           "linecolor": "white",
           "ticks": "",
           "title": {
            "standoff": 15
           },
           "zerolinecolor": "white",
           "zerolinewidth": 2
          },
          "yaxis": {
           "automargin": true,
           "gridcolor": "white",
           "linecolor": "white",
           "ticks": "",
           "title": {
            "standoff": 15
           },
           "zerolinecolor": "white",
           "zerolinewidth": 2
          }
         }
        },
        "title": {
         "text": "Sentiment Polarity vs. Video Likes"
        },
        "xaxis": {
         "anchor": "y",
         "autorange": true,
         "domain": [
          0,
          1
         ],
         "range": [
          -1.1279563371740449,
          1.1279563371740449
         ],
         "title": {
          "text": "polarity"
         },
         "type": "linear"
        },
        "yaxis": {
         "anchor": "x",
         "autorange": true,
         "domain": [
          0,
          1
         ],
         "range": [
          -154377.33980582524,
          2129693.339805825
         ],
         "title": {
          "text": "likes"
         },
         "type": "linear"
        }
       }
      },
      "image/png": "[encoded data removed]",
      "text/html": [
       "<div>                            <div id=\"ffcda2cb-b3aa-4eaf-aa52-79da00121c17\" class=\"plotly-graph-div\" style=\"height:525px; width:100%;\"></div>            <script type=\"text/javascript\">                require([\"plotly\"], function(Plotly) {                    window.PLOTLYENV=window.PLOTLYENV || {};                                    if (document.getElementById(\"ffcda2cb-b3aa-4eaf-aa52-79da00121c17\")) {                    Plotly.newPlot(                        \"ffcda2cb-b3aa-4eaf-aa52-79da00121c17\",                        [{\"customdata\":[[\"sidemen one word interview\"],[\"sidemen one word interview\"],[\"sidemen among us chaos mode\"],[\"sidemen association challenge\"],[\"sidemen noob vs pro rocket league\"],[\"sidemen among us sheriff role the dumbest lobby ever\"],[\"do all the sidemen think the same\"],[\"do all the sidemen think the same\"],[\"do all the sidemen think the same\"],[\"do all the sidemen think the same\"],[\"do all the sidemen think the same\"],[\"sidemen are you smarter than a year old\"],[\"sidemen are you smarter than a year old\"],[\"this is the greatest sidemen video ever\"],[\"sidemen among us jester role\"],[\"sidemen extreme cop chase challenge on gta\"],[\"sidemen christmas mukbang\"],[\"sidemen christmas mukbang\"],[\"sidemen christmas mukbang\"],[\"sidemen secret santa\"],[\"sidemen secret santa\"],[\"sidemen secret santa\"],[\"sidemen secret santa\"],[\"sidemen reverse hide seek on ksi s mega yacht\"],[\"sidemen gta meme olympics\"],[\"sidemen gta meme olympics\"],[\"buy christmas drillings today\"],[\"sidemen christmas drillings edm remix official music video\"],[\"sidemen box of lies\"],[\"sidemen box of lies\"],[\"harry potter s doppelg nger\"],[\"sidemen christmas drillings house remix official lyric video\"],[\"sidemen vs lucky blocks in minecraft\"],[\"sidemen grenade game on gta\"],[\"sidemen cards against humanity\"],[\"sidemen memory test\"],[\"sidemen get cancelled challenge\"],[\"sidemen tinder among us edition\"],[\"can ksi guess the real prime\"],[\"the sidemen christmas quiz\"],[\"sidemen blind eating challenge\"],[\"the moment that cancelled vikkstar\"],[\"sidemen complete the longest race on gta\"],[\"sidemen draw the logo challenge\"],[\"how ksi lost the wildest sidemen forfeit ever\"],[\"sidemen real or fake challenge\"],[\"the most offensive sidemen forfeit ever\"],[\"sidemen offensive second challenge\"],[\"ksi quits sidemen among us forever\"],[\"somebody call the authorities\"],[\"sidemen christmas drillings ft jme official music video\"],[\"sidemen this or that official music video\"],[\"sidemen bully harry on gta\"],[\"sidemen go to the world cup\"],[\"sidemen extreme fear pong\"],[\"sidemen sabotage ksi on forfeit mario kart\"],[\"ksi shocks the sidemen\"],[\"mr beast hijacks a sidemen video\"],[\"sidemen offensive try not to laugh\"],[\"sidemen vs mr beast youtuber hunger games\"],[\"sidemen superhero world cup\"],[\"sidemen hilarious proximity chat on warzone\"],[\"the most offensive sidemen among us ever\"],[\"sidemen guess the fake logo challenge\"],[\"sidemen among us chaotic proximity chat returns\"],[\"sidemen vs will smith\"],[\"sidemen human bowling challenge\"],[\"the worst minutes of w s s life\"],[\"sidemen guess the emoji youtuber edition\"],[\"sidemen speed eating challenge\"],[\"sidemen halloween special on gta\"],[\"sidemen pro clubs is back\"],[\"sidemen pro clubs is back\"],[\"sidemen run for their life on gta\"],[\"sidemen among us but the lobby has zero iq\"],[\"sidemen is it real or chocolate\"],[\"sidemen among us but harry cheats to win\"],[\"sidemen controversial tweets\"],[\"the sidemen sock off\"],[\"sidemen lose their minds playing mario\"],[\"the most kills sidemen among us has ever seen\"],[\"sidemen charity match who scored the best goal\"],[\"sidemen play the gta leaks\"],[\"sidemen rank the charity match players\"],[\"this is sidemen sunday\"],[\"sidemen finish the lyric\"],[\"sidemen finish the lyric\"],[\"sidemen finish the lyric\"],[\"sidemen finish the lyric\"],[\"ksi hunts the sidemen\"],[\"the sidemen will be cancelled for this video\"],[\"returning to the sidemen house\"],[\"sidemen forfeit golf shot it or slap it\"],[\"harry begs to quit on sidemen gta\"],[\"sidemen shock the world on gta\"],[\"sidemen youtuber guess who\"],[\"sidemen reveal why jake paul will beat ksi\"],[\"sidemen pringles mukbang\"],[\"sidemen play world s scariest game\"],[\"sidemen guess the emoji challenge\"],[\"dumbest sidemen among us ever\"],[\"sidemen take an iq test\"],[\"sidemen play among us but the imposter gets hacked\"],[\"sidemen gta but loser gets slapped\"],[\"sidemen rage at the world s most impossible game\"],[\"sidemen gta craziest forfeit we ve ever done\"],[\"sidemen become superheroes\"],[\"can ksi win his first crown in fall guys\"],[\"who is the dumbest sidemen member\"],[\"ksi jake paul are secretly friends\"],[\"sidemen extreme darts competition\"],[\"ksi masterclass vs geoguesser pro\"],[\"the last ever sidemen pro clubs episode\"],[\"sidemen vs bots on fall guys\"],[\"sidemen help w s get his first fortnite win\"],[\"sidemen giant jenga painful\"],[\"sidemen forfeit golf\"],[\"sidemen rage at impossible fall guys map\"],[\"sidemen elimination tron race on gta\"],[\"sidemen play brand new fall guys\"],[\"sidemen mario kart rainbow road rage\"],[\"sidemen rage at world s most frustrating game\"],[\"sidemen mario kart race\"],[\"sidemen hacked on gta cops vs robbers\"],[\"sidemen among us but the imposters try to vote each other out\"],[\"sidemen rocket league but its golf\"],[\"sidemen olympics\"],[\"sidemen olympics\"],[\"sidemen among us the best shapeshifter yet\"],[\"sidemen minigolf but it s a race\"],[\"sidemen among us the worst imposters of all time\"],[\"who is the smartest sidemen member\"],[\"sidemen assumptions are ksi anne marie dating\"],[\"ksi races the sidemen for on gta\"],[\"sidemen second categories challenge\"],[\"sidemen pro clubs meme olympics\"],[\"sidemen blind rpg battle on gta\"],[\"sidemen guess eachothers passwords\"],[\"the sidemen find out who is richer\"],[\"sidemen pokemon smash or pass\"],[\"sidemen whisper challenge\"],[\"sidemen whisper challenge\"],[\"sidemen guess the game challenge\"],[\"sidemen google feud\"],[\"sidemen shapeshifter among us gone right\"],[\"sidemen flag game\"],[\"sidemen among us but everyone is third imposter\"],[\"sidemen quiplash but we forgot how to be funny\"],[\"sidemen among us biggest fail\"],[\"sidemen rap battle but we diss ourselves\"],[\"the rematch sidemen geoguessr duel\"],[\"sidemen slap game\"],[\"sidemen water game\"],[\"sidemen geoguessr bullseye mode\"],[\"sidemen trippy olympics\"],[\"sidemen fall guys is back\"],[\"sidemen geoguessr duel\"],[\"brand new sidemen trivial pursuit\"],[\"the strangest car ever on sidemen gta\"],[\"brand new sidemen shellshock\"],[\"sidemen superbowl on gta\"],[\"sidemen parkour challenge\"],[\"the greatest ever sidemen mukbang\"],[\"sidemen lose their minds on gta\"],[\"the ultimate sidemen gameshow\"],[\"sidemen minigolf\"],[\"the most outrageous game yet\"],[\"sidemen battleships on gta\"],[\"sidemen disstrack season\"],[\"sidemen vs sidemen on gta\"],[\"the worst swat team of all time ready or not\"],[\"sidemen shapeshifter among us\"],[\"sidemen play golf it but the map is impossible\"],[\"brand new sidemen horror movie\"],[\"sidemen cops vs robbers on gta\"],[\"the sidemen have to split up\"],[\"new roles in sidemen among us\"],[\"sidemen extreme grand prix on gta\"],[\"sidemen helmet game\"],[\"ksi w s among us masterclass\"],[\"sidemen among us greatest moments\"],[\"sidemen reverse hide seek in marbella mansion\"],[\"sidemen break pro clubs world record\"],[\"sidemen are hacked on gta\"],[\"sidemen darkest secrets revealed\"],[\"sidemen giant ramp on gta\"],[\"sidemen new years day golf\"],[\"sidemen christmas rap battles\"],[\"ksi quits on gta\"],[\"the last ever sidemen among us\"],[\"sidemen christmas quiz\"],[\"sidemen gta christmas special\"],[\"sidemen vs fortnite pro\"],[\"sidemen crossing battle royale\"],[\"sidemen among us but it s pure chaos\"],[\"the sidemen rate social media apps\"],[\"the sidemen finally win squid game\"],[\"sidemen call out penalties\"],[\"sidemen among us is back\"],[\"sidemen password game\"],[\"sidemen password game\"],[\"sidemen squid game vs fans\"],[\"sidemen categories\"],[\"sidemen categories\"],[\"sidemen football forfeits\"],[\"sidemen left hand drawing challenge\"],[\"sidemen manhunt in gta\"],[\"sidemen google ourselves\"],[\"sidemen pro clubs our fastest title ever\"],[\"sidemen nando s mukbang\"],[\"mikel arteta rates the sidemens football ability\"],[\"sidemen squid game glass bridge challenge on gta\"],[\"sidemen play scuffed squid game\"],[\"extreme sidemen advent calendar forfeits\"],[\"sidemen play golf in takeshi s castle\"],[\"the sidemen play fifa pro clubs\"],[\"sidemen higher or lower youtube subscribers\"],[\"sidemen year anniversary on gta\"],[\"sidemen play the scariest game ever\"],[\"sidemen squid game on gta\"],[\"sidemen olympics the new fastest sideman\"],[\"trivial pursuit but ksi s knowledge is massive\"],[\"sidemen play competitive tetris\"],[\"the sidemen play scuffed fall guys\"],[\"the sidemen did not finish in gta v\"],[\"gib annoys the sidemen for minutes straight\"],[\"sidemen penalty challenge vs kids\"],[\"the sidemen falling over for minutes straight\"],[\"do the sidemen think the same as onlyfans girls\"],[\"stroking out with your friends sidemen gaming\"],[\"gartic phone but ksi is years old\"],[\"the most epic battles in gta history\"],[\"the sidemen become thieves\"],[\"the nigerian takeover sidemen olympics\"],[\"the sidemen being awkward around girls for more minutes straight\"],[\"the wildest sidemen assumptions\"],[\"most savage tinder lines of all time\"],[\"last to stop playing uno wins\"],[\"sidemen olympics going for gold\"],[\"sidemen describe celebrities in one word\"],[\"sidemen word association\"],[\"women rate the strongest sidemen\"],[\"women rate the smelliest sidemen\"],[\"uncut women guess the laziest sidemen\"],[\"sidemen guess the song rematch\"],[\"sidemen answer the internets strangest questions\"],[\"sidemen tiktok game\"],[\"the ultimate sidemen ping pong tournament\"],[\"sidemen guess the song challenge\"],[\"sidemen guess the song challenge\"],[\"sidemen guess the song challenge\"],[\"sidemen guess the song challenge\"],[\"ksi s voice cracks for minutes straight\"],[\"first to guess the sidemen password wins\"],[\"how to avoid getting cancelled\"],[\"biggest sidemen lies exposed\"],[\"the sidemen rank the best tinder lines\"],[\"what really happened at clash of creators\"],[\"the harry curse\"],[\"ksi vs w s in gta v\"],[\"brand new sidemen hq\"],[\"drake messages ksi during gta v\"],[\"the sidemen roast ksi s new album\"],[\"the race you ve all been waiting for\"],[\"ksi has left moresidemen\"],[\"hide seek on ksi s private jet\"],[\"is harry quitting gaming videos\"],[\"quirky quiplash but tobi hates simon\"],[\"sidemen but we re set\"],[\"ksi karen vs the sidemen\"],[\"the smartest sidemen awards\"],[\"the worst minutes of harry s life\"],[\"trivial pursuit but harry is down bad sidemen gaming\"],[\"sidemen drunk bingo the final round\"],[\"gartic phone but it s youtube boxing sidemen gaming\"],[\"sidemen drunk bingo\"],[\"if you laugh you get cancelled\"],[\"the sidemen lose their heads on gta\"],[\"sidemen higher or lower sidemen sundays\"],[\"reacting to our premier league predictions\"],[\"sike\"],[\"we are the best team in the world sidemen pro clubs\"],[\"golf with your enemies sidemen gaming\"],[\"sidemen higher or lower spotify streams\"],[\"sidemen vs premier league champions\"],[\"the worst sidemen drawings ever seen on youtube\"],[\"sidemen overrated or underrated\"],[\"the sidemen play gartic phone\"],[\"sidemen pro clubs with a special guest\"],[\"sidemen vs dream minecraft manhunt\"],[\"mad verse city but ksi can t rap\"],[\"sidemen football darts\"],[\"the last ever sidemen gta\"],[\"sidemen fc join the super league\"],[\"sidemen golf but there s on the line\"],[\"sidemen woodwork challenge\"],[\"sidemen woodwork challenge\"],[\"sidemen reach million subscribers on gta v\"],[\"sidemen vs rocket league pro for\"],[\"which of the sidemen passed out at a party\"],[\"the best freekick video on youtube\"],[\"ksi is not funny\"],[\"sidemen on striker challenge\"],[\"sidemen crossbar challenge\"],[\"sidemen crossbar challenge\"],[\"monster truck madness in gta\"],[\"ksi proves he s the best at fifa\"],[\"our gta lobby was hacked\"],[\"sidemen higher or lower spotify monthly listeners\"],[\"sidemen higher or lower spotify monthly listeners\"],[\"sidemen higher or lower spotify monthly listeners\"],[\"the most embarrassing sidemen clubs episode ever\"],[\"best of sidemen sundays\"],[\"best of sidemen sundays\"],[\"best of sidemen sundays\"],[\"best of sidemen sundays\"],[\"best of sidemen sundays\"],[\"best of sidemen sundays\"],[\"best of sidemen sundays\"],[\"best of sidemen sundays\"],[\"best of sidemen sundays\"],[\"best of sidemen sundays\"],[\"best of sidemen sundays\"],[\"best of sidemen sundays\"],[\"best of sidemen sundays\"],[\"best of sidemen sundays\"],[\"best of sidemen sundays\"],[\"best of sidemen sundays\"],[\"best of sidemen sundays\"],[\"best of sidemen sundays\"],[\"best of sidemen sundays\"],[\"best of sidemen sundays\"],[\"best of sidemen sundays\"],[\"best of sidemen sundays\"],[\"best of sidemen sundays\"],[\"best of sidemen sundays\"],[\"best of sidemen sundays\"],[\"best of sidemen sundays\"],[\"best of sidemen sundays\"],[\"sidemen dodgeball knockout city\"],[\"how well do the sidemen know w s\"],[\"sidemen easter egg hunt\"],[\"last sidemen to stop running wins\"],[\"how well do the sidemen know ksi\"],[\"how many rappers can you name sidemen categories\"],[\"sidemen hide and seek in gta\"],[\"how well do the sidemen know tbjzl\"],[\"harry causes chaos sidemen pro clubs\"],[\"sidemen codenames but it s customised\"],[\"sidemen gta madness is back\"],[\"how well do the sidemen know behzinga\"],[\"the sidemen laugh at ksi for minutes straight\"],[\"the most embarrassing sidemen tweets of all time\"],[\"sidemen answer the internets weirdest questions\"],[\"the fanbase war sidemen among us\"],[\"another questionable quiplash sidemen gaming\"],[\"tommyinnit ruins our game sidemen fifa pro clubs\"],[\"ksi vs tommyinnit fight on among us\"],[\"quit the sidemen or quit drinking\"],[\"cheating against the fans sidemen geoguessr\"],[\"the sidemen play codenames\"],[\"road to rage quit sidemen fifa pro clubs\"],[\"sidemen family feud sidemen gaming\"],[\"the sidemen are in prison\"],[\"ksi vs jake paul is finally happening\"],[\"are we allowed to draw this sidemen gaming\"],[\"the worst crewmates of all time sidemen among us proximity\"],[\"the best clubs series on youtube is back sidemen fifa pro clubs\"],[\"sidemen chaotic trolling in among us proximity\"],[\"the rap battles are back with jme sidemen gaming\"],[\"ksi masterclass in proximity mod sidemen among us\"],[\"sidemen second challenge\"],[\"sidemen second challenge\"],[\"sidemen geoguessr battle royale\"],[\"what was the best sidemen sunday video of\"],[\"sidemen higher or lower instagram followers\"],[\"heatseeker is pure chaos sidemen gaming\"],[\"sidemen describe youtubers in one word\"],[\"sidemen would you rather\"],[\"sidemen would you rather\"],[\"sidemen clickbait quiz\"],[\"sidemen clickbait quiz\"],[\"sidemen clickbait quiz\"],[\"i can t believe we ve done this sidemen gaming\"],[\"what happened after the sidemen christmas mukbang\"],[\"sidemen goalkeeper challenge\"],[\"mistakes were made sidemen fifa pro clubs\"],[\"rocket league season is here sidemen gaming\"],[\"which sideman is the best role model sidemen gaming\"],[\"sidemen elimination penalties\"],[\"ksi carries the sidemen in rocket league sidemen gaming\"],[\"sidemen find out their football stats\"],[\"what are these words sidemen gaming\"],[\"sidemen vs faze clan among us but ksi has iq\"],[\"sidemen open million subscriber diamond plaques\"],[\"sidemen giant ball penalty challenge\"],[\"sidemen among us vs faze clan\"],[\"sidemen among us in real life unseen\"],[\"sidemen among us in real life unseen\"],[\"among us in golf it sidemen gaming\"],[\"brand new quiplash sidemen gaming\"],[\"sidemen ball launcher challenge\"],[\"who is the best sidemen striker\"],[\"working on our team chemistry sidemen fifa pro clubs\"],[\"going for the title sidemen fifa pro clubs\"],[\"sidemen among us vs mr beast\"],[\"sidemen among us vs mr beast\"],[\"sidemen insult each other challenge\"],[\"vik is a god at any sidemen fifa pro clubs\"],[\"sidemen play among us but there s a rd impostor sidemen gaming\"],[\"sidemen play among us but that s enough for me sidemen gaming\"],[\"sidemen play among us but it s the strangest play ever sidemen gaming\"],[\"sidemen among us vs lazarbeam lachlan fresh\"],[\"the sidemen pro clubs journey begins sidemen fifa pro clubs\"],[\"sidemen play among us but tobi gets his revenge sidemen gaming\"],[\"sidemen play among us but everyone rages at each other sidemen gaming\"],[\"sidemen among us vs pewdiepie dream jacksepticeye\"],[\"sidemen play among us but everyone acts sus sidemen gaming\"],[\"the sidemen are back on rocket league sidemen gaming\"],[\"sidemen play among us but everyone has iq sidemen gaming\"],[\"the sidemen play among us sidemen gaming\"],[\"logan paul threatens ksi on gta v sidemen gaming\"],[\"is ksi actually the smartest sideman sidemen gaming\"],[\"sidemen minecraft meme olympics sidemen gaming\"],[\"the sidemen take a quiz but they are hungover\"],[\"who s the smartest sideman sidemen gaming\"],[\"ethan s first time on fall guys sidemen gaming\"],[\"sidemen premier league predictions\"],[\"sidemen vs professional poker player tournament\"],[\"playing fall guys on golf sidemen gaming\"],[\"bullying ksi on fall guys sidemen gaming\"],[\"sidemen best pro clubs moments of fifa\"],[\"sidemen rank every fall guys level\"],[\"can we all get to the final in fall guys sidemen gaming\"],[\"the end of clubs sidemen gaming\"],[\"sidemen poker night with lux freezy\"],[\"sidemen dominating on fall guys sidemen gaming\"],[\"worst sidemen trims of all time\"],[\"goals red cards and more goals sidemen gaming\"],[\"going for the dub in fall guys sidemen gaming\"],[\"the sidemen play higher or lower sidemen gaming\"],[\"the sidemen play fall guys sidemen gaming\"],[\"emotions running high sidemen gaming\"],[\"sidemen fast food tier list\"],[\"the sidemen being awkward around girls for minutes straight\"],[\"draw my thing but we kick each other from the game sidemen gaming\"],[\"survival of the wisest sidemen gaming\"],[\"the sidemen play trivial pursuit sidemen gaming\"],[\"the mystical forest sidemen gaming\"],[\"how to not get cancelled with the sidemen sidemen gaming\"],[\"sidemen best of lockdown\"],[\"conquering the division sort of sidemen gaming\"],[\"mad verses in mad verse city sidemen gaming\"],[\"sidemen poker tournament\"],[\"unseen strangers roast the sidemen\"],[\"taking on division sidemen gaming\"],[\"taking on division sidemen gaming\"],[\"it s every sideman for himself sidemen gaming\"],[\"sidemen warzone giveaway sidemen gaming\"],[\"sidemen rap or crap\"],[\"what do our fans think of us\"],[\"it s now or never sidemen gaming\"],[\"quiplash sidemen edition sidemen gaming\"],[\"back to winning ways sidemen gaming\"],[\"the sidemen play role models sidemen gaming\"],[\"must win games sidemen gaming\"],[\"questionable quiplash sidemen gaming\"],[\"bouncing back sidemen gaming\"],[\"only one can escape sidemen gaming\"],[\"golf but everyone quits sidemen gaming\"],[\"win draw or go home sidemen gaming\"],[\"the sidemen play survive the internet sidemen gaming\"],[\"sidemen trivia night sidemen gaming\"],[\"our biggest win yet sidemen gaming\"],[\"who scored the best sidemen charity match goal\"],[\"which of our followers has the most followers\"],[\"teamwork makes the dreamwork sidemen gaming\"],[\"quiplash with the boys sidemen gaming\"],[\"family friendly rap battles sidemen gaming\"],[\"so division sidemen gaming\"],[\"which of our subscribers has the most subscribers\"],[\"best of ksi s characters\"],[\"best of ksi s characters\"],[\"sidemen lockdown tinder why the girls said no\"],[\"sidemen rate their own tiktoks\"],[\"it all comes down to this sidemen gaming\"],[\"whose is it sidemen guess the youtuber\"],[\"completely appropriate quiplash sidemen gaming\"],[\"promotion is on the horizon sidemen gaming\"],[\"sidemen majority game\"],[\"sidemen back on rocket league sidemen gaming\"],[\"the sidemen rate their own songs\"],[\"the sidemen play shellshock live sidemen gaming\"],[\"the comeback of dreams sidemen gaming\"],[\"sidemen best warzone moments\"],[\"sidemen answer fan assumptions\"],[\"a brand new golf map sidemen gaming\"],[\"sidemen stay at home skribbl io sidemen gaming\"],[\"sidemen most likely to\"],[\"who will win sidemen gaming\"],[\"top sidemen gta moments\"],[\"self isolation quiplash sidemen gaming\"],[\"quarantine golf sidemen gaming\"],[\"sidemen vs jme rap battle sidemen gaming\"],[\"the sidemen play trials rising sidemen gaming\"],[\"can the sidemen win on warzone sidemen gaming\"],[\"best of sidemen saturdays\"],[\"best of sidemen saturdays\"],[\"best of sidemen saturdays\"],[\"best of sidemen saturdays\"],[\"best of sidemen saturdays\"],[\"best of sidemen saturdays\"],[\"most painful sidemen game ever\"],[\"sidemen encore challenge\"],[\"sidemen sundays but it s only stephen tries\"],[\"sidemen horror movie sidemen gaming\"],[\"sidemen react to their reddit\"],[\"sidemen react to their reddit\"],[\"sidemen react to their reddit\"],[\"sidemen youtube tinder why the girls said no\"],[\"sidemen play google feud\"],[\"the most outrageous game sidemen play bad people\"],[\"how rich are the sidemen\"],[\"the worst drawings ever sidemen gaming\"],[\"sidemen v survival fifa\"],[\"sidemen diss tracks in sidemen gaming\"],[\"sidemen guess the tune\"],[\"sidemen heads up\"],[\"the sidemen play quiplash sidemen gaming\"],[\"who s the richest sidemen member sidemen q a\"],[\"an embarrassing rage quit sidemen gaming\"],[\"ksi sleeping for minutes straight\"],[\"who s the best rapper in the sidemen sidemen gaming\"],[\"sidemen best of december\"],[\"sidemen best of december\"],[\"sidemen predict anesongib vs jake paul\"],[\"sidemen reverse hide seek on a private island\"],[\"kicking jj out of the sidemen sidemen gaming\"],[\"whose sidemen instagram is it\"],[\"the sidemen play modern warfare sidemen gaming\"],[\"jake paul or logan paul sidemen would you rather\"],[\"the sidemen pack van dijk toty pack opening\"],[\"jj s first win on golf with friends sidemen gaming\"],[\"sidemen youtube awards\"],[\"sidemen youtube awards\"],[\"sidemen draw the youtuber\"],[\"the sidemen embarrass jj sidemen gaming\"],[\"top moments of sidemen\"],[\"sidemen the gift ft s x official music video\"],[\"sidemen merry merry christmas ft jme layz official music video\"],[\"sidemen youtube whispers\"],[\"sidemen rate usa youtubers\"],[\"sidemen best of november\"],[\"sidemen best of november\"],[\"sidemen react to draw their life\"],[\"sidemen vs holiday orange team extended cut\"],[\"sidemen vs holiday purple team extended cut\"],[\"sidemen voting game\"],[\"happy birthday harry\"],[\"sidemen best of october\"],[\"sidemen best of october\"],[\"who is the best sideman sidemen gaming\"],[\"the sidemen take the ultimate youtube quiz\"],[\"into the void sidemen gaming\"],[\"which of the sidemen knows callux the best\"],[\"sidemen predict ksi vs logan paul\"],[\"who s cheating sidemen draw my thing sidemen gaming\"],[\"sidemen charades\"],[\"how the sidemen met\"],[\"sidemen gta death run sidemen gaming\"],[\"which of the sidemen knows calfreezy the best\"],[\"how many youtubers can you name sidemen categories\"],[\"vik plays as any sidemen fifa pro clubs sidemen gaming\"],[\"sidemen viral point game\"],[\"the sidemen anniversary awards\"],[\"the sidemen play gta sidemen gaming\"],[\"sidemen reverse hide seek in a theme park\"],[\"josh vs tobi sidemen fifa royal rumble final\"],[\"simon vs tobi sidemen fifa royal rumble\"],[\"josh vs vik sidemen fifa royal rumble\"],[\"jj vs josh sidemen fifa royal rumble\"],[\"simon vs harry sidemen fifa royal rumble\"],[\"sidemen fifa royal rumble\"],[\"sidemen answer your assumptions\"],[\"sidemen best of september\"],[\"sidemen best of september\"],[\"sidemen fifa pro clubs sidemen gaming\"],[\"ksi vs logan paul anesongib vs jake paul sidemen podcast\"],[\"sidemen crossing challenge\"],[\"sidemen rate uk youtubers\"],[\"sidemen house challenge in minecraft sidemen gaming\"],[\"sidemen best of august\"],[\"sidemen best of august\"],[\"ksi miniminter reacting to sidemen meme edits\"],[\"the sidemen hitting the crossbar for minutes\"],[\"the sidemen choose words in draw my thing sidemen gaming\"],[\"happy birthday simon\"],[\"which of the sidemen knows jj the best\"],[\"sidemen hide seek in minecraft sidemen gaming\"],[\"happy birthday josh\"],[\"which of the sidemen knows simon the best\"],[\"sidemen guess the youtuber\"],[\"all of harry s terrible pick up lines from sidemen tinder\"],[\"the sidemen duel minecraft sidecraft\"],[\"sidemen tinder why the girls said no\"],[\"which of the sidemen knows josh the best\"],[\"the sidemen war ends minecraft sidecraft\"],[\"unseen sidemen total wipeout\"],[\"the sidemen spend hours in amsterdam\"],[\"sidemen best of july\"],[\"sidemen best of july\"],[\"the sidemen battle minecraft sidecraft\"],[\"which of the sidemen knows tobi the best\"],[\"sidemen fc vs youtube allstars\"],[\"ksi switches sides minecraft sidecraft\"],[\"sidemen awkward in public\"],[\"happy birthday vik\"],[\"sidemen savage golf session sidemen gaming\"],[\"sidemen pictionary challenge\"],[\"sidemen moo off\"],[\"sidemen moo off\"],[\"sidemen beef minecraft sidecraft\"],[\"which of the sidemen knows vik the best\"],[\"first to guess the password wins\"],[\"sidemen play minecraft minecraft sidecraft\"],[\"which of the sidemen knows harry the best\"],[\"sidemen team hide and seek\"],[\"first sidemen fortnite deathrun sidemen gaming\"],[\"phil bullying the sidemen for minutes straight\"],[\"sidemen shots fired\"],[\"sidemen shots fired\"],[\"sidemen shots fired\"],[\"sidemen shots fired\"],[\"sidemen shots fired\"],[\"sidemen shots fired\"],[\"sidemen shots fired\"],[\"sidemen shots fired\"],[\"sidemen shots fired\"],[\"which of the sidemen knows ethan the best\"],[\"sidemen best of june\"],[\"sidemen best of june\"],[\"the sidemen play dead by daylight sidemen gaming\"],[\"the sidemen are splitting up sidemen rumours\"],[\"sidemen strength tests\"],[\"which of the sidemen was it\"],[\"sidemen play topgolf\"],[\"the sidemen open weird fan mail\"],[\"sidemen react to hate comments\"],[\"the sidemen in america\"],[\"sidemen rate sidemen videos\"],[\"sidemen best of may\"],[\"sidemen best of may\"],[\"best sidemen hide seek moments\"],[\"best sidemen hide seek moments\"],[\"funniest sidemen slip n slide moments\"],[\"sidemen hide seek on a private jet\"],[\"sidemen try american candy\"],[\"all sidemen in a golf video first time ever sidemen gaming\"],[\"best sidemen house and room tours\"],[\"strangers roast the sidemen phil uncut\"],[\"strangers roast the sidemen kiera uncut\"],[\"strangers roast the sidemen joe uncut\"],[\"strangers roast the sidemen mia uncut\"],[\"strangers roast the sidemen scott uncut\"],[\"strangers roast the sidemen melissa uncut\"],[\"sidemen chilli challenges\"],[\"sidemen genius diss track lyrics\"],[\"sidemen chubby bunny challenges\"],[\"sidemen vs faze penalty shootout\"],[\"the sidemen play jenga\"],[\"sidemen deadest jokes\"],[\"sidemen deadest jokes\"],[\"sidemen deadest jokes\"],[\"sidemen deadest jokes\"],[\"sidemen deadest jokes\"],[\"the sidemen spent days on a cruise and this happened\"],[\"sidemen best of april\"],[\"sidemen best of april\"],[\"sidemen clickbait quizzes\"],[\"sidemen guess who\"],[\"the sidemen play rocket league\"],[\"the sidemen get drunk\"],[\"sidemen give advice\"],[\"sidemen drawing challenges\"],[\"sidemen table tennis tournament\"],[\"the sidemen get egged\"],[\"the sidemen get waxed\"],[\"sidemen mukbang\"],[\"ranking all sidemen charity match goals\"],[\"sidemen best of march\"],[\"sidemen best of march\"],[\"sidemen one word interviews\"],[\"sidemen indoor penalty challenge\"],[\"best of sidemen reacting to reddit\"],[\"sidemen instagram q a part\"],[\"sidemen instagram q a\"],[\"one question go\"],[\"sidemen play scream go hero\"],[\"sidemen basketball challenge\"],[\"sidemen you laugh you lose\"],[\"sidemen indoor football\"],[\"sidemen not my arms\"],[\"sidemen go to the arcade\"],[\"the sidemen try on make up\"],[\"the sidemen go on tinder\"],[\"sidemen best of february\"],[\"sidemen best of february\"],[\"sidemen simon says\"],[\"cooking with the sidemen\"],[\"sidemen best of the siblings\"],[\"sidemen most shocking challenges\"],[\"sidemen wackiest hairstyles\"],[\"the best of ksi s comeback\"],[\"sidemen unbox million subscriber plaques\"],[\"sidemen best of january\"],[\"sidemen best of january\"],[\"sidemen guess the song challenges\"],[\"sidemen funniest inflatables moments\"],[\"most extreme sidemen forfeits\"],[\"most extreme sidemen forfeits\"],[\"the best moments in the sidemen house\"],[\"sidemen funniest kitchen challenges\"],[\"the sidemen travel the world\"],[\"sidemen best moments of\"],[\"sidemen chubby bunny challenge gone wrong\"],[\"sidemen accent challenge\"],[\"sidemen funniest christmas moments\"],[\"the rudest game ever deckheads challenge\"],[\"sidemen react to old videos\"],[\"sidemen react to old videos\"],[\"sidemen react to old videos\"],[\"sidemen react to old videos\"],[\"sidemen react to internet videos\"],[\"sidemen react to internet videos\"],[\"sidemen react to internet videos\"],[\"sidemen best ever pranks\"],[\"sidemen best ever pranks\"],[\"sidemen rock paper scissors tournament\"],[\"sidemen pro clubs\"],[\"sidemen try not to laugh impossible\"],[\"sidemen garry s mod funniest moments\"],[\"sidemen funniest fails\"],[\"the sidemen play geoguessr\"],[\"best sidemen fortnite moments\"],[\"best sidemen fortnite moments\"],[\"funniest sidemen rage quits\"],[\"sidemen best vr moments\"],[\"sidemen spookiest moments\"],[\"the greatest sidemen moments of all time sidemen years\"],[\"funniest sidemen family moments\"],[\"sidemen funniest skits\"],[\"sidemen funniest skits\"],[\"sidemen funniest skits\"],[\"funniest charity match moments\"],[\"sidemen googling ourselves\"],[\"the sidemen play golf in real life\"],[\"sidemen funniest snapchat q a questions\"],[\"the worst sidemen injuries\"],[\"sidemen funniest mad libs moments\"],[\"sidemen would you rather moments\"],[\"the funniest bits sidemen podcast\"],[\"sidemen quickfire questions\"],[\"sidemen funniest patience test moments\"],[\"best of sidemen challenges\"],[\"best of sidemen challenges\"],[\"sidemen playing with pro footballers\"],[\"the biggest event in internet history\"],[\"greatest ever sidemen trickshots\"],[\"sidemen funniest q a moments\"],[\"all sidemen diss tracks in order\"],[\"unreleased wroetoshaw sidemen diss track\"],[\"unseen footage sidemen wireless hide seek\"],[\"sidemen reacting to old videos\"],[\"sidemen being awkward in public\"],[\"best sidemen olympic world records\"],[\"sidemen penalty shootout\"],[\"the sidemen play other sports\"],[\"best of sidemen collabs\"],[\"sidemen more dead jokes\"],[\"maddest sidemen soundclips\"],[\"sidemen best hole in ones\"],[\"unreleased sidemen hide and seek\"],[\"ksi vs logan paul press conference the sidemen show sidemen podcast\"],[\"sidemen maddest moments\"],[\"sidemen maddest moments\"],[\"sidemen that s what she said moments\"],[\"sidemen fc match ksi vs logan paul boxing the sidemen show sidemen podcast\"],[\"best of sidemen fc charity matches\"],[\"sidemen most likely to challenge\"],[\"sidemen the movie official trailer behind the scenes day\"],[\"sidemen the movie official trailer behind the scenes day\"],[\"sidemen more shots fired\"],[\"sidemen brain farts\"],[\"sidemen sumo fight behind the scenes\"],[\"when sidemen videos go wrong\"],[\"sidemen total wipeout football challenge behind the scenes\"],[\"best sidemen cards against humanity moments\"],[\"funniest sidemen football moments\"],[\"hilarious sidemen facecam moments\"],[\"scariest sidemen moments\"],[\"the sidemen can sing\"],[\"how the sidemen make a football video\"],[\"sidemen mum jokes\"],[\"best old sidemen moments\"],[\"sidemen make weird noises\"],[\"sidemen biggest rage moments\"],[\"will ksi fight logan paul or jake paul sidemen podcast\"],[\"sidemen vs beta squad among us in real life\"],[\"women vs sidemen kai cenat edition\"],[\"sidemen race across a country europe edition\"],[\"sidemen waterpark hide seek\"],[\"the greatest sidemen moments\"],[\"the greatest sidemen moments\"],[\"sidemen vs christmas day\"],[\"sidemen vs christmas day\"],[\"sidemen big fat quiz of the year\"],[\"sidemen big fat quiz of the year\"],[\"sidemen big fat quiz of the year\"],[\"sidemen extreme christmas cook off\"],[\"sidemen vs christmas song\"],[\"sidemen vs football match\"],[\"sidemen superyacht hide and seek\"],[\"sidemen a z calorie challenge\"],[\"sidemen extreme japanese gameshows\"],[\"sidemen old vs young for hours challenge\"],[\"sidemen forfeit blind date\"],[\"sidemen vs mr beast challenge\"],[\"sidemen hide seek in world s biggest theatre\"],[\"sidemen swap lives for hours\"],[\"sidemen charity match goals highlights\"],[\"sidemen charity match official stream\"],[\"who is the best sidemen football player\"],[\"women vs sidemen logan paul edition\"],[\"sidemen hot vs cold mukbang\"],[\"sidemen train like ksi for hours\"],[\"sidemen europe calorie challenge\"],[\"sidemen vs road trip usa edition\"],[\"sidemen hide and seek in a school\"],[\"sidemen vs holiday usa edition\"],[\"sidemen tinder in real life usa youtube edition\"],[\"sidemen escape room challenge\"],[\"sidemen hole in the wall\"],[\"women vs sidemen jidion edition\"],[\"pointless sidemen edition\"],[\"sidemen vs birthday party\"],[\"sidemen vs birthday party\"],[\"sidemen turn into in hours challenge\"],[\"sidemen vs hotel europe edition\"],[\"women vs sidemen filly edition\"],[\"sidemen vs theme park\"],[\"sidemen a z buying challenge\"],[\"sidemen abandoned in europe challenge\"],[\"sidemen game of life in real life\"],[\"sidemen silent library\"],[\"sidemen silent library\"],[\"sidemen race across europe challenge\"],[\"sidemen one million pound drop\"],[\"sidemen vs premier league goalkeeper\"],[\"sidemen throw a dart and go where it lands\"],[\"sidemen usa vs uk calories challenge\"],[\"sidemen las vegas forfeit hide and seek\"],[\"sidemen complete this challenge win\"],[\"sidemen mukbang on a bus\"],[\"the cube sidemen edition\"],[\"women vs sidemen callux edition\"],[\"sidemen family feud\"],[\"sidemen that finds lamborghini wins it\"],[\"sidemen drink one colour for hours challenge\"],[\"sidemen hide and seek in spanish mansion\"],[\"sidemen vs new years eve\"],[\"women vs sidemen ksi edition\"],[\"sidemen hot vs cold holiday\"],[\"sidemen pub golf europe edition\"],[\"sidemen hide seek in the world s biggest toy store\"],[\"sidemen extreme robot wars battle bots\"],[\"sidemen extreme tag\"],[\"sidemen extreme bake off\"],[\"sidemen abandoned challenge\"],[\"sidemen who wants to be a millionaire\"],[\"sidemen car challenge\"],[\"sidemen hide and seek in a nuclear bunker\"],[\"sidemen vs kids football match\"],[\"sidemen vs camping\"],[\"sidemen vs onlyfans olympics\"],[\"sidemen speed dating extreme\"],[\"women rate the most attractive sidemen\"],[\"sidemen hot tub mukbang\"],[\"sidemen hide and seek in the most expensive house in london\"],[\"sidemen buying one colour for hours\"],[\"sidemen extreme punishment pool\"],[\"sidemen extreme fishing vs logan paul\"],[\"sidemen spend on fans\"],[\"sidemen hide and seek on a jumbo jet\"],[\"the wheel sidemen edition\"],[\"sidemen gogglebox\"],[\"sidemen extreme cook off\"],[\"sidemen vs hotel\"],[\"sidemen vs arsenal womens team\"],[\"sidemen impossible footgolf challenge\"],[\"sidemen vs mukbang\"],[\"sidemen guess the millionaire\"],[\"sidemen a z drinking challenge gone wrong\"],[\"sidemen hide seek in a dungeon\"],[\"sidemen most weight lost in hours challenge\"],[\"sidemen all sports golf battle\"],[\"sidemens got talent\"],[\"sidemen crystal maze\"],[\"sidemen eat food from different countries hours challenge\"],[\"sidemen barber shop gone wrong\"],[\"women vs sidemen harry edition\"],[\"sidemen worlds most expensive mukbang\"],[\"sidemen guess the fake couple\"],[\"sidemen tinder in real life\"],[\"sidemen tinder in real life\"],[\"the price is right sidemen edition\"],[\"sidemen hide and seek in a castle\"],[\"sidemen calorie battle the rematch\"],[\"sidemen have minutes to spend\"],[\"top sidemen moments\"],[\"sidemen blind dating\"],[\"sidemen blind dating\"],[\"sidemen blind dating\"],[\"sidemen blind dating\"],[\"sidemen hide and seek in beta squad house\"],[\"the weakest link sidemen edition\"],[\"the weakest link sidemen edition\"],[\"sidemen among us in real life\"],[\"sidemen among us in real life\"],[\"sidemen calories battle\"],[\"sidemen try expensive vs cheap food\"],[\"women vs sidemen ethan edition\"],[\"sidemen trivial pursuit in real life\"],[\"sidemen a z eating challenge\"],[\"sidemen split or steal\"],[\"sidemen drinking mukbang\"],[\"sidemen hide and seek in a prison\"],[\"sidemen fall guys in real life\"],[\"sidemen pub golf gone wrong\"],[\"sidemen race across the uk\"],[\"sidemen punishment basketball\"],[\"sidemen eat the hottest wings challenge\"],[\"jeopardy sidemen edition\"],[\"sidemen vs takeaway\"],[\"sidemen spend on each other in hour\"],[\"sidemen go camping\"],[\"strangers roast the sidemen\"],[\"strangers roast the sidemen\"],[\"sidemen vs\"],[\"sidemen reunited mukbang\"],[\"sidemen vs w s football challenge\"],[\"sidemen real life bingo in lockdown\"],[\"sidemen calories challenge in lockdown\"],[\"sidemen go back to online school\"],[\"sidemen talent show\"],[\"sidemen spelling bee\"],[\"sidemen spelling bee\"],[\"sidemen tinder in lockdown\"],[\"sidemen tiktok challenge\"],[\"sidemen lockdown showdown\"],[\"sidemen learn skills in hours\"],[\"sidemen come dine with me\"],[\"the end of the sidemen channel\"],[\"stayhome\"],[\"sidemen escape room\"],[\"sidemen paintball hide and seek\"],[\"sidemen dragons den shark tank\"],[\"sidemen tinder in real life uk youtube edition\"],[\"sidemen spill your guts or fill your guts\"],[\"sidemen most weight gained in hours challenge\"],[\"sidemen monopoly in real life\"],[\"sidemen hide seek on a private island\"],[\"sidemen eating one colour food for hours challenge\"],[\"sidemen lie detector\"],[\"sidemen rewind\"],[\"sidemen christmas cook off\"],[\"sidemen make a song in hours challenge\"],[\"sidemen tipping point\"],[\"sidemen real life bingo\"],[\"sidemen calories in hours challenge usa edition\"],[\"sidemen spend in hour challenge\"],[\"sidemen speed dating\"],[\"sidemen vs holiday europe edition\"],[\"sidemen ice dunk tank challenge\"],[\"the roast of the sidemen\"],[\"sidemen hide seek in a theme park\"],[\"sidemen vs road trip\"],[\"sidemen wheel of fortune\"],[\"sidemen handcuffed for hours challenge\"],[\"sidemen football fear pong\"],[\"sidemen sumo olympics\"],[\"sidemen million mansion reverse hide seek\"],[\"sidemen total wipeout challenge\"],[\"sidemen burn calories in hours challenge\"],[\"sidemen become parents for hours\"],[\"the chase sidemen edition\"],[\"sidemen hide seek in a football stadium\"],[\"sidemen donate to twitch streamers\"],[\"sidemen outfit challenge\"],[\"sidemen go back to school\"],[\"sidemen tinder in real life original edition\"],[\"sidemen strength test\"],[\"sidemen learn to dance ft jabbawockeez\"],[\"nigahiga vs sidemen the ultimate challenge\"],[\"sidemen vs faze crossbar challenge\"],[\"sidemen million faze house hide seek\"],[\"countdown sidemen edition\"],[\"sidemen sports day\"],[\"sidemen vs holiday\"],[\"sidemen giant inflatable slip and slide challenge\"],[\"sidemen one question\"],[\"sidemen million cruise ship hide seek\"],[\"sidemen break world records\"],[\"sidemen eat calories in hours challenge\"],[\"the sidemen bake off\"],[\"sidemen try james charles make up tutorial\"],[\"sidemen read mean tweets\"],[\"sidemen read mean tweets\"],[\"sidemen top best moments\"],[\"sidemen winter olympics\"],[\"sidemen christmas football challenges\"],[\"shocking try not to laugh challenge\"],[\"sidemen punishment pool insane\"],[\"sidemen family fortunes\"],[\"sidemen react to teens react to sidemen\"],[\"sidemen pumpkin carving challenge gone wrong\"],[\"haunted clown maze hide and seek\"],[\"extreme forfeit sidemen quiz\"],[\"sidemen a side football horrific injury\"],[\"sidemen not my arms challenge\"],[\"how fast can the sidemen run m sidemen olympics\"],[\"how well do the sidemen know each other\"],[\"ksi vs the sidemen\"],[\"sidemen who wants to be a billionaire\"],[\"sidemen extreme minigolf\"],[\"sidemen carpool diss track karaoke\"],[\"sidemen explore haunted tunnels warning\"],[\"how hard can the sidemen punch\"],[\"sidemen bowling gone wrong\"],[\"sidemen world cup football challenges\"],[\"sidemen hide seek in wireless festival gone wrong\"],[\"sidemen world cup wipeout challenge\"],[\"sidemen go to space the sidemen show\"],[\"sidemen rescue nicole scherzinger the sidemen show\"],[\"hunting the sidemen the sidemen show\"],[\"sidemen investigate most haunted house the sidemen show\"],[\"the great sidemen race the sidemen show\"],[\"sidemen winter sports challenges the sidemen show\"],[\"sidemen extreme desert race explosion the sidemen show\"],[\"sidemen fc vs youtube allstars goals highlights\"],[\"sidemen fc vs youtube allstars charity match livestream\"],[\"the sidemen show official trailer\"],[\"the sidemen show exclusive teaser trailer\"],[\"sidemen giant slip and slide football\"],[\"sidemen yoga challenge\"],[\"sidemen homemade olympics\"],[\"sidemen deal or no deal\"],[\"sidemen million mansion hide and seek\"],[\"sidemen sumo fight\"],[\"sidemen the movie official trailer\"],[\"sidemen total wipeout football challenge\"],[\"sidemen answer the most searched google questions\"],[\"sidemen ultimate football challenge\"],[\"sidemen silent challenge\"],[\"sidemen giant football darts\"],[\"extreme sidemen fear pong\"],[\"sidemen try not to laugh challenge w jack whitehall\"],[\"you laugh you lose sidemen do bad jokes\"],[\"logan paul ksi vs joe weller fight sidemen diss tracks\"],[\"sidemen fc vs youtube allstars highlights\"],[\"sidemen fc vs youtube allstars livestream\"],[\"you must watch this before the sidemen match\"],[\"the legendary vik as any\"],[\"the end of sidemen clubs\"],[\"exposing the sidemen\"],[\"simon is quitting the sidemen\"],[\"the sidemen beef begins sdmn clubs\"],[\"ksi trolls the sidemen sdmn clubs\"],[\"sidemen book tour\"],[\"the sidemen awards\"],[\"first ever sidemen podcast\"],[\"sidemen manchester meet up\"],[\"sidemen fc vs youtube allstars charity football match livestream\"],[\"sidemen face painting challenge\"],[\"welcome to the sidemen channel\"]],\"hovertemplate\":\"polarity=%{x}<br>likes=%{y}<br>video_title=%{customdata[0]}<extra></extra>\",\"legendgroup\":\"\",\"marker\":{\"color\":\"#636efa\",\"symbol\":\"circle\"},\"mode\":\"markers\",\"name\":\"\",\"showlegend\":false,\"x\":[1,1,-1,-1,1,1,1,1,1,1,1,1,1,1,1,1,-1,-1,-1,1,1,1,1,1,1,1,-1,1,-1,-1,1,1,1,1,1,1,1,-1,1,1,-1,1,-1,1,-1,-1,1,1,1,1,-1,1,1,1,-1,-1,1,1,1,-1,1,1,1,1,-1,1,1,0,1,-1,-1,1,1,-1,1,1,1,1,1,1,-1,1,1,1,1,1,1,1,1,1,1,1,1,1,-1,-1,-1,1,-1,1,1,-1,-1,1,1,1,-1,1,-1,-1,1,1,1,1,1,1,-1,1,1,1,-1,1,1,-1,1,1,1,1,0,1,1,-1,1,-1,1,-1,1,1,1,1,1,1,-1,1,-1,1,1,-1,-1,-1,1,1,1,1,1,1,1,-1,-1,1,-1,1,1,1,-1,1,1,1,1,1,1,-1,1,1,1,1,-1,1,1,1,-1,-1,-1,1,1,0,1,1,-1,-1,0,1,1,1,-1,1,1,1,-1,1,1,-1,1,1,1,1,-1,1,1,0,1,-1,1,1,1,1,0,1,-1,1,1,1,1,1,1,1,0,1,1,-1,-1,1,1,0,-1,1,1,1,-1,-1,-1,1,-1,1,1,1,1,1,-1,-1,-1,-1,-1,1,1,1,1,-1,1,-1,-1,1,1,1,1,1,1,1,-1,1,0,1,-1,1,1,1,1,1,0,1,-1,1,1,-1,1,1,1,1,1,1,1,1,1,1,-1,1,1,-1,1,1,1,-1,1,1,1,1,1,-1,-1,-1,-1,-1,1,1,1,1,1,1,1,1,1,1,1,1,1,1,1,1,1,1,1,1,1,1,1,1,1,1,1,1,1,1,1,1,1,1,1,-1,1,0,1,1,1,-1,1,1,1,1,-1,1,1,-1,1,-1,1,-1,1,1,1,-1,1,1,1,1,1,1,1,0,-1,-1,1,1,1,1,-1,1,-1,1,-1,1,1,1,1,1,1,1,1,1,1,1,1,1,-1,1,1,1,1,1,1,-1,-1,-1,1,1,1,-1,1,1,1,0,-1,-1,-1,-1,1,-1,1,1,1,1,-1,1,-1,-1,1,1,1,1,-1,1,1,1,1,-1,1,1,-1,1,-1,-1,1,1,1,1,1,-1,-1,-1,-1,1,1,-1,1,1,1,-1,0,-1,-1,1,1,1,1,1,-1,-1,-1,1,1,1,1,1,1,0,1,1,1,-1,-1,1,1,1,-1,1,1,1,1,1,1,1,1,-1,-1,1,1,1,1,1,1,1,1,1,-1,1,1,-1,1,1,1,1,1,1,1,1,1,1,1,1,1,1,1,1,1,1,1,1,1,-1,1,1,1,1,1,1,1,1,-1,-1,1,1,1,1,-1,-1,1,1,1,1,1,-1,-1,1,1,-1,1,1,1,1,-1,1,1,1,1,1,-1,1,-1,1,1,1,1,1,1,1,-1,-1,1,1,1,-1,1,-1,-1,1,1,1,1,1,1,-1,1,1,-1,1,1,-1,1,1,1,1,1,-1,1,1,0,-1,-1,0,1,1,1,-1,1,-1,1,1,1,1,1,0,0,0,0,0,0,0,0,0,-1,1,1,-1,1,1,1,1,-1,-1,-1,1,0,0,1,1,1,1,1,-1,1,-1,1,-1,-1,0,1,1,-1,0,-1,1,1,1,1,1,1,1,1,1,1,1,1,-1,-1,1,1,1,1,1,-1,1,1,1,1,-1,1,1,1,1,1,-1,1,1,1,-1,1,1,1,-1,1,-1,-1,1,1,1,1,1,0,-1,-1,-1,1,1,1,1,0,1,1,-1,-1,-1,-1,-1,0,0,0,1,1,-1,1,1,-1,-1,-1,1,1,-1,1,0,1,1,1,1,1,1,-1,1,1,1,1,1,1,-1,-1,1,1,1,1,-1,1,1,1,1,1,1,1,1,1,1,1,1,1,1,1,1,1,-1,1,1,1,1,1,0,-1,-1,1,1,1,1,0,-1,1,1,1,1,-1,1,1,1,1,1,1,1,1,1,1,-1,-1,-1,1,1,1,-1,1,1,-1,-1,-1,1,1,1,1,-1,1,1,1,1,1,1,1,1,1,1,-1,-1,1,1,1,1,1,1,0,1,1,-1,-1,1,-1,-1,1,1,1,-1,-1,1,1,1,-1,0,1,1,1,1,1,1,-1,1,1,-1,-1,1,1,1,1,1,-1,1,-1,1,1,1,1,1,1,1,1,1,1,1,1,1,0,1,1,-1,1,1,-1,-1,1,1,1,1,-1,-1,1,1,1,1,1,1,1,1,1,1,1,1,1,1,-1,1,1,1,-1,-1,1,1,1,1,1,0,1,1,1,1,1,1,1,1,1,1,-1,1,1,1,-1,-1,1,-1,1,1,-1,1,1,1,1,1,1,-1,1,1,1,-1,1,1,1,1,-1,1,1,1,1,0,1,1,1,-1,1,1,1,1,1,1,1,1,-1,1,1,1,1,-1,1,1,1,-1,-1,1,1,1,1,-1,1,1,1,-1,1,1,1,-1,1,0,1,1,-1,1,1,-1,1,1,1,-1,-1,1,-1,-1,1,-1,1,1,1,1,-1,1,1,1,-1,1,1,1,1,1,1,1,1,1,1,1,1,1,1,1,1,1,1,1,1,1,1,1,1,1,-1,1,1,1,0,1,1,1,-1,-1,1,1,0,1],\"xaxis\":\"x\",\"y\":[144945.0,423575.0,208354.0,122217.0,89700.0,240260.0,132415.0,201340.0,240170.0,177306.0,365410.0,89405.0,532280.0,125353.0,233308.0,97807.0,102632.0,311653.0,683400.0,179477.0,332427.0,235545.0,317398.0,167423.0,163998.0,240219.0,30317.0,33969.0,175476.0,467681.0,32704.0,49609.0,119057.0,92054.0,182128.0,154550.0,139901.0,219434.0,54947.0,116852.0,136236.0,57748.0,101388.0,126781.0,29228.0,163510.0,153767.0,234716.0,217131.0,62665.0,543200.0,509647.0,118490.0,105790.0,164533.0,161554.0,46438.0,35350.0,344518.0,231654.0,77771.0,95669.0,224969.0,152078.0,216268.0,146999.0,160317.0,129315.0,193742.0,184588.0,135352.0,133117.0,159670.0,125229.0,209461.0,328050.0,250012.0,138875.0,145230.0,120316.0,255511.0,87577.0,174198.0,184666.0,186575.0,141852.0,123786.0,115730.0,181455.0,122336.0,139478.0,148380.0,96541.0,164643.0,162564.0,215393.0,148704.0,161341.0,187277.0,200790.0,311629.0,158147.0,288573.0,143760.0,148124.0,224904.0,113068.0,155853.0,235844.0,207745.0,202229.0,150902.0,193332.0,141071.0,136665.0,204025.0,127280.0,143543.0,166857.0,176423.0,317287.0,286027.0,459344.0,130792.0,277896.0,81087.0,165460.0,191516.0,322035.0,124677.0,288949.0,199638.0,246049.0,179324.0,170336.0,138222.0,119274.0,148527.0,210558.0,189822.0,280135.0,268287.0,175415.0,190365.0,383736.0,199794.0,254876.0,91869.0,304417.0,119218.0,114747.0,198829.0,223490.0,92381.0,84451.0,175114.0,138551.0,81337.0,132482.0,92268.0,151634.0,121736.0,88202.0,156102.0,121371.0,168700.0,85190.0,158689.0,122751.0,127934.0,165280.0,389811.0,111474.0,123528.0,222808.0,182543.0,281649.0,208213.0,382049.0,355753.0,152046.0,150707.0,107198.0,196148.0,121160.0,227077.0,97711.0,124475.0,218532.0,522657.0,157797.0,209008.0,175507.0,175565.0,328664.0,99703.0,102283.0,213740.0,344082.0,153992.0,121450.0,119802.0,194531.0,170084.0,234467.0,108068.0,262258.0,264897.0,103212.0,219549.0,265505.0,191439.0,207130.0,203074.0,107122.0,146501.0,165653.0,245273.0,176396.0,291357.0,102889.0,122630.0,112778.0,132894.0,155767.0,113867.0,238812.0,63805.0,182133.0,82696.0,118178.0,149701.0,86385.0,151765.0,76242.0,185369.0,189579.0,135101.0,188114.0,214890.0,213763.0,138894.0,46236.0,82121.0,142008.0,174616.0,207077.0,222424.0,236280.0,282756.0,106605.0,129998.0,128224.0,194378.0,75459.0,84061.0,181456.0,95918.0,95903.0,222973.0,106602.0,252642.0,83987.0,145621.0,105411.0,519423.0,90524.0,84117.0,98091.0,123809.0,91707.0,166283.0,106357.0,434742.0,95771.0,334953.0,199558.0,580429.0,121536.0,81744.0,296880.0,99574.0,95883.0,108094.0,71007.0,170870.0,128394.0,206565.0,89908.0,589609.0,100248.0,185859.0,277623.0,112399.0,118993.0,179072.0,138308.0,241052.0,221424.0,74592.0,216755.0,121726.0,244847.0,232346.0,253253.0,160015.0,131898.0,236718.0,117176.0,115815.0,156691.0,80303.0,37197.0,54584.0,51390.0,41618.0,46520.0,61209.0,39016.0,46623.0,47500.0,39457.0,62949.0,39097.0,39490.0,36203.0,61864.0,34343.0,59012.0,108283.0,25874.0,26080.0,25522.0,21015.0,17905.0,41976.0,21956.0,42655.0,88545.0,63605.0,140227.0,225383.0,310703.0,149580.0,186781.0,263519.0,102467.0,103742.0,134642.0,425062.0,127652.0,141701.0,193492.0,182679.0,312828.0,136932.0,121126.0,362787.0,94525.0,88367.0,147149.0,96584.0,152598.0,134957.0,136420.0,111952.0,281841.0,99182.0,303028.0,155916.0,360868.0,360042.0,228411.0,227783.0,102265.0,153883.0,83633.0,234044.0,264067.0,279222.0,117155.0,115597.0,96093.0,128785.0,138305.0,253227.0,94741.0,106040.0,86576.0,228153.0,143984.0,410611.0,145401.0,274820.0,317862.0,220888.0,301514.0,175432.0,199544.0,92557.0,122207.0,203271.0,274149.0,103767.0,103408.0,500124.0,374569.0,214752.0,142928.0,331935.0,309919.0,415021.0,356312.0,156475.0,369905.0,443120.0,390991.0,372093.0,128504.0,434548.0,516250.0,224092.0,147283.0,220022.0,146362.0,108816.0,110212.0,88170.0,47945.0,81211.0,172304.0,64506.0,68127.0,157810.0,89623.0,83582.0,195874.0,256839.0,91281.0,193011.0,155477.0,328548.0,87308.0,160249.0,146361.0,85437.0,74786.0,102813.0,89969.0,107803.0,68984.0,82883.0,101907.0,119912.0,67704.0,93711.0,81979.0,95757.0,66865.0,157364.0,170634.0,95222.0,141310.0,101188.0,87437.0,94464.0,98554.0,96442.0,99701.0,132049.0,107118.0,191735.0,162714.0,100974.0,140446.0,81598.0,81072.0,114121.0,95384.0,90884.0,148784.0,88515.0,228881.0,55839.0,159677.0,80778.0,116081.0,108430.0,92250.0,153903.0,106993.0,207699.0,97755.0,123428.0,50773.0,176327.0,109343.0,109620.0,241232.0,96844.0,174788.0,107143.0,91144.0,114052.0,70882.0,83379.0,23040.0,33422.0,21080.0,24490.0,15268.0,25391.0,229303.0,115259.0,265134.0,92098.0,150752.0,307080.0,178095.0,128143.0,155113.0,160385.0,152007.0,104891.0,138730.0,119559.0,130521.0,178336.0,143408.0,201724.0,68312.0,243111.0,111096.0,33845.0,11838.0,66575.0,126099.0,111688.0,98369.0,143838.0,220943.0,164075.0,119384.0,191624.0,195951.0,142164.0,177435.0,134612.0,781346.0,749906.0,296191.0,177047.0,19910.0,15222.0,138299.0,124117.0,85602.0,134206.0,274423.0,28473.0,10158.0,85710.0,119472.0,52079.0,87367.0,91970.0,93271.0,197860.0,191043.0,123117.0,88956.0,245166.0,56685.0,206731.0,160033.0,344827.0,181264.0,62650.0,72318.0,52875.0,76888.0,91613.0,120662.0,185404.0,25878.0,13378.0,131639.0,113975.0,186656.0,126102.0,236347.0,27935.0,20049.0,125322.0,46474.0,119010.0,58705.0,215747.0,174376.0,55458.0,143395.0,144812.0,463132.0,131113.0,86864.0,100978.0,130148.0,201920.0,181756.0,39159.0,18149.0,129360.0,121998.0,134362.0,136103.0,352268.0,117155.0,53382.0,174942.0,293684.0,361220.0,148761.0,130859.0,163771.0,222387.0,208708.0,166040.0,153294.0,151021.0,64012.0,33266.0,28447.0,34525.0,40018.0,54480.0,36937.0,35193.0,40952.0,149431.0,43996.0,16925.0,133084.0,148732.0,15040.0,151167.0,130139.0,27264.0,38417.0,44127.0,95017.0,12933.0,21605.0,18773.0,63312.0,49980.0,217779.0,117235.0,70730.0,47644.0,208184.0,16498.0,22810.0,23706.0,40626.0,100367.0,20381.0,24194.0,10066.0,271317.0,12467.0,14018.0,13651.0,13637.0,26112.0,56443.0,175269.0,14895.0,17320.0,13593.0,18657.0,36207.0,92181.0,116832.0,12456.0,138620.0,11245.0,18228.0,120798.0,75847.0,14209.0,21375.0,50307.0,258652.0,37865.0,110968.0,114803.0,46239.0,146837.0,171946.0,30372.0,21766.0,14245.0,183871.0,7411.0,23133.0,15920.0,23482.0,200222.0,46909.0,84719.0,9707.0,99674.0,40112.0,48494.0,18637.0,28447.0,18511.0,16143.0,14906.0,42394.0,89805.0,13906.0,33968.0,50033.0,86406.0,231706.0,16096.0,129901.0,24708.0,32633.0,210875.0,348345.0,29844.0,32105.0,52484.0,115425.0,167263.0,74617.0,44334.0,373641.0,23298.0,142449.0,115451.0,54107.0,28031.0,46123.0,10700.0,12074.0,54247.0,132254.0,79618.0,64980.0,274980.0,84737.0,22407.0,13902.0,16868.0,189983.0,19651.0,37195.0,42466.0,30905.0,17143.0,21736.0,39005.0,101127.0,20869.0,122073.0,29249.0,362234.0,377271.0,115201.0,52639.0,74079.0,43460.0,143838.0,38530.0,52574.0,17686.0,17599.0,32849.0,254131.0,51767.0,27145.0,61944.0,17590.0,66283.0,22510.0,166902.0,88337.0,50053.0,31057.0,29470.0,77190.0,78657.0,41434.0,40431.0,95469.0,21341.0,22876.0,25832.0,74257.0,25655.0,186710.0,28268.0,85780.0,57432.0,357675.0,991754.0,296858.0,377087.0,160927.0,366696.0,258434.0,414005.0,240637.0,437044.0,273039.0,284770.0,453152.0,334127.0,369112.0,295930.0,539617.0,351463.0,704235.0,877695.0,435882.0,369410.0,613453.0,1147608.0,330493.0,866222.0,319162.0,445471.0,388037.0,595883.0,509874.0,694371.0,1664676.0,474410.0,833937.0,765909.0,337875.0,422622.0,475635.0,405289.0,631316.0,1229892.0,485898.0,372963.0,425009.0,331994.0,584516.0,811265.0,415335.0,387259.0,377910.0,742700.0,367107.0,370834.0,260486.0,310295.0,370426.0,647697.0,528456.0,445640.0,394115.0,375884.0,476929.0,865375.0,603325.0,463695.0,428980.0,371260.0,659257.0,396896.0,503666.0,514536.0,600127.0,424647.0,557759.0,549251.0,636961.0,570574.0,553048.0,445871.0,564937.0,533183.0,558903.0,987398.0,512015.0,641259.0,798353.0,441740.0,661891.0,651557.0,762918.0,387450.0,471435.0,396960.0,542086.0,433882.0,351151.0,453167.0,646450.0,382831.0,613069.0,509106.0,1350634.0,518785.0,506367.0,1967905.0,1326863.0,453250.0,486836.0,545042.0,804724.0,282093.0,795897.0,644582.0,899138.0,657487.0,732381.0,606300.0,379510.0,587907.0,840431.0,468008.0,526389.0,923078.0,395216.0,619949.0,647817.0,413183.0,651296.0,849434.0,653020.0,1221206.0,518960.0,990364.0,370614.0,460768.0,715102.0,696954.0,442459.0,680697.0,373039.0,1437350.0,508823.0,430616.0,646124.0,542952.0,428539.0,566995.0,760171.0,706464.0,568876.0,312152.0,340561.0,453747.0,278275.0,251764.0,458880.0,404352.0,504352.0,1859465.0,659398.0,786950.0,396422.0,535174.0,548412.0,859278.0,204801.0,382899.0,543883.0,290211.0,367991.0,456738.0,605680.0,728169.0,1315521.0,427519.0,1081220.0,987048.0,1416618.0,382477.0,454765.0,359259.0,356904.0,473619.0,848840.0,442845.0,651383.0,558919.0,392815.0,280163.0,431540.0,907360.0,887131.0,607606.0,351704.0,315263.0,576982.0,400068.0,458949.0,224395.0,1129254.0,234758.0,252361.0,425099.0,255853.0,657073.0,766705.0,261784.0,529685.0,395731.0,212039.0,147230.0,229765.0,470326.0,293842.0,445791.0,293402.0,168394.0,233309.0,340090.0,312430.0,213741.0,296690.0,207177.0,648492.0,277572.0,200272.0,530352.0,309652.0,529090.0,382945.0,307230.0,283557.0,333911.0,null,null,null,null,null,null,364850.0,363083.0,197103.0,47353.0,103286.0,580530.0,322907.0,312760.0,273412.0,363054.0,344159.0,359626.0,385475.0,256825.0,298161.0,428955.0,339940.0,327329.0,356098.0,420289.0,163155.0,99409.0,221182.0,60234.0,63968.0,63849.0,65821.0,67176.0,65062.0,82789.0,59495.0,84087.0,133642.0,64753.0,451470.0,139969.0,205131.0],\"yaxis\":\"y\",\"type\":\"scattergl\"}],                        {\"template\":{\"data\":{\"histogram2dcontour\":[{\"type\":\"histogram2dcontour\",\"colorbar\":{\"outlinewidth\":0,\"ticks\":\"\"},\"colorscale\":[[0.0,\"#0d0887\"],[0.1111111111111111,\"#46039f\"],[0.2222222222222222,\"#7201a8\"],[0.3333333333333333,\"#9c179e\"],[0.4444444444444444,\"#bd3786\"],[0.5555555555555556,\"#d8576b\"],[0.6666666666666666,\"#ed7953\"],[0.7777777777777778,\"#fb9f3a\"],[0.8888888888888888,\"#fdca26\"],[1.0,\"#f0f921\"]]}],\"choropleth\":[{\"type\":\"choropleth\",\"colorbar\":{\"outlinewidth\":0,\"ticks\":\"\"}}],\"histogram2d\":[{\"type\":\"histogram2d\",\"colorbar\":{\"outlinewidth\":0,\"ticks\":\"\"},\"colorscale\":[[0.0,\"#0d0887\"],[0.1111111111111111,\"#46039f\"],[0.2222222222222222,\"#7201a8\"],[0.3333333333333333,\"#9c179e\"],[0.4444444444444444,\"#bd3786\"],[0.5555555555555556,\"#d8576b\"],[0.6666666666666666,\"#ed7953\"],[0.7777777777777778,\"#fb9f3a\"],[0.8888888888888888,\"#fdca26\"],[1.0,\"#f0f921\"]]}],\"heatmap\":[{\"type\":\"heatmap\",\"colorbar\":{\"outlinewidth\":0,\"ticks\":\"\"},\"colorscale\":[[0.0,\"#0d0887\"],[0.1111111111111111,\"#46039f\"],[0.2222222222222222,\"#7201a8\"],[0.3333333333333333,\"#9c179e\"],[0.4444444444444444,\"#bd3786\"],[0.5555555555555556,\"#d8576b\"],[0.6666666666666666,\"#ed7953\"],[0.7777777777777778,\"#fb9f3a\"],[0.8888888888888888,\"#fdca26\"],[1.0,\"#f0f921\"]]}],\"heatmapgl\":[{\"type\":\"heatmapgl\",\"colorbar\":{\"outlinewidth\":0,\"ticks\":\"\"},\"colorscale\":[[0.0,\"#0d0887\"],[0.1111111111111111,\"#46039f\"],[0.2222222222222222,\"#7201a8\"],[0.3333333333333333,\"#9c179e\"],[0.4444444444444444,\"#bd3786\"],[0.5555555555555556,\"#d8576b\"],[0.6666666666666666,\"#ed7953\"],[0.7777777777777778,\"#fb9f3a\"],[0.8888888888888888,\"#fdca26\"],[1.0,\"#f0f921\"]]}],\"contourcarpet\":[{\"type\":\"contourcarpet\",\"colorbar\":{\"outlinewidth\":0,\"ticks\":\"\"}}],\"contour\":[{\"type\":\"contour\",\"colorbar\":{\"outlinewidth\":0,\"ticks\":\"\"},\"colorscale\":[[0.0,\"#0d0887\"],[0.1111111111111111,\"#46039f\"],[0.2222222222222222,\"#7201a8\"],[0.3333333333333333,\"#9c179e\"],[0.4444444444444444,\"#bd3786\"],[0.5555555555555556,\"#d8576b\"],[0.6666666666666666,\"#ed7953\"],[0.7777777777777778,\"#fb9f3a\"],[0.8888888888888888,\"#fdca26\"],[1.0,\"#f0f921\"]]}],\"surface\":[{\"type\":\"surface\",\"colorbar\":{\"outlinewidth\":0,\"ticks\":\"\"},\"colorscale\":[[0.0,\"#0d0887\"],[0.1111111111111111,\"#46039f\"],[0.2222222222222222,\"#7201a8\"],[0.3333333333333333,\"#9c179e\"],[0.4444444444444444,\"#bd3786\"],[0.5555555555555556,\"#d8576b\"],[0.6666666666666666,\"#ed7953\"],[0.7777777777777778,\"#fb9f3a\"],[0.8888888888888888,\"#fdca26\"],[1.0,\"#f0f921\"]]}],\"mesh3d\":[{\"type\":\"mesh3d\",\"colorbar\":{\"outlinewidth\":0,\"ticks\":\"\"}}],\"scatter\":[{\"fillpattern\":{\"fillmode\":\"overlay\",\"size\":10,\"solidity\":0.2},\"type\":\"scatter\"}],\"parcoords\":[{\"type\":\"parcoords\",\"line\":{\"colorbar\":{\"outlinewidth\":0,\"ticks\":\"\"}}}],\"scatterpolargl\":[{\"type\":\"scatterpolargl\",\"marker\":{\"colorbar\":{\"outlinewidth\":0,\"ticks\":\"\"}}}],\"bar\":[{\"error_x\":{\"color\":\"#2a3f5f\"},\"error_y\":{\"color\":\"#2a3f5f\"},\"marker\":{\"line\":{\"color\":\"#E5ECF6\",\"width\":0.5},\"pattern\":{\"fillmode\":\"overlay\",\"size\":10,\"solidity\":0.2}},\"type\":\"bar\"}],\"scattergeo\":[{\"type\":\"scattergeo\",\"marker\":{\"colorbar\":{\"outlinewidth\":0,\"ticks\":\"\"}}}],\"scatterpolar\":[{\"type\":\"scatterpolar\",\"marker\":{\"colorbar\":{\"outlinewidth\":0,\"ticks\":\"\"}}}],\"histogram\":[{\"marker\":{\"pattern\":{\"fillmode\":\"overlay\",\"size\":10,\"solidity\":0.2}},\"type\":\"histogram\"}],\"scattergl\":[{\"type\":\"scattergl\",\"marker\":{\"colorbar\":{\"outlinewidth\":0,\"ticks\":\"\"}}}],\"scatter3d\":[{\"type\":\"scatter3d\",\"line\":{\"colorbar\":{\"outlinewidth\":0,\"ticks\":\"\"}},\"marker\":{\"colorbar\":{\"outlinewidth\":0,\"ticks\":\"\"}}}],\"scattermapbox\":[{\"type\":\"scattermapbox\",\"marker\":{\"colorbar\":{\"outlinewidth\":0,\"ticks\":\"\"}}}],\"scatterternary\":[{\"type\":\"scatterternary\",\"marker\":{\"colorbar\":{\"outlinewidth\":0,\"ticks\":\"\"}}}],\"scattercarpet\":[{\"type\":\"scattercarpet\",\"marker\":{\"colorbar\":{\"outlinewidth\":0,\"ticks\":\"\"}}}],\"carpet\":[{\"aaxis\":{\"endlinecolor\":\"#2a3f5f\",\"gridcolor\":\"white\",\"linecolor\":\"white\",\"minorgridcolor\":\"white\",\"startlinecolor\":\"#2a3f5f\"},\"baxis\":{\"endlinecolor\":\"#2a3f5f\",\"gridcolor\":\"white\",\"linecolor\":\"white\",\"minorgridcolor\":\"white\",\"startlinecolor\":\"#2a3f5f\"},\"type\":\"carpet\"}],\"table\":[{\"cells\":{\"fill\":{\"color\":\"#EBF0F8\"},\"line\":{\"color\":\"white\"}},\"header\":{\"fill\":{\"color\":\"#C8D4E3\"},\"line\":{\"color\":\"white\"}},\"type\":\"table\"}],\"barpolar\":[{\"marker\":{\"line\":{\"color\":\"#E5ECF6\",\"width\":0.5},\"pattern\":{\"fillmode\":\"overlay\",\"size\":10,\"solidity\":0.2}},\"type\":\"barpolar\"}],\"pie\":[{\"automargin\":true,\"type\":\"pie\"}]},\"layout\":{\"autotypenumbers\":\"strict\",\"colorway\":[\"#636efa\",\"#EF553B\",\"#00cc96\",\"#ab63fa\",\"#FFA15A\",\"#19d3f3\",\"#FF6692\",\"#B6E880\",\"#FF97FF\",\"#FECB52\"],\"font\":{\"color\":\"#2a3f5f\"},\"hovermode\":\"closest\",\"hoverlabel\":{\"align\":\"left\"},\"paper_bgcolor\":\"white\",\"plot_bgcolor\":\"#E5ECF6\",\"polar\":{\"bgcolor\":\"#E5ECF6\",\"angularaxis\":{\"gridcolor\":\"white\",\"linecolor\":\"white\",\"ticks\":\"\"},\"radialaxis\":{\"gridcolor\":\"white\",\"linecolor\":\"white\",\"ticks\":\"\"}},\"ternary\":{\"bgcolor\":\"#E5ECF6\",\"aaxis\":{\"gridcolor\":\"white\",\"linecolor\":\"white\",\"ticks\":\"\"},\"baxis\":{\"gridcolor\":\"white\",\"linecolor\":\"white\",\"ticks\":\"\"},\"caxis\":{\"gridcolor\":\"white\",\"linecolor\":\"white\",\"ticks\":\"\"}},\"coloraxis\":{\"colorbar\":{\"outlinewidth\":0,\"ticks\":\"\"}},\"colorscale\":{\"sequential\":[[0.0,\"#0d0887\"],[0.1111111111111111,\"#46039f\"],[0.2222222222222222,\"#7201a8\"],[0.3333333333333333,\"#9c179e\"],[0.4444444444444444,\"#bd3786\"],[0.5555555555555556,\"#d8576b\"],[0.6666666666666666,\"#ed7953\"],[0.7777777777777778,\"#fb9f3a\"],[0.8888888888888888,\"#fdca26\"],[1.0,\"#f0f921\"]],\"sequentialminus\":[[0.0,\"#0d0887\"],[0.1111111111111111,\"#46039f\"],[0.2222222222222222,\"#7201a8\"],[0.3333333333333333,\"#9c179e\"],[0.4444444444444444,\"#bd3786\"],[0.5555555555555556,\"#d8576b\"],[0.6666666666666666,\"#ed7953\"],[0.7777777777777778,\"#fb9f3a\"],[0.8888888888888888,\"#fdca26\"],[1.0,\"#f0f921\"]],\"diverging\":[[0,\"#8e0152\"],[0.1,\"#c51b7d\"],[0.2,\"#de77ae\"],[0.3,\"#f1b6da\"],[0.4,\"#fde0ef\"],[0.5,\"#f7f7f7\"],[0.6,\"#e6f5d0\"],[0.7,\"#b8e186\"],[0.8,\"#7fbc41\"],[0.9,\"#4d9221\"],[1,\"#276419\"]]},\"xaxis\":{\"gridcolor\":\"white\",\"linecolor\":\"white\",\"ticks\":\"\",\"title\":{\"standoff\":15},\"zerolinecolor\":\"white\",\"automargin\":true,\"zerolinewidth\":2},\"yaxis\":{\"gridcolor\":\"white\",\"linecolor\":\"white\",\"ticks\":\"\",\"title\":{\"standoff\":15},\"zerolinecolor\":\"white\",\"automargin\":true,\"zerolinewidth\":2},\"scene\":{\"xaxis\":{\"backgroundcolor\":\"#E5ECF6\",\"gridcolor\":\"white\",\"linecolor\":\"white\",\"showbackground\":true,\"ticks\":\"\",\"zerolinecolor\":\"white\",\"gridwidth\":2},\"yaxis\":{\"backgroundcolor\":\"#E5ECF6\",\"gridcolor\":\"white\",\"linecolor\":\"white\",\"showbackground\":true,\"ticks\":\"\",\"zerolinecolor\":\"white\",\"gridwidth\":2},\"zaxis\":{\"backgroundcolor\":\"#E5ECF6\",\"gridcolor\":\"white\",\"linecolor\":\"white\",\"showbackground\":true,\"ticks\":\"\",\"zerolinecolor\":\"white\",\"gridwidth\":2}},\"shapedefaults\":{\"line\":{\"color\":\"#2a3f5f\"}},\"annotationdefaults\":{\"arrowcolor\":\"#2a3f5f\",\"arrowhead\":0,\"arrowwidth\":1},\"geo\":{\"bgcolor\":\"white\",\"landcolor\":\"#E5ECF6\",\"subunitcolor\":\"white\",\"showland\":true,\"showlakes\":true,\"lakecolor\":\"white\"},\"title\":{\"x\":0.05},\"mapbox\":{\"style\":\"light\"}}},\"xaxis\":{\"anchor\":\"y\",\"domain\":[0.0,1.0],\"title\":{\"text\":\"polarity\"}},\"yaxis\":{\"anchor\":\"x\",\"domain\":[0.0,1.0],\"title\":{\"text\":\"likes\"}},\"legend\":{\"tracegroupgap\":0},\"title\":{\"text\":\"Sentiment Polarity vs. Video Likes\"}},                        {\"responsive\": true}                    ).then(function(){\n",
       "                            \n",
       "var gd = document.getElementById('ffcda2cb-b3aa-4eaf-aa52-79da00121c17');\n",
       "var x = new MutationObserver(function (mutations, observer) {{\n",
       "        var display = window.getComputedStyle(gd).display;\n",
       "        if (!display || display === 'none') {{\n",
       "            console.log([gd, 'removed!']);\n",
       "            Plotly.purge(gd);\n",
       "            observer.disconnect();\n",
       "        }}\n",
       "}});\n",
       "\n",
       "// Listen for the removal of the full notebook cells\n",
       "var notebookContainer = gd.closest('#notebook-container');\n",
       "if (notebookContainer) {{\n",
       "    x.observe(notebookContainer, {childList: true});\n",
       "}}\n",
       "\n",
       "// Listen for the clearing of the current output cell\n",
       "var outputEl = gd.closest('.output');\n",
       "if (outputEl) {{\n",
       "    x.observe(outputEl, {childList: true});\n",
       "}}\n",
       "\n",
       "                        })                };                });            </script>        </div>"
      ]
     },
     "metadata": {},
     "output_type": "display_data"
    }
   ],
   "source": [
    "fig = px.scatter(senti_df, y='likes', x='polarity',\n",
    "                 labels={'sentiment_score': 'polarity','Likes':'likes'},\n",
    "                 title='Sentiment Polarity vs. Video Likes',\n",
    "                 hover_data=['video_title'])\n",
    "\n",
    "# Update marker properties for better visualization\n",
    "fig.update_traces(marker=dict(size=12, line=dict(width=2, color='DarkSlateGrey')),\n",
    "                  selector=dict(mode='markers+text'))\n",
    "\n",
    "# Show the plot\n",
    "fig.show()"
   ]
  },
  {
   "cell_type": "markdown",
   "id": "60462b87-a481-4827-9fd9-c2b952bf66a8",
   "metadata": {
    "jp-MarkdownHeadingCollapsed": true,
    "tags": []
   },
   "source": [
    "## Conclusion: \n",
    "### Unfortunately there seems to be no correlation to the sentiment shared by the users to the video engagement."
   ]
  }
 ],
 "metadata": {
  "kernelspec": {
   "display_name": "Python 3 (ipykernel)",
   "language": "python",
   "name": "python3"
  },
  "language_info": {
   "codemirror_mode": {
    "name": "ipython",
    "version": 3
   },
   "file_extension": ".py",
   "mimetype": "text/x-python",
   "name": "python",
   "nbconvert_exporter": "python",
   "pygments_lexer": "ipython3",
   "version": "3.10.2"
  }
 },
 "nbformat": 4,
 "nbformat_minor": 5
}
